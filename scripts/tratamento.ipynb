{
 "cells": [
  {
   "cell_type": "code",
   "execution_count": 2,
   "metadata": {
    "executionInfo": {
     "elapsed": 463,
     "status": "ok",
     "timestamp": 1688415739952,
     "user": {
      "displayName": "Caio Cesar Ribeiro Brito",
      "userId": "09669924537412269636"
     },
     "user_tz": 180
    },
    "id": "Gtf9hIwMxq8O"
   },
   "outputs": [],
   "source": [
    "# Importando as bibliotecas\n",
    "import pandas as pd\n",
    "import numpy as np\n",
    "import re"
   ]
  },
  {
   "cell_type": "markdown",
   "metadata": {
    "id": "NUX8JEq_BsxJ"
   },
   "source": [
    "# Tratamento da base"
   ]
  },
  {
   "cell_type": "code",
   "execution_count": 3,
   "metadata": {
    "id": "T9Nyrghw0zzz"
   },
   "outputs": [],
   "source": [
    "# Abrindo o arquivo de imoveis salvos no arquivo de scraping\n",
    "df = pd.read_csv('../dados/imoveis.csv',\n",
    "                 sep=';')"
   ]
  },
  {
   "cell_type": "code",
   "execution_count": 4,
   "metadata": {
    "id": "L05zJYdj4uFl"
   },
   "outputs": [],
   "source": [
    "# Limpando espaços e caracteres indesejados\n",
    "for col in ['titulo', 'desc', 'desc2', 'espec', 'desc3', 'conteudo']:\n",
    "    df[col] = df[col].apply(lambda x: re.sub(r'\\s{2,}|\\r\\n|\\n', '', x).replace('í', 'i'))"
   ]
  },
  {
   "cell_type": "code",
   "execution_count": 5,
   "metadata": {
    "id": "1wRG-ewr7bcb"
   },
   "outputs": [],
   "source": [
    "# Transformando todos os caracteres em minusculo\n",
    "for col in df.columns:\n",
    "    df[col] = df[col].apply(lambda x: x.lower())"
   ]
  },
  {
   "cell_type": "code",
   "execution_count": 6,
   "metadata": {
    "id": "vnvbAkdR9xmG"
   },
   "outputs": [],
   "source": [
    "# Transformando coluna de preco e valor_m2 em numericas\n",
    "df.preco = df.preco.apply(lambda x: re.sub(r'[^\\d]+', '', x))\n",
    "df.valor_m2 = df.valor_m2.apply(lambda x: re.sub(r'[^\\d]+', '', x))\n",
    "\n",
    "df.preco = df.preco.astype('float64')\n",
    "df.valor_m2 = df.valor_m2.astype('float64')"
   ]
  },
  {
   "cell_type": "code",
   "execution_count": 7,
   "metadata": {
    "colab": {
     "base_uri": "https://localhost:8080/",
     "height": 337
    },
    "executionInfo": {
     "elapsed": 6,
     "status": "ok",
     "timestamp": 1688174552451,
     "user": {
      "displayName": "Caio Cesar Ribeiro Brito",
      "userId": "09669924537412269636"
     },
     "user_tz": 180
    },
    "id": "QdOYlWuF7hPG",
    "outputId": "a295e0d5-b20d-41e7-d861-b21f43a3a016"
   },
   "outputs": [
    {
     "data": {
      "text/html": [
       "<div>\n",
       "<style scoped>\n",
       "    .dataframe tbody tr th:only-of-type {\n",
       "        vertical-align: middle;\n",
       "    }\n",
       "\n",
       "    .dataframe tbody tr th {\n",
       "        vertical-align: top;\n",
       "    }\n",
       "\n",
       "    .dataframe thead th {\n",
       "        text-align: right;\n",
       "    }\n",
       "</style>\n",
       "<table border=\"1\" class=\"dataframe\">\n",
       "  <thead>\n",
       "    <tr style=\"text-align: right;\">\n",
       "      <th></th>\n",
       "      <th>titulo</th>\n",
       "      <th>desc</th>\n",
       "      <th>desc2</th>\n",
       "      <th>preco</th>\n",
       "      <th>valor_m2</th>\n",
       "      <th>espec</th>\n",
       "      <th>desc3</th>\n",
       "      <th>link_anuncio</th>\n",
       "      <th>conteudo</th>\n",
       "    </tr>\n",
       "  </thead>\n",
       "  <tbody>\n",
       "    <tr>\n",
       "      <th>0</th>\n",
       "      <td>quadra 209, sul, aguas claras</td>\n",
       "      <td>venda apartamento 93 m²</td>\n",
       "      <td>fernanda (61) 98151-2321, residencial mirante ...</td>\n",
       "      <td>875000.0</td>\n",
       "      <td>9408.0</td>\n",
       "      <td>93 m²3 quartos2 suites2 vagas</td>\n",
       "      <td>ferola a mais acessada de brasília vende;resid...</td>\n",
       "      <td>/imovel/apartamento-3-quartos-venda-sul-aguas-...</td>\n",
       "      <td>1/72/73/74/75/76/77/7ligue agoraenviar emailin...</td>\n",
       "    </tr>\n",
       "    <tr>\n",
       "      <th>1</th>\n",
       "      <td>rua 21, norte, aguas claras</td>\n",
       "      <td>venda apartamento 95 m²</td>\n",
       "      <td>(61) 99639-9575, edificio villa grandino a 50 ...</td>\n",
       "      <td>650000.0</td>\n",
       "      <td>6842.0</td>\n",
       "      <td>95 m²3 quartos1 suite1 vaga</td>\n",
       "      <td>ferola a mais acessada de brasília vende;resid...</td>\n",
       "      <td>/imovel/apartamento-3-quartos-venda-norte-agua...</td>\n",
       "      <td>1/192/193/194/195/196/197/198/199/1910/1911/19...</td>\n",
       "    </tr>\n",
       "    <tr>\n",
       "      <th>2</th>\n",
       "      <td>rua das carnaubas, norte, aguas claras</td>\n",
       "      <td>venda apartamento 32 m²</td>\n",
       "      <td>fernanda (61) 98151-2321, edificio luna park e...</td>\n",
       "      <td>270000.0</td>\n",
       "      <td>8437.0</td>\n",
       "      <td>32 m²1 quarto1 suite1 vaga</td>\n",
       "      <td>ferola a mais acessada de brasília vende:resid...</td>\n",
       "      <td>/imovel/apartamento-1-quarto-venda-norte-aguas...</td>\n",
       "      <td>1/232/233/234/235/236/237/238/239/2310/2311/23...</td>\n",
       "    </tr>\n",
       "    <tr>\n",
       "      <th>3</th>\n",
       "      <td>quadra 102, norte, aguas claras</td>\n",
       "      <td>venda apartamento 360 m²</td>\n",
       "      <td>, residencial matisse antares aguas claras lux...</td>\n",
       "      <td>3300000.0</td>\n",
       "      <td>9166.0</td>\n",
       "      <td>360 m²5 quartos5 suites3 vagas</td>\n",
       "      <td>a valle empreendimentos imobiliários apresenta...</td>\n",
       "      <td>/imovel/apartamento-4-quartos-venda-norte-agua...</td>\n",
       "      <td>1/432/433/434/435/436/437/438/439/4310/4311/43...</td>\n",
       "    </tr>\n",
       "    <tr>\n",
       "      <th>4</th>\n",
       "      <td>rua 9, norte, aguas claras</td>\n",
       "      <td>venda apartamento 33 m²</td>\n",
       "      <td>residencial easy - 98144-4558, easy residencia...</td>\n",
       "      <td>320000.0</td>\n",
       "      <td>9696.0</td>\n",
       "      <td>33 m²1 quarto1 vaga</td>\n",
       "      <td>ferola a mais acessada de brasília vende:resid...</td>\n",
       "      <td>/imovel/apartamento-1-quarto-venda-norte-aguas...</td>\n",
       "      <td>1/292/293/294/295/296/297/298/299/2910/2911/29...</td>\n",
       "    </tr>\n",
       "  </tbody>\n",
       "</table>\n",
       "</div>"
      ],
      "text/plain": [
       "                                   titulo                      desc  \\\n",
       "0           quadra 209, sul, aguas claras   venda apartamento 93 m²   \n",
       "1             rua 21, norte, aguas claras   venda apartamento 95 m²   \n",
       "2  rua das carnaubas, norte, aguas claras   venda apartamento 32 m²   \n",
       "3         quadra 102, norte, aguas claras  venda apartamento 360 m²   \n",
       "4              rua 9, norte, aguas claras   venda apartamento 33 m²   \n",
       "\n",
       "                                               desc2      preco  valor_m2  \\\n",
       "0  fernanda (61) 98151-2321, residencial mirante ...   875000.0    9408.0   \n",
       "1  (61) 99639-9575, edificio villa grandino a 50 ...   650000.0    6842.0   \n",
       "2  fernanda (61) 98151-2321, edificio luna park e...   270000.0    8437.0   \n",
       "3  , residencial matisse antares aguas claras lux...  3300000.0    9166.0   \n",
       "4  residencial easy - 98144-4558, easy residencia...   320000.0    9696.0   \n",
       "\n",
       "                            espec  \\\n",
       "0   93 m²3 quartos2 suites2 vagas   \n",
       "1     95 m²3 quartos1 suite1 vaga   \n",
       "2      32 m²1 quarto1 suite1 vaga   \n",
       "3  360 m²5 quartos5 suites3 vagas   \n",
       "4             33 m²1 quarto1 vaga   \n",
       "\n",
       "                                               desc3  \\\n",
       "0  ferola a mais acessada de brasília vende;resid...   \n",
       "1  ferola a mais acessada de brasília vende;resid...   \n",
       "2  ferola a mais acessada de brasília vende:resid...   \n",
       "3  a valle empreendimentos imobiliários apresenta...   \n",
       "4  ferola a mais acessada de brasília vende:resid...   \n",
       "\n",
       "                                        link_anuncio  \\\n",
       "0  /imovel/apartamento-3-quartos-venda-sul-aguas-...   \n",
       "1  /imovel/apartamento-3-quartos-venda-norte-agua...   \n",
       "2  /imovel/apartamento-1-quarto-venda-norte-aguas...   \n",
       "3  /imovel/apartamento-4-quartos-venda-norte-agua...   \n",
       "4  /imovel/apartamento-1-quarto-venda-norte-aguas...   \n",
       "\n",
       "                                            conteudo  \n",
       "0  1/72/73/74/75/76/77/7ligue agoraenviar emailin...  \n",
       "1  1/192/193/194/195/196/197/198/199/1910/1911/19...  \n",
       "2  1/232/233/234/235/236/237/238/239/2310/2311/23...  \n",
       "3  1/432/433/434/435/436/437/438/439/4310/4311/43...  \n",
       "4  1/292/293/294/295/296/297/298/299/2910/2911/29...  "
      ]
     },
     "execution_count": 7,
     "metadata": {},
     "output_type": "execute_result"
    }
   ],
   "source": [
    "# Visualizando os dados\n",
    "df.head()"
   ]
  },
  {
   "cell_type": "code",
   "execution_count": 8,
   "metadata": {
    "colab": {
     "base_uri": "https://localhost:8080/",
     "height": 641
    },
    "executionInfo": {
     "elapsed": 9,
     "status": "ok",
     "timestamp": 1688174553551,
     "user": {
      "displayName": "Caio Cesar Ribeiro Brito",
      "userId": "09669924537412269636"
     },
     "user_tz": 180
    },
    "id": "-o7qOlnnBdBK",
    "outputId": "e842f69c-a9f7-43ab-d49f-343663101559"
   },
   "outputs": [
    {
     "data": {
      "text/html": [
       "<div>\n",
       "<style scoped>\n",
       "    .dataframe tbody tr th:only-of-type {\n",
       "        vertical-align: middle;\n",
       "    }\n",
       "\n",
       "    .dataframe tbody tr th {\n",
       "        vertical-align: top;\n",
       "    }\n",
       "\n",
       "    .dataframe thead th {\n",
       "        text-align: right;\n",
       "    }\n",
       "</style>\n",
       "<table border=\"1\" class=\"dataframe\">\n",
       "  <thead>\n",
       "    <tr style=\"text-align: right;\">\n",
       "      <th></th>\n",
       "      <th>titulo</th>\n",
       "      <th>desc</th>\n",
       "      <th>desc2</th>\n",
       "      <th>preco</th>\n",
       "      <th>valor_m2</th>\n",
       "      <th>espec</th>\n",
       "      <th>desc3</th>\n",
       "      <th>link_anuncio</th>\n",
       "      <th>conteudo</th>\n",
       "    </tr>\n",
       "  </thead>\n",
       "  <tbody>\n",
       "    <tr>\n",
       "      <th>0</th>\n",
       "      <td>quadra 209, sul, aguas claras</td>\n",
       "      <td>venda apartamento 93 m²</td>\n",
       "      <td>fernanda (61) 98151-2321, residencial mirante ...</td>\n",
       "      <td>875000.0</td>\n",
       "      <td>9408.0</td>\n",
       "      <td>93 m²3 quartos2 suites2 vagas</td>\n",
       "      <td>ferola a mais acessada de brasília vende;resid...</td>\n",
       "      <td>/imovel/apartamento-3-quartos-venda-sul-aguas-...</td>\n",
       "      <td>1/72/73/74/75/76/77/7ligue agoraenviar emailin...</td>\n",
       "    </tr>\n",
       "    <tr>\n",
       "      <th>1</th>\n",
       "      <td>rua 21, norte, aguas claras</td>\n",
       "      <td>venda apartamento 95 m²</td>\n",
       "      <td>(61) 99639-9575, edificio villa grandino a 50 ...</td>\n",
       "      <td>650000.0</td>\n",
       "      <td>6842.0</td>\n",
       "      <td>95 m²3 quartos1 suite1 vaga</td>\n",
       "      <td>ferola a mais acessada de brasília vende;resid...</td>\n",
       "      <td>/imovel/apartamento-3-quartos-venda-norte-agua...</td>\n",
       "      <td>1/192/193/194/195/196/197/198/199/1910/1911/19...</td>\n",
       "    </tr>\n",
       "    <tr>\n",
       "      <th>2</th>\n",
       "      <td>rua das carnaubas, norte, aguas claras</td>\n",
       "      <td>venda apartamento 32 m²</td>\n",
       "      <td>fernanda (61) 98151-2321, edificio luna park e...</td>\n",
       "      <td>270000.0</td>\n",
       "      <td>8437.0</td>\n",
       "      <td>32 m²1 quarto1 suite1 vaga</td>\n",
       "      <td>ferola a mais acessada de brasília vende:resid...</td>\n",
       "      <td>/imovel/apartamento-1-quarto-venda-norte-aguas...</td>\n",
       "      <td>1/232/233/234/235/236/237/238/239/2310/2311/23...</td>\n",
       "    </tr>\n",
       "    <tr>\n",
       "      <th>3</th>\n",
       "      <td>quadra 102, norte, aguas claras</td>\n",
       "      <td>venda apartamento 360 m²</td>\n",
       "      <td>, residencial matisse antares aguas claras lux...</td>\n",
       "      <td>3300000.0</td>\n",
       "      <td>9166.0</td>\n",
       "      <td>360 m²5 quartos5 suites3 vagas</td>\n",
       "      <td>a valle empreendimentos imobiliários apresenta...</td>\n",
       "      <td>/imovel/apartamento-4-quartos-venda-norte-agua...</td>\n",
       "      <td>1/432/433/434/435/436/437/438/439/4310/4311/43...</td>\n",
       "    </tr>\n",
       "    <tr>\n",
       "      <th>4</th>\n",
       "      <td>rua 9, norte, aguas claras</td>\n",
       "      <td>venda apartamento 33 m²</td>\n",
       "      <td>residencial easy - 98144-4558, easy residencia...</td>\n",
       "      <td>320000.0</td>\n",
       "      <td>9696.0</td>\n",
       "      <td>33 m²1 quarto1 vaga</td>\n",
       "      <td>ferola a mais acessada de brasília vende:resid...</td>\n",
       "      <td>/imovel/apartamento-1-quarto-venda-norte-aguas...</td>\n",
       "      <td>1/292/293/294/295/296/297/298/299/2910/2911/29...</td>\n",
       "    </tr>\n",
       "    <tr>\n",
       "      <th>...</th>\n",
       "      <td>...</td>\n",
       "      <td>...</td>\n",
       "      <td>...</td>\n",
       "      <td>...</td>\n",
       "      <td>...</td>\n",
       "      <td>...</td>\n",
       "      <td>...</td>\n",
       "      <td>...</td>\n",
       "      <td>...</td>\n",
       "    </tr>\n",
       "    <tr>\n",
       "      <th>4985</th>\n",
       "      <td>quadra 103, norte, aguas claras</td>\n",
       "      <td>venda apartamento 138 m²</td>\n",
       "      <td>, residencial ipêsreformadissimo</td>\n",
       "      <td>1150000.0</td>\n",
       "      <td>8333.0</td>\n",
       "      <td>138 m²4 quartos1 suite2 vagas</td>\n",
       "      <td>você que já visitou vários imóveis de 4 quarto...</td>\n",
       "      <td>/imovel/apartamento-4-quartos-venda-norte-agua...</td>\n",
       "      <td>1/1fotosvideoligue agoraenviar emailindique es...</td>\n",
       "    </tr>\n",
       "    <tr>\n",
       "      <th>4986</th>\n",
       "      <td>rua 31, sul, aguas claras</td>\n",
       "      <td>venda apartamento 55 m²</td>\n",
       "      <td>, residencial ligia valois 31 novo - moderno</td>\n",
       "      <td>570000.0</td>\n",
       "      <td>10363.0</td>\n",
       "      <td>55 m²2 quartos1 suite1 vaga</td>\n",
       "      <td>daleprane inteligência imobiliária vende com e...</td>\n",
       "      <td>/imovel/apartamento-2-quartos-venda-sul-aguas-...</td>\n",
       "      <td>1/1ligue agoraenviar emailindique este imóvelc...</td>\n",
       "    </tr>\n",
       "    <tr>\n",
       "      <th>4987</th>\n",
       "      <td>quadra 205, sul, aguas claras</td>\n",
       "      <td>venda apartamento 236 m²</td>\n",
       "      <td>, residencial resort aguarius</td>\n",
       "      <td>2190000.0</td>\n",
       "      <td>9279.0</td>\n",
       "      <td>236 m²4 quartos2 suites2 vagas</td>\n",
       "      <td>daleprane inteligência imobiliária vende com e...</td>\n",
       "      <td>/imovel/apartamento-4-quartos-venda-sul-aguas-...</td>\n",
       "      <td>1/1ligue agoraenviar emailindique este imóvelc...</td>\n",
       "    </tr>\n",
       "    <tr>\n",
       "      <th>4988</th>\n",
       "      <td>avenida parque águas claras, norte, aguas claras</td>\n",
       "      <td>venda apartamento 92 m²</td>\n",
       "      <td>, condominio mansões paradiso</td>\n",
       "      <td>690000.0</td>\n",
       "      <td>7500.0</td>\n",
       "      <td>92 m²3 quartos1 suite1 vaga</td>\n",
       "      <td>lindo apartamento de 3 quartos sendo 1 suite c...</td>\n",
       "      <td>/imovel/apartamento-3-quartos-venda-norte-agua...</td>\n",
       "      <td>1/1ligue agoraenviar emailindique este imóvelc...</td>\n",
       "    </tr>\n",
       "    <tr>\n",
       "      <th>4989</th>\n",
       "      <td>qs 7 rua 800, areal, aguas claras</td>\n",
       "      <td>venda apartamento 73 m²</td>\n",
       "      <td></td>\n",
       "      <td>270000.0</td>\n",
       "      <td>3698.0</td>\n",
       "      <td>73 m²3 quartos1 suite1 vaga</td>\n",
       "      <td>apartamento bem localizado. 06/06/23</td>\n",
       "      <td>/imovel/apartamento-3-quartos-venda-areal-agua...</td>\n",
       "      <td>1/1ligue agoraenviar emailindique este imóvelc...</td>\n",
       "    </tr>\n",
       "  </tbody>\n",
       "</table>\n",
       "<p>4990 rows × 9 columns</p>\n",
       "</div>"
      ],
      "text/plain": [
       "                                                titulo  \\\n",
       "0                        quadra 209, sul, aguas claras   \n",
       "1                          rua 21, norte, aguas claras   \n",
       "2               rua das carnaubas, norte, aguas claras   \n",
       "3                      quadra 102, norte, aguas claras   \n",
       "4                           rua 9, norte, aguas claras   \n",
       "...                                                ...   \n",
       "4985                   quadra 103, norte, aguas claras   \n",
       "4986                         rua 31, sul, aguas claras   \n",
       "4987                     quadra 205, sul, aguas claras   \n",
       "4988  avenida parque águas claras, norte, aguas claras   \n",
       "4989                 qs 7 rua 800, areal, aguas claras   \n",
       "\n",
       "                          desc  \\\n",
       "0      venda apartamento 93 m²   \n",
       "1      venda apartamento 95 m²   \n",
       "2      venda apartamento 32 m²   \n",
       "3     venda apartamento 360 m²   \n",
       "4      venda apartamento 33 m²   \n",
       "...                        ...   \n",
       "4985  venda apartamento 138 m²   \n",
       "4986   venda apartamento 55 m²   \n",
       "4987  venda apartamento 236 m²   \n",
       "4988   venda apartamento 92 m²   \n",
       "4989   venda apartamento 73 m²   \n",
       "\n",
       "                                                  desc2      preco  valor_m2  \\\n",
       "0     fernanda (61) 98151-2321, residencial mirante ...   875000.0    9408.0   \n",
       "1     (61) 99639-9575, edificio villa grandino a 50 ...   650000.0    6842.0   \n",
       "2     fernanda (61) 98151-2321, edificio luna park e...   270000.0    8437.0   \n",
       "3     , residencial matisse antares aguas claras lux...  3300000.0    9166.0   \n",
       "4     residencial easy - 98144-4558, easy residencia...   320000.0    9696.0   \n",
       "...                                                 ...        ...       ...   \n",
       "4985                   , residencial ipêsreformadissimo  1150000.0    8333.0   \n",
       "4986       , residencial ligia valois 31 novo - moderno   570000.0   10363.0   \n",
       "4987                      , residencial resort aguarius  2190000.0    9279.0   \n",
       "4988                      , condominio mansões paradiso   690000.0    7500.0   \n",
       "4989                                                      270000.0    3698.0   \n",
       "\n",
       "                               espec  \\\n",
       "0      93 m²3 quartos2 suites2 vagas   \n",
       "1        95 m²3 quartos1 suite1 vaga   \n",
       "2         32 m²1 quarto1 suite1 vaga   \n",
       "3     360 m²5 quartos5 suites3 vagas   \n",
       "4                33 m²1 quarto1 vaga   \n",
       "...                              ...   \n",
       "4985   138 m²4 quartos1 suite2 vagas   \n",
       "4986     55 m²2 quartos1 suite1 vaga   \n",
       "4987  236 m²4 quartos2 suites2 vagas   \n",
       "4988     92 m²3 quartos1 suite1 vaga   \n",
       "4989     73 m²3 quartos1 suite1 vaga   \n",
       "\n",
       "                                                  desc3  \\\n",
       "0     ferola a mais acessada de brasília vende;resid...   \n",
       "1     ferola a mais acessada de brasília vende;resid...   \n",
       "2     ferola a mais acessada de brasília vende:resid...   \n",
       "3     a valle empreendimentos imobiliários apresenta...   \n",
       "4     ferola a mais acessada de brasília vende:resid...   \n",
       "...                                                 ...   \n",
       "4985  você que já visitou vários imóveis de 4 quarto...   \n",
       "4986  daleprane inteligência imobiliária vende com e...   \n",
       "4987  daleprane inteligência imobiliária vende com e...   \n",
       "4988  lindo apartamento de 3 quartos sendo 1 suite c...   \n",
       "4989               apartamento bem localizado. 06/06/23   \n",
       "\n",
       "                                           link_anuncio  \\\n",
       "0     /imovel/apartamento-3-quartos-venda-sul-aguas-...   \n",
       "1     /imovel/apartamento-3-quartos-venda-norte-agua...   \n",
       "2     /imovel/apartamento-1-quarto-venda-norte-aguas...   \n",
       "3     /imovel/apartamento-4-quartos-venda-norte-agua...   \n",
       "4     /imovel/apartamento-1-quarto-venda-norte-aguas...   \n",
       "...                                                 ...   \n",
       "4985  /imovel/apartamento-4-quartos-venda-norte-agua...   \n",
       "4986  /imovel/apartamento-2-quartos-venda-sul-aguas-...   \n",
       "4987  /imovel/apartamento-4-quartos-venda-sul-aguas-...   \n",
       "4988  /imovel/apartamento-3-quartos-venda-norte-agua...   \n",
       "4989  /imovel/apartamento-3-quartos-venda-areal-agua...   \n",
       "\n",
       "                                               conteudo  \n",
       "0     1/72/73/74/75/76/77/7ligue agoraenviar emailin...  \n",
       "1     1/192/193/194/195/196/197/198/199/1910/1911/19...  \n",
       "2     1/232/233/234/235/236/237/238/239/2310/2311/23...  \n",
       "3     1/432/433/434/435/436/437/438/439/4310/4311/43...  \n",
       "4     1/292/293/294/295/296/297/298/299/2910/2911/29...  \n",
       "...                                                 ...  \n",
       "4985  1/1fotosvideoligue agoraenviar emailindique es...  \n",
       "4986  1/1ligue agoraenviar emailindique este imóvelc...  \n",
       "4987  1/1ligue agoraenviar emailindique este imóvelc...  \n",
       "4988  1/1ligue agoraenviar emailindique este imóvelc...  \n",
       "4989  1/1ligue agoraenviar emailindique este imóvelc...  \n",
       "\n",
       "[4990 rows x 9 columns]"
      ]
     },
     "execution_count": 8,
     "metadata": {},
     "output_type": "execute_result"
    }
   ],
   "source": [
    "# Verificando se todos os titulos sao referentes a imoveis de aguas claras\n",
    "df[df.titulo.str.contains('aguas claras')]"
   ]
  },
  {
   "cell_type": "code",
   "execution_count": 9,
   "metadata": {
    "colab": {
     "base_uri": "https://localhost:8080/"
    },
    "executionInfo": {
     "elapsed": 278,
     "status": "ok",
     "timestamp": 1688415938073,
     "user": {
      "displayName": "Caio Cesar Ribeiro Brito",
      "userId": "09669924537412269636"
     },
     "user_tz": 180
    },
    "id": "-Q9YV-W95IjN",
    "outputId": "3e7dd61c-54ce-4df9-a5c9-0a9387b95040"
   },
   "outputs": [
    {
     "data": {
      "text/plain": [
       "0       3 quarto\n",
       "1       3 quarto\n",
       "2       1 quarto\n",
       "3       5 quarto\n",
       "4       1 quarto\n",
       "          ...   \n",
       "4985    4 quarto\n",
       "4986    2 quarto\n",
       "4987    4 quarto\n",
       "4988    3 quarto\n",
       "4989    3 quarto\n",
       "Name: quartos, Length: 4990, dtype: object"
      ]
     },
     "execution_count": 9,
     "metadata": {},
     "output_type": "execute_result"
    }
   ],
   "source": [
    "# Extraindo a quantidade de quartos do texto\n",
    "df['quartos'] = df.conteudo.apply(lambda x: list(set(re.findall(r'[\\d][\\s]{0,1}quarto', x)))[0])\n",
    "df.quartos"
   ]
  },
  {
   "cell_type": "code",
   "execution_count": 10,
   "metadata": {
    "colab": {
     "base_uri": "https://localhost:8080/"
    },
    "executionInfo": {
     "elapsed": 287,
     "status": "ok",
     "timestamp": 1688415944190,
     "user": {
      "displayName": "Caio Cesar Ribeiro Brito",
      "userId": "09669924537412269636"
     },
     "user_tz": 180
    },
    "id": "x4IdNYyUNl-0",
    "outputId": "0e03f584-a705-4ce0-b58b-8278e2639f2c"
   },
   "outputs": [
    {
     "data": {
      "text/plain": [
       "0                 []\n",
       "1                 []\n",
       "2                 []\n",
       "3       [8 banheiro]\n",
       "4                 []\n",
       "            ...     \n",
       "4985              []\n",
       "4986              []\n",
       "4987              []\n",
       "4988              []\n",
       "4989              []\n",
       "Name: banheiros, Length: 4990, dtype: object"
      ]
     },
     "execution_count": 10,
     "metadata": {},
     "output_type": "execute_result"
    }
   ],
   "source": [
    "# Extraindo a quantidade banheiros\n",
    "df['banheiros'] = df.conteudo.apply(lambda x: list(set(re.findall(r'[\\d][\\s]{0,1}banheiro', x))))\n",
    "df.banheiros"
   ]
  },
  {
   "cell_type": "code",
   "execution_count": 11,
   "metadata": {
    "colab": {
     "base_uri": "https://localhost:8080/"
    },
    "executionInfo": {
     "elapsed": 285,
     "status": "ok",
     "timestamp": 1688415946075,
     "user": {
      "displayName": "Caio Cesar Ribeiro Brito",
      "userId": "09669924537412269636"
     },
     "user_tz": 180
    },
    "id": "xyrepafyXviu",
    "outputId": "7cbe1d5d-767a-48b0-e774-a526f67b9072"
   },
   "outputs": [
    {
     "data": {
      "text/plain": [
       "0                         [2 suite, 3suite]\n",
       "1                         [1 suite, 3suite]\n",
       "2                         [1suite, 1 suite]\n",
       "3       [4 suite, 5suite, 5 suite, 1 suite]\n",
       "4                                        []\n",
       "                       ...                 \n",
       "4985                      [1 suite, 4suite]\n",
       "4986                      [1 suite, 2suite]\n",
       "4987                      [2 suite, 4suite]\n",
       "4988                      [1 suite, 3suite]\n",
       "4989                      [1 suite, 3suite]\n",
       "Name: suites, Length: 4990, dtype: object"
      ]
     },
     "execution_count": 11,
     "metadata": {},
     "output_type": "execute_result"
    }
   ],
   "source": [
    "# Extraindo a quantidade suites\n",
    "df['suites'] = df.conteudo.apply(lambda x: list(set(re.findall(r'[\\d][\\s]{0,1}suite', x))))\n",
    "df.suites"
   ]
  },
  {
   "cell_type": "code",
   "execution_count": 12,
   "metadata": {
    "colab": {
     "base_uri": "https://localhost:8080/"
    },
    "executionInfo": {
     "elapsed": 271,
     "status": "ok",
     "timestamp": 1688415948008,
     "user": {
      "displayName": "Caio Cesar Ribeiro Brito",
      "userId": "09669924537412269636"
     },
     "user_tz": 180
    },
    "id": "CeTlIvsYZzYF",
    "outputId": "5aa14deb-b05c-466b-fe85-1d6d19568ba3"
   },
   "outputs": [
    {
     "data": {
      "text/plain": [
       "0                         [2 suite, 3suite]\n",
       "1                         [1 suite, 3suite]\n",
       "2                         [1suite, 1 suite]\n",
       "3       [4 suite, 5suite, 5 suite, 1 suite]\n",
       "4                                        []\n",
       "                       ...                 \n",
       "4985                      [1 suite, 4suite]\n",
       "4986                      [1 suite, 2suite]\n",
       "4987                      [2 suite, 4suite]\n",
       "4988                      [1 suite, 3suite]\n",
       "4989                      [1 suite, 3suite]\n",
       "Name: vagas, Length: 4990, dtype: object"
      ]
     },
     "execution_count": 12,
     "metadata": {},
     "output_type": "execute_result"
    }
   ],
   "source": [
    "# Extraindo a quantidade de vagas de garagens\n",
    "df['vagas'] = df.conteudo.apply(lambda x: list(set(re.findall(r'[\\d][\\s]{0,1}suite', x))))\n",
    "df.vagas"
   ]
  },
  {
   "cell_type": "code",
   "execution_count": 13,
   "metadata": {
    "id": "aIx0vF64TgTj"
   },
   "outputs": [],
   "source": [
    "# Extraindo o espaco de cada imovel\n",
    "df['espaco'] = df.desc.apply(lambda x: re.findall(r'\\d+.m²', x))\n",
    "df['espaco'] = df['espaco'].apply(lambda x: float(x[0].replace(' m²', '')))"
   ]
  },
  {
   "cell_type": "code",
   "execution_count": 14,
   "metadata": {
    "id": "_escNn_5T34w"
   },
   "outputs": [],
   "source": [
    "# Excluindo registros com mais de 500m2\n",
    "lista_exc = list(df[df.espaco > 500].index)\n",
    "df.drop(index=lista_exc, inplace=True)\n",
    "df.reset_index(inplace=True)"
   ]
  },
  {
   "cell_type": "code",
   "execution_count": 15,
   "metadata": {
    "colab": {
     "base_uri": "https://localhost:8080/",
     "height": 49
    },
    "executionInfo": {
     "elapsed": 6,
     "status": "ok",
     "timestamp": 1688174565989,
     "user": {
      "displayName": "Caio Cesar Ribeiro Brito",
      "userId": "09669924537412269636"
     },
     "user_tz": 180
    },
    "id": "xIzUS464WaTW",
    "outputId": "bcd0d1a1-fcef-440f-a91f-2b0079efc42e"
   },
   "outputs": [
    {
     "data": {
      "text/html": [
       "<div>\n",
       "<style scoped>\n",
       "    .dataframe tbody tr th:only-of-type {\n",
       "        vertical-align: middle;\n",
       "    }\n",
       "\n",
       "    .dataframe tbody tr th {\n",
       "        vertical-align: top;\n",
       "    }\n",
       "\n",
       "    .dataframe thead th {\n",
       "        text-align: right;\n",
       "    }\n",
       "</style>\n",
       "<table border=\"1\" class=\"dataframe\">\n",
       "  <thead>\n",
       "    <tr style=\"text-align: right;\">\n",
       "      <th></th>\n",
       "      <th>index</th>\n",
       "      <th>titulo</th>\n",
       "      <th>desc</th>\n",
       "      <th>desc2</th>\n",
       "      <th>preco</th>\n",
       "      <th>valor_m2</th>\n",
       "      <th>espec</th>\n",
       "      <th>desc3</th>\n",
       "      <th>link_anuncio</th>\n",
       "      <th>conteudo</th>\n",
       "      <th>quartos</th>\n",
       "      <th>banheiros</th>\n",
       "      <th>suites</th>\n",
       "      <th>vagas</th>\n",
       "      <th>espaco</th>\n",
       "    </tr>\n",
       "  </thead>\n",
       "  <tbody>\n",
       "  </tbody>\n",
       "</table>\n",
       "</div>"
      ],
      "text/plain": [
       "Empty DataFrame\n",
       "Columns: [index, titulo, desc, desc2, preco, valor_m2, espec, desc3, link_anuncio, conteudo, quartos, banheiros, suites, vagas, espaco]\n",
       "Index: []"
      ]
     },
     "execution_count": 15,
     "metadata": {},
     "output_type": "execute_result"
    }
   ],
   "source": [
    "df[df.espaco > 500]"
   ]
  },
  {
   "cell_type": "code",
   "execution_count": 16,
   "metadata": {
    "id": "rQotmT6QYUja"
   },
   "outputs": [],
   "source": [
    "# Adicionando a data de criacao de cada anuncio\n",
    "df['data'] = ''\n",
    "df['data'] = df.conteudo.apply(lambda x: re.findall(r'[\\d]{2}/[\\d]{2}/[\\d]{4}', x)[0])"
   ]
  },
  {
   "cell_type": "code",
   "execution_count": 17,
   "metadata": {
    "colab": {
     "base_uri": "https://localhost:8080/",
     "height": 476
    },
    "executionInfo": {
     "elapsed": 8,
     "status": "ok",
     "timestamp": 1688174569204,
     "user": {
      "displayName": "Caio Cesar Ribeiro Brito",
      "userId": "09669924537412269636"
     },
     "user_tz": 180
    },
    "id": "2OILF8e_ZMmc",
    "outputId": "c3b46d05-ff44-473f-c557-27c6a88c1345"
   },
   "outputs": [
    {
     "data": {
      "text/html": [
       "<div>\n",
       "<style scoped>\n",
       "    .dataframe tbody tr th:only-of-type {\n",
       "        vertical-align: middle;\n",
       "    }\n",
       "\n",
       "    .dataframe tbody tr th {\n",
       "        vertical-align: top;\n",
       "    }\n",
       "\n",
       "    .dataframe thead th {\n",
       "        text-align: right;\n",
       "    }\n",
       "</style>\n",
       "<table border=\"1\" class=\"dataframe\">\n",
       "  <thead>\n",
       "    <tr style=\"text-align: right;\">\n",
       "      <th></th>\n",
       "      <th>index</th>\n",
       "      <th>titulo</th>\n",
       "      <th>desc</th>\n",
       "      <th>desc2</th>\n",
       "      <th>preco</th>\n",
       "      <th>valor_m2</th>\n",
       "      <th>espec</th>\n",
       "      <th>desc3</th>\n",
       "      <th>link_anuncio</th>\n",
       "      <th>conteudo</th>\n",
       "      <th>quartos</th>\n",
       "      <th>banheiros</th>\n",
       "      <th>suites</th>\n",
       "      <th>vagas</th>\n",
       "      <th>espaco</th>\n",
       "      <th>data</th>\n",
       "    </tr>\n",
       "  </thead>\n",
       "  <tbody>\n",
       "    <tr>\n",
       "      <th>0</th>\n",
       "      <td>0</td>\n",
       "      <td>quadra 209, sul, aguas claras</td>\n",
       "      <td>venda apartamento 93 m²</td>\n",
       "      <td>fernanda (61) 98151-2321, residencial mirante ...</td>\n",
       "      <td>875000.0</td>\n",
       "      <td>9408.0</td>\n",
       "      <td>93 m²3 quartos2 suites2 vagas</td>\n",
       "      <td>ferola a mais acessada de brasília vende;resid...</td>\n",
       "      <td>/imovel/apartamento-3-quartos-venda-sul-aguas-...</td>\n",
       "      <td>1/72/73/74/75/76/77/7ligue agoraenviar emailin...</td>\n",
       "      <td>3 quarto</td>\n",
       "      <td>[]</td>\n",
       "      <td>[2 suite, 3suite]</td>\n",
       "      <td>[2 suite, 3suite]</td>\n",
       "      <td>93.0</td>\n",
       "      <td>06/06/2023</td>\n",
       "    </tr>\n",
       "    <tr>\n",
       "      <th>1</th>\n",
       "      <td>1</td>\n",
       "      <td>rua 21, norte, aguas claras</td>\n",
       "      <td>venda apartamento 95 m²</td>\n",
       "      <td>(61) 99639-9575, edificio villa grandino a 50 ...</td>\n",
       "      <td>650000.0</td>\n",
       "      <td>6842.0</td>\n",
       "      <td>95 m²3 quartos1 suite1 vaga</td>\n",
       "      <td>ferola a mais acessada de brasília vende;resid...</td>\n",
       "      <td>/imovel/apartamento-3-quartos-venda-norte-agua...</td>\n",
       "      <td>1/192/193/194/195/196/197/198/199/1910/1911/19...</td>\n",
       "      <td>3 quarto</td>\n",
       "      <td>[]</td>\n",
       "      <td>[1 suite, 3suite]</td>\n",
       "      <td>[1 suite, 3suite]</td>\n",
       "      <td>95.0</td>\n",
       "      <td>06/06/2023</td>\n",
       "    </tr>\n",
       "    <tr>\n",
       "      <th>2</th>\n",
       "      <td>2</td>\n",
       "      <td>rua das carnaubas, norte, aguas claras</td>\n",
       "      <td>venda apartamento 32 m²</td>\n",
       "      <td>fernanda (61) 98151-2321, edificio luna park e...</td>\n",
       "      <td>270000.0</td>\n",
       "      <td>8437.0</td>\n",
       "      <td>32 m²1 quarto1 suite1 vaga</td>\n",
       "      <td>ferola a mais acessada de brasília vende:resid...</td>\n",
       "      <td>/imovel/apartamento-1-quarto-venda-norte-aguas...</td>\n",
       "      <td>1/232/233/234/235/236/237/238/239/2310/2311/23...</td>\n",
       "      <td>1 quarto</td>\n",
       "      <td>[]</td>\n",
       "      <td>[1suite, 1 suite]</td>\n",
       "      <td>[1suite, 1 suite]</td>\n",
       "      <td>32.0</td>\n",
       "      <td>06/06/2023</td>\n",
       "    </tr>\n",
       "    <tr>\n",
       "      <th>3</th>\n",
       "      <td>3</td>\n",
       "      <td>quadra 102, norte, aguas claras</td>\n",
       "      <td>venda apartamento 360 m²</td>\n",
       "      <td>, residencial matisse antares aguas claras lux...</td>\n",
       "      <td>3300000.0</td>\n",
       "      <td>9166.0</td>\n",
       "      <td>360 m²5 quartos5 suites3 vagas</td>\n",
       "      <td>a valle empreendimentos imobiliários apresenta...</td>\n",
       "      <td>/imovel/apartamento-4-quartos-venda-norte-agua...</td>\n",
       "      <td>1/432/433/434/435/436/437/438/439/4310/4311/43...</td>\n",
       "      <td>5 quarto</td>\n",
       "      <td>[8 banheiro]</td>\n",
       "      <td>[4 suite, 5suite, 5 suite, 1 suite]</td>\n",
       "      <td>[4 suite, 5suite, 5 suite, 1 suite]</td>\n",
       "      <td>360.0</td>\n",
       "      <td>06/06/2023</td>\n",
       "    </tr>\n",
       "    <tr>\n",
       "      <th>4</th>\n",
       "      <td>4</td>\n",
       "      <td>rua 9, norte, aguas claras</td>\n",
       "      <td>venda apartamento 33 m²</td>\n",
       "      <td>residencial easy - 98144-4558, easy residencia...</td>\n",
       "      <td>320000.0</td>\n",
       "      <td>9696.0</td>\n",
       "      <td>33 m²1 quarto1 vaga</td>\n",
       "      <td>ferola a mais acessada de brasília vende:resid...</td>\n",
       "      <td>/imovel/apartamento-1-quarto-venda-norte-aguas...</td>\n",
       "      <td>1/292/293/294/295/296/297/298/299/2910/2911/29...</td>\n",
       "      <td>1 quarto</td>\n",
       "      <td>[]</td>\n",
       "      <td>[]</td>\n",
       "      <td>[]</td>\n",
       "      <td>33.0</td>\n",
       "      <td>06/06/2023</td>\n",
       "    </tr>\n",
       "  </tbody>\n",
       "</table>\n",
       "</div>"
      ],
      "text/plain": [
       "   index                                  titulo                      desc  \\\n",
       "0      0           quadra 209, sul, aguas claras   venda apartamento 93 m²   \n",
       "1      1             rua 21, norte, aguas claras   venda apartamento 95 m²   \n",
       "2      2  rua das carnaubas, norte, aguas claras   venda apartamento 32 m²   \n",
       "3      3         quadra 102, norte, aguas claras  venda apartamento 360 m²   \n",
       "4      4              rua 9, norte, aguas claras   venda apartamento 33 m²   \n",
       "\n",
       "                                               desc2      preco  valor_m2  \\\n",
       "0  fernanda (61) 98151-2321, residencial mirante ...   875000.0    9408.0   \n",
       "1  (61) 99639-9575, edificio villa grandino a 50 ...   650000.0    6842.0   \n",
       "2  fernanda (61) 98151-2321, edificio luna park e...   270000.0    8437.0   \n",
       "3  , residencial matisse antares aguas claras lux...  3300000.0    9166.0   \n",
       "4  residencial easy - 98144-4558, easy residencia...   320000.0    9696.0   \n",
       "\n",
       "                            espec  \\\n",
       "0   93 m²3 quartos2 suites2 vagas   \n",
       "1     95 m²3 quartos1 suite1 vaga   \n",
       "2      32 m²1 quarto1 suite1 vaga   \n",
       "3  360 m²5 quartos5 suites3 vagas   \n",
       "4             33 m²1 quarto1 vaga   \n",
       "\n",
       "                                               desc3  \\\n",
       "0  ferola a mais acessada de brasília vende;resid...   \n",
       "1  ferola a mais acessada de brasília vende;resid...   \n",
       "2  ferola a mais acessada de brasília vende:resid...   \n",
       "3  a valle empreendimentos imobiliários apresenta...   \n",
       "4  ferola a mais acessada de brasília vende:resid...   \n",
       "\n",
       "                                        link_anuncio  \\\n",
       "0  /imovel/apartamento-3-quartos-venda-sul-aguas-...   \n",
       "1  /imovel/apartamento-3-quartos-venda-norte-agua...   \n",
       "2  /imovel/apartamento-1-quarto-venda-norte-aguas...   \n",
       "3  /imovel/apartamento-4-quartos-venda-norte-agua...   \n",
       "4  /imovel/apartamento-1-quarto-venda-norte-aguas...   \n",
       "\n",
       "                                            conteudo   quartos     banheiros  \\\n",
       "0  1/72/73/74/75/76/77/7ligue agoraenviar emailin...  3 quarto            []   \n",
       "1  1/192/193/194/195/196/197/198/199/1910/1911/19...  3 quarto            []   \n",
       "2  1/232/233/234/235/236/237/238/239/2310/2311/23...  1 quarto            []   \n",
       "3  1/432/433/434/435/436/437/438/439/4310/4311/43...  5 quarto  [8 banheiro]   \n",
       "4  1/292/293/294/295/296/297/298/299/2910/2911/29...  1 quarto            []   \n",
       "\n",
       "                                suites                                vagas  \\\n",
       "0                    [2 suite, 3suite]                    [2 suite, 3suite]   \n",
       "1                    [1 suite, 3suite]                    [1 suite, 3suite]   \n",
       "2                    [1suite, 1 suite]                    [1suite, 1 suite]   \n",
       "3  [4 suite, 5suite, 5 suite, 1 suite]  [4 suite, 5suite, 5 suite, 1 suite]   \n",
       "4                                   []                                   []   \n",
       "\n",
       "   espaco        data  \n",
       "0    93.0  06/06/2023  \n",
       "1    95.0  06/06/2023  \n",
       "2    32.0  06/06/2023  \n",
       "3   360.0  06/06/2023  \n",
       "4    33.0  06/06/2023  "
      ]
     },
     "execution_count": 17,
     "metadata": {},
     "output_type": "execute_result"
    }
   ],
   "source": [
    "df.head()"
   ]
  },
  {
   "cell_type": "markdown",
   "metadata": {},
   "source": [
    "Alguns empreendimentos possuem várias opções de apartamentos, com diversas opções de espaço, vagas de garagem, quantidade de suites e etc. Nesse caso, pegarei as médias de cada variável, como valor médio de suítes, para continuar a análise."
   ]
  },
  {
   "cell_type": "code",
   "execution_count": 18,
   "metadata": {
    "executionInfo": {
     "elapsed": 311,
     "status": "ok",
     "timestamp": 1688416003977,
     "user": {
      "displayName": "Caio Cesar Ribeiro Brito",
      "userId": "09669924537412269636"
     },
     "user_tz": 180
    },
    "id": "xBoE9nI7MT8T"
   },
   "outputs": [],
   "source": [
    "# Função para extrair números das strings e calcular a média, caso possuam mais de um valor\n",
    "def extrair_numeros(valor):\n",
    "    if isinstance(valor, list):\n",
    "        numeros = [int(re.findall(r'\\d+', item)[0]) for item in valor]\n",
    "        if numeros:\n",
    "            return int(sum(numeros) / len(numeros))\n",
    "    return 0\n",
    "\n",
    "# Aplicar a função para transformar as colunas em numéricas\n",
    "df['quartos'] = df['quartos'].apply(lambda x: int(re.findall(r'\\d+', x)[0]))\n",
    "df['banheiros'] = df['banheiros'].apply(extrair_numeros)\n",
    "df['suites'] = df['suites'].apply(extrair_numeros)\n",
    "df['vagas'] = df['vagas'].apply(extrair_numeros)"
   ]
  },
  {
   "cell_type": "code",
   "execution_count": 19,
   "metadata": {
    "id": "TsagwE3QNa3S"
   },
   "outputs": [],
   "source": [
    "# Extraindo dos anuncios os nomes de edificios, caso escrito nos textos\n",
    "# e acrescentando a uma nova coluna\n",
    "lista_index = df[df.conteudo.str.contains('edificio:')].index\n",
    "df['edificio'] = ''\n",
    "df.loc[lista_index, 'edificio'] = [x.replace('última', 'andar').\\\n",
    "                                   replace('de andar', 'andar')\\\n",
    "                                   .replace('no andar', 'andar')\\\n",
    "                                   .replace('unidade', 'andar')\\\n",
    "                                   .split('edificio:')[1]\\\n",
    "                                   .split('andar')[0].strip()  \\\n",
    "                                   for x in df.loc[lista_index, 'conteudo']]"
   ]
  },
  {
   "cell_type": "code",
   "execution_count": 20,
   "metadata": {
    "colab": {
     "base_uri": "https://localhost:8080/",
     "height": 511
    },
    "executionInfo": {
     "elapsed": 254,
     "status": "ok",
     "timestamp": 1688174574445,
     "user": {
      "displayName": "Caio Cesar Ribeiro Brito",
      "userId": "09669924537412269636"
     },
     "user_tz": 180
    },
    "id": "2PkSnd0sSEz0",
    "outputId": "31541fd0-0e95-4232-8a78-31c7122ef05e"
   },
   "outputs": [
    {
     "data": {
      "text/html": [
       "<div>\n",
       "<style scoped>\n",
       "    .dataframe tbody tr th:only-of-type {\n",
       "        vertical-align: middle;\n",
       "    }\n",
       "\n",
       "    .dataframe tbody tr th {\n",
       "        vertical-align: top;\n",
       "    }\n",
       "\n",
       "    .dataframe thead th {\n",
       "        text-align: right;\n",
       "    }\n",
       "</style>\n",
       "<table border=\"1\" class=\"dataframe\">\n",
       "  <thead>\n",
       "    <tr style=\"text-align: right;\">\n",
       "      <th></th>\n",
       "      <th>index</th>\n",
       "      <th>titulo</th>\n",
       "      <th>desc</th>\n",
       "      <th>desc2</th>\n",
       "      <th>preco</th>\n",
       "      <th>valor_m2</th>\n",
       "      <th>espec</th>\n",
       "      <th>desc3</th>\n",
       "      <th>link_anuncio</th>\n",
       "      <th>conteudo</th>\n",
       "      <th>quartos</th>\n",
       "      <th>banheiros</th>\n",
       "      <th>suites</th>\n",
       "      <th>vagas</th>\n",
       "      <th>espaco</th>\n",
       "      <th>data</th>\n",
       "      <th>edificio</th>\n",
       "    </tr>\n",
       "  </thead>\n",
       "  <tbody>\n",
       "    <tr>\n",
       "      <th>0</th>\n",
       "      <td>0</td>\n",
       "      <td>quadra 209, sul, aguas claras</td>\n",
       "      <td>venda apartamento 93 m²</td>\n",
       "      <td>fernanda (61) 98151-2321, residencial mirante ...</td>\n",
       "      <td>875000.0</td>\n",
       "      <td>9408.0</td>\n",
       "      <td>93 m²3 quartos2 suites2 vagas</td>\n",
       "      <td>ferola a mais acessada de brasília vende;resid...</td>\n",
       "      <td>/imovel/apartamento-3-quartos-venda-sul-aguas-...</td>\n",
       "      <td>1/72/73/74/75/76/77/7ligue agoraenviar emailin...</td>\n",
       "      <td>3</td>\n",
       "      <td>0</td>\n",
       "      <td>2</td>\n",
       "      <td>2</td>\n",
       "      <td>93.0</td>\n",
       "      <td>06/06/2023</td>\n",
       "      <td>residencial mirante do bosquetotal</td>\n",
       "    </tr>\n",
       "    <tr>\n",
       "      <th>1</th>\n",
       "      <td>1</td>\n",
       "      <td>rua 21, norte, aguas claras</td>\n",
       "      <td>venda apartamento 95 m²</td>\n",
       "      <td>(61) 99639-9575, edificio villa grandino a 50 ...</td>\n",
       "      <td>650000.0</td>\n",
       "      <td>6842.0</td>\n",
       "      <td>95 m²3 quartos1 suite1 vaga</td>\n",
       "      <td>ferola a mais acessada de brasília vende;resid...</td>\n",
       "      <td>/imovel/apartamento-3-quartos-venda-norte-agua...</td>\n",
       "      <td>1/192/193/194/195/196/197/198/199/1910/1911/19...</td>\n",
       "      <td>3</td>\n",
       "      <td>0</td>\n",
       "      <td>2</td>\n",
       "      <td>2</td>\n",
       "      <td>95.0</td>\n",
       "      <td>06/06/2023</td>\n",
       "      <td>edificio villa grandinototal</td>\n",
       "    </tr>\n",
       "    <tr>\n",
       "      <th>2</th>\n",
       "      <td>2</td>\n",
       "      <td>rua das carnaubas, norte, aguas claras</td>\n",
       "      <td>venda apartamento 32 m²</td>\n",
       "      <td>fernanda (61) 98151-2321, edificio luna park e...</td>\n",
       "      <td>270000.0</td>\n",
       "      <td>8437.0</td>\n",
       "      <td>32 m²1 quarto1 suite1 vaga</td>\n",
       "      <td>ferola a mais acessada de brasília vende:resid...</td>\n",
       "      <td>/imovel/apartamento-1-quarto-venda-norte-aguas...</td>\n",
       "      <td>1/232/233/234/235/236/237/238/239/2310/2311/23...</td>\n",
       "      <td>1</td>\n",
       "      <td>0</td>\n",
       "      <td>1</td>\n",
       "      <td>1</td>\n",
       "      <td>32.0</td>\n",
       "      <td>06/06/2023</td>\n",
       "      <td>edificio luna park</td>\n",
       "    </tr>\n",
       "    <tr>\n",
       "      <th>3</th>\n",
       "      <td>3</td>\n",
       "      <td>quadra 102, norte, aguas claras</td>\n",
       "      <td>venda apartamento 360 m²</td>\n",
       "      <td>, residencial matisse antares aguas claras lux...</td>\n",
       "      <td>3300000.0</td>\n",
       "      <td>9166.0</td>\n",
       "      <td>360 m²5 quartos5 suites3 vagas</td>\n",
       "      <td>a valle empreendimentos imobiliários apresenta...</td>\n",
       "      <td>/imovel/apartamento-4-quartos-venda-norte-agua...</td>\n",
       "      <td>1/432/433/434/435/436/437/438/439/4310/4311/43...</td>\n",
       "      <td>5</td>\n",
       "      <td>8</td>\n",
       "      <td>3</td>\n",
       "      <td>3</td>\n",
       "      <td>360.0</td>\n",
       "      <td>06/06/2023</td>\n",
       "      <td>residencial matisse antares</td>\n",
       "    </tr>\n",
       "    <tr>\n",
       "      <th>4</th>\n",
       "      <td>4</td>\n",
       "      <td>rua 9, norte, aguas claras</td>\n",
       "      <td>venda apartamento 33 m²</td>\n",
       "      <td>residencial easy - 98144-4558, easy residencia...</td>\n",
       "      <td>320000.0</td>\n",
       "      <td>9696.0</td>\n",
       "      <td>33 m²1 quarto1 vaga</td>\n",
       "      <td>ferola a mais acessada de brasília vende:resid...</td>\n",
       "      <td>/imovel/apartamento-1-quarto-venda-norte-aguas...</td>\n",
       "      <td>1/292/293/294/295/296/297/298/299/2910/2911/29...</td>\n",
       "      <td>1</td>\n",
       "      <td>0</td>\n",
       "      <td>0</td>\n",
       "      <td>0</td>\n",
       "      <td>33.0</td>\n",
       "      <td>06/06/2023</td>\n",
       "      <td>easy residencialtotal</td>\n",
       "    </tr>\n",
       "  </tbody>\n",
       "</table>\n",
       "</div>"
      ],
      "text/plain": [
       "   index                                  titulo                      desc  \\\n",
       "0      0           quadra 209, sul, aguas claras   venda apartamento 93 m²   \n",
       "1      1             rua 21, norte, aguas claras   venda apartamento 95 m²   \n",
       "2      2  rua das carnaubas, norte, aguas claras   venda apartamento 32 m²   \n",
       "3      3         quadra 102, norte, aguas claras  venda apartamento 360 m²   \n",
       "4      4              rua 9, norte, aguas claras   venda apartamento 33 m²   \n",
       "\n",
       "                                               desc2      preco  valor_m2  \\\n",
       "0  fernanda (61) 98151-2321, residencial mirante ...   875000.0    9408.0   \n",
       "1  (61) 99639-9575, edificio villa grandino a 50 ...   650000.0    6842.0   \n",
       "2  fernanda (61) 98151-2321, edificio luna park e...   270000.0    8437.0   \n",
       "3  , residencial matisse antares aguas claras lux...  3300000.0    9166.0   \n",
       "4  residencial easy - 98144-4558, easy residencia...   320000.0    9696.0   \n",
       "\n",
       "                            espec  \\\n",
       "0   93 m²3 quartos2 suites2 vagas   \n",
       "1     95 m²3 quartos1 suite1 vaga   \n",
       "2      32 m²1 quarto1 suite1 vaga   \n",
       "3  360 m²5 quartos5 suites3 vagas   \n",
       "4             33 m²1 quarto1 vaga   \n",
       "\n",
       "                                               desc3  \\\n",
       "0  ferola a mais acessada de brasília vende;resid...   \n",
       "1  ferola a mais acessada de brasília vende;resid...   \n",
       "2  ferola a mais acessada de brasília vende:resid...   \n",
       "3  a valle empreendimentos imobiliários apresenta...   \n",
       "4  ferola a mais acessada de brasília vende:resid...   \n",
       "\n",
       "                                        link_anuncio  \\\n",
       "0  /imovel/apartamento-3-quartos-venda-sul-aguas-...   \n",
       "1  /imovel/apartamento-3-quartos-venda-norte-agua...   \n",
       "2  /imovel/apartamento-1-quarto-venda-norte-aguas...   \n",
       "3  /imovel/apartamento-4-quartos-venda-norte-agua...   \n",
       "4  /imovel/apartamento-1-quarto-venda-norte-aguas...   \n",
       "\n",
       "                                            conteudo  quartos  banheiros  \\\n",
       "0  1/72/73/74/75/76/77/7ligue agoraenviar emailin...        3          0   \n",
       "1  1/192/193/194/195/196/197/198/199/1910/1911/19...        3          0   \n",
       "2  1/232/233/234/235/236/237/238/239/2310/2311/23...        1          0   \n",
       "3  1/432/433/434/435/436/437/438/439/4310/4311/43...        5          8   \n",
       "4  1/292/293/294/295/296/297/298/299/2910/2911/29...        1          0   \n",
       "\n",
       "   suites  vagas  espaco        data                            edificio  \n",
       "0       2      2    93.0  06/06/2023  residencial mirante do bosquetotal  \n",
       "1       2      2    95.0  06/06/2023        edificio villa grandinototal  \n",
       "2       1      1    32.0  06/06/2023                  edificio luna park  \n",
       "3       3      3   360.0  06/06/2023         residencial matisse antares  \n",
       "4       0      0    33.0  06/06/2023               easy residencialtotal  "
      ]
     },
     "execution_count": 20,
     "metadata": {},
     "output_type": "execute_result"
    }
   ],
   "source": [
    "df.head()"
   ]
  },
  {
   "cell_type": "code",
   "execution_count": 21,
   "metadata": {
    "id": "acL2Pz-lOxIm"
   },
   "outputs": [],
   "source": [
    "# Resetando o indice apos as alteracoes\n",
    "df.reset_index(inplace=True)\n",
    "df.drop(columns='index', inplace=True)"
   ]
  },
  {
   "cell_type": "code",
   "execution_count": 22,
   "metadata": {
    "id": "mt-aNdPrLv4o"
   },
   "outputs": [],
   "source": [
    "# Criando uma coluna com os textos que serao passados na API para coletar as coordenadas\n",
    "df['endereco'] = [f'{df.edificio[i].strip()}, aguas claras - DF, Brazil' if df.edificio[i].strip() != '' else df.titulo[i]+' - DF' for i in range(len(df))]"
   ]
  },
  {
   "cell_type": "code",
   "execution_count": 23,
   "metadata": {
    "colab": {
     "base_uri": "https://localhost:8080/"
    },
    "executionInfo": {
     "elapsed": 6,
     "status": "ok",
     "timestamp": 1688174579274,
     "user": {
      "displayName": "Caio Cesar Ribeiro Brito",
      "userId": "09669924537412269636"
     },
     "user_tz": 180
    },
    "id": "5kN4Go5hOUaB",
    "outputId": "af45a085-1e47-4bd4-bb0d-c8ee48717c02"
   },
   "outputs": [
    {
     "data": {
      "text/plain": [
       "0       residencial mirante do bosquetotal, aguas clar...\n",
       "1       edificio villa grandinototal, aguas claras - D...\n",
       "2           edificio luna park, aguas claras - DF, Brazil\n",
       "3       residencial matisse antares, aguas claras - DF...\n",
       "4        easy residencialtotal, aguas claras - DF, Brazil\n",
       "                              ...                        \n",
       "4978          residencial ipês, aguas claras - DF, Brazil\n",
       "4979    residencial ligia valois 31, aguas claras - DF...\n",
       "4980    residencial resort aguarius, aguas claras - DF...\n",
       "4981    condominio mansões paradiso, aguas claras - DF...\n",
       "4982               qs 7 rua 800, areal, aguas claras - DF\n",
       "Name: endereco, Length: 4983, dtype: object"
      ]
     },
     "execution_count": 23,
     "metadata": {},
     "output_type": "execute_result"
    }
   ],
   "source": [
    "df.endereco"
   ]
  },
  {
   "cell_type": "markdown",
   "metadata": {
    "id": "KGImg8eiP3Do"
   },
   "source": [
    "# Transformando os endereços em coordenadas"
   ]
  },
  {
   "cell_type": "code",
   "execution_count": 24,
   "metadata": {
    "executionInfo": {
     "elapsed": 17,
     "status": "ok",
     "timestamp": 1688416118175,
     "user": {
      "displayName": "Caio Cesar Ribeiro Brito",
      "userId": "09669924537412269636"
     },
     "user_tz": 180
    },
    "id": "9yGkgVG_QG9l"
   },
   "outputs": [],
   "source": [
    "# Importando a biblioteca de georreferenciamento\n",
    "from geopy import ArcGIS"
   ]
  },
  {
   "cell_type": "code",
   "execution_count": 25,
   "metadata": {
    "id": "eYDyQNJCQx2E"
   },
   "outputs": [],
   "source": [
    "# Criando colunas que irao receber a latitude, longitude e score da consulta\n",
    "df['latitude'] = ''\n",
    "df['longitude'] = ''\n",
    "df['score'] = ''"
   ]
  },
  {
   "cell_type": "code",
   "execution_count": 26,
   "metadata": {
    "executionInfo": {
     "elapsed": 17,
     "status": "ok",
     "timestamp": 1688416118176,
     "user": {
      "displayName": "Caio Cesar Ribeiro Brito",
      "userId": "09669924537412269636"
     },
     "user_tz": 180
    },
    "id": "n5Lsxb6fQI-_"
   },
   "outputs": [],
   "source": [
    "# Funcao que converte o endereco em coordenadas\n",
    "def coordenadas(endereco):\n",
    "\n",
    "    locator = ArcGIS(user_agent='Caioapp')\n",
    "    location = locator.geocode(endereco, timeout=600)\n",
    "\n",
    "    return location"
   ]
  },
  {
   "cell_type": "code",
   "execution_count": 56,
   "metadata": {
    "colab": {
     "background_save": true
    },
    "id": "mAwePaufQU9p",
    "outputId": "258a5668-7b30-43aa-e0e0-19d2a5979a43"
   },
   "outputs": [
    {
     "name": "stdout",
     "output_type": "stream",
     "text": [
      "2771 fail\n",
      "2994 fail\n"
     ]
    }
   ],
   "source": [
    "# Chamando a funcao coordenadas para cada registro\n",
    "for i in range(len(df)):\n",
    "\n",
    "    try:\n",
    "\n",
    "        location = coordenadas(str(df.endereco[i]))\n",
    "\n",
    "        df.loc[i, 'latitude'] = str(location.latitude)\n",
    "        df.loc[i, 'longitude'] = str(location.longitude)\n",
    "        df.loc[i, 'score'] = float(location.raw['score'])\n",
    "\n",
    "    except:\n",
    "        print(i, 'fail')"
   ]
  },
  {
   "cell_type": "code",
   "execution_count": 57,
   "metadata": {},
   "outputs": [],
   "source": [
    "df.score = df.score.replace('', 0)"
   ]
  },
  {
   "cell_type": "code",
   "execution_count": 58,
   "metadata": {
    "colab": {
     "background_save": true
    },
    "id": "w8ukx1dkvWj_"
   },
   "outputs": [],
   "source": [
    "df.score = df.score.astype('float64')"
   ]
  },
  {
   "cell_type": "code",
   "execution_count": 59,
   "metadata": {
    "colab": {
     "background_save": true
    },
    "id": "-UTr7yH-urtb",
    "outputId": "949441fd-0980-4cba-9abd-908a50cbf10b"
   },
   "outputs": [
    {
     "data": {
      "text/plain": [
       "count    4983.000000\n",
       "mean       89.508706\n",
       "std         8.737177\n",
       "min         0.000000\n",
       "25%        80.000000\n",
       "50%        88.890000\n",
       "75%       100.000000\n",
       "max       100.000000\n",
       "Name: score, dtype: float64"
      ]
     },
     "execution_count": 59,
     "metadata": {},
     "output_type": "execute_result"
    }
   ],
   "source": [
    "df.score.describe()"
   ]
  },
  {
   "cell_type": "code",
   "execution_count": 60,
   "metadata": {},
   "outputs": [
    {
     "data": {
      "text/html": [
       "<div>\n",
       "<style scoped>\n",
       "    .dataframe tbody tr th:only-of-type {\n",
       "        vertical-align: middle;\n",
       "    }\n",
       "\n",
       "    .dataframe tbody tr th {\n",
       "        vertical-align: top;\n",
       "    }\n",
       "\n",
       "    .dataframe thead th {\n",
       "        text-align: right;\n",
       "    }\n",
       "</style>\n",
       "<table border=\"1\" class=\"dataframe\">\n",
       "  <thead>\n",
       "    <tr style=\"text-align: right;\">\n",
       "      <th></th>\n",
       "      <th>level_0</th>\n",
       "      <th>titulo</th>\n",
       "      <th>desc</th>\n",
       "      <th>desc2</th>\n",
       "      <th>preco</th>\n",
       "      <th>valor_m2</th>\n",
       "      <th>espec</th>\n",
       "      <th>desc3</th>\n",
       "      <th>link_anuncio</th>\n",
       "      <th>conteudo</th>\n",
       "      <th>...</th>\n",
       "      <th>banheiros</th>\n",
       "      <th>suites</th>\n",
       "      <th>vagas</th>\n",
       "      <th>espaco</th>\n",
       "      <th>data</th>\n",
       "      <th>edificio</th>\n",
       "      <th>endereco</th>\n",
       "      <th>latitude</th>\n",
       "      <th>longitude</th>\n",
       "      <th>score</th>\n",
       "    </tr>\n",
       "  </thead>\n",
       "  <tbody>\n",
       "    <tr>\n",
       "      <th>2771</th>\n",
       "      <td>2771</td>\n",
       "      <td>quadra 208, sul, aguas claras</td>\n",
       "      <td>venda apartamento 108 m²</td>\n",
       "      <td>costa azulvenda apartamento 3 quartos sul água...</td>\n",
       "      <td>920000.0</td>\n",
       "      <td>8518.0</td>\n",
       "      <td>108 m²3 quartos1 suite2 vagas</td>\n",
       "      <td>apartamento 03 quartos com varanda em águas cl...</td>\n",
       "      <td>/imovel/apartamento-3-quartos-venda-sul-aguas-...</td>\n",
       "      <td>1/302/303/304/305/306/307/308/309/3010/3011/30...</td>\n",
       "      <td>...</td>\n",
       "      <td>3</td>\n",
       "      <td>2</td>\n",
       "      <td>2</td>\n",
       "      <td>108.0</td>\n",
       "      <td>06/06/2023</td>\n",
       "      <td>costa azulimóvel bem espaçoso, contendo ventil...</td>\n",
       "      <td>costa azulimóvel bem espaçoso, contendo ventil...</td>\n",
       "      <td></td>\n",
       "      <td></td>\n",
       "      <td>0.0</td>\n",
       "    </tr>\n",
       "    <tr>\n",
       "      <th>2994</th>\n",
       "      <td>2994</td>\n",
       "      <td>rua 9, norte, aguas claras</td>\n",
       "      <td>venda apartamento 111 m²</td>\n",
       "      <td>edificio dirceu da rocha tavares rua 9 edifici...</td>\n",
       "      <td>820000.0</td>\n",
       "      <td>7387.0</td>\n",
       "      <td>111 m²4 quartos1 suite1 vaga</td>\n",
       "      <td>apartamento 04 quartos e vazado próximo a esta...</td>\n",
       "      <td>/imovel/apartamento-4-quartos-venda-norte-agua...</td>\n",
       "      <td>1/232/233/234/235/236/237/238/239/2310/2311/23...</td>\n",
       "      <td>...</td>\n",
       "      <td>2</td>\n",
       "      <td>2</td>\n",
       "      <td>2</td>\n",
       "      <td>111.0</td>\n",
       "      <td>06/06/2023</td>\n",
       "      <td>dirceu da rocha tavaresimóvel bem espaçoso, co...</td>\n",
       "      <td>dirceu da rocha tavaresimóvel bem espaçoso, co...</td>\n",
       "      <td></td>\n",
       "      <td></td>\n",
       "      <td>0.0</td>\n",
       "    </tr>\n",
       "  </tbody>\n",
       "</table>\n",
       "<p>2 rows × 21 columns</p>\n",
       "</div>"
      ],
      "text/plain": [
       "      level_0                         titulo                      desc  \\\n",
       "2771     2771  quadra 208, sul, aguas claras  venda apartamento 108 m²   \n",
       "2994     2994     rua 9, norte, aguas claras  venda apartamento 111 m²   \n",
       "\n",
       "                                                  desc2     preco  valor_m2  \\\n",
       "2771  costa azulvenda apartamento 3 quartos sul água...  920000.0    8518.0   \n",
       "2994  edificio dirceu da rocha tavares rua 9 edifici...  820000.0    7387.0   \n",
       "\n",
       "                              espec  \\\n",
       "2771  108 m²3 quartos1 suite2 vagas   \n",
       "2994   111 m²4 quartos1 suite1 vaga   \n",
       "\n",
       "                                                  desc3  \\\n",
       "2771  apartamento 03 quartos com varanda em águas cl...   \n",
       "2994  apartamento 04 quartos e vazado próximo a esta...   \n",
       "\n",
       "                                           link_anuncio  \\\n",
       "2771  /imovel/apartamento-3-quartos-venda-sul-aguas-...   \n",
       "2994  /imovel/apartamento-4-quartos-venda-norte-agua...   \n",
       "\n",
       "                                               conteudo  ...  banheiros  \\\n",
       "2771  1/302/303/304/305/306/307/308/309/3010/3011/30...  ...          3   \n",
       "2994  1/232/233/234/235/236/237/238/239/2310/2311/23...  ...          2   \n",
       "\n",
       "      suites  vagas  espaco        data  \\\n",
       "2771       2      2   108.0  06/06/2023   \n",
       "2994       2      2   111.0  06/06/2023   \n",
       "\n",
       "                                               edificio  \\\n",
       "2771  costa azulimóvel bem espaçoso, contendo ventil...   \n",
       "2994  dirceu da rocha tavaresimóvel bem espaçoso, co...   \n",
       "\n",
       "                                               endereco latitude longitude  \\\n",
       "2771  costa azulimóvel bem espaçoso, contendo ventil...                      \n",
       "2994  dirceu da rocha tavaresimóvel bem espaçoso, co...                      \n",
       "\n",
       "     score  \n",
       "2771   0.0  \n",
       "2994   0.0  \n",
       "\n",
       "[2 rows x 21 columns]"
      ]
     },
     "execution_count": 60,
     "metadata": {},
     "output_type": "execute_result"
    }
   ],
   "source": [
    "# Visualizando os 2 enderecos não encontrados\n",
    "df[df.score==0]"
   ]
  },
  {
   "cell_type": "code",
   "execution_count": 61,
   "metadata": {},
   "outputs": [
    {
     "data": {
      "text/plain": [
       "'costa azulimóvel bem espaçoso, contendo ventilação natural em todos os comandos, ambientes amplos e piso em porcelanato.- 108 m2 de área útil\\r- 03 quartos, sendo 01 suite- 03 banheiros ao todo\\r- possui 01 vaga de gaargem\\r- área de serviçoárea de lazer:\\r- churrasqueiras\\r- quadra esportiva\\r- piscina- excelente localização, imóvel fica na quadra 208 sul de águas claras, próximo a comércio local e estação arniqueiras, além de padarias, farmácias, mercados, restaurantes e etc.(os preços e informações poderão sofrer mudanças sem aviso prévio. por este motivo, solicitamos a confirmação com nossos consultores.)solicitar visitaenviar propostasolicitar visitaenviar propostacaracteristicasinterfonepiscinaquadra esportivasaunalocalizaçãomapastreet viewmapastreet viewclique para carregar o mapa., aguas claras - DF, Brazil'"
      ]
     },
     "execution_count": 61,
     "metadata": {},
     "output_type": "execute_result"
    }
   ],
   "source": [
    "# Podemos encontrar no texto o endereco que fica na quadra 208 sul\n",
    "df.endereco[2771]"
   ]
  },
  {
   "cell_type": "code",
   "execution_count": 62,
   "metadata": {},
   "outputs": [
    {
     "data": {
      "text/plain": [
       "'dirceu da rocha tavaresimóvel bem espaçoso, contendo ventilação natural em todos os comandos, armários planejados, ambientes amplos e piso em porcelanato.- 111,60 m2 de área útil- 04 quartos, sendo 01 suite- 02 banheiros ao todo- possui 01 vaga de gaargem coberta- um dos quartos reversivel para escritório- cozinha e área de serviço são independentes- área de serviço ampla (dce convertido em lavanderia)área de lazer:- duas churrasqueiras- salão de festas- quadra esportiva- academia- salão de jogos- playground- bicicletário- excelente localização, imóvel fica na rua 09 norte de águas claras, próximo a comércio local e estação arniqueiras, além de padarias, farmácias, mercados, restaurantes e etc.(os preços e informações poderão sofrer mudanças sem aviso prévio. por este motivo, solicitamos a confirmação com nossos consultores.)solicitar visitaenviar propostasolicitar visitaenviar propostacaracteristicasplaygroundquadra esportivasalão de jogoslocalizaçãomapastreet viewmapastreet viewclique para carregar o mapa., aguas claras - DF, Brazil'"
      ]
     },
     "execution_count": 62,
     "metadata": {},
     "output_type": "execute_result"
    }
   ],
   "source": [
    "# Encontramos o endereco que fica na rua 09 norte\n",
    "df.endereco[2994]"
   ]
  },
  {
   "cell_type": "code",
   "execution_count": 63,
   "metadata": {},
   "outputs": [],
   "source": [
    "# Fazendo uma nova requisicao para o indice 2771\n",
    "location = coordenadas('quadra 208 sul, aguas claras - DF, Brazil')\n",
    "i = 2771\n",
    "df.loc[i, 'latitude'] = str(location.latitude)\n",
    "df.loc[i, 'longitude'] = str(location.longitude)\n",
    "df.loc[i, 'score'] = float(location.raw['score'])"
   ]
  },
  {
   "cell_type": "code",
   "execution_count": 64,
   "metadata": {},
   "outputs": [],
   "source": [
    "# Fazendo uma nova requisicao para o indice 2994\n",
    "location = coordenadas('rua 09 norte, aguas claras - DF, Brazil')\n",
    "i = 2994\n",
    "df.loc[i, 'latitude'] = str(location.latitude)\n",
    "df.loc[i, 'longitude'] = str(location.longitude)\n",
    "df.loc[i, 'score'] = float(location.raw['score'])"
   ]
  },
  {
   "cell_type": "code",
   "execution_count": 65,
   "metadata": {},
   "outputs": [
    {
     "data": {
      "text/html": [
       "<div>\n",
       "<style scoped>\n",
       "    .dataframe tbody tr th:only-of-type {\n",
       "        vertical-align: middle;\n",
       "    }\n",
       "\n",
       "    .dataframe tbody tr th {\n",
       "        vertical-align: top;\n",
       "    }\n",
       "\n",
       "    .dataframe thead th {\n",
       "        text-align: right;\n",
       "    }\n",
       "</style>\n",
       "<table border=\"1\" class=\"dataframe\">\n",
       "  <thead>\n",
       "    <tr style=\"text-align: right;\">\n",
       "      <th></th>\n",
       "      <th>level_0</th>\n",
       "      <th>titulo</th>\n",
       "      <th>desc</th>\n",
       "      <th>desc2</th>\n",
       "      <th>preco</th>\n",
       "      <th>valor_m2</th>\n",
       "      <th>espec</th>\n",
       "      <th>desc3</th>\n",
       "      <th>link_anuncio</th>\n",
       "      <th>conteudo</th>\n",
       "      <th>...</th>\n",
       "      <th>banheiros</th>\n",
       "      <th>suites</th>\n",
       "      <th>vagas</th>\n",
       "      <th>espaco</th>\n",
       "      <th>data</th>\n",
       "      <th>edificio</th>\n",
       "      <th>endereco</th>\n",
       "      <th>latitude</th>\n",
       "      <th>longitude</th>\n",
       "      <th>score</th>\n",
       "    </tr>\n",
       "  </thead>\n",
       "  <tbody>\n",
       "    <tr>\n",
       "      <th>2771</th>\n",
       "      <td>2771</td>\n",
       "      <td>quadra 208, sul, aguas claras</td>\n",
       "      <td>venda apartamento 108 m²</td>\n",
       "      <td>costa azulvenda apartamento 3 quartos sul água...</td>\n",
       "      <td>920000.0</td>\n",
       "      <td>8518.0</td>\n",
       "      <td>108 m²3 quartos1 suite2 vagas</td>\n",
       "      <td>apartamento 03 quartos com varanda em águas cl...</td>\n",
       "      <td>/imovel/apartamento-3-quartos-venda-sul-aguas-...</td>\n",
       "      <td>1/302/303/304/305/306/307/308/309/3010/3011/30...</td>\n",
       "      <td>...</td>\n",
       "      <td>3</td>\n",
       "      <td>2</td>\n",
       "      <td>2</td>\n",
       "      <td>108.0</td>\n",
       "      <td>06/06/2023</td>\n",
       "      <td>costa azulimóvel bem espaçoso, contendo ventil...</td>\n",
       "      <td>costa azulimóvel bem espaçoso, contendo ventil...</td>\n",
       "      <td>-15.844959835383</td>\n",
       "      <td>-48.027943339188</td>\n",
       "      <td>100.0</td>\n",
       "    </tr>\n",
       "    <tr>\n",
       "      <th>2994</th>\n",
       "      <td>2994</td>\n",
       "      <td>rua 9, norte, aguas claras</td>\n",
       "      <td>venda apartamento 111 m²</td>\n",
       "      <td>edificio dirceu da rocha tavares rua 9 edifici...</td>\n",
       "      <td>820000.0</td>\n",
       "      <td>7387.0</td>\n",
       "      <td>111 m²4 quartos1 suite1 vaga</td>\n",
       "      <td>apartamento 04 quartos e vazado próximo a esta...</td>\n",
       "      <td>/imovel/apartamento-4-quartos-venda-norte-agua...</td>\n",
       "      <td>1/232/233/234/235/236/237/238/239/2310/2311/23...</td>\n",
       "      <td>...</td>\n",
       "      <td>2</td>\n",
       "      <td>2</td>\n",
       "      <td>2</td>\n",
       "      <td>111.0</td>\n",
       "      <td>06/06/2023</td>\n",
       "      <td>dirceu da rocha tavaresimóvel bem espaçoso, co...</td>\n",
       "      <td>dirceu da rocha tavaresimóvel bem espaçoso, co...</td>\n",
       "      <td>-15.835195016505</td>\n",
       "      <td>-48.015859996907</td>\n",
       "      <td>100.0</td>\n",
       "    </tr>\n",
       "  </tbody>\n",
       "</table>\n",
       "<p>2 rows × 21 columns</p>\n",
       "</div>"
      ],
      "text/plain": [
       "      level_0                         titulo                      desc  \\\n",
       "2771     2771  quadra 208, sul, aguas claras  venda apartamento 108 m²   \n",
       "2994     2994     rua 9, norte, aguas claras  venda apartamento 111 m²   \n",
       "\n",
       "                                                  desc2     preco  valor_m2  \\\n",
       "2771  costa azulvenda apartamento 3 quartos sul água...  920000.0    8518.0   \n",
       "2994  edificio dirceu da rocha tavares rua 9 edifici...  820000.0    7387.0   \n",
       "\n",
       "                              espec  \\\n",
       "2771  108 m²3 quartos1 suite2 vagas   \n",
       "2994   111 m²4 quartos1 suite1 vaga   \n",
       "\n",
       "                                                  desc3  \\\n",
       "2771  apartamento 03 quartos com varanda em águas cl...   \n",
       "2994  apartamento 04 quartos e vazado próximo a esta...   \n",
       "\n",
       "                                           link_anuncio  \\\n",
       "2771  /imovel/apartamento-3-quartos-venda-sul-aguas-...   \n",
       "2994  /imovel/apartamento-4-quartos-venda-norte-agua...   \n",
       "\n",
       "                                               conteudo  ...  banheiros  \\\n",
       "2771  1/302/303/304/305/306/307/308/309/3010/3011/30...  ...          3   \n",
       "2994  1/232/233/234/235/236/237/238/239/2310/2311/23...  ...          2   \n",
       "\n",
       "      suites  vagas  espaco        data  \\\n",
       "2771       2      2   108.0  06/06/2023   \n",
       "2994       2      2   111.0  06/06/2023   \n",
       "\n",
       "                                               edificio  \\\n",
       "2771  costa azulimóvel bem espaçoso, contendo ventil...   \n",
       "2994  dirceu da rocha tavaresimóvel bem espaçoso, co...   \n",
       "\n",
       "                                               endereco          latitude  \\\n",
       "2771  costa azulimóvel bem espaçoso, contendo ventil...  -15.844959835383   \n",
       "2994  dirceu da rocha tavaresimóvel bem espaçoso, co...  -15.835195016505   \n",
       "\n",
       "             longitude  score  \n",
       "2771  -48.027943339188  100.0  \n",
       "2994  -48.015859996907  100.0  \n",
       "\n",
       "[2 rows x 21 columns]"
      ]
     },
     "execution_count": 65,
     "metadata": {},
     "output_type": "execute_result"
    }
   ],
   "source": [
    "# Agora o dataframe esta completo\n",
    "df.iloc[[2771, 2994]]"
   ]
  },
  {
   "cell_type": "code",
   "execution_count": 66,
   "metadata": {
    "id": "gJK6oH0tRMcZ"
   },
   "outputs": [],
   "source": [
    "# # Salvando o dados\n",
    "# df.to_csv('../dados/imoveis_coordenadas.csv',\n",
    "#           sep=';',\n",
    "#           encoding='utf-8',\n",
    "#           index=False)"
   ]
  },
  {
   "cell_type": "markdown",
   "metadata": {
    "id": "uMpfR4ew97bx"
   },
   "source": [
    "# Criação do mapa de calor"
   ]
  },
  {
   "cell_type": "code",
   "execution_count": 3,
   "metadata": {
    "executionInfo": {
     "elapsed": 690,
     "status": "ok",
     "timestamp": 1688415815274,
     "user": {
      "displayName": "Caio Cesar Ribeiro Brito",
      "userId": "09669924537412269636"
     },
     "user_tz": 180
    },
    "id": "42SSCJwM0Cis"
   },
   "outputs": [],
   "source": [
    "df = pd.read_csv('../dados/imoveis_coordenadas.csv',\n",
    "                 sep=';',\n",
    "                 dtype='str',\n",
    "                 encoding='utf-8')"
   ]
  },
  {
   "cell_type": "code",
   "execution_count": 4,
   "metadata": {},
   "outputs": [
    {
     "data": {
      "text/html": [
       "<div>\n",
       "<style scoped>\n",
       "    .dataframe tbody tr th:only-of-type {\n",
       "        vertical-align: middle;\n",
       "    }\n",
       "\n",
       "    .dataframe tbody tr th {\n",
       "        vertical-align: top;\n",
       "    }\n",
       "\n",
       "    .dataframe thead th {\n",
       "        text-align: right;\n",
       "    }\n",
       "</style>\n",
       "<table border=\"1\" class=\"dataframe\">\n",
       "  <thead>\n",
       "    <tr style=\"text-align: right;\">\n",
       "      <th></th>\n",
       "      <th>level_0</th>\n",
       "      <th>titulo</th>\n",
       "      <th>desc</th>\n",
       "      <th>desc2</th>\n",
       "      <th>preco</th>\n",
       "      <th>valor_m2</th>\n",
       "      <th>espec</th>\n",
       "      <th>desc3</th>\n",
       "      <th>link_anuncio</th>\n",
       "      <th>conteudo</th>\n",
       "      <th>...</th>\n",
       "      <th>banheiros</th>\n",
       "      <th>suites</th>\n",
       "      <th>vagas</th>\n",
       "      <th>espaco</th>\n",
       "      <th>data</th>\n",
       "      <th>edificio</th>\n",
       "      <th>endereco</th>\n",
       "      <th>latitude</th>\n",
       "      <th>longitude</th>\n",
       "      <th>score</th>\n",
       "    </tr>\n",
       "  </thead>\n",
       "  <tbody>\n",
       "    <tr>\n",
       "      <th>0</th>\n",
       "      <td>0</td>\n",
       "      <td>quadra 209, sul, aguas claras</td>\n",
       "      <td>venda apartamento 93 m²</td>\n",
       "      <td>fernanda (61) 98151-2321, residencial mirante ...</td>\n",
       "      <td>875000.0</td>\n",
       "      <td>9408.0</td>\n",
       "      <td>93 m²3 quartos2 suites2 vagas</td>\n",
       "      <td>ferola a mais acessada de brasília vende;resid...</td>\n",
       "      <td>/imovel/apartamento-3-quartos-venda-sul-aguas-...</td>\n",
       "      <td>1/72/73/74/75/76/77/7ligue agoraenviar emailin...</td>\n",
       "      <td>...</td>\n",
       "      <td>0</td>\n",
       "      <td>2</td>\n",
       "      <td>2</td>\n",
       "      <td>93.0</td>\n",
       "      <td>06/06/2023</td>\n",
       "      <td>residencial mirante do bosquetotal</td>\n",
       "      <td>residencial mirante do bosquetotal, aguas clar...</td>\n",
       "      <td>-15.84067</td>\n",
       "      <td>-48.02206</td>\n",
       "      <td>80.0</td>\n",
       "    </tr>\n",
       "    <tr>\n",
       "      <th>1</th>\n",
       "      <td>1</td>\n",
       "      <td>rua 21, norte, aguas claras</td>\n",
       "      <td>venda apartamento 95 m²</td>\n",
       "      <td>(61) 99639-9575, edificio villa grandino a 50 ...</td>\n",
       "      <td>650000.0</td>\n",
       "      <td>6842.0</td>\n",
       "      <td>95 m²3 quartos1 suite1 vaga</td>\n",
       "      <td>ferola a mais acessada de brasília vende;resid...</td>\n",
       "      <td>/imovel/apartamento-3-quartos-venda-norte-agua...</td>\n",
       "      <td>1/192/193/194/195/196/197/198/199/1910/1911/19...</td>\n",
       "      <td>...</td>\n",
       "      <td>0</td>\n",
       "      <td>2</td>\n",
       "      <td>2</td>\n",
       "      <td>95.0</td>\n",
       "      <td>06/06/2023</td>\n",
       "      <td>edificio villa grandinototal</td>\n",
       "      <td>edificio villa grandinototal, aguas claras - D...</td>\n",
       "      <td>-15.84067</td>\n",
       "      <td>-48.02206</td>\n",
       "      <td>80.0</td>\n",
       "    </tr>\n",
       "    <tr>\n",
       "      <th>2</th>\n",
       "      <td>2</td>\n",
       "      <td>rua das carnaubas, norte, aguas claras</td>\n",
       "      <td>venda apartamento 32 m²</td>\n",
       "      <td>fernanda (61) 98151-2321, edificio luna park e...</td>\n",
       "      <td>270000.0</td>\n",
       "      <td>8437.0</td>\n",
       "      <td>32 m²1 quarto1 suite1 vaga</td>\n",
       "      <td>ferola a mais acessada de brasília vende:resid...</td>\n",
       "      <td>NaN</td>\n",
       "      <td>NaN</td>\n",
       "      <td>...</td>\n",
       "      <td>NaN</td>\n",
       "      <td>NaN</td>\n",
       "      <td>NaN</td>\n",
       "      <td>NaN</td>\n",
       "      <td>NaN</td>\n",
       "      <td>NaN</td>\n",
       "      <td>NaN</td>\n",
       "      <td>NaN</td>\n",
       "      <td>NaN</td>\n",
       "      <td>NaN</td>\n",
       "    </tr>\n",
       "  </tbody>\n",
       "</table>\n",
       "<p>3 rows × 21 columns</p>\n",
       "</div>"
      ],
      "text/plain": [
       "  level_0                                  titulo                     desc  \\\n",
       "0       0           quadra 209, sul, aguas claras  venda apartamento 93 m²   \n",
       "1       1             rua 21, norte, aguas claras  venda apartamento 95 m²   \n",
       "2       2  rua das carnaubas, norte, aguas claras  venda apartamento 32 m²   \n",
       "\n",
       "                                               desc2     preco valor_m2  \\\n",
       "0  fernanda (61) 98151-2321, residencial mirante ...  875000.0   9408.0   \n",
       "1  (61) 99639-9575, edificio villa grandino a 50 ...  650000.0   6842.0   \n",
       "2  fernanda (61) 98151-2321, edificio luna park e...  270000.0   8437.0   \n",
       "\n",
       "                           espec  \\\n",
       "0  93 m²3 quartos2 suites2 vagas   \n",
       "1    95 m²3 quartos1 suite1 vaga   \n",
       "2     32 m²1 quarto1 suite1 vaga   \n",
       "\n",
       "                                               desc3  \\\n",
       "0  ferola a mais acessada de brasília vende;resid...   \n",
       "1  ferola a mais acessada de brasília vende;resid...   \n",
       "2  ferola a mais acessada de brasília vende:resid...   \n",
       "\n",
       "                                        link_anuncio  \\\n",
       "0  /imovel/apartamento-3-quartos-venda-sul-aguas-...   \n",
       "1  /imovel/apartamento-3-quartos-venda-norte-agua...   \n",
       "2                                                NaN   \n",
       "\n",
       "                                            conteudo  ... banheiros suites  \\\n",
       "0  1/72/73/74/75/76/77/7ligue agoraenviar emailin...  ...         0      2   \n",
       "1  1/192/193/194/195/196/197/198/199/1910/1911/19...  ...         0      2   \n",
       "2                                                NaN  ...       NaN    NaN   \n",
       "\n",
       "  vagas espaco        data                            edificio  \\\n",
       "0     2   93.0  06/06/2023  residencial mirante do bosquetotal   \n",
       "1     2   95.0  06/06/2023        edificio villa grandinototal   \n",
       "2   NaN    NaN         NaN                                 NaN   \n",
       "\n",
       "                                            endereco   latitude  longitude  \\\n",
       "0  residencial mirante do bosquetotal, aguas clar...  -15.84067  -48.02206   \n",
       "1  edificio villa grandinototal, aguas claras - D...  -15.84067  -48.02206   \n",
       "2                                                NaN        NaN        NaN   \n",
       "\n",
       "  score  \n",
       "0  80.0  \n",
       "1  80.0  \n",
       "2   NaN  \n",
       "\n",
       "[3 rows x 21 columns]"
      ]
     },
     "execution_count": 4,
     "metadata": {},
     "output_type": "execute_result"
    }
   ],
   "source": [
    "df.head(3)"
   ]
  },
  {
   "cell_type": "code",
   "execution_count": 9,
   "metadata": {
    "executionInfo": {
     "elapsed": 2,
     "status": "ok",
     "timestamp": 1688415815865,
     "user": {
      "displayName": "Caio Cesar Ribeiro Brito",
      "userId": "09669924537412269636"
     },
     "user_tz": 180
    },
    "id": "TCKKFPRRqxi9"
   },
   "outputs": [],
   "source": [
    "df = df[df['score'].notna()]"
   ]
  },
  {
   "cell_type": "code",
   "execution_count": 5,
   "metadata": {
    "executionInfo": {
     "elapsed": 8,
     "status": "ok",
     "timestamp": 1688415741109,
     "user": {
      "displayName": "Caio Cesar Ribeiro Brito",
      "userId": "09669924537412269636"
     },
     "user_tz": 180
    },
    "id": "5fmEuBWMtA0w"
   },
   "outputs": [],
   "source": [
    "# Resetando o indice e excluindo colunas indesejadas\n",
    "df.reset_index(inplace=True)\n",
    "df.drop('index', axis=1, inplace=True)\n",
    "df.drop('level_0', axis=1, inplace=True)"
   ]
  },
  {
   "cell_type": "code",
   "execution_count": 11,
   "metadata": {},
   "outputs": [],
   "source": [
    "df.preco = df.preco.astype('float64')"
   ]
  },
  {
   "cell_type": "code",
   "execution_count": 10,
   "metadata": {
    "colab": {
     "base_uri": "https://localhost:8080/",
     "height": 542
    },
    "executionInfo": {
     "elapsed": 784,
     "status": "ok",
     "timestamp": 1688415820368,
     "user": {
      "displayName": "Caio Cesar Ribeiro Brito",
      "userId": "09669924537412269636"
     },
     "user_tz": 180
    },
    "id": "BZwH3LpZltU9",
    "outputId": "db7ab998-8242-485e-e46b-d9bc7f4a34a3",
    "scrolled": false
   },
   "outputs": [
    {
     "data": {
      "application/vnd.plotly.v1+json": {
       "config": {
        "plotlyServerURL": "https://plot.ly"
       },
       "data": [
        {
         "lat": [
          "-15.84067",
          "-15.84067",
          "-15.84067",
          "-15.835735462934",
          "-15.84060973365",
          "-15.83263347211",
          "-15.830976955297",
          "-15.832000002652",
          "-15.84060973365",
          "-15.84067",
          "-15.829993262634",
          "-15.838701645321",
          "-15.838053465316",
          "-15.83263347211",
          "-19.95215",
          "-15.838328619067",
          "-15.836631976279",
          "-15.836122270133",
          "-15.838345569024",
          "-15.836918381182",
          "-15.841345122238",
          "-15.838349985815",
          "-15.84067",
          "-15.839853435547",
          "-15.83455",
          "-15.83693499483",
          "-15.84067",
          "-15.84067",
          "-15.834165006333",
          "-15.84067",
          "-15.84067",
          "-15.84067",
          "-15.84067",
          "-15.974985617098",
          "-15.83263347211",
          "-15.835205011924",
          "-15.837020008283",
          "-15.837084988988",
          "-15.836495007778",
          "-15.838701645321",
          "-15.83871",
          "-15.836122270133",
          "-15.834902512606",
          "-15.84067",
          "-15.839090003091",
          "-15.84067",
          "-15.839853435547",
          "-15.836495007778",
          "-15.833969561015",
          "-15.84067",
          "-15.84067",
          "-15.84067",
          "-15.835735462934",
          "-15.841842667042",
          "-15.84067",
          "-15.834840000996",
          "-15.838053465316",
          "-15.836122270133",
          "-15.834165006333",
          "-15.835195016505",
          "-15.84067",
          "-15.834902512606",
          "-15.838685071444",
          "-15.84067",
          "-15.829993262634",
          "-15.83263347211",
          "-15.830381600035",
          "-15.84067",
          "-15.836495007778",
          "-15.838345569024",
          "-15.83263347211",
          "-15.844604958131",
          "-15.84060973365",
          "-15.829993262634",
          "-15.843075011318",
          "-15.841345122238",
          "-15.829135005283",
          "-15.841181517634",
          "-15.84067",
          "-15.879043484687",
          "-15.840054990649",
          "-15.84060973365",
          "-15.84067",
          "-15.838345569024",
          "-15.833969561015",
          "-15.837371178171",
          "-15.836631976279",
          "-15.836200006696",
          "-15.84067",
          "-15.841345122238",
          "-15.837135007995",
          "-15.844959835383",
          "-15.84060973365",
          "-15.838349985815",
          "-15.841842667042",
          "-15.83263347211",
          "-15.836485012358",
          "-15.841345122238",
          "-15.834840000996",
          "-15.84060973365",
          "-15.839317797727",
          "-15.835687747487",
          "-15.841345122238",
          "-15.820545586541",
          "-15.838349985815",
          "-15.833969561015",
          "-15.84067",
          "-15.834902512606",
          "-15.84067",
          "-15.84067",
          "-15.830019987575",
          "-15.828305008276",
          "-15.84060973365",
          "-15.844432049564",
          "-15.84067",
          "-15.84067",
          "-15.837020008283",
          "-15.820545586541",
          "-15.838701645321",
          "-15.838328619067",
          "-15.837084988988",
          "-15.838701645321",
          "-15.837135007995",
          "-15.837664995733",
          "-15.83263347211",
          "-15.832470870366",
          "-15.843415626518",
          "-15.837020008283",
          "-15.854895694028",
          "-15.84067",
          "-15.839090003091",
          "-15.830019987575",
          "-15.84067",
          "-15.84067",
          "-15.64461",
          "-15.858783210934",
          "-15.841181517634",
          "-15.844604958131",
          "-15.83693499483",
          "-15.84067",
          "-15.838701645321",
          "-15.832470870366",
          "-15.838701645321",
          "-15.837084988988",
          "-22.61436",
          "-15.84067",
          "-15.83263347211",
          "-15.84067",
          "-15.84067",
          "-15.854895694028",
          "-15.83514",
          "-15.84067",
          "-15.837135007995",
          "-15.827749571353",
          "-15.833969561015",
          "-15.836918381182",
          "-15.834165006333",
          "-15.841920228821",
          "-15.83673500262",
          "-15.841920228821",
          "-15.844959835383",
          "-15.832470870366",
          "-15.84067",
          "-15.834700002258",
          "-15.84067",
          "-15.829135005283",
          "-15.836765009834",
          "-15.837664995733",
          "-15.836534989456",
          "-15.84067",
          "-15.834665007812",
          "-15.84067",
          "-15.838701645321",
          "-15.841842667042",
          "-15.837135007995",
          "-15.84067",
          "-15.836631976279",
          "-15.839758276622",
          "-15.84067",
          "-15.84067",
          "-15.84067",
          "-15.836631976279",
          "-15.84067",
          "-15.834902512606",
          "-15.84067",
          "-15.84067",
          "-15.84060973365",
          "-15.84067",
          "-15.84067",
          "-15.844432049564",
          "-15.844959835383",
          "-15.99845",
          "-15.99845",
          "-15.839439989459",
          "-15.837020008283",
          "-15.837020008283",
          "-15.841842667042",
          "-15.820545586541",
          "-15.836918381182",
          "-15.845095068508",
          "-15.837020008283",
          "-15.84067",
          "-15.84067",
          "-15.844959835383",
          "-15.84067",
          "-15.830234983391",
          "-15.841842667042",
          "-15.84067",
          "-15.837135007995",
          "-15.837135007995",
          "-15.820545586541",
          "-15.839140708117",
          "-15.836122270133",
          "-15.838349985815",
          "-15.84060973365",
          "-15.84067",
          "-15.839115002118",
          "-15.84067",
          "-15.83673500262",
          "-15.83605",
          "-15.841727311452",
          "-15.84067",
          "-15.83939895395",
          "-15.838701645321",
          "-15.84067",
          "-15.844959835383",
          "-15.832470870366",
          "-15.84067",
          "-15.84067",
          "-15.84067",
          "-15.835195016505",
          "-15.83232",
          "-15.842330006809",
          "-15.838701645321",
          "-15.84067",
          "-15.84060973365",
          "-15.830976955297",
          "-15.84067",
          "-15.854516826001",
          "-15.820545586541",
          "-15.838701645321",
          "-15.837664995733",
          "-15.84060973365",
          "-15.841842667042",
          "-15.838701645321",
          "-15.84067",
          "-15.835687747487",
          "-15.838701645321",
          "-15.83455",
          "-15.843415626518",
          "-15.839758276622",
          "-15.84067",
          "-15.839793783435",
          "-15.843075011318",
          "-15.836918381182",
          "-15.820545586541",
          "-15.84067",
          "-15.84067",
          "-15.841920228821",
          "-15.844959835383",
          "-15.838701645321",
          "-15.84067",
          "-15.84067",
          "-15.833969561015",
          "-15.84067",
          "-15.84060973365",
          "-15.84067",
          "-15.836122270133",
          "-15.84067",
          "-15.837371178171",
          "-15.84060973365",
          "-15.869146300872",
          "-15.837135007995",
          "-15.843219480939",
          "-15.835195016505",
          "-15.837135007995",
          "-15.84067",
          "-15.844604958131",
          "-15.841065009982",
          "-15.836631976279",
          "-15.827749571353",
          "-15.84067",
          "-15.844432049564",
          "-15.836200006696",
          "-15.838701645321",
          "-15.84067",
          "-15.843415626518",
          "-15.84067",
          "-15.84067",
          "-15.84067",
          "-15.838701645321",
          "-15.841345122238",
          "-15.84067",
          "-15.833969561015",
          "-15.835195016505",
          "-15.834165006333",
          "-15.84067",
          "-15.844432049564",
          "-15.836495007778",
          "-15.820545586541",
          "-15.84060973365",
          "-15.84067",
          "-15.84067",
          "-15.84067",
          "-15.84060973365",
          "-15.834665007812",
          "-15.836495007778",
          "-15.831820001282",
          "-15.84059",
          "-15.83693499483",
          "-15.84067",
          "-15.838380765547",
          "-15.838349985815",
          "-15.84067",
          "-15.827749571353",
          "-15.84067",
          "-15.836918381182",
          "-15.838349985815",
          "-15.84067",
          "-15.83263347211",
          "-15.84067",
          "-15.84067",
          "-15.84067",
          "-15.831239551113",
          "-15.833969561015",
          "-15.836631976279",
          "-15.834665007812",
          "-15.836768410907",
          "-15.836631976279",
          "-15.836765009834",
          "-15.838701645321",
          "-15.834165006333",
          "-15.838349985815",
          "-15.839317797727",
          "-15.832470870366",
          "-15.838185009006",
          "-15.832899988551",
          "-15.836631976279",
          "-15.84067",
          "-15.841345122238",
          "-15.84067",
          "-15.833969561015",
          "-15.836768410907",
          "-15.84067",
          "-15.834902512606",
          "-15.838701645321",
          "-15.84067",
          "-15.84067",
          "-15.83455",
          "-15.841588540578",
          "-15.836200006696",
          "-15.843075011318",
          "-15.84067",
          "-15.830381600035",
          "-19.95215",
          "-15.834165006333",
          "-15.832899988551",
          "-15.843415626518",
          "-15.838345569024",
          "-15.836534989456",
          "-15.841345122238",
          "-15.834902512606",
          "-15.839758276622",
          "-15.83263347211",
          "-15.854895694028",
          "-15.837020008283",
          "-15.831060379564",
          "-15.83939895395",
          "-15.836485012358",
          "-15.838685071444",
          "-15.84067",
          "-15.836765009834",
          "-15.831075851288",
          "-15.836631976279",
          "-15.841842667042",
          "-15.84067",
          "-15.84067",
          "-15.836631976279",
          "-15.830019987575",
          "-15.83871",
          "-15.877041150707",
          "-15.836200006696",
          "-15.836768410907",
          "-15.820545586541",
          "-15.84067",
          "-15.836918381182",
          "-15.836485012358",
          "-15.838685071444",
          "-15.836631976279",
          "-15.834665007812",
          "-15.84067",
          "-15.836631976279",
          "-15.839758276622",
          "-15.841920228821",
          "-15.841842667042",
          "-15.838380765547",
          "-15.834165006333",
          "-15.838701645321",
          "-15.837135007995",
          "-15.843415626518",
          "-15.82753520327",
          "-15.835205011924",
          "-15.84067",
          "-15.83915",
          "-15.838053465316",
          "-15.836631976279",
          "-15.841920228821",
          "-15.836765009834",
          "-15.84067",
          "-15.84067",
          "-15.84067",
          "-15.836768410907",
          "-15.871551411401",
          "-15.832000002652",
          "-15.84067",
          "-15.840054990649",
          "-15.844432049564",
          "-15.836495007778",
          "-15.83455",
          "-15.838345569024",
          "-15.84067",
          "-15.84067",
          "-15.84067",
          "-15.838701645321",
          "-15.834165006333",
          "-15.833969561015",
          "-15.84122",
          "-15.84067",
          "-15.84067",
          "-15.838838020657",
          "-15.84067",
          "-15.841920228821",
          "-15.84067",
          "-15.84060973365",
          "-15.84067",
          "-15.838185009006",
          "-15.820545586541",
          "-15.84067",
          "-15.83693499483",
          "-15.843415626518",
          "-15.843219480939",
          "-15.833969561015",
          "-15.84067",
          "-15.841065009982",
          "-15.83455",
          "-15.841345122238",
          "-15.84067",
          "-15.84067",
          "-15.84067",
          "-15.84067",
          "-15.834665007812",
          "-15.820545586541",
          "-15.83673500262",
          "-15.84067",
          "-15.831060379564",
          "-15.84067",
          "-15.84067",
          "-15.820545586541",
          "-15.841842667042",
          "-15.831060379564",
          "-15.834902512606",
          "-15.835360014269",
          "-15.836918381182",
          "-15.84067",
          "-15.844527463825",
          "-15.84067",
          "-15.84067",
          "-15.82884999962",
          "-15.84067",
          "-15.84067",
          "-15.838380765547",
          "-15.84067",
          "-15.84067",
          "-15.84067",
          "-15.836768410907",
          "-15.845095068508",
          "-15.84060973365",
          "-15.841345122238",
          "-15.839140708117",
          "-15.84129498845",
          "-15.837135007995",
          "-15.84067",
          "-15.834902512606",
          "-15.84067",
          "-15.838229020206",
          "-15.84067",
          "-15.834700002258",
          "-15.84067",
          "-15.831075851288",
          "-15.84067",
          "-15.837020008283",
          "-15.84067",
          "-15.837020008283",
          "-15.832470870366",
          "-15.84067",
          "-15.844604958131",
          "-15.838701645321",
          "-15.84067",
          "-15.838701645321",
          "-15.84067",
          "-15.837135007995",
          "-15.84067",
          "-15.84067",
          "-15.834700002258",
          "-15.84067",
          "-15.835741108224",
          "-15.837135007995",
          "-15.835195016505",
          "-15.84067",
          "-15.830520010009",
          "-15.851060010423",
          "-15.84067",
          "-15.838701645321",
          "-15.844432049564",
          "-15.836665013729",
          "-15.829135005283",
          "-15.845095068508",
          "-15.83673500262",
          "-15.84067",
          "-15.839317797727",
          "-15.836631976279",
          "-15.83263347211",
          "-15.84067",
          "-15.84067",
          "-15.84067",
          "-15.84067",
          "-15.83514",
          "-15.841181517634",
          "-15.841065009982",
          "-15.86202",
          "-15.839758276622",
          "-15.830976955297",
          "-15.84067",
          "-15.830976955297",
          "-15.99845",
          "-15.836665013729",
          "-15.84067",
          "-15.838380765547",
          "-15.854895694028",
          "-15.832899988551",
          "-15.84067",
          "-15.831075851288",
          "-15.84067",
          "-15.838328619067",
          "-15.837664995733",
          "-15.834902512606",
          "-15.834902512606",
          "-15.845095068508",
          "-15.84067",
          "-15.836122270133",
          "-15.834165006333",
          "-15.836495007778",
          "-15.836631976279",
          "-15.84067",
          "-15.836918381182",
          "-15.843415626518",
          "-15.84067",
          "-15.83455",
          "-15.83939895395",
          "-15.84067",
          "-15.836495007778",
          "-15.860044062803",
          "-15.84067",
          "-15.839090003091",
          "-15.84067",
          "-15.877041150707",
          "-15.836200006696",
          "-15.84067",
          "-15.84067",
          "-15.84067",
          "-15.820545586541",
          "-15.834840000996",
          "-15.832470870366",
          "-15.836122270133",
          "-15.836122270133",
          "-15.838349985815",
          "-15.836495007778",
          "-15.84067",
          "-15.84067",
          "-15.84067",
          "-15.84067",
          "-15.84067",
          "-15.84067",
          "-15.99845",
          "-15.837135007995",
          "-15.84067",
          "-15.831060379564",
          "-15.830019987575",
          "-15.84067",
          "-15.83915",
          "-15.83232",
          "-15.836768410907",
          "-15.84096000569",
          "-15.834902512606",
          "-15.84067",
          "-15.836765009834",
          "-15.84067",
          "-15.83869498495",
          "-15.84067",
          "-15.844604958131",
          "-15.834165006333",
          "-15.84067",
          "-15.838328619067",
          "-15.841181517634",
          "-15.84067",
          "-15.84067",
          "-15.836918381182",
          "-15.844604958131",
          "-15.84060973365",
          "-15.832899988551",
          "-15.837371178171",
          "-15.84067",
          "-15.831075851288",
          "-15.83455",
          "-15.834902512606",
          "-15.839317797727",
          "-15.829993262634",
          "-15.84067",
          "-15.839090003091",
          "-15.84067",
          "-15.84067",
          "-15.843415626518",
          "-15.836765009834",
          "-15.834902512606",
          "-15.84067",
          "-15.84067",
          "-15.830381600035",
          "-15.845095068508",
          "-15.838044989313",
          "-15.84067",
          "-15.84067",
          "-15.854895694028",
          "-15.843219480939",
          "-15.835195016505",
          "-15.839499726024",
          "-15.838838020657",
          "-15.830381600035",
          "-15.843075011318",
          "-15.862317486449",
          "-15.831075851288",
          "-15.830381600035",
          "-15.84060973365",
          "-15.834840000996",
          "-15.838328619067",
          "-15.838044989313",
          "-15.834715005865",
          "-15.84067",
          "-15.831820001282",
          "-15.84060973365",
          "-15.836122270133",
          "-19.95215",
          "-15.838229020206",
          "-15.838701645321",
          "-15.836200006696",
          "-15.84067",
          "-15.84067",
          "-15.837020008283",
          "-15.84067",
          "-15.832470870366",
          "-15.83673500262",
          "-15.84067",
          "-15.84067",
          "-15.841345122238",
          "-15.834715005865",
          "-15.84067",
          "-19.95215",
          "-21.16981",
          "-15.841588540578",
          "-15.841181517634",
          "-15.832470870366",
          "-15.84067",
          "-15.841842667042",
          "-15.84067",
          "-15.836665013729",
          "-15.84067",
          "-15.844432049564",
          "-15.841345122238",
          "-15.839115002118",
          "-15.844432049564",
          "-15.838229020206",
          "-15.84060973365",
          "-15.84067",
          "-15.84067",
          "-3.407584993824",
          "-15.835735462934",
          "-15.877041150707",
          "-15.83514",
          "-15.834715005865",
          "-15.839439989459",
          "-15.84067",
          "-15.838701645321",
          "-15.84060973365",
          "-15.84067",
          "-15.84060973365",
          "-15.838701645321",
          "-15.835735462934",
          "-15.837735005579",
          "-15.828729556526",
          "-15.84067",
          "-15.83952",
          "-15.84067",
          "-15.832470870366",
          "-15.834902512606",
          "-15.833969561015",
          "-15.854895694028",
          "-15.835195016505",
          "-15.84067",
          "-15.83915",
          "-15.844604958131",
          "-15.843075011318",
          "-15.84067",
          "-15.854285010534",
          "-15.837135007995",
          "-15.839115002118",
          "-15.84067",
          "-15.830234983391",
          "-15.84067",
          "-15.83455",
          "-15.84060973365",
          "-15.838349985815",
          "-15.84067",
          "-15.84067",
          "-15.832899988551",
          "-15.829993262634",
          "-15.840054990649",
          "-15.837664995733",
          "-15.84067",
          "-15.84067",
          "-15.838380765547",
          "-15.84067",
          "-15.84067",
          "-15.837135007995",
          "-15.841588540578",
          "-15.838685071444",
          "-15.832899988551",
          "-15.834165006333",
          "-15.841065009982",
          "-15.84067",
          "-15.84067",
          "-15.836665013729",
          "-15.839317797727",
          "-15.836765009834",
          "-15.837135007995",
          "-15.64461",
          "-15.839758276622",
          "-15.84067",
          "-15.832470870366",
          "-15.837020008283",
          "-15.836200006696",
          "-15.832470870366",
          "-15.841920228821",
          "-15.64461",
          "-15.84067",
          "-15.84067",
          "-15.84060973365",
          "-15.84067",
          "-15.838345569024",
          "-15.843075011318",
          "-15.839090003091",
          "-15.854895694028",
          "-15.84067",
          "-15.84067",
          "-15.834165006333",
          "-15.836631976279",
          "-15.820545586541",
          "-15.830976955297",
          "-15.84067",
          "-15.833969561015",
          "-15.84067",
          "-15.841181517634",
          "-15.832470870366",
          "-15.843415626518",
          "-15.839853435547",
          "-15.839439989459",
          "-15.85549",
          "-15.843075011318",
          "-15.835735462934",
          "-15.839140708117",
          "-15.839758276622",
          "-15.836918381182",
          "-15.84067",
          "-15.844959835383",
          "-15.836768410907",
          "-15.837664995733",
          "-15.841842667042",
          "-15.84067",
          "-15.836122270133",
          "-15.84067",
          "-15.837664995733",
          "-15.84067",
          "-15.839090003091",
          "-15.836765009834",
          "-15.834165006333",
          "-15.830976955297",
          "-15.84067",
          "-15.83673500262",
          "-15.84067",
          "-15.84067",
          "-15.84067",
          "-15.84067",
          "-15.84067",
          "-15.836631976279",
          "-15.854516826001",
          "-15.84067",
          "-15.838349985815",
          "-15.832000002652",
          "-15.838685071444",
          "-15.841345122238",
          "-15.841345122238",
          "-15.84067",
          "-15.834902512606",
          "-15.839853435547",
          "-15.84067",
          "-15.829993262634",
          "-15.836765009834",
          "-15.84067",
          "-15.834700002258",
          "-3.40758",
          "-15.84067",
          "-15.841065009982",
          "-15.83455",
          "-15.838349985815",
          "-15.84067",
          "-15.84067",
          "-15.869146300872",
          "-15.835735462934",
          "-15.83915",
          "-15.85799125881",
          "-15.820545586541",
          "-15.84067",
          "-15.839317797727",
          "-15.841065009982",
          "-15.833969561015",
          "-15.83939895395",
          "-15.854895694028",
          "-15.871551411401",
          "-15.854895694028",
          "-15.84067",
          "-15.838349985815",
          "-15.84067",
          "-15.84067",
          "-15.839317797727",
          "-15.838053465316",
          "-15.835735462934",
          "-15.836765009834",
          "-15.838701645321",
          "-15.844959835383",
          "-15.839115002118",
          "-15.838345569024",
          "-15.854516826001",
          "-15.84067",
          "-15.84067",
          "-15.83693499483",
          "-15.83915",
          "-15.834902512606",
          "-15.830976955297",
          "-15.837135007995",
          "-15.836768410907",
          "-15.836665013729",
          "-15.841588540578",
          "-15.83693499483",
          "-15.841842667042",
          "-15.84067",
          "-15.831239551113",
          "-15.83869498495",
          "-15.838701645321",
          "-15.831060379564",
          "-15.84060973365",
          "-15.836122270133",
          "-15.845095068508",
          "-15.841842667042",
          "-15.84067",
          "-15.832470870366",
          "-15.84067",
          "-15.836665013729",
          "-15.84067",
          "-15.84067",
          "-15.838701645321",
          "-15.84067",
          "-15.830976955297",
          "-15.838349985815",
          "-15.837735005579",
          "-15.836768410907",
          "-15.829993262634",
          "-15.820545586541",
          "-15.838349985815",
          "-15.836918381182",
          "-15.83869498495",
          "-15.84067",
          "-15.837371178171",
          "-15.834840000996",
          "-15.84067",
          "-15.84067",
          "-15.839758276622",
          "-15.84067",
          "-15.84067",
          "-15.84067",
          "-15.837020008283",
          "-15.838328619067",
          "-15.84067",
          "-15.84067",
          "-15.836765009834",
          "-15.84067",
          "-15.839090003091",
          "-15.84067",
          "-15.833969561015",
          "-15.838701645321",
          "-15.836918381182",
          "-15.84067",
          "-15.84067",
          "-15.83461",
          "-15.84067",
          "-15.820545586541",
          "-15.838685071444",
          "-15.84067",
          "-15.820545586541",
          "-15.834902512606",
          "-15.84067",
          "-15.84067",
          "-15.844604958131",
          "-15.836185736652",
          "-15.84067",
          "-15.839115002118",
          "-15.838701645321",
          "-15.837135007995",
          "-15.83939895395",
          "-15.838229020206",
          "-15.830976955297",
          "-15.84067",
          "-15.836495007778",
          "-15.831075851288",
          "-15.836631976279",
          "-15.827749571353",
          "-15.845095068508",
          "-15.84067",
          "-15.841920228821",
          "-15.834902512606",
          "-15.839090003091",
          "-15.84067",
          "-15.838701645321",
          "-15.83673500262",
          "-15.844432049564",
          "-15.838792234434",
          "-15.843075011318",
          "-15.84067",
          "-15.841920228821",
          "-15.841920228821",
          "-15.845095068508",
          "-15.834165006333",
          "-15.830976955297",
          "-15.838229020206",
          "-15.832854587364",
          "-15.820545586541",
          "-15.84067",
          "-15.841842667042",
          "-15.841920228821",
          "-15.845095068508",
          "-15.832470870366",
          "-15.830976955297",
          "-15.853245158638",
          "-15.83915",
          "-15.836122270133",
          "-15.841345122238",
          "-15.832470870366",
          "-15.839793783435",
          "-15.841842667042",
          "-15.839758276622",
          "-15.829993262634",
          "-15.839090003091",
          "-15.84067",
          "-15.854516826001",
          "-15.84067",
          "-15.84067",
          "-15.83780499447",
          "-15.834665007812",
          "-15.84067",
          "-15.838701645321",
          "-15.84067",
          "-15.854895694028",
          "-15.833969561015",
          "-15.829135005283",
          "-15.832000002652",
          "-15.831239551113",
          "-15.838701645321",
          "-15.840054990649",
          "-15.837135007995",
          "-15.84067",
          "-15.836631976279",
          "-15.84067",
          "-15.839499726024",
          "-15.83263347211",
          "-15.833969561015",
          "-15.834902512606",
          "-15.838701645321",
          "-15.84067",
          "-15.84067",
          "-15.834700002258",
          "-15.869146300872",
          "-15.839317797727",
          "-15.84060973365",
          "-15.84067",
          "-15.837135007995",
          "-15.84067",
          "-15.83605",
          "-15.835195016505",
          "-15.64461",
          "-15.832470870366",
          "-15.84060973365",
          "-15.84067",
          "-15.85273",
          "-15.835687747487",
          "-15.836200006696",
          "-15.839115002118",
          "-15.84067",
          "-15.834165006333",
          "-15.840054990649",
          "-15.83514",
          "-15.820545586541",
          "-15.838229020206",
          "-15.839115002118",
          "-15.836765009834",
          "-15.84067",
          "-15.83869498495",
          "-15.836631976279",
          "-15.829993262634",
          "-15.843219480939",
          "-15.84060973365",
          "-15.84067",
          "-15.836631976279",
          "-15.839140708117",
          "-15.839758276622",
          "-15.84067",
          "-15.84067",
          "-15.854895694028",
          "-15.836122270133",
          "-15.84067",
          "-15.838349985815",
          "-15.860044062803",
          "-15.84067",
          "-15.836122270133",
          "-15.836765009834",
          "-15.837135007995",
          "-15.841842667042",
          "-15.84067",
          "-15.839758276622",
          "-15.84067",
          "-15.84067",
          "-15.838328619067",
          "-15.839758276622",
          "-15.84067",
          "-15.830019987575",
          "-15.841181517634",
          "-15.833969561015",
          "-15.84067",
          "-15.84067",
          "-15.838685071444",
          "-15.820545586541",
          "-15.83939895395",
          "-15.838838020657",
          "-15.834715005865",
          "-15.84067",
          "-15.820545586541",
          "-22.17185",
          "-15.84067",
          "-15.829258965485",
          "-15.84067",
          "-15.836765009834",
          "-15.841920228821",
          "-15.836918381182",
          "-15.843219480939",
          "-15.84067",
          "-15.84067",
          "-15.844959835383",
          "-15.832899988551",
          "-15.836631976279",
          "-15.8634",
          "-15.830381600035",
          "-15.841920228821",
          "-15.839793783435",
          "-15.84067",
          "-15.84067",
          "-15.84067",
          "-15.869146300872",
          "-15.836200006696",
          "-15.870262327677",
          "-15.834165006333",
          "-15.829993262634",
          "-15.869146300872",
          "-15.837020008283",
          "-15.838345569024",
          "-15.832899988551",
          "-15.83915",
          "-15.837371178171",
          "-15.841920228821",
          "-15.84067",
          "-15.841345122238",
          "-15.839140708117",
          "-15.856242347312",
          "-15.84067",
          "-15.837664995733",
          "-15.84129498845",
          "-15.839758276622",
          "-15.834700002258",
          "-15.837084988988",
          "-15.84067",
          "-15.832450448402",
          "-15.836534989456",
          "-15.837664995733",
          "-15.84067",
          "-15.874180002545",
          "-15.84096000569",
          "-15.839853435547",
          "-15.838701645321",
          "-15.84067",
          "-15.84067",
          "-15.84067",
          "-15.838229020206",
          "-15.84067",
          "-15.84060973365",
          "-15.84067",
          "-15.84067",
          "-15.834902512606",
          "-15.841920228821",
          "-15.661225437967",
          "-15.838380765547",
          "-15.838701645321",
          "-15.84067",
          "-15.841842667042",
          "-15.832899988551",
          "-15.838838020657",
          "-15.84060973365",
          "-15.820545586541",
          "-15.838701645321",
          "-15.839758276622",
          "-15.844604958131",
          "-15.843415626518",
          "-15.838345569024",
          "-15.84067",
          "-15.840054990649",
          "-15.840054990649",
          "-15.831075851288",
          "-15.84067",
          "-15.84067",
          "-15.841842667042",
          "-15.837135007995",
          "-15.834665007812",
          "-15.84060973365",
          "-15.836918381182",
          "-15.84067",
          "-15.83263347211",
          "-15.830381600035",
          "-15.83263347211",
          "-15.83780499447",
          "-15.84067",
          "-15.840054990649",
          "-15.831820001282",
          "-15.64461",
          "-15.84067",
          "-15.834840000996",
          "-15.858691107681",
          "-15.837020008283",
          "-15.870262327677",
          "-15.836122270133",
          "-15.831060379564",
          "-15.839758276622",
          "-15.84067",
          "-15.84067",
          "-15.856242347312",
          "-15.84239",
          "-15.84067",
          "-15.84067",
          "-15.838685071444",
          "-15.830234983391",
          "-15.84067",
          "-15.84060973365",
          "-15.836122270133",
          "-15.841920228821",
          "-15.84067",
          "-15.838229020206",
          "-15.84067",
          "-15.835360014269",
          "-15.84067",
          "-15.820545586541",
          "-15.84067",
          "-15.83514",
          "-15.829135005283",
          "-15.85799125881",
          "-15.837664995733",
          "-15.84067",
          "-15.838701645321",
          "-15.836631976279",
          "-15.84067",
          "-15.84060973365",
          "-15.833969561015",
          "-15.830976955297",
          "-15.84067",
          "-15.84060973365",
          "-15.838701645321",
          "-15.837020008283",
          "-15.838328619067",
          "-15.84067",
          "-15.836918381182",
          "-15.831075851288",
          "-15.837020008283",
          "-15.834902512606",
          "-15.838701645321",
          "-15.866004238102",
          "-15.84067",
          "-15.84067",
          "-15.84067",
          "-15.831075851288",
          "-15.836631976279",
          "-15.840054990649",
          "-15.83205",
          "-15.839758276622",
          "-15.837020008283",
          "-15.84067",
          "-15.84067",
          "-15.84067",
          "-15.836122270133",
          "-15.841920228821",
          "-15.836918381182",
          "-15.838380765547",
          "-15.84067",
          "-15.84067",
          "-15.837664995733",
          "-15.84067",
          "-15.83939895395",
          "-15.84067",
          "-15.820545586541",
          "-15.839758276622",
          "-15.841842667042",
          "-15.831239551113",
          "-15.83263347211",
          "-15.84067",
          "-15.83455",
          "-15.844959835383",
          "-15.835195016505",
          "-15.838229020206",
          "-15.84067",
          "-15.84059",
          "-15.84060973365",
          "-15.84067",
          "-15.84067",
          "-15.820545586541",
          "-15.854224996108",
          "-15.83673500262",
          "-15.831820001282",
          "-15.843075011318",
          "-15.820545586541",
          "-15.84067",
          "-21.16981",
          "-15.836665013729",
          "-15.84067",
          "-15.84060973365",
          "-15.836918381182",
          "-15.84067",
          "-15.830976955297",
          "-15.860044062803",
          "-15.843075011318",
          "-15.84067",
          "-15.845095068508",
          "-15.84067",
          "-15.83939895395",
          "-15.831075851288",
          "-15.837371178171",
          "-15.840054990649",
          "-15.841065009982",
          "-15.83263347211",
          "-15.828529999512",
          "-15.84067",
          "-15.83455",
          "-15.84067",
          "-15.84067",
          "-15.838053465316",
          "-15.832470870366",
          "-15.836122270133",
          "-15.839499726024",
          "-15.838345569024",
          "-15.837664995733",
          "-15.832000002652",
          "-15.84067",
          "-15.832470870366",
          "-15.832470870366",
          "-15.839499726024",
          "-15.830310363465",
          "-3.407584993824",
          "-15.84067",
          "-15.84067",
          "-15.834165006333",
          "-15.837135007995",
          "-15.84067",
          "-15.84067",
          "-15.854895694028",
          "-15.838701645321",
          "-15.84067",
          "-15.843415626518",
          "-15.84060973365",
          "-15.84067",
          "-15.84067",
          "-15.834700002258",
          "-15.831075851288",
          "-15.964734983148",
          "-15.836765009834",
          "-15.83263347211",
          "-15.84060973365",
          "-15.84067",
          "-15.839758276622",
          "-15.841920228821",
          "-15.841842667042",
          "-15.836765009834",
          "-15.843785000427",
          "-15.84067",
          "-15.832000002652",
          "-15.839090003091",
          "-15.83915",
          "-15.835735462934",
          "-15.84067",
          "-15.838380765547",
          "-15.84067",
          "-15.838685071444",
          "-15.84067",
          "-15.84067",
          "-15.836918381182",
          "-15.83263347211",
          "-15.838185009006",
          "-15.841345122238",
          "-15.837664995733",
          "-15.831239551113",
          "-15.838701645321",
          "-15.836665013729",
          "-15.841842667042",
          "-15.832470870366",
          "-15.84067",
          "-15.833969561015",
          "-15.839793783435",
          "-15.839853435547",
          "-15.833969561015",
          "-15.841842667042",
          "-15.838701645321",
          "-15.84067",
          "-15.831239551113",
          "-15.832000002652",
          "-15.84067",
          "-15.834902512606",
          "-15.836765009834",
          "-15.84067",
          "-15.830976955297",
          "-15.84067",
          "-15.84067",
          "-15.64461",
          "-15.836631976279",
          "-15.854895694028",
          "-15.84067",
          "-15.838701645321",
          "-15.836631976279",
          "-15.83673500262",
          "-15.84067",
          "-15.820545586541",
          "-15.830976955297",
          "-15.84067",
          "-15.838701645321",
          "-15.832450448402",
          "-15.83455",
          "-15.838685071444",
          "-15.830520010009",
          "-15.84067",
          "-15.84067",
          "-15.83232",
          "-15.838185009006",
          "-15.84060973365",
          "-15.820545586541",
          "-15.8634",
          "-15.836918381182",
          "-15.839758276622",
          "-15.832470870366",
          "-15.84067",
          "-15.84059",
          "-15.832854587364",
          "-15.84067",
          "-23.23621",
          "-15.836918381182",
          "-15.837135007995",
          "-15.84067",
          "-15.840054990649",
          "-15.84067",
          "-15.83693499483",
          "-15.833969561015",
          "-15.84067",
          "-15.84067",
          "-15.83263347211",
          "-15.836631976279",
          "-15.831075851288",
          "-15.836918381182",
          "-15.820545586541",
          "-15.83455",
          "-15.84067",
          "-15.84067",
          "-15.84067",
          "-15.84067",
          "-15.84067",
          "-15.838701645321",
          "-15.84067",
          "-15.836200006696",
          "-15.839115002118",
          "-15.837135007995",
          "-15.843415626518",
          "-15.83263347211",
          "-15.834715005865",
          "-15.84067",
          "-15.84067",
          "-15.84067",
          "-15.836631976279",
          "-15.84067",
          "-15.834165006333",
          "-15.83673500262",
          "-15.84067",
          "-15.833969561015",
          "-15.83915",
          "-15.838701645321",
          "-15.839090003091",
          "-15.830234983391",
          "-15.84067",
          "-15.845095068508",
          "-15.832899988551",
          "-15.84067",
          "-15.832854587364",
          "-15.833969561015",
          "-15.834165006333",
          "-15.834902512606",
          "-15.84067",
          "-15.869146300872",
          "-15.869146300872",
          "-15.829993262634",
          "-15.84067",
          "-15.84067",
          "-15.84067",
          "-15.845095068508",
          "-15.838185009006",
          "-15.835735462934",
          "-15.838349985815",
          "-15.84067",
          "-15.84067",
          "-15.84067",
          "-15.84067",
          "-15.836122270133",
          "-15.831060379564",
          "-15.84067",
          "-15.836534989456",
          "-15.83673500262",
          "-15.838185009006",
          "-15.84067",
          "-15.834700002258",
          "-15.833969561015",
          "-15.83673500262",
          "-15.841181517634",
          "-15.829993262634",
          "-15.841181517634",
          "-15.834165006333",
          "-15.84067",
          "-15.832470870366",
          "-15.84067",
          "-15.841842667042",
          "-15.84060973365",
          "-15.84067",
          "-15.845095068508",
          "-15.835687747487",
          "-15.84067",
          "-15.831075851288",
          "-15.84067",
          "-15.83693499483",
          "-15.83455",
          "-15.85549",
          "-15.84122",
          "-15.836631976279",
          "-15.838701645321",
          "-15.84067",
          "-15.841065009982",
          "-15.84067",
          "-15.841345122238",
          "-15.839793783435",
          "-15.839090003091",
          "-15.84067",
          "-15.84067",
          "-15.838345569024",
          "-15.83514",
          "-15.836631976279",
          "-15.839090003091",
          "-15.84067",
          "-15.877041150707",
          "-15.852067752397",
          "-15.84067",
          "-15.838701645321",
          "-15.845095068508",
          "-15.844432049564",
          "-15.836918381182",
          "-15.84067",
          "-15.836768410907",
          "-15.84067",
          "-15.84067",
          "-15.830019987575",
          "-15.832854587364",
          "-15.84067",
          "-15.830170002687",
          "-15.820545586541",
          "-15.843415626518",
          "-15.831239551113",
          "-15.84067",
          "-15.836631976279",
          "-15.84067",
          "-15.84067",
          "-15.84067",
          "-15.832470870366",
          "-15.84067",
          "-15.830170002687",
          "-15.829993262634",
          "-15.834665007812",
          "-15.84067",
          "-15.834715005865",
          "-15.84067",
          "-15.834902512606",
          "-15.84067",
          "-15.841842667042",
          "-15.837664995733",
          "-15.84067",
          "-15.84060973365",
          "-15.84067",
          "-15.84067",
          "-15.84067",
          "-15.84067",
          "-15.838685071444",
          "-15.85273",
          "-15.84067",
          "-15.83263347211",
          "-15.830976955297",
          "-15.84067",
          "-15.836765009834",
          "-15.837371178171",
          "-15.83455",
          "-15.84067",
          "-15.844527463825",
          "-15.84067",
          "-15.834665007812",
          "-15.834902512606",
          "-15.85273",
          "-15.833969561015",
          "-15.837020008283",
          "-15.84060973365",
          "-15.838701645321",
          "-15.836485012358",
          "-15.84067",
          "-15.84067",
          "-15.84067",
          "-15.839853435547",
          "-15.839090003091",
          "-15.838349985815",
          "-15.841345122238",
          "-15.854895694028",
          "-15.84067",
          "-15.84067",
          "-15.836765009834",
          "-15.84067",
          "-15.827749571353",
          "-15.839758276622",
          "-15.83939895395",
          "-15.869146300872",
          "-15.839758276622",
          "-15.830381600035",
          "-15.84096000569",
          "-15.837135007995",
          "-15.84067",
          "-15.838685071444",
          "-15.84067",
          "-15.820545586541",
          "-15.84067",
          "-15.832854587364",
          "-15.84067",
          "-15.83939895395",
          "-15.836122270133",
          "-15.83263347211",
          "-15.835195016505",
          "-15.836122270133",
          "-15.841065009982",
          "-15.836122270133",
          "-15.820545586541",
          "-15.836631976279",
          "-15.834902512606",
          "-15.84067",
          "-15.844432049564",
          "-15.64461",
          "-15.84067",
          "-15.836495007778",
          "-15.836631976279",
          "-15.836122270133",
          "-3.407584993824",
          "-15.84067",
          "-15.840054990649",
          "-15.860044062803",
          "-15.837020008283",
          "-15.836918381182",
          "-21.16981",
          "-15.838701645321",
          "-15.834715005865",
          "-15.841345122238",
          "-15.827749571353",
          "-15.836765009834",
          "-15.84067",
          "-15.843415626518",
          "-15.84067",
          "-15.839499726024",
          "-15.83869498495",
          "-15.834840000996",
          "-15.838229020206",
          "-15.839793783435",
          "-15.83263347211",
          "-15.84067",
          "-15.83693499483",
          "-15.839439989459",
          "-15.838345569024",
          "-15.841181517634",
          "-15.839439989459",
          "-15.84074",
          "-15.834715005865",
          "-15.84060973365",
          "-15.830976955297",
          "-15.836665013729",
          "-15.838380765547",
          "-15.828710000882",
          "-15.843219480939",
          "-15.84067",
          "-15.836631976279",
          "-15.83939895395",
          "-15.838685071444",
          "-15.838380765547",
          "-15.84067",
          "-15.837735005579",
          "-15.837371178171",
          "-15.839758276622",
          "-15.838792234434",
          "-15.844604958131",
          "-15.843415626518",
          "-15.83673500262",
          "-15.832470870366",
          "-15.838701645321",
          "-15.84067",
          "-15.84067",
          "-15.84060973365",
          "-15.835735462934",
          "-15.853245158638",
          "-15.830976955297",
          "-15.836122270133",
          "-15.83952",
          "-15.830234983391",
          "-15.841920228821",
          "-15.84067",
          "-15.845095068508",
          "-15.84060973365",
          "-15.84067",
          "-15.84067",
          "-15.836918381182",
          "-15.84067",
          "-15.839090003091",
          "-15.831075851288",
          "-15.84067",
          "-15.84239",
          "-15.84067",
          "-21.16981",
          "-15.839090003091",
          "-15.844432049564",
          "-15.837371178171",
          "-15.836631976279",
          "-15.869146300872",
          "-15.836631976279",
          "-15.869146300872",
          "-15.845095068508",
          "-15.854895694028",
          "-15.84067",
          "-15.84067",
          "-15.84067",
          "-15.829993262634",
          "-15.839115002118",
          "-15.83455",
          "-15.84067",
          "-15.84067",
          "-15.838701645321",
          "-15.845095068508",
          "-15.838229020206",
          "-15.84067",
          "-15.838044989313",
          "-15.860044062803",
          "-15.84067",
          "-15.845095068508",
          "-15.837084988988",
          "-15.84067",
          "-15.84067",
          "-15.834902512606",
          "-15.84067",
          "-15.832470870366",
          "-15.838701645321",
          "-15.839853435547",
          "-15.84067",
          "-15.832470870366",
          "-15.83455",
          "-15.84067",
          "-15.84067",
          "-15.84067",
          "-15.836765009834",
          "-15.845095068508",
          "-15.838701645321",
          "-15.834902512606",
          "-3.40758",
          "-15.836918381182",
          "-15.832470870366",
          "-15.84067",
          "-15.84067",
          "-15.841920228821",
          "-15.836631976279",
          "-15.840054990649",
          "-15.84067",
          "-15.84067",
          "-15.84067",
          "-15.830976955297",
          "-15.831239551113",
          "-15.84067",
          "-15.844604958131",
          "-15.84067",
          "-15.836918381182",
          "-15.84067",
          "-15.843075011318",
          "-15.83780499447",
          "-15.84067",
          "-15.837135007995",
          "-15.84067",
          "-15.831820001282",
          "-15.84067",
          "-15.836631976279",
          "-15.837371178171",
          "-15.84067",
          "-15.84067",
          "-15.866004238102",
          "-15.820545586541",
          "-15.832899988551",
          "-15.831060379564",
          "-15.84067",
          "-15.84067",
          "-15.84060973365",
          "-15.84067",
          "-15.85273",
          "-15.838701645321",
          "-15.84060973365",
          "-15.836495007778",
          "-15.835735462934",
          "-15.84067",
          "-15.84067",
          "-15.83605",
          "-15.656210182867",
          "-15.834902512606",
          "-15.832000002652",
          "-15.843075011318",
          "-15.836122270133",
          "-15.84067",
          "-15.84067",
          "-15.835687747487",
          "-15.84067",
          "-15.839317797727",
          "-15.830381600035",
          "-15.84067",
          "-15.84067",
          "-15.827749571353",
          "-15.84096000569",
          "-15.836631976279",
          "-15.841842667042",
          "-15.84067",
          "-15.838229020206",
          "-15.84067",
          "-15.83605",
          "-15.84067",
          "-15.84067",
          "-15.837735005579",
          "-15.84067",
          "-15.843415626518",
          "-15.84067",
          "-15.84067",
          "-15.84067",
          "-15.84067",
          "-15.838185009006",
          "-15.84067",
          "-15.835205011924",
          "-15.828305008276",
          "-15.840054990649",
          "-15.84067",
          "-15.841345122238",
          "-15.83455",
          "-15.84067",
          "-15.84067",
          "-15.843415626518",
          "-15.836765009834",
          "-15.844604958131",
          "-15.837020008283",
          "-15.838349985815",
          "-15.84067",
          "-3.40758",
          "-15.838701645321",
          "-15.84067",
          "-15.84067",
          "-15.836631976279",
          "-15.841345122238",
          "-15.841842667042",
          "-15.84067",
          "-15.84067",
          "-15.829108479532",
          "-15.837371178171",
          "-15.836631976279",
          "-15.841920228821",
          "-15.84067",
          "-15.84067",
          "-15.84067",
          "-15.84067",
          "-15.838345569024",
          "-15.834715005865",
          "-15.839245786226",
          "-15.830234983391",
          "-15.84067",
          "-15.841920228821",
          "-15.836768410907",
          "-15.837371178171",
          "-15.869146300872",
          "-15.820545586541",
          "-15.839499726024",
          "-15.838701645321",
          "-15.84067",
          "-15.84067",
          "-15.84067",
          "-15.843415626518",
          "-15.836768410907",
          "-15.836765009834",
          "-15.837135007995",
          "-15.832450448402",
          "-15.64461",
          "-15.830976955297",
          "-15.833969561015",
          "-15.84067",
          "-15.836765009834",
          "-15.84067",
          "-15.836122270133",
          "-15.838701645321",
          "-15.8634",
          "-15.841588540578",
          "-15.836534989456",
          "-15.838685071444",
          "-15.833969561015",
          "-15.835195016505",
          "-15.834840000996",
          "-15.837020008283",
          "-15.838701645321",
          "-15.84067",
          "-15.84067",
          "-15.84067",
          "-15.836485012358",
          "-15.839115002118",
          "-15.84067",
          "-15.836534989456",
          "-15.854516826001",
          "-15.829993262634",
          "-15.841065009982",
          "-15.837735005579",
          "-15.873224285554",
          "-15.838701645321",
          "-15.834165006333",
          "-15.84067",
          "-15.839115002118",
          "-15.836918381182",
          "-15.84067",
          "-15.838701645321",
          "-15.836495007778",
          "-15.837135007995",
          "-15.84067",
          "-15.84067",
          "-15.838701645321",
          "-15.839853435547",
          "-15.84067",
          "-15.841181517634",
          "-15.834902512606",
          "-15.836631976279",
          "-15.820545586541",
          "-15.839758276622",
          "-15.83455",
          "-15.836200006696",
          "-15.831075851288",
          "-15.84067",
          "-15.838229020206",
          "-15.832470870366",
          "-15.860044062803",
          "-15.837135007995",
          "-15.832470870366",
          "-15.83869498495",
          "-15.856242347312",
          "-15.841345122238",
          "-15.829135005283",
          "-15.84067",
          "-15.837020008283",
          "-15.84096000569",
          "-15.84067",
          "-15.837135007995",
          "-15.84067",
          "-15.838701645321",
          "-15.84067",
          "-15.831239551113",
          "-15.841842667042",
          "-15.84067",
          "-15.844604958131",
          "-15.84067",
          "-15.84067",
          "-15.834700002258",
          "-15.835195016505",
          "-15.838685071444",
          "-15.83455",
          "-15.85799125881",
          "-15.84067",
          "-15.845095068508",
          "-15.84067",
          "-15.84067",
          "-15.839853435547",
          "-15.84067",
          "-15.841842667042",
          "-15.845095068508",
          "-15.831239551113",
          "-15.834700002258",
          "-15.827749571353",
          "-15.839140708117",
          "-15.84067",
          "-15.85799125881",
          "-15.820545586541",
          "-15.834165006333",
          "-15.834840000996",
          "-15.844959835383",
          "-15.841842667042",
          "-15.834902512606",
          "-15.831060379564",
          "-15.838349985815",
          "-15.837135007995",
          "-15.869146300872",
          "-15.84067",
          "-15.974985617098",
          "-15.836631976279",
          "-15.836122270133",
          "-15.84067",
          "-15.84067",
          "-15.84067",
          "-15.832000002652",
          "-15.84060973365",
          "-15.84067",
          "-15.866004238102",
          "-15.84067",
          "-15.837020008283",
          "-15.845095068508",
          "-15.84067",
          "-15.839758276622",
          "-15.837135007995",
          "-15.838701645321",
          "-15.83915",
          "-15.835195016505",
          "-15.84067",
          "-15.831075851288",
          "-15.84067",
          "-15.84067",
          "-15.836122270133",
          "-15.836765009834",
          "-15.836918381182",
          "-15.836918381182",
          "-15.84067",
          "-15.84067",
          "-15.836665013729",
          "-15.835195016505",
          "-15.834715005865",
          "-15.869146300872",
          "-15.839115002118",
          "-15.831239551113",
          "-15.84067",
          "-15.84067",
          "-15.831060379564",
          "-15.836200006696",
          "-15.830976955297",
          "-15.84067",
          "-15.838685071444",
          "-15.831075851288",
          "-15.838701645321",
          "-15.84067",
          "-15.84067",
          "-15.84067",
          "-15.836631976279",
          "-15.83263347211",
          "-15.834165006333",
          "-15.836122270133",
          "-15.844959835383",
          "-15.838349985815",
          "-15.837371178171",
          "-15.84067",
          "-15.871551411401",
          "-15.84129498845",
          "-15.832899988551",
          "-15.833969561015",
          "-15.834902512606",
          "-15.84067",
          "-15.839317797727",
          "-15.838685071444",
          "-15.872420012426",
          "-15.84067",
          "-15.837135007995",
          "-15.84067",
          "-15.84067",
          "-15.836631976279",
          "-15.83869498495",
          "-15.84067",
          "-15.839499726024",
          "-15.836918381182",
          "-15.84067",
          "-15.84067",
          "-15.82879499338",
          "-15.830234983391",
          "-15.84067",
          "-15.844432049564",
          "-15.836765009834",
          "-15.834715005865",
          "-15.837371178171",
          "-15.84067",
          "-15.877041150707",
          "-15.835195016505",
          "-15.84067",
          "-15.844432049564",
          "-15.834715005865",
          "-15.841842667042",
          "-15.837020008283",
          "-15.838380765547",
          "-15.839140708117",
          "-15.820545586541",
          "-15.84067",
          "-15.838701645321",
          "-15.838380765547",
          "-15.84067",
          "-15.839758276622",
          "-15.84067",
          "-15.839793783435",
          "-15.832899988551",
          "-15.84067",
          "-15.838701645321",
          "-15.874180002545",
          "-15.844604958131",
          "-15.84129498845",
          "-15.837135007995",
          "-15.836200006696",
          "-15.84067",
          "-15.83693499483",
          "-15.837371178171",
          "-15.841181517634",
          "-15.830976955297",
          "-15.853245158638",
          "-15.831075851288",
          "-15.84067",
          "-15.84067",
          "-15.841345122238",
          "-15.834665007812",
          "-15.84067",
          "-15.836122270133",
          "-15.845095068508",
          "-15.83455",
          "-15.843075011318",
          "-15.834840000996",
          "-15.84067",
          "-15.84067",
          "-15.834165006333",
          "-15.84067",
          "-15.845095068508",
          "-15.831075851288",
          "-15.836631976279",
          "-15.838701645321",
          "-15.84067",
          "-15.84060973365",
          "-15.84067",
          "-15.836765009834",
          "-15.84060973365",
          "-15.84067",
          "-15.841842667042",
          "-15.829993262634",
          "-15.84067",
          "-15.84067",
          "-15.832470870366",
          "-15.839317797727",
          "-15.834165006333",
          "-15.84067",
          "-15.84067",
          "-15.838380765547",
          "-15.84067",
          "-15.839758276622",
          "-15.831060379564",
          "-15.83455",
          "-15.835735462934",
          "-15.837135007995",
          "-15.84067",
          "-15.839758276622",
          "-15.84067",
          "-15.85549",
          "-15.836918381182",
          "-15.834840000996",
          "-15.83455",
          "-15.841920228821",
          "-15.836918381182",
          "-15.835735462934",
          "-15.844604958131",
          "-15.839758276622",
          "-15.837135007995",
          "-15.84067",
          "-15.841181517634",
          "-15.836631976279",
          "-15.833969561015",
          "-15.84067",
          "-15.84067",
          "-15.84067",
          "-15.834902512606",
          "-15.93479",
          "-15.84067",
          "-15.831075851288",
          "-15.838685071444",
          "-15.836631976279",
          "-15.874180002545",
          "-15.84067",
          "-15.835741108224",
          "-15.828529999512",
          "-15.83952",
          "-15.84067",
          "-15.838701645321",
          "-15.83263347211",
          "-15.841181517634",
          "-15.834902512606",
          "-15.845095068508",
          "-15.84067",
          "-15.84067",
          "-15.84067",
          "-15.83915",
          "-15.839793783435",
          "-15.84067",
          "-15.854895694028",
          "-15.84067",
          "-15.84067",
          "-15.85799125881",
          "-15.84067",
          "-15.820545586541",
          "-15.834902512606",
          "-15.834665007812",
          "-15.854516826001",
          "-15.84067",
          "-3.40758",
          "-15.84067",
          "-15.84067",
          "-15.84067",
          "-15.835195016505",
          "-15.820545586541",
          "-15.838229020206",
          "-15.836768410907",
          "-15.84067",
          "-15.84067",
          "-15.836765009834",
          "-15.830976955297",
          "-15.839853435547",
          "-15.836768410907",
          "-15.829135005283",
          "-15.836122270133",
          "-15.837664995733",
          "-15.84067",
          "-15.836768410907",
          "-15.84060973365",
          "-15.854895694028",
          "-15.84067",
          "-15.832899988551",
          "-15.839499726024",
          "-15.836631976279",
          "-15.64461",
          "-15.838349985815",
          "-15.844432049564",
          "-15.84067",
          "-15.837664995733",
          "-22.17185",
          "-15.84067",
          "-15.84067",
          "-15.84067",
          "-15.84067",
          "-15.837020008283",
          "-15.84067",
          "-15.839499726024",
          "-15.84067",
          "-15.836918381182",
          "-15.84067",
          "-15.84067",
          "-15.834902512606",
          "-15.84067",
          "-15.84067",
          "-15.84067",
          "-15.835195016505",
          "-15.836631976279",
          "-15.836665013729",
          "-15.841345122238",
          "-15.844432049564",
          "-15.832854587364",
          "-15.84067",
          "-15.839115002118",
          "-15.838701645321",
          "-15.836122270133",
          "-15.84067",
          "-15.84067",
          "-15.836122270133",
          "-15.838685071444",
          "-15.832899988551",
          "-15.83952",
          "-15.84067",
          "-15.851060010423",
          "-15.833969561015",
          "-15.84067",
          "-15.83263347211",
          "-15.84067",
          "-15.839758276622",
          "-15.841920228821",
          "-15.839140708117",
          "-15.84067",
          "-15.83673500262",
          "-15.845095068508",
          "-15.83673500262",
          "-15.871551411401",
          "-15.836495007778",
          "-15.84067",
          "-15.83952",
          "-15.84067",
          "-15.838701645321",
          "-15.84067",
          "-15.84067",
          "-15.84067",
          "-15.84067",
          "-15.833969561015",
          "-15.84067",
          "-15.84067",
          "-15.838701645321",
          "-15.844432049564",
          "-15.834165006333",
          "-15.856242347312",
          "-15.833969561015",
          "-15.827749571353",
          "-15.84067",
          "-15.829993262634",
          "-15.838328619067",
          "-15.838328619067",
          "-15.84067",
          "-15.84067",
          "-15.84067",
          "-15.84067",
          "-15.84067",
          "-15.84067",
          "-15.839090003091",
          "-15.84067",
          "-15.843075011318",
          "-15.838701645321",
          "-15.84067",
          "-15.838701645321",
          "-15.838685071444",
          "-15.841920228821",
          "-15.838349985815",
          "-15.84067",
          "-15.833969561015",
          "-15.84067",
          "-15.834700002258",
          "-15.841842667042",
          "-15.836765009834",
          "-15.829135005283",
          "-15.843785000427",
          "-15.84067",
          "-15.841920228821",
          "-15.838701645321",
          "-15.84067",
          "-15.830381600035",
          "-15.820545586541",
          "-15.836631976279",
          "-15.858691107681",
          "-15.843219480939",
          "-15.836631976279",
          "-15.836631976279",
          "-15.87035",
          "-15.843415626518",
          "-15.84067",
          "-15.834902512606",
          "-15.841842667042",
          "-15.851060010423",
          "-15.836768410907",
          "-15.84067",
          "-15.836200006696",
          "-15.839090003091",
          "-15.844432049564",
          "-15.84067",
          "-15.834902512606",
          "-15.841920228821",
          "-15.840054990649",
          "-15.84067",
          "-15.84067",
          "-15.838349985815",
          "-15.839758276622",
          "-15.84067",
          "-15.839758276622",
          "-15.836495007778",
          "-15.836631976279",
          "-15.84067",
          "-15.840054990649",
          "-15.841920228821",
          "-15.84067",
          "-15.84067",
          "-15.84067",
          "-15.83869498495",
          "-15.84067",
          "-15.830170002687",
          "-15.84067",
          "-15.84067",
          "-15.84067",
          "-15.877041150707",
          "-15.84067",
          "-15.84067",
          "-15.84067",
          "-15.84067",
          "-15.837135007995",
          "-15.84067",
          "-15.839140708117",
          "-15.84067",
          "-15.837135007995",
          "-15.99845",
          "-15.853245158638",
          "-15.84067",
          "-15.84067",
          "-15.84067",
          "-15.837020008283",
          "-15.84067",
          "-15.836918381182",
          "-15.84067",
          "-15.833969561015",
          "-15.656210182867",
          "-15.832470870366",
          "-15.838229020206",
          "-15.84067",
          "-15.834902512606",
          "-15.829993262634",
          "-15.827749571353",
          "-15.84067",
          "-15.839758276622",
          "-15.836200006696",
          "-15.838701645321",
          "-15.84067",
          "-15.84067",
          "-15.838229020206",
          "-15.84067",
          "-15.841842667042",
          "-15.84067",
          "-15.85799125881",
          "-15.836631976279",
          "-15.841588540578",
          "-15.845095068508",
          "-15.838328619067",
          "-15.836765009834",
          "-15.839758276622",
          "-15.84067",
          "-15.84067",
          "-15.839758276622",
          "-15.839090003091",
          "-15.838701645321",
          "-15.841181517634",
          "-15.84067",
          "-15.839140708117",
          "-15.83939895395",
          "-15.844432049564",
          "-15.831075851288",
          "-15.838701645321",
          "-15.871551411401",
          "-15.84067",
          "-15.838701645321",
          "-15.839758276622",
          "-15.84067",
          "-15.84067",
          "-15.845095068508",
          "-15.830976955297",
          "-15.84067",
          "-15.84067",
          "-15.84067",
          "-15.843415626518",
          "-15.838701645321",
          "-15.835687747487",
          "-15.833969561015",
          "-15.830381600035",
          "-15.832470870366",
          "-15.839793783435",
          "-15.84067",
          "-15.841345122238",
          "-15.832470870366",
          "-15.84067",
          "-15.839115002118",
          "-15.836765009834",
          "-15.836765009834",
          "-15.83780499447",
          "-15.840054990649",
          "-15.856242347312",
          "-15.844604958131",
          "-15.836631976279",
          "-15.836765009834",
          "-15.838380765547",
          "-15.834902512606",
          "-15.84067",
          "-15.84074",
          "-15.841181517634",
          "-15.84067",
          "-15.84067",
          "-15.843075011318",
          "-15.84060973365",
          "-15.838685071444",
          "-15.837084988988",
          "-15.84067",
          "-15.856242347312",
          "-15.832000002652",
          "-15.831820001282",
          "-15.835741108224",
          "-15.830381600035",
          "-15.84067",
          "-15.839115002118",
          "-15.84067",
          "-15.84067",
          "-15.84067",
          "-15.830019987575",
          "-15.834902512606",
          "-15.83781922511",
          "-15.839317797727",
          "-15.841842667042",
          "-15.836665013729",
          "-15.832470870366",
          "-15.84067",
          "-15.838701645321",
          "-15.83514",
          "-15.831075851288",
          "-15.838345569024",
          "-15.839115002118",
          "-15.838701645321",
          "-15.837135007995",
          "-15.84067",
          "-15.836122270133",
          "-15.836765009834",
          "-15.836122270133",
          "-15.84060973365",
          "-15.836200006696",
          "-15.84067",
          "-15.830234983391",
          "-15.843415626518",
          "-15.835195016505",
          "-15.844959835383",
          "-15.831074996773",
          "-15.845095068508",
          "-15.84067",
          "-15.829135005283",
          "-15.84067",
          "-15.832470870366",
          "-15.84067",
          "-3.407584993824",
          "-15.836631976279",
          "-15.844604958131",
          "-15.832854587364",
          "-15.845095068508",
          "-15.831060379564",
          "-15.836534989456",
          "-15.836918381182",
          "-15.836200006696",
          "-15.84067",
          "-15.834715005865",
          "-15.84067",
          "-15.832450448402",
          "-15.836485012358",
          "-15.820545586541",
          "-15.84067",
          "-15.84067",
          "-15.838701645321",
          "-15.838349985815",
          "-15.834715005865",
          "-15.836768410907",
          "-15.831060379564",
          "-15.841920228821",
          "-15.84067",
          "-15.830976955297",
          "-15.841065009982",
          "-15.841920228821",
          "-15.833969561015",
          "-15.836631976279",
          "-15.84067",
          "-15.834902512606",
          "-15.84067",
          "-15.836768410907",
          "-15.851060010423",
          "-15.838701645321",
          "-15.84067",
          "-15.836768410907",
          "-15.839758276622",
          "-15.83263347211",
          "-15.83455",
          "-15.86202",
          "-15.834665007812",
          "-15.84067",
          "-15.835735462934",
          "-15.84067",
          "-15.84067",
          "-15.84067",
          "-15.839758276622",
          "-15.834715005865",
          "-15.84067",
          "-15.845095068508",
          "-15.839115002118",
          "-15.84067",
          "-15.854285010534",
          "-15.841920228821",
          "-15.84067",
          "-15.84067",
          "-15.834665007812",
          "-15.844432049564",
          "-15.833969561015",
          "-15.836495007778",
          "-15.834902512606",
          "-15.837135007995",
          "-15.83455",
          "-15.839758276622",
          "-15.836122270133",
          "-15.84067",
          "-15.832470870366",
          "-15.839140708117",
          "-15.838380765547",
          "-15.84067",
          "-15.838701645321",
          "-15.836122270133",
          "-15.84067",
          "-15.841181517634",
          "-15.84067",
          "-15.838349985815",
          "-15.84067",
          "-15.835687747487",
          "-15.84067",
          "-15.83869498495",
          "-15.832470870366",
          "-15.844959835383",
          "-15.838685071444",
          "-15.831239551113",
          "-15.839140708117",
          "-15.84227500057",
          "-15.836631976279",
          "-15.843075011318",
          "-15.836631976279",
          "-15.83514",
          "-15.834902512606",
          "-15.84067",
          "-15.84067",
          "-15.841181517634",
          "-15.84067",
          "-15.84067",
          "-15.84067",
          "-15.84067",
          "-15.84067",
          "-15.84067",
          "-15.854516826001",
          "-15.873224285554",
          "-15.83869498495",
          "-15.836918381182",
          "-15.84067",
          "-15.84060973365",
          "-15.834715005865",
          "-15.838701645321",
          "-15.84067",
          "-15.84067",
          "-15.836768410907",
          "-15.836768410907",
          "-15.84067",
          "-15.84067",
          "-15.836200006696",
          "-15.84067",
          "-15.836631976279",
          "-15.836631976279",
          "-15.838701645321",
          "-15.83939895395",
          "-15.84067",
          "-15.83952",
          "-15.838792234434",
          "-15.872983714265",
          "-15.82879499338",
          "-15.84067",
          "-15.84067",
          "-15.854895694028",
          "-15.835735462934",
          "-15.84067",
          "-15.836631976279",
          "-15.838685071444",
          "-15.841920228821",
          "-15.836631976279",
          "-15.839090003091",
          "-15.84067",
          "-15.84067",
          "-15.84067",
          "-15.838701645321",
          "-15.843219480939",
          "-15.838701645321",
          "-15.84067",
          "-15.845095068508",
          "-15.84060973365",
          "-15.839758276622",
          "-15.836631976279",
          "-15.830976955297",
          "-15.836768410907",
          "-15.84067",
          "-15.84067",
          "-15.84067",
          "-15.843415626518",
          "-15.84067",
          "-15.84067",
          "-15.820545586541",
          "-15.832470870366",
          "-15.83673500262",
          "-15.84067",
          "-15.829108479532",
          "-15.832854587364",
          "-15.844604958131",
          "-15.836768410907",
          "-15.837664995733",
          "-15.836122270133",
          "-15.834165006333",
          "-15.84067",
          "-15.841842667042",
          "-15.84067",
          "-15.841842667042",
          "-15.84067",
          "-15.844432049564",
          "-15.838229020206",
          "-15.84067",
          "-15.844959835383",
          "-15.829993262634",
          "-15.84067",
          "-15.84067",
          "-15.845095068508",
          "-15.84067",
          "-15.83869498495",
          "-15.820545586541",
          "-15.84067",
          "-15.84067",
          "-15.83673500262",
          "-15.84067",
          "-15.839793783435",
          "-15.84067",
          "-15.841181517634",
          "-15.832450448402",
          "-15.84060973365",
          "-15.844959835383",
          "-15.832470870366",
          "-15.838380765547",
          "-15.84074",
          "-15.84067",
          "-15.839758276622",
          "-15.834665007812",
          "-15.835735462934",
          "-15.820545586541",
          "-15.83869498495",
          "-15.83939895395",
          "-15.830976955297",
          "-15.84067",
          "-15.838701645321",
          "-3.40758",
          "-15.84067",
          "-15.844604958131",
          "-15.84067",
          "-15.844527463825",
          "-15.844604958131",
          "-15.833969561015",
          "-15.836631976279",
          "-15.838380765547",
          "-15.84067",
          "-15.83455",
          "-15.830976955297",
          "-15.84067",
          "-15.839439989459",
          "-15.832470870366",
          "-15.844604958131",
          "-15.84067",
          "-3.407584993824",
          "-15.836768410907",
          "-15.84067",
          "-15.845095068508",
          "-15.839115002118",
          "-15.84067",
          "-15.829375000125",
          "-15.829993262634",
          "-15.839245786226",
          "-15.84067",
          "-15.835735462934",
          "-15.834165006333",
          "-15.84067",
          "-15.84067",
          "-15.84067",
          "-15.84067",
          "-15.836122270133",
          "-15.835195016505",
          "-15.843415626518",
          "-15.84067",
          "-15.83673500262",
          "-15.839090003091",
          "-15.84067",
          "-15.836918381182",
          "-15.84067",
          "-15.84067",
          "-15.838701645321",
          "-15.831075851288",
          "-15.974985617098",
          "-15.84067",
          "-15.835195016505",
          "-15.84067",
          "-15.845095068508",
          "-15.836918381182",
          "-15.84067",
          "-15.836665013729",
          "-15.838685071444",
          "-15.84067",
          "-15.839758276622",
          "-15.84060973365",
          "-15.84067",
          "-15.844432049564",
          "-15.838328619067",
          "-15.83693499483",
          "-15.844604958131",
          "-15.836631976279",
          "-15.84060973365",
          "-15.838838020657",
          "-15.84067",
          "-15.83263347211",
          "-15.84067",
          "-3.407584993824",
          "-15.829993262634",
          "-15.844959835383",
          "-15.862464993662",
          "-15.836631976279",
          "-15.838380765547",
          "-15.83455",
          "-15.83869498495",
          "-15.83514",
          "-15.853245158638",
          "-15.836200006696",
          "-15.84067",
          "-15.830976955297",
          "-15.84067",
          "-15.834902512606",
          "-15.839758276622",
          "-15.83455",
          "-15.84067",
          "-15.84067",
          "-15.84067",
          "-15.836631976279",
          "-15.84067",
          "-15.836765009834",
          "-15.84067",
          "-15.828305008276",
          "-15.843219480939",
          "-15.84067",
          "-15.838185009006",
          "-15.84067",
          "-15.84067",
          "-15.84067",
          "-15.843219480939",
          "-15.84067",
          "-15.84067",
          "-15.84067",
          "-15.84067",
          "-15.832450448402",
          "-15.84067",
          "-15.84067",
          "-15.841920228821",
          "-15.839758276622",
          "-15.838328619067",
          "-15.84067",
          "-15.854895694028",
          "-15.838701645321",
          "-15.820545586541",
          "-15.836534989456",
          "-15.838349985815",
          "-15.839317797727",
          "-15.841920228821",
          "-15.833969561015",
          "-15.83263347211",
          "-15.84067",
          "-15.837135007995",
          "-15.84067",
          "-15.836122270133",
          "-15.838345569024",
          "-15.845095068508",
          "-15.832000002652",
          "-15.83455",
          "-15.833969561015",
          "-15.84067",
          "-15.84067",
          "-15.841842667042",
          "-15.84067",
          "-15.828529999512",
          "-15.831060379564",
          "-15.965450001399",
          "-15.836122270133",
          "-15.839499726024",
          "-15.836631976279",
          "-15.84067",
          "-15.84067",
          "-15.84067",
          "-15.838701645321",
          "-3.407584993824",
          "-15.851060010423",
          "-15.84060973365",
          "-15.84067",
          "-15.84067",
          "-15.84067",
          "-15.844432049564",
          "-15.84067",
          "-15.844959835383",
          "-15.834840000996",
          "-15.836122270133",
          "-15.843075011318",
          "-15.84067",
          "-15.84067",
          "-15.84067",
          "-15.831060379564",
          "-15.836631976279",
          "-15.838229020206",
          "-15.838044989313",
          "-15.838345569024",
          "-15.839439989459",
          "-15.837020008283",
          "-15.84067",
          "-15.834165006333",
          "-15.84067",
          "-15.84067",
          "-15.84067",
          "-15.875994998904",
          "-15.64461",
          "-15.844604958131",
          "-22.17185",
          "-15.832000002652",
          "-15.84067",
          "-15.820545586541",
          "-15.836631976279",
          "-15.829993262634",
          "-15.843415626518",
          "-15.834902512606",
          "-15.839793783435",
          "-15.84067",
          "-15.834165006333",
          "-15.827749571353",
          "-15.84067",
          "-15.83514",
          "-15.843075011318",
          "-15.838349985815",
          "-15.836918381182",
          "-15.832854587364",
          "-15.84067",
          "-15.84067",
          "-15.838185009006",
          "-15.837371178171",
          "-15.84067",
          "-15.833969561015",
          "-15.84067",
          "-15.84067",
          "-15.84067",
          "-15.831075851288",
          "-15.84067",
          "-15.836122270133",
          "-15.84060973365",
          "-15.838701645321",
          "-3.407584993824",
          "-15.84067",
          "-15.84067",
          "-15.84067",
          "-15.84067",
          "-15.84067",
          "-15.830170002687",
          "-15.830234983391",
          "-15.828529999512",
          "-15.841842667042",
          "-15.84067",
          "-15.830170002687",
          "-15.84060973365",
          "-15.836631976279",
          "-15.99845",
          "-15.828305008276",
          "-15.836122270133",
          "-15.836918381182",
          "-15.85799125881",
          "-15.831820001282",
          "-15.84067",
          "-15.84067",
          "-15.84067",
          "-15.836631976279",
          "-15.836765009834",
          "-15.836631976279",
          "-15.833969561015",
          "-15.83869498495",
          "-15.839793783435",
          "-15.839758276622",
          "-15.84067",
          "-15.84067",
          "-15.836631976279",
          "-15.835195016505",
          "-15.84067",
          "-15.837020008283",
          "-15.83455",
          "-15.84060973365",
          "-15.84067",
          "-15.84067",
          "-15.832899988551",
          "-15.83263347211",
          "-15.841920228821",
          "-15.84067",
          "-15.828729556526",
          "-15.838380765547",
          "-15.84067",
          "-15.840789999739",
          "-15.84067",
          "-15.836122270133",
          "-15.84067",
          "-15.84067",
          "-15.84067",
          "-15.830019987575",
          "-15.84067",
          "-15.84067",
          "-15.84067",
          "-15.820545586541",
          "-15.84067",
          "-15.835360014269",
          "-15.84067",
          "-15.84067",
          "-15.836918381182",
          "-15.841345122238",
          "-15.84067",
          "-15.841842667042",
          "-15.84067",
          "-15.84067",
          "-15.844432049564",
          "-15.838349985815",
          "-15.84067",
          "-15.841181517634",
          "-15.830976955297",
          "-15.84067",
          "-15.84067",
          "-15.834902512606",
          "-15.84067",
          "-15.84067",
          "-3.40758",
          "-15.820545586541",
          "-15.84067",
          "-15.839140708117",
          "-15.843075011318",
          "-15.839140708117",
          "-15.834665007812",
          "-15.820545586541",
          "-15.84067",
          "-15.829993262634",
          "-15.84067",
          "-15.84067",
          "-15.838349985815",
          "-15.836765009834",
          "-15.835687747487",
          "-15.84067",
          "-15.837664995733",
          "-15.841181517634",
          "-15.84067",
          "-15.838701645321",
          "-15.84239",
          "-21.16981",
          "-15.851060010423",
          "-15.834700002258",
          "-15.83455",
          "-15.84067",
          "-15.844959835383",
          "-15.841345122238",
          "-15.838229020206",
          "-15.827749571353",
          "-15.834902512606",
          "-15.84067",
          "-15.844604958131",
          "-15.836768410907",
          "-15.84067",
          "-15.84067",
          "-15.838685071444",
          "-15.820545586541",
          "-15.84067",
          "-15.83869498495",
          "-15.838701645321",
          "-15.832470870366",
          "-15.830976955297",
          "-15.84067",
          "-15.84067",
          "-15.836665013729",
          "-15.838349985815",
          "-15.835687747487",
          "-15.833969561015",
          "-15.834715005865",
          "-15.837020008283",
          "-15.84067",
          "-15.839793783435",
          "-15.84067",
          "-15.820545586541",
          "-15.84067",
          "-15.832450448402",
          "-15.836200006696",
          "-15.832470870366",
          "-15.843219480939",
          "-15.869659998393",
          "-15.838701645321",
          "-15.827749571353",
          "-15.837735005579",
          "-15.837135007995",
          "-15.83514",
          "-15.83673500262",
          "-15.84067",
          "-15.84067",
          "-15.84067",
          "-15.84067",
          "-15.84067",
          "-15.843075011318",
          "-15.84067",
          "-15.84067",
          "-3.407584993824",
          "-15.838701645321",
          "-15.837135007995",
          "-15.84067",
          "-15.84067",
          "-15.84067",
          "-15.841181517634",
          "-15.84067",
          "-15.84067",
          "-15.837135007995",
          "-15.84067",
          "-15.829993262634",
          "-15.834902512606",
          "-15.832854587364",
          "-15.836122270133",
          "-15.830976955297",
          "-15.84067",
          "-15.838380765547",
          "-15.832000002652",
          "-15.831075851288",
          "-15.83455",
          "-15.839140708117",
          "-15.843075011318",
          "-15.84067",
          "-15.838229020206",
          "-15.838701645321",
          "-15.843075011318",
          "-15.830976955297",
          "-15.841181517634",
          "-15.836918381182",
          "-15.84067",
          "-15.84067",
          "-15.83673500262",
          "-15.83952",
          "-15.83263347211",
          "-15.839758276622",
          "-15.838701645321",
          "-15.832899988551",
          "-15.84067",
          "-15.830381600035",
          "-15.84067",
          "-15.831075851288",
          "-15.832899988551",
          "-15.841842667042",
          "-15.836631976279",
          "-15.829108479532",
          "-15.84067",
          "-15.838349985815",
          "-15.83263347211",
          "-15.854516826001",
          "-15.844959835383",
          "-15.84060973365",
          "-15.841842667042",
          "-15.834715005865",
          "-15.830019987575",
          "-15.829993262634",
          "-15.838345569024",
          "-15.84067",
          "-15.64461",
          "-15.84067",
          "-15.836768410907",
          "-15.834700002258",
          "-15.83915",
          "-15.844432049564",
          "-15.84067",
          "-15.844604958131",
          "-15.836765009834",
          "-15.84067",
          "-15.837135007995",
          "-15.84067",
          "-15.83780499447",
          "-15.829258965485",
          "-15.84067",
          "-15.838229020206",
          "-15.84096000569",
          "-15.84067",
          "-15.83673500262",
          "-15.856242347312",
          "-15.84067",
          "-15.836185736652",
          "-15.839755002335",
          "-15.84060973365",
          "-15.834165006333",
          "-15.84067",
          "-15.84067",
          "-15.83263347211",
          "-15.836631976279",
          "-15.84067",
          "-15.841842667042",
          "-15.844959835383",
          "-15.845095068508",
          "-15.831239551113",
          "-15.820545586541",
          "-15.841920228821",
          "-15.84067",
          "-15.84067",
          "-15.838349985815",
          "-15.836495007778",
          "-15.82879499338",
          "-15.84067",
          "-15.832470870366",
          "-15.838685071444",
          "-15.64461",
          "-15.84067",
          "-15.84067",
          "-15.844959835383",
          "-15.841920228821",
          "-15.841345122238",
          "-15.84067",
          "-15.843075011318",
          "-15.832470870366",
          "-15.84060973365",
          "-15.820545586541",
          "-15.84067",
          "-15.834165006333",
          "-15.835195016505",
          "-15.84067",
          "-15.834840000996",
          "-15.834840000996",
          "-15.84067",
          "-15.836485012358",
          "-15.820545586541",
          "-15.84067",
          "-15.829993262634",
          "-21.16981",
          "-15.844527463825",
          "-15.84067",
          "-15.839115002118",
          "-15.84067",
          "-15.84067",
          "-15.832854587364",
          "-15.836631976279",
          "-15.827749571353",
          "-15.64461",
          "-15.83952",
          "-15.832899988551",
          "-15.84067",
          "-15.84067",
          "-15.85799125881",
          "-15.844604958131",
          "-15.831239551113",
          "-15.832450448402",
          "-15.838701645321",
          "-15.838701645321",
          "-15.854516826001",
          "-15.851060010423",
          "-15.84067",
          "-15.845095068508",
          "-15.84067",
          "-15.836495007778",
          "-15.820545586541",
          "-15.84067",
          "-15.84067",
          "-15.84067",
          "-15.833969561015",
          "-15.84067",
          "-15.841920228821",
          "-15.832470870366",
          "-15.84067",
          "-15.869146300872",
          "-15.856242347312",
          "-15.84067",
          "-15.838701645321",
          "-15.829135005283",
          "-15.839115002118",
          "-15.844432049564",
          "-15.84067",
          "-15.835735462934",
          "-15.872983714265",
          "-15.84074",
          "-15.835360014269",
          "-15.837135007995",
          "-15.84067",
          "-15.838685071444",
          "-15.845095068508",
          "-15.839090003091",
          "-15.835735462934",
          "-15.841345122238",
          "-15.839115002118",
          "-15.835687747487",
          "-15.84129498845",
          "-15.84060973365",
          "-15.830019987575",
          "-15.832450448402",
          "-15.83693499483",
          "-15.854516826001",
          "-15.837135007995",
          "-15.831075851288",
          "-15.829993262634",
          "-15.84067",
          "-15.84067",
          "-15.836765009834",
          "-15.83263347211",
          "-15.845095068508",
          "-15.839758276622",
          "-15.836631976279",
          "-15.836122270133",
          "-15.876442891764",
          "-15.838185009006",
          "-15.841920228821",
          "-15.844432049564",
          "-15.834902512606",
          "-15.838380765547",
          "-15.836122270133",
          "-15.84067",
          "-15.84067",
          "-15.844959835383",
          "-15.837020008283",
          "-15.834902512606",
          "-15.838053465316",
          "-15.84067",
          "-15.832470870366",
          "-15.84067",
          "-15.834700002258",
          "-15.84067",
          "-15.836918381182",
          "-15.836631976279",
          "-15.83455",
          "-15.84067",
          "-15.834165006333",
          "-15.84067",
          "-15.974985617098",
          "-15.83263347211",
          "-15.838380765547",
          "-15.836918381182",
          "-15.854895694028",
          "-15.830976955297",
          "-15.838701645321",
          "-15.84067",
          "-15.84067",
          "-15.83915",
          "-15.837371178171",
          "-15.84067",
          "-15.837084988988",
          "-15.836918381182",
          "-15.84067",
          "-15.854895694028",
          "-15.834902512606",
          "-15.836122270133",
          "-15.837020008283",
          "-15.844604958131",
          "-15.838701645321",
          "-15.838685071444",
          "-15.84067",
          "-15.839317797727",
          "-15.834902512606",
          "-15.838349985815",
          "-15.844604958131",
          "-15.84067",
          "-15.838701645321",
          "-15.838053465316",
          "-15.838701645321",
          "-15.830170002687",
          "-15.836200006696",
          "-15.837135007995",
          "-15.836918381182",
          "-15.838685071444",
          "-15.838701645321",
          "-15.84067",
          "-15.844432049564",
          "-15.84067",
          "-15.84067",
          "-15.83514",
          "-15.841842667042",
          "-15.845946457422",
          "-21.16981",
          "-15.834902512606",
          "-15.84067",
          "-15.836631976279",
          "-15.84060973365",
          "-15.84067",
          "-15.834840000996",
          "-15.64461",
          "-15.84067",
          "-15.831239551113",
          "-15.84067",
          "-15.839758276622",
          "-15.839758276622",
          "-15.834165006333",
          "-15.834902512606",
          "-15.84067",
          "-15.84067",
          "-15.832450448402",
          "-15.833969561015",
          "-15.834715005865",
          "-15.839115002118",
          "-15.84067",
          "-15.84067",
          "-15.836631976279",
          "-15.838701645321",
          "-15.839758276622",
          "-15.820545586541",
          "-15.829993262634",
          "-15.84060973365",
          "-15.64461",
          "-15.843415626518",
          "-15.836665013729",
          "-15.832899988551",
          "-15.84067",
          "-15.836665013729",
          "-15.84067",
          "-15.836200006696",
          "-15.838701645321",
          "-15.836918381182",
          "-15.845095068508",
          "-15.844604958131",
          "-15.872983714265",
          "-15.831060379564",
          "-15.836665013729",
          "-15.836534989456",
          "-15.845095068508",
          "-15.836631976279",
          "-15.839758276622",
          "-15.83939895395",
          "-15.85799125881",
          "-15.84067",
          "-15.843415626518",
          "-15.820545586541",
          "-15.84067",
          "-15.84067",
          "-15.84067",
          "-15.834165006333",
          "-15.839758276622",
          "-15.837020008283",
          "-15.833969561015",
          "-15.84067",
          "-15.834165006333",
          "-15.84067",
          "-15.84067",
          "-15.84067",
          "-15.844959835383",
          "-15.83673500262",
          "-15.84067",
          "-15.84067",
          "-15.838345569024",
          "-15.84067",
          "-15.836122270133",
          "-15.836122270133",
          "-15.843219480939",
          "-15.84067",
          "-15.84067",
          "-15.84067",
          "-15.84067",
          "-15.841920228821",
          "-15.839758276622",
          "-15.836200006696",
          "-15.820545586541",
          "-15.838701645321",
          "-15.84060973365",
          "-15.838185009006",
          "-15.836485012358",
          "-15.832000002652",
          "-15.84067",
          "-15.83673500262",
          "-15.836485012358",
          "-15.84067",
          "-15.835195016505",
          "-15.84067",
          "-15.84067",
          "-15.84067",
          "-15.84067",
          "-15.84067",
          "-15.845095068508",
          "-15.84067",
          "-15.839499726024",
          "-15.836665013729",
          "-15.854285010534",
          "-15.845138434123",
          "-15.84067",
          "-15.837020008283",
          "-15.84067",
          "-15.84067",
          "-15.838701645321",
          "-15.841920228821",
          "-15.84067",
          "-15.835687747487",
          "-15.843415626518",
          "-15.84067",
          "-15.836665013729",
          "-15.836765009834",
          "-15.83673500262",
          "-15.84067",
          "-15.838701645321",
          "-15.836122270133",
          "-15.836200006696",
          "-15.875994998904",
          "-15.829993262634",
          "-15.834700002258",
          "-15.83673500262",
          "-15.84067",
          "-15.84067",
          "-15.84067",
          "-15.84067",
          "-15.830234983391",
          "-15.830019987575",
          "-15.84060973365",
          "-11.85281",
          "-15.84067",
          "-15.84067",
          "-15.84067",
          "-15.839758276622",
          "-15.844432049564",
          "-15.84067",
          "-15.84067",
          "-15.838349985815",
          "-15.827749571353",
          "-15.84067",
          "-15.830381600035",
          "-15.84067",
          "-15.84060973365",
          "-15.84067",
          "-15.84067",
          "-15.838701645321",
          "-15.838685071444",
          "-15.84067",
          "-15.838685071444",
          "-15.852067752397",
          "-15.854516826001",
          "-15.831820001282",
          "-15.836122270133",
          "-15.837020008283",
          "-15.839758276622",
          "-15.838701645321",
          "-15.83263347211",
          "-15.832470870366",
          "-15.84067",
          "-15.84067",
          "-15.835735462934",
          "-15.83455",
          "-15.836918381182",
          "-3.407584993824",
          "-15.844432049564",
          "-15.845095068508",
          "-15.838701645321",
          "-15.838701645321",
          "-15.839115002118",
          "-15.84067",
          "-15.838053465316",
          "-15.84067",
          "-15.84067",
          "-15.839115002118",
          "-15.84067",
          "-15.841920228821",
          "-15.84067",
          "-15.84067",
          "-15.84067",
          "-15.836918381182",
          "-15.84067",
          "-15.84067",
          "-15.831060379564",
          "-15.84067",
          "-15.84067",
          "-15.838701645321",
          "-15.820545586541",
          "-15.84067",
          "-15.829993262634",
          "-15.84067",
          "-15.84067",
          "-15.869659998393",
          "-15.820545586541",
          "-15.84067",
          "-15.84074",
          "-15.838701645321",
          "-15.83721",
          "-15.832470870366",
          "-15.875423341634",
          "-15.838345569024",
          "-15.832470870366",
          "-15.99845",
          "-15.84067",
          "-15.84067",
          "-15.838701645321",
          "-15.84067",
          "-15.838345569024",
          "-15.839758276622",
          "-15.83263347211",
          "-15.84067",
          "-15.83673500262",
          "-15.830976955297",
          "-15.84067",
          "-15.830381600035",
          "-15.841181517634",
          "-15.84067",
          "-15.84067",
          "-15.8766401227",
          "-15.832000002652",
          "-15.836768410907",
          "-15.834700002258",
          "-15.828710000882",
          "-15.838349985815",
          "-15.838345569024",
          "-15.834902512606",
          "-15.83605",
          "-15.839090003091",
          "-15.869146300872",
          "-15.839115002118",
          "-15.83263347211",
          "-15.84060973365",
          "-15.832000002652",
          "-15.84067",
          "-15.820545586541",
          "-15.831060379564",
          "-15.84060973365",
          "-15.835687747487",
          "-15.84067",
          "-15.64461",
          "-15.836765009834",
          "-15.835195016505",
          "-15.84067",
          "-15.84067",
          "-15.84067",
          "-15.841920228821",
          "-15.832470870366",
          "-15.830520010009",
          "-22.17185",
          "-15.84067",
          "-15.835735462934",
          "-15.843075011318",
          "-15.838701645321",
          "-15.83952",
          "-15.836485012358",
          "-15.841345122238",
          "-15.84067",
          "-15.820545586541",
          "-15.854516826001",
          "-15.832470870366",
          "-15.84067",
          "-15.833969561015",
          "-15.84067",
          "-15.841842667042",
          "-15.839317797727",
          "-15.845095068508",
          "-15.831060379564",
          "-15.870262327677",
          "-15.831820001282",
          "-15.84067",
          "-15.834165006333",
          "-15.84067",
          "-15.838701645321",
          "-15.834700002258",
          "-15.843075011318",
          "-15.837135007995",
          "-15.833969561015",
          "-15.838701645321",
          "-15.84067",
          "-15.834840000996",
          "-15.843785000427",
          "-15.84067",
          "-15.84067",
          "-15.84067",
          "-15.841842667042",
          "-15.837664995733",
          "-15.84067",
          "-15.835687747487",
          "-15.8773062639",
          "-15.83455",
          "-15.841181517634",
          "-15.99845",
          "-15.869146300872",
          "-15.854516826001",
          "-15.83455",
          "-15.84067",
          "-15.84067",
          "-15.99845",
          "-15.869146300872"
         ],
         "lon": [
          "-48.02206",
          "-48.02206",
          "-48.02206",
          "-48.02866838915",
          "-48.027706587243",
          "-48.014091547176",
          "-48.011021404263",
          "-48.036129995266",
          "-48.027706587243",
          "-48.02206",
          "-48.039328560105",
          "-48.036807093913",
          "-48.03806388527",
          "-48.014091547176",
          "-44.2475",
          "-48.037296854433",
          "-48.042906345641",
          "-48.040183520072",
          "-48.029974218802",
          "-48.039159954942",
          "-48.019032846386",
          "-48.023145002324",
          "-48.02206",
          "-48.018081673041",
          "-48.03885",
          "-48.015079976998",
          "-48.02206",
          "-48.02206",
          "-48.038544989209",
          "-48.02206",
          "-48.02206",
          "-48.02206",
          "-48.02206",
          "-48.041491577599",
          "-48.014091547176",
          "-48.030154997497",
          "-48.016994990416",
          "-48.02021498234",
          "-48.011199994018",
          "-48.036807093913",
          "-48.02517",
          "-48.040183520072",
          "-48.019895881256",
          "-48.02206",
          "-48.025080006581",
          "-48.02206",
          "-48.018081673041",
          "-48.011199994018",
          "-48.036708072058",
          "-48.02206",
          "-48.02206",
          "-48.02206",
          "-48.02866838915",
          "-48.021175574139",
          "-48.02206",
          "-48.01474998147",
          "-48.03806388527",
          "-48.040183520072",
          "-48.038544989209",
          "-48.015859996907",
          "-48.02206",
          "-48.019895881256",
          "-48.028773031088",
          "-48.02206",
          "-48.039328560105",
          "-48.014091547176",
          "-48.032633560512",
          "-48.02206",
          "-48.011199994018",
          "-48.029974218802",
          "-48.014091547176",
          "-48.032664723176",
          "-48.027706587243",
          "-48.039328560105",
          "-48.028464996269",
          "-48.019032846386",
          "-48.030129977516",
          "-48.03821302233",
          "-48.02206",
          "-47.976087713619",
          "-48.022309997129",
          "-48.027706587243",
          "-48.02206",
          "-48.029974218802",
          "-48.036708072058",
          "-48.038556163428",
          "-48.042906345641",
          "-48.033500005507",
          "-48.02206",
          "-48.019032846386",
          "-48.029319992303",
          "-48.027943339188",
          "-48.027706587243",
          "-48.023145002324",
          "-48.021175574139",
          "-48.014091547176",
          "-48.018820024104",
          "-48.019032846386",
          "-48.01474998147",
          "-48.027706587243",
          "-48.036046158252",
          "-48.031560570408",
          "-48.019032846386",
          "-48.040808859434",
          "-48.023145002324",
          "-48.036708072058",
          "-48.02206",
          "-48.019895881256",
          "-48.02206",
          "-48.02206",
          "-48.015514997773",
          "-48.01347999741",
          "-48.027706587243",
          "-48.026566190314",
          "-48.02206",
          "-48.02206",
          "-48.016994990416",
          "-48.040808859434",
          "-48.036807093913",
          "-48.037296854433",
          "-48.02021498234",
          "-48.036807093913",
          "-48.029319992303",
          "-48.031239992953",
          "-48.014091547176",
          "-48.010341468159",
          "-48.024210171831",
          "-48.016994990416",
          "-48.037294222577",
          "-48.02206",
          "-48.025080006581",
          "-48.015514997773",
          "-48.02206",
          "-48.02206",
          "-47.83064",
          "-48.036077254737",
          "-48.03821302233",
          "-48.032664723176",
          "-48.015079976998",
          "-48.02206",
          "-48.036807093913",
          "-48.010341468159",
          "-48.036807093913",
          "-48.02021498234",
          "-47.42651",
          "-48.02206",
          "-48.014091547176",
          "-48.02206",
          "-48.02206",
          "-48.037294222577",
          "-48.01797",
          "-48.02206",
          "-48.029319992303",
          "-48.029059288268",
          "-48.036708072058",
          "-48.039159954942",
          "-48.038544989209",
          "-48.029991698267",
          "-48.032885025271",
          "-48.029991698267",
          "-48.027943339188",
          "-48.010341468159",
          "-48.02206",
          "-48.013594997122",
          "-48.02206",
          "-48.030129977516",
          "-48.019485002393",
          "-48.031239992953",
          "-48.01198500116",
          "-48.02206",
          "-48.012055031961",
          "-48.02206",
          "-48.036807093913",
          "-48.021175574139",
          "-48.029319992303",
          "-48.02206",
          "-48.042906345641",
          "-48.03437398531",
          "-48.02206",
          "-48.02206",
          "-48.02206",
          "-48.042906345641",
          "-48.02206",
          "-48.019895881256",
          "-48.02206",
          "-48.02206",
          "-48.027706587243",
          "-48.02206",
          "-48.02206",
          "-48.026566190314",
          "-48.027943339188",
          "-48.06544",
          "-48.06544",
          "-48.020920026126",
          "-48.016994990416",
          "-48.016994990416",
          "-48.021175574139",
          "-48.040808859434",
          "-48.039159954942",
          "-48.030893091352",
          "-48.016994990416",
          "-48.02206",
          "-48.02206",
          "-48.027943339188",
          "-48.02206",
          "-48.01624497772",
          "-48.021175574139",
          "-48.02206",
          "-48.029319992303",
          "-48.029319992303",
          "-48.040808859434",
          "-48.026817125194",
          "-48.040183520072",
          "-48.023145002324",
          "-48.027706587243",
          "-48.02206",
          "-48.02592502815",
          "-48.02206",
          "-48.032885025271",
          "-48.01953",
          "-48.025870457665",
          "-48.02206",
          "-48.014465370993",
          "-48.036807093913",
          "-48.02206",
          "-48.027943339188",
          "-48.010341468159",
          "-48.02206",
          "-48.02206",
          "-48.02206",
          "-48.015859996907",
          "-48.01296",
          "-48.028835015385",
          "-48.036807093913",
          "-48.02206",
          "-48.027706587243",
          "-48.011021404263",
          "-48.02206",
          "-48.031983464489",
          "-48.040808859434",
          "-48.036807093913",
          "-48.031239992953",
          "-48.027706587243",
          "-48.021175574139",
          "-48.036807093913",
          "-48.02206",
          "-48.031560570408",
          "-48.036807093913",
          "-48.03885",
          "-48.024210171831",
          "-48.03437398531",
          "-48.02206",
          "-48.035433039244",
          "-48.028464996269",
          "-48.039159954942",
          "-48.040808859434",
          "-48.02206",
          "-48.02206",
          "-48.029991698267",
          "-48.027943339188",
          "-48.036807093913",
          "-48.02206",
          "-48.02206",
          "-48.036708072058",
          "-48.02206",
          "-48.027706587243",
          "-48.02206",
          "-48.040183520072",
          "-48.02206",
          "-48.038556163428",
          "-48.027706587243",
          "-48.027001381243",
          "-48.029319992303",
          "-48.022248736307",
          "-48.015859996907",
          "-48.029319992303",
          "-48.02206",
          "-48.032664723176",
          "-48.025935002615",
          "-48.042906345641",
          "-48.029059288268",
          "-48.02206",
          "-48.026566190314",
          "-48.033500005507",
          "-48.036807093913",
          "-48.02206",
          "-48.024210171831",
          "-48.02206",
          "-48.02206",
          "-48.02206",
          "-48.036807093913",
          "-48.019032846386",
          "-48.02206",
          "-48.036708072058",
          "-48.015859996907",
          "-48.038544989209",
          "-48.02206",
          "-48.026566190314",
          "-48.011199994018",
          "-48.040808859434",
          "-48.027706587243",
          "-48.02206",
          "-48.02206",
          "-48.02206",
          "-48.027706587243",
          "-48.012055031961",
          "-48.011199994018",
          "-48.034634999016",
          "-48.03887",
          "-48.015079976998",
          "-48.02206",
          "-48.011476184693",
          "-48.023145002324",
          "-48.02206",
          "-48.029059288268",
          "-48.02206",
          "-48.039159954942",
          "-48.023145002324",
          "-48.02206",
          "-48.014091547176",
          "-48.02206",
          "-48.02206",
          "-48.02206",
          "-48.017873882211",
          "-48.036708072058",
          "-48.042906345641",
          "-48.012055031961",
          "-48.017797942094",
          "-48.042906345641",
          "-48.019485002393",
          "-48.036807093913",
          "-48.038544989209",
          "-48.023145002324",
          "-48.036046158252",
          "-48.010341468159",
          "-48.017989964233",
          "-48.018114980319",
          "-48.042906345641",
          "-48.02206",
          "-48.019032846386",
          "-48.02206",
          "-48.036708072058",
          "-48.017797942094",
          "-48.02206",
          "-48.019895881256",
          "-48.036807093913",
          "-48.02206",
          "-48.02206",
          "-48.03885",
          "-48.034840608837",
          "-48.033500005507",
          "-48.028464996269",
          "-48.02206",
          "-48.032633560512",
          "-44.2475",
          "-48.038544989209",
          "-48.018114980319",
          "-48.024210171831",
          "-48.029974218802",
          "-48.01198500116",
          "-48.019032846386",
          "-48.019895881256",
          "-48.03437398531",
          "-48.014091547176",
          "-48.037294222577",
          "-48.016994990416",
          "-48.012730940109",
          "-48.014465370993",
          "-48.018820024104",
          "-48.028773031088",
          "-48.02206",
          "-48.019485002393",
          "-48.015214627468",
          "-48.042906345641",
          "-48.021175574139",
          "-48.02206",
          "-48.02206",
          "-48.042906345641",
          "-48.015514997773",
          "-48.02517",
          "-48.013339977718",
          "-48.033500005507",
          "-48.017797942094",
          "-48.040808859434",
          "-48.02206",
          "-48.039159954942",
          "-48.018820024104",
          "-48.028773031088",
          "-48.042906345641",
          "-48.012055031961",
          "-48.02206",
          "-48.042906345641",
          "-48.03437398531",
          "-48.029991698267",
          "-48.021175574139",
          "-48.011476184693",
          "-48.038544989209",
          "-48.036807093913",
          "-48.029319992303",
          "-48.024210171831",
          "-48.011338064854",
          "-48.030154997497",
          "-48.02206",
          "-48.03892",
          "-48.03806388527",
          "-48.042906345641",
          "-48.029991698267",
          "-48.019485002393",
          "-48.02206",
          "-48.02206",
          "-48.02206",
          "-48.017797942094",
          "-48.026338638516",
          "-48.036129995266",
          "-48.02206",
          "-48.022309997129",
          "-48.026566190314",
          "-48.011199994018",
          "-48.03885",
          "-48.029974218802",
          "-48.02206",
          "-48.02206",
          "-48.02206",
          "-48.036807093913",
          "-48.038544989209",
          "-48.036708072058",
          "-48.04554",
          "-48.02206",
          "-48.02206",
          "-48.024303707966",
          "-48.02206",
          "-48.029991698267",
          "-48.02206",
          "-48.027706587243",
          "-48.02206",
          "-48.017989964233",
          "-48.040808859434",
          "-48.02206",
          "-48.015079976998",
          "-48.024210171831",
          "-48.022248736307",
          "-48.036708072058",
          "-48.02206",
          "-48.025935002615",
          "-48.03885",
          "-48.019032846386",
          "-48.02206",
          "-48.02206",
          "-48.02206",
          "-48.02206",
          "-48.012055031961",
          "-48.040808859434",
          "-48.032885025271",
          "-48.02206",
          "-48.012730940109",
          "-48.02206",
          "-48.02206",
          "-48.040808859434",
          "-48.021175574139",
          "-48.012730940109",
          "-48.019895881256",
          "-48.047945000254",
          "-48.039159954942",
          "-48.02206",
          "-48.031719903733",
          "-48.02206",
          "-48.02206",
          "-48.012885008013",
          "-48.02206",
          "-48.02206",
          "-48.011476184693",
          "-48.02206",
          "-48.02206",
          "-48.02206",
          "-48.017797942094",
          "-48.030893091352",
          "-48.027706587243",
          "-48.019032846386",
          "-48.026817125194",
          "-48.026815018629",
          "-48.029319992303",
          "-48.02206",
          "-48.019895881256",
          "-48.02206",
          "-48.020574407655",
          "-48.02206",
          "-48.013594997122",
          "-48.02206",
          "-48.015214627468",
          "-48.02206",
          "-48.016994990416",
          "-48.02206",
          "-48.016994990416",
          "-48.010341468159",
          "-48.02206",
          "-48.032664723176",
          "-48.036807093913",
          "-48.02206",
          "-48.036807093913",
          "-48.02206",
          "-48.029319992303",
          "-48.02206",
          "-48.02206",
          "-48.013594997122",
          "-48.02206",
          "-48.036168576359",
          "-48.029319992303",
          "-48.015859996907",
          "-48.02206",
          "-48.014484987601",
          "-48.03281499447",
          "-48.02206",
          "-48.036807093913",
          "-48.026566190314",
          "-48.014330006211",
          "-48.030129977516",
          "-48.030893091352",
          "-48.032885025271",
          "-48.02206",
          "-48.036046158252",
          "-48.042906345641",
          "-48.014091547176",
          "-48.02206",
          "-48.02206",
          "-48.02206",
          "-48.02206",
          "-48.01797",
          "-48.03821302233",
          "-48.025935002615",
          "-48.001",
          "-48.03437398531",
          "-48.011021404263",
          "-48.02206",
          "-48.011021404263",
          "-48.06544",
          "-48.014330006211",
          "-48.02206",
          "-48.011476184693",
          "-48.037294222577",
          "-48.018114980319",
          "-48.02206",
          "-48.015214627468",
          "-48.02206",
          "-48.037296854433",
          "-48.031239992953",
          "-48.019895881256",
          "-48.019895881256",
          "-48.030893091352",
          "-48.02206",
          "-48.040183520072",
          "-48.038544989209",
          "-48.011199994018",
          "-48.042906345641",
          "-48.02206",
          "-48.039159954942",
          "-48.024210171831",
          "-48.02206",
          "-48.03885",
          "-48.014465370993",
          "-48.02206",
          "-48.011199994018",
          "-48.034099006872",
          "-48.02206",
          "-48.025080006581",
          "-48.02206",
          "-48.013339977718",
          "-48.033500005507",
          "-48.02206",
          "-48.02206",
          "-48.02206",
          "-48.040808859434",
          "-48.01474998147",
          "-48.010341468159",
          "-48.040183520072",
          "-48.040183520072",
          "-48.023145002324",
          "-48.011199994018",
          "-48.02206",
          "-48.02206",
          "-48.02206",
          "-48.02206",
          "-48.02206",
          "-48.02206",
          "-48.06544",
          "-48.029319992303",
          "-48.02206",
          "-48.012730940109",
          "-48.015514997773",
          "-48.02206",
          "-48.03892",
          "-48.01296",
          "-48.017797942094",
          "-48.024699971091",
          "-48.019895881256",
          "-48.02206",
          "-48.019485002393",
          "-48.02206",
          "-48.038969993609",
          "-48.02206",
          "-48.032664723176",
          "-48.038544989209",
          "-48.02206",
          "-48.037296854433",
          "-48.03821302233",
          "-48.02206",
          "-48.02206",
          "-48.039159954942",
          "-48.032664723176",
          "-48.027706587243",
          "-48.018114980319",
          "-48.038556163428",
          "-48.02206",
          "-48.015214627468",
          "-48.03885",
          "-48.019895881256",
          "-48.036046158252",
          "-48.039328560105",
          "-48.02206",
          "-48.025080006581",
          "-48.02206",
          "-48.02206",
          "-48.024210171831",
          "-48.019485002393",
          "-48.019895881256",
          "-48.02206",
          "-48.02206",
          "-48.032633560512",
          "-48.030893091352",
          "-48.022429984073",
          "-48.02206",
          "-48.02206",
          "-48.037294222577",
          "-48.022248736307",
          "-48.015859996907",
          "-48.040365306995",
          "-48.024303707966",
          "-48.032633560512",
          "-48.028464996269",
          "-48.006582233421",
          "-48.015214627468",
          "-48.032633560512",
          "-48.027706587243",
          "-48.01474998147",
          "-48.037296854433",
          "-48.022429984073",
          "-48.010069987741",
          "-48.02206",
          "-48.034634999016",
          "-48.027706587243",
          "-48.040183520072",
          "-44.2475",
          "-48.020574407655",
          "-48.036807093913",
          "-48.033500005507",
          "-48.02206",
          "-48.02206",
          "-48.016994990416",
          "-48.02206",
          "-48.010341468159",
          "-48.032885025271",
          "-48.02206",
          "-48.02206",
          "-48.019032846386",
          "-48.010069987741",
          "-48.02206",
          "-44.2475",
          "-50.47042",
          "-48.034840608837",
          "-48.03821302233",
          "-48.010341468159",
          "-48.02206",
          "-48.021175574139",
          "-48.02206",
          "-48.014330006211",
          "-48.02206",
          "-48.026566190314",
          "-48.019032846386",
          "-48.02592502815",
          "-48.026566190314",
          "-48.020574407655",
          "-48.027706587243",
          "-48.02206",
          "-48.02206",
          "-48.938829996129",
          "-48.02866838915",
          "-48.013339977718",
          "-48.01797",
          "-48.010069987741",
          "-48.020920026126",
          "-48.02206",
          "-48.036807093913",
          "-48.027706587243",
          "-48.02206",
          "-48.027706587243",
          "-48.036807093913",
          "-48.02866838915",
          "-48.021715007732",
          "-48.030439167642",
          "-48.02206",
          "-48.02993",
          "-48.02206",
          "-48.010341468159",
          "-48.019895881256",
          "-48.036708072058",
          "-48.037294222577",
          "-48.015859996907",
          "-48.02206",
          "-48.03892",
          "-48.032664723176",
          "-48.028464996269",
          "-48.02206",
          "-48.032730001971",
          "-48.029319992303",
          "-48.02592502815",
          "-48.02206",
          "-48.01624497772",
          "-48.02206",
          "-48.03885",
          "-48.027706587243",
          "-48.023145002324",
          "-48.02206",
          "-48.02206",
          "-48.018114980319",
          "-48.039328560105",
          "-48.022309997129",
          "-48.031239992953",
          "-48.02206",
          "-48.02206",
          "-48.011476184693",
          "-48.02206",
          "-48.02206",
          "-48.029319992303",
          "-48.034840608837",
          "-48.028773031088",
          "-48.018114980319",
          "-48.038544989209",
          "-48.025935002615",
          "-48.02206",
          "-48.02206",
          "-48.014330006211",
          "-48.036046158252",
          "-48.019485002393",
          "-48.029319992303",
          "-47.83064",
          "-48.03437398531",
          "-48.02206",
          "-48.010341468159",
          "-48.016994990416",
          "-48.033500005507",
          "-48.010341468159",
          "-48.029991698267",
          "-47.83064",
          "-48.02206",
          "-48.02206",
          "-48.027706587243",
          "-48.02206",
          "-48.029974218802",
          "-48.028464996269",
          "-48.025080006581",
          "-48.037294222577",
          "-48.02206",
          "-48.02206",
          "-48.038544989209",
          "-48.042906345641",
          "-48.040808859434",
          "-48.011021404263",
          "-48.02206",
          "-48.036708072058",
          "-48.02206",
          "-48.03821302233",
          "-48.010341468159",
          "-48.024210171831",
          "-48.018081673041",
          "-48.020920026126",
          "-48.00653",
          "-48.028464996269",
          "-48.02866838915",
          "-48.026817125194",
          "-48.03437398531",
          "-48.039159954942",
          "-48.02206",
          "-48.027943339188",
          "-48.017797942094",
          "-48.031239992953",
          "-48.021175574139",
          "-48.02206",
          "-48.040183520072",
          "-48.02206",
          "-48.031239992953",
          "-48.02206",
          "-48.025080006581",
          "-48.019485002393",
          "-48.038544989209",
          "-48.011021404263",
          "-48.02206",
          "-48.032885025271",
          "-48.02206",
          "-48.02206",
          "-48.02206",
          "-48.02206",
          "-48.02206",
          "-48.042906345641",
          "-48.031983464489",
          "-48.02206",
          "-48.023145002324",
          "-48.036129995266",
          "-48.028773031088",
          "-48.019032846386",
          "-48.019032846386",
          "-48.02206",
          "-48.019895881256",
          "-48.018081673041",
          "-48.02206",
          "-48.039328560105",
          "-48.019485002393",
          "-48.02206",
          "-48.013594997122",
          "-48.93883",
          "-48.02206",
          "-48.025935002615",
          "-48.03885",
          "-48.023145002324",
          "-48.02206",
          "-48.02206",
          "-48.027001381243",
          "-48.02866838915",
          "-48.03892",
          "-48.030039307702",
          "-48.040808859434",
          "-48.02206",
          "-48.036046158252",
          "-48.025935002615",
          "-48.036708072058",
          "-48.014465370993",
          "-48.037294222577",
          "-48.026338638516",
          "-48.037294222577",
          "-48.02206",
          "-48.023145002324",
          "-48.02206",
          "-48.02206",
          "-48.036046158252",
          "-48.03806388527",
          "-48.02866838915",
          "-48.019485002393",
          "-48.036807093913",
          "-48.027943339188",
          "-48.02592502815",
          "-48.029974218802",
          "-48.031983464489",
          "-48.02206",
          "-48.02206",
          "-48.015079976998",
          "-48.03892",
          "-48.019895881256",
          "-48.011021404263",
          "-48.029319992303",
          "-48.017797942094",
          "-48.014330006211",
          "-48.034840608837",
          "-48.015079976998",
          "-48.021175574139",
          "-48.02206",
          "-48.017873882211",
          "-48.038969993609",
          "-48.036807093913",
          "-48.012730940109",
          "-48.027706587243",
          "-48.040183520072",
          "-48.030893091352",
          "-48.021175574139",
          "-48.02206",
          "-48.010341468159",
          "-48.02206",
          "-48.014330006211",
          "-48.02206",
          "-48.02206",
          "-48.036807093913",
          "-48.02206",
          "-48.011021404263",
          "-48.023145002324",
          "-48.021715007732",
          "-48.017797942094",
          "-48.039328560105",
          "-48.040808859434",
          "-48.023145002324",
          "-48.039159954942",
          "-48.038969993609",
          "-48.02206",
          "-48.038556163428",
          "-48.01474998147",
          "-48.02206",
          "-48.02206",
          "-48.03437398531",
          "-48.02206",
          "-48.02206",
          "-48.02206",
          "-48.016994990416",
          "-48.037296854433",
          "-48.02206",
          "-48.02206",
          "-48.019485002393",
          "-48.02206",
          "-48.025080006581",
          "-48.02206",
          "-48.036708072058",
          "-48.036807093913",
          "-48.039159954942",
          "-48.02206",
          "-48.02206",
          "-48.01619",
          "-48.02206",
          "-48.040808859434",
          "-48.028773031088",
          "-48.02206",
          "-48.040808859434",
          "-48.019895881256",
          "-48.02206",
          "-48.02206",
          "-48.032664723176",
          "-48.035544008185",
          "-48.02206",
          "-48.02592502815",
          "-48.036807093913",
          "-48.029319992303",
          "-48.014465370993",
          "-48.020574407655",
          "-48.011021404263",
          "-48.02206",
          "-48.011199994018",
          "-48.015214627468",
          "-48.042906345641",
          "-48.029059288268",
          "-48.030893091352",
          "-48.02206",
          "-48.029991698267",
          "-48.019895881256",
          "-48.025080006581",
          "-48.02206",
          "-48.036807093913",
          "-48.032885025271",
          "-48.026566190314",
          "-48.019428275203",
          "-48.028464996269",
          "-48.02206",
          "-48.029991698267",
          "-48.029991698267",
          "-48.030893091352",
          "-48.038544989209",
          "-48.011021404263",
          "-48.020574407655",
          "-48.016059124564",
          "-48.040808859434",
          "-48.02206",
          "-48.021175574139",
          "-48.029991698267",
          "-48.030893091352",
          "-48.010341468159",
          "-48.011021404263",
          "-48.037448533886",
          "-48.03892",
          "-48.040183520072",
          "-48.019032846386",
          "-48.010341468159",
          "-48.035433039244",
          "-48.021175574139",
          "-48.03437398531",
          "-48.039328560105",
          "-48.025080006581",
          "-48.02206",
          "-48.031983464489",
          "-48.02206",
          "-48.02206",
          "-48.012715023017",
          "-48.012055031961",
          "-48.02206",
          "-48.036807093913",
          "-48.02206",
          "-48.037294222577",
          "-48.036708072058",
          "-48.030129977516",
          "-48.036129995266",
          "-48.017873882211",
          "-48.036807093913",
          "-48.022309997129",
          "-48.029319992303",
          "-48.02206",
          "-48.042906345641",
          "-48.02206",
          "-48.040365306995",
          "-48.014091547176",
          "-48.036708072058",
          "-48.019895881256",
          "-48.036807093913",
          "-48.02206",
          "-48.02206",
          "-48.013594997122",
          "-48.027001381243",
          "-48.036046158252",
          "-48.027706587243",
          "-48.02206",
          "-48.029319992303",
          "-48.02206",
          "-48.01953",
          "-48.015859996907",
          "-47.83064",
          "-48.010341468159",
          "-48.027706587243",
          "-48.02206",
          "-48.01177",
          "-48.031560570408",
          "-48.033500005507",
          "-48.02592502815",
          "-48.02206",
          "-48.038544989209",
          "-48.022309997129",
          "-48.01797",
          "-48.040808859434",
          "-48.020574407655",
          "-48.02592502815",
          "-48.019485002393",
          "-48.02206",
          "-48.038969993609",
          "-48.042906345641",
          "-48.039328560105",
          "-48.022248736307",
          "-48.027706587243",
          "-48.02206",
          "-48.042906345641",
          "-48.026817125194",
          "-48.03437398531",
          "-48.02206",
          "-48.02206",
          "-48.037294222577",
          "-48.040183520072",
          "-48.02206",
          "-48.023145002324",
          "-48.034099006872",
          "-48.02206",
          "-48.040183520072",
          "-48.019485002393",
          "-48.029319992303",
          "-48.021175574139",
          "-48.02206",
          "-48.03437398531",
          "-48.02206",
          "-48.02206",
          "-48.037296854433",
          "-48.03437398531",
          "-48.02206",
          "-48.015514997773",
          "-48.03821302233",
          "-48.036708072058",
          "-48.02206",
          "-48.02206",
          "-48.028773031088",
          "-48.040808859434",
          "-48.014465370993",
          "-48.024303707966",
          "-48.010069987741",
          "-48.02206",
          "-48.040808859434",
          "-42.95808",
          "-48.02206",
          "-48.011103999526",
          "-48.02206",
          "-48.019485002393",
          "-48.029991698267",
          "-48.039159954942",
          "-48.022248736307",
          "-48.02206",
          "-48.02206",
          "-48.027943339188",
          "-48.018114980319",
          "-48.042906345641",
          "-48.00623",
          "-48.032633560512",
          "-48.029991698267",
          "-48.035433039244",
          "-48.02206",
          "-48.02206",
          "-48.02206",
          "-48.027001381243",
          "-48.033500005507",
          "-48.029785185951",
          "-48.038544989209",
          "-48.039328560105",
          "-48.027001381243",
          "-48.016994990416",
          "-48.029974218802",
          "-48.018114980319",
          "-48.03892",
          "-48.038556163428",
          "-48.029991698267",
          "-48.02206",
          "-48.019032846386",
          "-48.026817125194",
          "-48.036267852923",
          "-48.02206",
          "-48.031239992953",
          "-48.026815018629",
          "-48.03437398531",
          "-48.013594997122",
          "-48.02021498234",
          "-48.02206",
          "-48.009124755818",
          "-48.01198500116",
          "-48.031239992953",
          "-48.02206",
          "-48.027109977802",
          "-48.024699971091",
          "-48.018081673041",
          "-48.036807093913",
          "-48.02206",
          "-48.02206",
          "-48.02206",
          "-48.020574407655",
          "-48.02206",
          "-48.027706587243",
          "-48.02206",
          "-48.02206",
          "-48.019895881256",
          "-48.029991698267",
          "-47.837222558332",
          "-48.011476184693",
          "-48.036807093913",
          "-48.02206",
          "-48.021175574139",
          "-48.018114980319",
          "-48.024303707966",
          "-48.027706587243",
          "-48.040808859434",
          "-48.036807093913",
          "-48.03437398531",
          "-48.032664723176",
          "-48.024210171831",
          "-48.029974218802",
          "-48.02206",
          "-48.022309997129",
          "-48.022309997129",
          "-48.015214627468",
          "-48.02206",
          "-48.02206",
          "-48.021175574139",
          "-48.029319992303",
          "-48.012055031961",
          "-48.027706587243",
          "-48.039159954942",
          "-48.02206",
          "-48.014091547176",
          "-48.032633560512",
          "-48.014091547176",
          "-48.012715023017",
          "-48.02206",
          "-48.022309997129",
          "-48.034634999016",
          "-47.83064",
          "-48.02206",
          "-48.01474998147",
          "-48.035923123337",
          "-48.016994990416",
          "-48.029785185951",
          "-48.040183520072",
          "-48.012730940109",
          "-48.03437398531",
          "-48.02206",
          "-48.02206",
          "-48.036267852923",
          "-48.04411",
          "-48.02206",
          "-48.02206",
          "-48.028773031088",
          "-48.01624497772",
          "-48.02206",
          "-48.027706587243",
          "-48.040183520072",
          "-48.029991698267",
          "-48.02206",
          "-48.020574407655",
          "-48.02206",
          "-48.047945000254",
          "-48.02206",
          "-48.040808859434",
          "-48.02206",
          "-48.01797",
          "-48.030129977516",
          "-48.030039307702",
          "-48.031239992953",
          "-48.02206",
          "-48.036807093913",
          "-48.042906345641",
          "-48.02206",
          "-48.027706587243",
          "-48.036708072058",
          "-48.011021404263",
          "-48.02206",
          "-48.027706587243",
          "-48.036807093913",
          "-48.016994990416",
          "-48.037296854433",
          "-48.02206",
          "-48.039159954942",
          "-48.015214627468",
          "-48.016994990416",
          "-48.019895881256",
          "-48.036807093913",
          "-48.03272974753",
          "-48.02206",
          "-48.02206",
          "-48.02206",
          "-48.015214627468",
          "-48.042906345641",
          "-48.022309997129",
          "-48.01672",
          "-48.03437398531",
          "-48.016994990416",
          "-48.02206",
          "-48.02206",
          "-48.02206",
          "-48.040183520072",
          "-48.029991698267",
          "-48.039159954942",
          "-48.011476184693",
          "-48.02206",
          "-48.02206",
          "-48.031239992953",
          "-48.02206",
          "-48.014465370993",
          "-48.02206",
          "-48.040808859434",
          "-48.03437398531",
          "-48.021175574139",
          "-48.017873882211",
          "-48.014091547176",
          "-48.02206",
          "-48.03885",
          "-48.027943339188",
          "-48.015859996907",
          "-48.020574407655",
          "-48.02206",
          "-48.03887",
          "-48.027706587243",
          "-48.02206",
          "-48.02206",
          "-48.040808859434",
          "-48.034450010413",
          "-48.032885025271",
          "-48.034634999016",
          "-48.028464996269",
          "-48.040808859434",
          "-48.02206",
          "-50.47042",
          "-48.014330006211",
          "-48.02206",
          "-48.027706587243",
          "-48.039159954942",
          "-48.02206",
          "-48.011021404263",
          "-48.034099006872",
          "-48.028464996269",
          "-48.02206",
          "-48.030893091352",
          "-48.02206",
          "-48.014465370993",
          "-48.015214627468",
          "-48.038556163428",
          "-48.022309997129",
          "-48.025935002615",
          "-48.014091547176",
          "-48.012204984209",
          "-48.02206",
          "-48.03885",
          "-48.02206",
          "-48.02206",
          "-48.03806388527",
          "-48.010341468159",
          "-48.040183520072",
          "-48.040365306995",
          "-48.029974218802",
          "-48.031239992953",
          "-48.036129995266",
          "-48.02206",
          "-48.010341468159",
          "-48.010341468159",
          "-48.040365306995",
          "-48.015448382773",
          "-48.938829996129",
          "-48.02206",
          "-48.02206",
          "-48.038544989209",
          "-48.029319992303",
          "-48.02206",
          "-48.02206",
          "-48.037294222577",
          "-48.036807093913",
          "-48.02206",
          "-48.024210171831",
          "-48.027706587243",
          "-48.02206",
          "-48.02206",
          "-48.013594997122",
          "-48.015214627468",
          "-48.033255002477",
          "-48.019485002393",
          "-48.014091547176",
          "-48.027706587243",
          "-48.02206",
          "-48.03437398531",
          "-48.029991698267",
          "-48.021175574139",
          "-48.019485002393",
          "-48.031630002908",
          "-48.02206",
          "-48.036129995266",
          "-48.025080006581",
          "-48.03892",
          "-48.02866838915",
          "-48.02206",
          "-48.011476184693",
          "-48.02206",
          "-48.028773031088",
          "-48.02206",
          "-48.02206",
          "-48.039159954942",
          "-48.014091547176",
          "-48.017989964233",
          "-48.019032846386",
          "-48.031239992953",
          "-48.017873882211",
          "-48.036807093913",
          "-48.014330006211",
          "-48.021175574139",
          "-48.010341468159",
          "-48.02206",
          "-48.036708072058",
          "-48.035433039244",
          "-48.018081673041",
          "-48.036708072058",
          "-48.021175574139",
          "-48.036807093913",
          "-48.02206",
          "-48.017873882211",
          "-48.036129995266",
          "-48.02206",
          "-48.019895881256",
          "-48.019485002393",
          "-48.02206",
          "-48.011021404263",
          "-48.02206",
          "-48.02206",
          "-47.83064",
          "-48.042906345641",
          "-48.037294222577",
          "-48.02206",
          "-48.036807093913",
          "-48.042906345641",
          "-48.032885025271",
          "-48.02206",
          "-48.040808859434",
          "-48.011021404263",
          "-48.02206",
          "-48.036807093913",
          "-48.009124755818",
          "-48.03885",
          "-48.028773031088",
          "-48.014484987601",
          "-48.02206",
          "-48.02206",
          "-48.01296",
          "-48.017989964233",
          "-48.027706587243",
          "-48.040808859434",
          "-48.00623",
          "-48.039159954942",
          "-48.03437398531",
          "-48.010341468159",
          "-48.02206",
          "-48.03887",
          "-48.016059124564",
          "-48.02206",
          "-45.88022",
          "-48.039159954942",
          "-48.029319992303",
          "-48.02206",
          "-48.022309997129",
          "-48.02206",
          "-48.015079976998",
          "-48.036708072058",
          "-48.02206",
          "-48.02206",
          "-48.014091547176",
          "-48.042906345641",
          "-48.015214627468",
          "-48.039159954942",
          "-48.040808859434",
          "-48.03885",
          "-48.02206",
          "-48.02206",
          "-48.02206",
          "-48.02206",
          "-48.02206",
          "-48.036807093913",
          "-48.02206",
          "-48.033500005507",
          "-48.02592502815",
          "-48.029319992303",
          "-48.024210171831",
          "-48.014091547176",
          "-48.010069987741",
          "-48.02206",
          "-48.02206",
          "-48.02206",
          "-48.042906345641",
          "-48.02206",
          "-48.038544989209",
          "-48.032885025271",
          "-48.02206",
          "-48.036708072058",
          "-48.03892",
          "-48.036807093913",
          "-48.025080006581",
          "-48.01624497772",
          "-48.02206",
          "-48.030893091352",
          "-48.018114980319",
          "-48.02206",
          "-48.016059124564",
          "-48.036708072058",
          "-48.038544989209",
          "-48.019895881256",
          "-48.02206",
          "-48.027001381243",
          "-48.027001381243",
          "-48.039328560105",
          "-48.02206",
          "-48.02206",
          "-48.02206",
          "-48.030893091352",
          "-48.017989964233",
          "-48.02866838915",
          "-48.023145002324",
          "-48.02206",
          "-48.02206",
          "-48.02206",
          "-48.02206",
          "-48.040183520072",
          "-48.012730940109",
          "-48.02206",
          "-48.01198500116",
          "-48.032885025271",
          "-48.017989964233",
          "-48.02206",
          "-48.013594997122",
          "-48.036708072058",
          "-48.032885025271",
          "-48.03821302233",
          "-48.039328560105",
          "-48.03821302233",
          "-48.038544989209",
          "-48.02206",
          "-48.010341468159",
          "-48.02206",
          "-48.021175574139",
          "-48.027706587243",
          "-48.02206",
          "-48.030893091352",
          "-48.031560570408",
          "-48.02206",
          "-48.015214627468",
          "-48.02206",
          "-48.015079976998",
          "-48.03885",
          "-48.00653",
          "-48.04554",
          "-48.042906345641",
          "-48.036807093913",
          "-48.02206",
          "-48.025935002615",
          "-48.02206",
          "-48.019032846386",
          "-48.035433039244",
          "-48.025080006581",
          "-48.02206",
          "-48.02206",
          "-48.029974218802",
          "-48.01797",
          "-48.042906345641",
          "-48.025080006581",
          "-48.02206",
          "-48.013339977718",
          "-48.035972496014",
          "-48.02206",
          "-48.036807093913",
          "-48.030893091352",
          "-48.026566190314",
          "-48.039159954942",
          "-48.02206",
          "-48.017797942094",
          "-48.02206",
          "-48.02206",
          "-48.015514997773",
          "-48.016059124564",
          "-48.02206",
          "-48.017505029225",
          "-48.040808859434",
          "-48.024210171831",
          "-48.017873882211",
          "-48.02206",
          "-48.042906345641",
          "-48.02206",
          "-48.02206",
          "-48.02206",
          "-48.010341468159",
          "-48.02206",
          "-48.017505029225",
          "-48.039328560105",
          "-48.012055031961",
          "-48.02206",
          "-48.010069987741",
          "-48.02206",
          "-48.019895881256",
          "-48.02206",
          "-48.021175574139",
          "-48.031239992953",
          "-48.02206",
          "-48.027706587243",
          "-48.02206",
          "-48.02206",
          "-48.02206",
          "-48.02206",
          "-48.028773031088",
          "-48.01177",
          "-48.02206",
          "-48.014091547176",
          "-48.011021404263",
          "-48.02206",
          "-48.019485002393",
          "-48.038556163428",
          "-48.03885",
          "-48.02206",
          "-48.031719903733",
          "-48.02206",
          "-48.012055031961",
          "-48.019895881256",
          "-48.01177",
          "-48.036708072058",
          "-48.016994990416",
          "-48.027706587243",
          "-48.036807093913",
          "-48.018820024104",
          "-48.02206",
          "-48.02206",
          "-48.02206",
          "-48.018081673041",
          "-48.025080006581",
          "-48.023145002324",
          "-48.019032846386",
          "-48.037294222577",
          "-48.02206",
          "-48.02206",
          "-48.019485002393",
          "-48.02206",
          "-48.029059288268",
          "-48.03437398531",
          "-48.014465370993",
          "-48.027001381243",
          "-48.03437398531",
          "-48.032633560512",
          "-48.024699971091",
          "-48.029319992303",
          "-48.02206",
          "-48.028773031088",
          "-48.02206",
          "-48.040808859434",
          "-48.02206",
          "-48.016059124564",
          "-48.02206",
          "-48.014465370993",
          "-48.040183520072",
          "-48.014091547176",
          "-48.015859996907",
          "-48.040183520072",
          "-48.025935002615",
          "-48.040183520072",
          "-48.040808859434",
          "-48.042906345641",
          "-48.019895881256",
          "-48.02206",
          "-48.026566190314",
          "-47.83064",
          "-48.02206",
          "-48.011199994018",
          "-48.042906345641",
          "-48.040183520072",
          "-48.938829996129",
          "-48.02206",
          "-48.022309997129",
          "-48.034099006872",
          "-48.016994990416",
          "-48.039159954942",
          "-50.47042",
          "-48.036807093913",
          "-48.010069987741",
          "-48.019032846386",
          "-48.029059288268",
          "-48.019485002393",
          "-48.02206",
          "-48.024210171831",
          "-48.02206",
          "-48.040365306995",
          "-48.038969993609",
          "-48.01474998147",
          "-48.020574407655",
          "-48.035433039244",
          "-48.014091547176",
          "-48.02206",
          "-48.015079976998",
          "-48.020920026126",
          "-48.029974218802",
          "-48.03821302233",
          "-48.020920026126",
          "-48.04454",
          "-48.010069987741",
          "-48.027706587243",
          "-48.011021404263",
          "-48.014330006211",
          "-48.011476184693",
          "-48.011279999284",
          "-48.022248736307",
          "-48.02206",
          "-48.042906345641",
          "-48.014465370993",
          "-48.028773031088",
          "-48.011476184693",
          "-48.02206",
          "-48.021715007732",
          "-48.038556163428",
          "-48.03437398531",
          "-48.019428275203",
          "-48.032664723176",
          "-48.024210171831",
          "-48.032885025271",
          "-48.010341468159",
          "-48.036807093913",
          "-48.02206",
          "-48.02206",
          "-48.027706587243",
          "-48.02866838915",
          "-48.037448533886",
          "-48.011021404263",
          "-48.040183520072",
          "-48.02993",
          "-48.01624497772",
          "-48.029991698267",
          "-48.02206",
          "-48.030893091352",
          "-48.027706587243",
          "-48.02206",
          "-48.02206",
          "-48.039159954942",
          "-48.02206",
          "-48.025080006581",
          "-48.015214627468",
          "-48.02206",
          "-48.04411",
          "-48.02206",
          "-50.47042",
          "-48.025080006581",
          "-48.026566190314",
          "-48.038556163428",
          "-48.042906345641",
          "-48.027001381243",
          "-48.042906345641",
          "-48.027001381243",
          "-48.030893091352",
          "-48.037294222577",
          "-48.02206",
          "-48.02206",
          "-48.02206",
          "-48.039328560105",
          "-48.02592502815",
          "-48.03885",
          "-48.02206",
          "-48.02206",
          "-48.036807093913",
          "-48.030893091352",
          "-48.020574407655",
          "-48.02206",
          "-48.022429984073",
          "-48.034099006872",
          "-48.02206",
          "-48.030893091352",
          "-48.02021498234",
          "-48.02206",
          "-48.02206",
          "-48.019895881256",
          "-48.02206",
          "-48.010341468159",
          "-48.036807093913",
          "-48.018081673041",
          "-48.02206",
          "-48.010341468159",
          "-48.03885",
          "-48.02206",
          "-48.02206",
          "-48.02206",
          "-48.019485002393",
          "-48.030893091352",
          "-48.036807093913",
          "-48.019895881256",
          "-48.93883",
          "-48.039159954942",
          "-48.010341468159",
          "-48.02206",
          "-48.02206",
          "-48.029991698267",
          "-48.042906345641",
          "-48.022309997129",
          "-48.02206",
          "-48.02206",
          "-48.02206",
          "-48.011021404263",
          "-48.017873882211",
          "-48.02206",
          "-48.032664723176",
          "-48.02206",
          "-48.039159954942",
          "-48.02206",
          "-48.028464996269",
          "-48.012715023017",
          "-48.02206",
          "-48.029319992303",
          "-48.02206",
          "-48.034634999016",
          "-48.02206",
          "-48.042906345641",
          "-48.038556163428",
          "-48.02206",
          "-48.02206",
          "-48.03272974753",
          "-48.040808859434",
          "-48.018114980319",
          "-48.012730940109",
          "-48.02206",
          "-48.02206",
          "-48.027706587243",
          "-48.02206",
          "-48.01177",
          "-48.036807093913",
          "-48.027706587243",
          "-48.011199994018",
          "-48.02866838915",
          "-48.02206",
          "-48.02206",
          "-48.01953",
          "-47.870050001829",
          "-48.019895881256",
          "-48.036129995266",
          "-48.028464996269",
          "-48.040183520072",
          "-48.02206",
          "-48.02206",
          "-48.031560570408",
          "-48.02206",
          "-48.036046158252",
          "-48.032633560512",
          "-48.02206",
          "-48.02206",
          "-48.029059288268",
          "-48.024699971091",
          "-48.042906345641",
          "-48.021175574139",
          "-48.02206",
          "-48.020574407655",
          "-48.02206",
          "-48.01953",
          "-48.02206",
          "-48.02206",
          "-48.021715007732",
          "-48.02206",
          "-48.024210171831",
          "-48.02206",
          "-48.02206",
          "-48.02206",
          "-48.02206",
          "-48.017989964233",
          "-48.02206",
          "-48.030154997497",
          "-48.01347999741",
          "-48.022309997129",
          "-48.02206",
          "-48.019032846386",
          "-48.03885",
          "-48.02206",
          "-48.02206",
          "-48.024210171831",
          "-48.019485002393",
          "-48.032664723176",
          "-48.016994990416",
          "-48.023145002324",
          "-48.02206",
          "-48.93883",
          "-48.036807093913",
          "-48.02206",
          "-48.02206",
          "-48.042906345641",
          "-48.019032846386",
          "-48.021175574139",
          "-48.02206",
          "-48.02206",
          "-48.011169963486",
          "-48.038556163428",
          "-48.042906345641",
          "-48.029991698267",
          "-48.02206",
          "-48.02206",
          "-48.02206",
          "-48.02206",
          "-48.029974218802",
          "-48.010069987741",
          "-48.030011081761",
          "-48.01624497772",
          "-48.02206",
          "-48.029991698267",
          "-48.017797942094",
          "-48.038556163428",
          "-48.027001381243",
          "-48.040808859434",
          "-48.040365306995",
          "-48.036807093913",
          "-48.02206",
          "-48.02206",
          "-48.02206",
          "-48.024210171831",
          "-48.017797942094",
          "-48.019485002393",
          "-48.029319992303",
          "-48.009124755818",
          "-47.83064",
          "-48.011021404263",
          "-48.036708072058",
          "-48.02206",
          "-48.019485002393",
          "-48.02206",
          "-48.040183520072",
          "-48.036807093913",
          "-48.00623",
          "-48.034840608837",
          "-48.01198500116",
          "-48.028773031088",
          "-48.036708072058",
          "-48.015859996907",
          "-48.01474998147",
          "-48.016994990416",
          "-48.036807093913",
          "-48.02206",
          "-48.02206",
          "-48.02206",
          "-48.018820024104",
          "-48.02592502815",
          "-48.02206",
          "-48.01198500116",
          "-48.031983464489",
          "-48.039328560105",
          "-48.025935002615",
          "-48.021715007732",
          "-48.015402933859",
          "-48.036807093913",
          "-48.038544989209",
          "-48.02206",
          "-48.02592502815",
          "-48.039159954942",
          "-48.02206",
          "-48.036807093913",
          "-48.011199994018",
          "-48.029319992303",
          "-48.02206",
          "-48.02206",
          "-48.036807093913",
          "-48.018081673041",
          "-48.02206",
          "-48.03821302233",
          "-48.019895881256",
          "-48.042906345641",
          "-48.040808859434",
          "-48.03437398531",
          "-48.03885",
          "-48.033500005507",
          "-48.015214627468",
          "-48.02206",
          "-48.020574407655",
          "-48.010341468159",
          "-48.034099006872",
          "-48.029319992303",
          "-48.010341468159",
          "-48.038969993609",
          "-48.036267852923",
          "-48.019032846386",
          "-48.030129977516",
          "-48.02206",
          "-48.016994990416",
          "-48.024699971091",
          "-48.02206",
          "-48.029319992303",
          "-48.02206",
          "-48.036807093913",
          "-48.02206",
          "-48.017873882211",
          "-48.021175574139",
          "-48.02206",
          "-48.032664723176",
          "-48.02206",
          "-48.02206",
          "-48.013594997122",
          "-48.015859996907",
          "-48.028773031088",
          "-48.03885",
          "-48.030039307702",
          "-48.02206",
          "-48.030893091352",
          "-48.02206",
          "-48.02206",
          "-48.018081673041",
          "-48.02206",
          "-48.021175574139",
          "-48.030893091352",
          "-48.017873882211",
          "-48.013594997122",
          "-48.029059288268",
          "-48.026817125194",
          "-48.02206",
          "-48.030039307702",
          "-48.040808859434",
          "-48.038544989209",
          "-48.01474998147",
          "-48.027943339188",
          "-48.021175574139",
          "-48.019895881256",
          "-48.012730940109",
          "-48.023145002324",
          "-48.029319992303",
          "-48.027001381243",
          "-48.02206",
          "-48.041491577599",
          "-48.042906345641",
          "-48.040183520072",
          "-48.02206",
          "-48.02206",
          "-48.02206",
          "-48.036129995266",
          "-48.027706587243",
          "-48.02206",
          "-48.03272974753",
          "-48.02206",
          "-48.016994990416",
          "-48.030893091352",
          "-48.02206",
          "-48.03437398531",
          "-48.029319992303",
          "-48.036807093913",
          "-48.03892",
          "-48.015859996907",
          "-48.02206",
          "-48.015214627468",
          "-48.02206",
          "-48.02206",
          "-48.040183520072",
          "-48.019485002393",
          "-48.039159954942",
          "-48.039159954942",
          "-48.02206",
          "-48.02206",
          "-48.014330006211",
          "-48.015859996907",
          "-48.010069987741",
          "-48.027001381243",
          "-48.02592502815",
          "-48.017873882211",
          "-48.02206",
          "-48.02206",
          "-48.012730940109",
          "-48.033500005507",
          "-48.011021404263",
          "-48.02206",
          "-48.028773031088",
          "-48.015214627468",
          "-48.036807093913",
          "-48.02206",
          "-48.02206",
          "-48.02206",
          "-48.042906345641",
          "-48.014091547176",
          "-48.038544989209",
          "-48.040183520072",
          "-48.027943339188",
          "-48.023145002324",
          "-48.038556163428",
          "-48.02206",
          "-48.026338638516",
          "-48.026815018629",
          "-48.018114980319",
          "-48.036708072058",
          "-48.019895881256",
          "-48.02206",
          "-48.036046158252",
          "-48.028773031088",
          "-48.015059986159",
          "-48.02206",
          "-48.029319992303",
          "-48.02206",
          "-48.02206",
          "-48.042906345641",
          "-48.038969993609",
          "-48.02206",
          "-48.040365306995",
          "-48.039159954942",
          "-48.02206",
          "-48.02206",
          "-48.014100006788",
          "-48.01624497772",
          "-48.02206",
          "-48.026566190314",
          "-48.019485002393",
          "-48.010069987741",
          "-48.038556163428",
          "-48.02206",
          "-48.013339977718",
          "-48.015859996907",
          "-48.02206",
          "-48.026566190314",
          "-48.010069987741",
          "-48.021175574139",
          "-48.016994990416",
          "-48.011476184693",
          "-48.026817125194",
          "-48.040808859434",
          "-48.02206",
          "-48.036807093913",
          "-48.011476184693",
          "-48.02206",
          "-48.03437398531",
          "-48.02206",
          "-48.035433039244",
          "-48.018114980319",
          "-48.02206",
          "-48.036807093913",
          "-48.027109977802",
          "-48.032664723176",
          "-48.026815018629",
          "-48.029319992303",
          "-48.033500005507",
          "-48.02206",
          "-48.015079976998",
          "-48.038556163428",
          "-48.03821302233",
          "-48.011021404263",
          "-48.037448533886",
          "-48.015214627468",
          "-48.02206",
          "-48.02206",
          "-48.019032846386",
          "-48.012055031961",
          "-48.02206",
          "-48.040183520072",
          "-48.030893091352",
          "-48.03885",
          "-48.028464996269",
          "-48.01474998147",
          "-48.02206",
          "-48.02206",
          "-48.038544989209",
          "-48.02206",
          "-48.030893091352",
          "-48.015214627468",
          "-48.042906345641",
          "-48.036807093913",
          "-48.02206",
          "-48.027706587243",
          "-48.02206",
          "-48.019485002393",
          "-48.027706587243",
          "-48.02206",
          "-48.021175574139",
          "-48.039328560105",
          "-48.02206",
          "-48.02206",
          "-48.010341468159",
          "-48.036046158252",
          "-48.038544989209",
          "-48.02206",
          "-48.02206",
          "-48.011476184693",
          "-48.02206",
          "-48.03437398531",
          "-48.012730940109",
          "-48.03885",
          "-48.02866838915",
          "-48.029319992303",
          "-48.02206",
          "-48.03437398531",
          "-48.02206",
          "-48.00653",
          "-48.039159954942",
          "-48.01474998147",
          "-48.03885",
          "-48.029991698267",
          "-48.039159954942",
          "-48.02866838915",
          "-48.032664723176",
          "-48.03437398531",
          "-48.029319992303",
          "-48.02206",
          "-48.03821302233",
          "-48.042906345641",
          "-48.036708072058",
          "-48.02206",
          "-48.02206",
          "-48.02206",
          "-48.019895881256",
          "-47.97297",
          "-48.02206",
          "-48.015214627468",
          "-48.028773031088",
          "-48.042906345641",
          "-48.027109977802",
          "-48.02206",
          "-48.036168576359",
          "-48.012204984209",
          "-48.02993",
          "-48.02206",
          "-48.036807093913",
          "-48.014091547176",
          "-48.03821302233",
          "-48.019895881256",
          "-48.030893091352",
          "-48.02206",
          "-48.02206",
          "-48.02206",
          "-48.03892",
          "-48.035433039244",
          "-48.02206",
          "-48.037294222577",
          "-48.02206",
          "-48.02206",
          "-48.030039307702",
          "-48.02206",
          "-48.040808859434",
          "-48.019895881256",
          "-48.012055031961",
          "-48.031983464489",
          "-48.02206",
          "-48.93883",
          "-48.02206",
          "-48.02206",
          "-48.02206",
          "-48.015859996907",
          "-48.040808859434",
          "-48.020574407655",
          "-48.017797942094",
          "-48.02206",
          "-48.02206",
          "-48.019485002393",
          "-48.011021404263",
          "-48.018081673041",
          "-48.017797942094",
          "-48.030129977516",
          "-48.040183520072",
          "-48.031239992953",
          "-48.02206",
          "-48.017797942094",
          "-48.027706587243",
          "-48.037294222577",
          "-48.02206",
          "-48.018114980319",
          "-48.040365306995",
          "-48.042906345641",
          "-47.83064",
          "-48.023145002324",
          "-48.026566190314",
          "-48.02206",
          "-48.031239992953",
          "-42.95808",
          "-48.02206",
          "-48.02206",
          "-48.02206",
          "-48.02206",
          "-48.016994990416",
          "-48.02206",
          "-48.040365306995",
          "-48.02206",
          "-48.039159954942",
          "-48.02206",
          "-48.02206",
          "-48.019895881256",
          "-48.02206",
          "-48.02206",
          "-48.02206",
          "-48.015859996907",
          "-48.042906345641",
          "-48.014330006211",
          "-48.019032846386",
          "-48.026566190314",
          "-48.016059124564",
          "-48.02206",
          "-48.02592502815",
          "-48.036807093913",
          "-48.040183520072",
          "-48.02206",
          "-48.02206",
          "-48.040183520072",
          "-48.028773031088",
          "-48.018114980319",
          "-48.02993",
          "-48.02206",
          "-48.03281499447",
          "-48.036708072058",
          "-48.02206",
          "-48.014091547176",
          "-48.02206",
          "-48.03437398531",
          "-48.029991698267",
          "-48.026817125194",
          "-48.02206",
          "-48.032885025271",
          "-48.030893091352",
          "-48.032885025271",
          "-48.026338638516",
          "-48.011199994018",
          "-48.02206",
          "-48.02993",
          "-48.02206",
          "-48.036807093913",
          "-48.02206",
          "-48.02206",
          "-48.02206",
          "-48.02206",
          "-48.036708072058",
          "-48.02206",
          "-48.02206",
          "-48.036807093913",
          "-48.026566190314",
          "-48.038544989209",
          "-48.036267852923",
          "-48.036708072058",
          "-48.029059288268",
          "-48.02206",
          "-48.039328560105",
          "-48.037296854433",
          "-48.037296854433",
          "-48.02206",
          "-48.02206",
          "-48.02206",
          "-48.02206",
          "-48.02206",
          "-48.02206",
          "-48.025080006581",
          "-48.02206",
          "-48.028464996269",
          "-48.036807093913",
          "-48.02206",
          "-48.036807093913",
          "-48.028773031088",
          "-48.029991698267",
          "-48.023145002324",
          "-48.02206",
          "-48.036708072058",
          "-48.02206",
          "-48.013594997122",
          "-48.021175574139",
          "-48.019485002393",
          "-48.030129977516",
          "-48.031630002908",
          "-48.02206",
          "-48.029991698267",
          "-48.036807093913",
          "-48.02206",
          "-48.032633560512",
          "-48.040808859434",
          "-48.042906345641",
          "-48.035923123337",
          "-48.022248736307",
          "-48.042906345641",
          "-48.042906345641",
          "-47.86501",
          "-48.024210171831",
          "-48.02206",
          "-48.019895881256",
          "-48.021175574139",
          "-48.03281499447",
          "-48.017797942094",
          "-48.02206",
          "-48.033500005507",
          "-48.025080006581",
          "-48.026566190314",
          "-48.02206",
          "-48.019895881256",
          "-48.029991698267",
          "-48.022309997129",
          "-48.02206",
          "-48.02206",
          "-48.023145002324",
          "-48.03437398531",
          "-48.02206",
          "-48.03437398531",
          "-48.011199994018",
          "-48.042906345641",
          "-48.02206",
          "-48.022309997129",
          "-48.029991698267",
          "-48.02206",
          "-48.02206",
          "-48.02206",
          "-48.038969993609",
          "-48.02206",
          "-48.017505029225",
          "-48.02206",
          "-48.02206",
          "-48.02206",
          "-48.013339977718",
          "-48.02206",
          "-48.02206",
          "-48.02206",
          "-48.02206",
          "-48.029319992303",
          "-48.02206",
          "-48.026817125194",
          "-48.02206",
          "-48.029319992303",
          "-48.06544",
          "-48.037448533886",
          "-48.02206",
          "-48.02206",
          "-48.02206",
          "-48.016994990416",
          "-48.02206",
          "-48.039159954942",
          "-48.02206",
          "-48.036708072058",
          "-47.870050001829",
          "-48.010341468159",
          "-48.020574407655",
          "-48.02206",
          "-48.019895881256",
          "-48.039328560105",
          "-48.029059288268",
          "-48.02206",
          "-48.03437398531",
          "-48.033500005507",
          "-48.036807093913",
          "-48.02206",
          "-48.02206",
          "-48.020574407655",
          "-48.02206",
          "-48.021175574139",
          "-48.02206",
          "-48.030039307702",
          "-48.042906345641",
          "-48.034840608837",
          "-48.030893091352",
          "-48.037296854433",
          "-48.019485002393",
          "-48.03437398531",
          "-48.02206",
          "-48.02206",
          "-48.03437398531",
          "-48.025080006581",
          "-48.036807093913",
          "-48.03821302233",
          "-48.02206",
          "-48.026817125194",
          "-48.014465370993",
          "-48.026566190314",
          "-48.015214627468",
          "-48.036807093913",
          "-48.026338638516",
          "-48.02206",
          "-48.036807093913",
          "-48.03437398531",
          "-48.02206",
          "-48.02206",
          "-48.030893091352",
          "-48.011021404263",
          "-48.02206",
          "-48.02206",
          "-48.02206",
          "-48.024210171831",
          "-48.036807093913",
          "-48.031560570408",
          "-48.036708072058",
          "-48.032633560512",
          "-48.010341468159",
          "-48.035433039244",
          "-48.02206",
          "-48.019032846386",
          "-48.010341468159",
          "-48.02206",
          "-48.02592502815",
          "-48.019485002393",
          "-48.019485002393",
          "-48.012715023017",
          "-48.022309997129",
          "-48.036267852923",
          "-48.032664723176",
          "-48.042906345641",
          "-48.019485002393",
          "-48.011476184693",
          "-48.019895881256",
          "-48.02206",
          "-48.04454",
          "-48.03821302233",
          "-48.02206",
          "-48.02206",
          "-48.028464996269",
          "-48.027706587243",
          "-48.028773031088",
          "-48.02021498234",
          "-48.02206",
          "-48.036267852923",
          "-48.036129995266",
          "-48.034634999016",
          "-48.036168576359",
          "-48.032633560512",
          "-48.02206",
          "-48.02592502815",
          "-48.02206",
          "-48.02206",
          "-48.02206",
          "-48.015514997773",
          "-48.019895881256",
          "-48.03584777167",
          "-48.036046158252",
          "-48.021175574139",
          "-48.014330006211",
          "-48.010341468159",
          "-48.02206",
          "-48.036807093913",
          "-48.01797",
          "-48.015214627468",
          "-48.029974218802",
          "-48.02592502815",
          "-48.036807093913",
          "-48.029319992303",
          "-48.02206",
          "-48.040183520072",
          "-48.019485002393",
          "-48.040183520072",
          "-48.027706587243",
          "-48.033500005507",
          "-48.02206",
          "-48.01624497772",
          "-48.024210171831",
          "-48.015859996907",
          "-48.027943339188",
          "-48.015834976926",
          "-48.030893091352",
          "-48.02206",
          "-48.030129977516",
          "-48.02206",
          "-48.010341468159",
          "-48.02206",
          "-48.938829996129",
          "-48.042906345641",
          "-48.032664723176",
          "-48.016059124564",
          "-48.030893091352",
          "-48.012730940109",
          "-48.01198500116",
          "-48.039159954942",
          "-48.033500005507",
          "-48.02206",
          "-48.010069987741",
          "-48.02206",
          "-48.009124755818",
          "-48.018820024104",
          "-48.040808859434",
          "-48.02206",
          "-48.02206",
          "-48.036807093913",
          "-48.023145002324",
          "-48.010069987741",
          "-48.017797942094",
          "-48.012730940109",
          "-48.029991698267",
          "-48.02206",
          "-48.011021404263",
          "-48.025935002615",
          "-48.029991698267",
          "-48.036708072058",
          "-48.042906345641",
          "-48.02206",
          "-48.019895881256",
          "-48.02206",
          "-48.017797942094",
          "-48.03281499447",
          "-48.036807093913",
          "-48.02206",
          "-48.017797942094",
          "-48.03437398531",
          "-48.014091547176",
          "-48.03885",
          "-48.001",
          "-48.012055031961",
          "-48.02206",
          "-48.02866838915",
          "-48.02206",
          "-48.02206",
          "-48.02206",
          "-48.03437398531",
          "-48.010069987741",
          "-48.02206",
          "-48.030893091352",
          "-48.02592502815",
          "-48.02206",
          "-48.032730001971",
          "-48.029991698267",
          "-48.02206",
          "-48.02206",
          "-48.012055031961",
          "-48.026566190314",
          "-48.036708072058",
          "-48.011199994018",
          "-48.019895881256",
          "-48.029319992303",
          "-48.03885",
          "-48.03437398531",
          "-48.040183520072",
          "-48.02206",
          "-48.010341468159",
          "-48.026817125194",
          "-48.011476184693",
          "-48.02206",
          "-48.036807093913",
          "-48.040183520072",
          "-48.02206",
          "-48.03821302233",
          "-48.02206",
          "-48.023145002324",
          "-48.02206",
          "-48.031560570408",
          "-48.02206",
          "-48.038969993609",
          "-48.010341468159",
          "-48.027943339188",
          "-48.028773031088",
          "-48.017873882211",
          "-48.026817125194",
          "-48.031389987111",
          "-48.042906345641",
          "-48.028464996269",
          "-48.042906345641",
          "-48.01797",
          "-48.019895881256",
          "-48.02206",
          "-48.02206",
          "-48.03821302233",
          "-48.02206",
          "-48.02206",
          "-48.02206",
          "-48.02206",
          "-48.02206",
          "-48.02206",
          "-48.031983464489",
          "-48.015402933859",
          "-48.038969993609",
          "-48.039159954942",
          "-48.02206",
          "-48.027706587243",
          "-48.010069987741",
          "-48.036807093913",
          "-48.02206",
          "-48.02206",
          "-48.017797942094",
          "-48.017797942094",
          "-48.02206",
          "-48.02206",
          "-48.033500005507",
          "-48.02206",
          "-48.042906345641",
          "-48.042906345641",
          "-48.036807093913",
          "-48.014465370993",
          "-48.02206",
          "-48.02993",
          "-48.019428275203",
          "-48.02842642971",
          "-48.014100006788",
          "-48.02206",
          "-48.02206",
          "-48.037294222577",
          "-48.02866838915",
          "-48.02206",
          "-48.042906345641",
          "-48.028773031088",
          "-48.029991698267",
          "-48.042906345641",
          "-48.025080006581",
          "-48.02206",
          "-48.02206",
          "-48.02206",
          "-48.036807093913",
          "-48.022248736307",
          "-48.036807093913",
          "-48.02206",
          "-48.030893091352",
          "-48.027706587243",
          "-48.03437398531",
          "-48.042906345641",
          "-48.011021404263",
          "-48.017797942094",
          "-48.02206",
          "-48.02206",
          "-48.02206",
          "-48.024210171831",
          "-48.02206",
          "-48.02206",
          "-48.040808859434",
          "-48.010341468159",
          "-48.032885025271",
          "-48.02206",
          "-48.011169963486",
          "-48.016059124564",
          "-48.032664723176",
          "-48.017797942094",
          "-48.031239992953",
          "-48.040183520072",
          "-48.038544989209",
          "-48.02206",
          "-48.021175574139",
          "-48.02206",
          "-48.021175574139",
          "-48.02206",
          "-48.026566190314",
          "-48.020574407655",
          "-48.02206",
          "-48.027943339188",
          "-48.039328560105",
          "-48.02206",
          "-48.02206",
          "-48.030893091352",
          "-48.02206",
          "-48.038969993609",
          "-48.040808859434",
          "-48.02206",
          "-48.02206",
          "-48.032885025271",
          "-48.02206",
          "-48.035433039244",
          "-48.02206",
          "-48.03821302233",
          "-48.009124755818",
          "-48.027706587243",
          "-48.027943339188",
          "-48.010341468159",
          "-48.011476184693",
          "-48.04454",
          "-48.02206",
          "-48.03437398531",
          "-48.012055031961",
          "-48.02866838915",
          "-48.040808859434",
          "-48.038969993609",
          "-48.014465370993",
          "-48.011021404263",
          "-48.02206",
          "-48.036807093913",
          "-48.93883",
          "-48.02206",
          "-48.032664723176",
          "-48.02206",
          "-48.031719903733",
          "-48.032664723176",
          "-48.036708072058",
          "-48.042906345641",
          "-48.011476184693",
          "-48.02206",
          "-48.03885",
          "-48.011021404263",
          "-48.02206",
          "-48.020920026126",
          "-48.010341468159",
          "-48.032664723176",
          "-48.02206",
          "-48.938829996129",
          "-48.017797942094",
          "-48.02206",
          "-48.030893091352",
          "-48.02592502815",
          "-48.02206",
          "-48.011825032538",
          "-48.039328560105",
          "-48.030011081761",
          "-48.02206",
          "-48.02866838915",
          "-48.038544989209",
          "-48.02206",
          "-48.02206",
          "-48.02206",
          "-48.02206",
          "-48.040183520072",
          "-48.015859996907",
          "-48.024210171831",
          "-48.02206",
          "-48.032885025271",
          "-48.025080006581",
          "-48.02206",
          "-48.039159954942",
          "-48.02206",
          "-48.02206",
          "-48.036807093913",
          "-48.015214627468",
          "-48.041491577599",
          "-48.02206",
          "-48.015859996907",
          "-48.02206",
          "-48.030893091352",
          "-48.039159954942",
          "-48.02206",
          "-48.014330006211",
          "-48.028773031088",
          "-48.02206",
          "-48.03437398531",
          "-48.027706587243",
          "-48.02206",
          "-48.026566190314",
          "-48.037296854433",
          "-48.015079976998",
          "-48.032664723176",
          "-48.042906345641",
          "-48.027706587243",
          "-48.024303707966",
          "-48.02206",
          "-48.014091547176",
          "-48.02206",
          "-48.938829996129",
          "-48.039328560105",
          "-48.027943339188",
          "-48.024800009106",
          "-48.042906345641",
          "-48.011476184693",
          "-48.03885",
          "-48.038969993609",
          "-48.01797",
          "-48.037448533886",
          "-48.033500005507",
          "-48.02206",
          "-48.011021404263",
          "-48.02206",
          "-48.019895881256",
          "-48.03437398531",
          "-48.03885",
          "-48.02206",
          "-48.02206",
          "-48.02206",
          "-48.042906345641",
          "-48.02206",
          "-48.019485002393",
          "-48.02206",
          "-48.01347999741",
          "-48.022248736307",
          "-48.02206",
          "-48.017989964233",
          "-48.02206",
          "-48.02206",
          "-48.02206",
          "-48.022248736307",
          "-48.02206",
          "-48.02206",
          "-48.02206",
          "-48.02206",
          "-48.009124755818",
          "-48.02206",
          "-48.02206",
          "-48.029991698267",
          "-48.03437398531",
          "-48.037296854433",
          "-48.02206",
          "-48.037294222577",
          "-48.036807093913",
          "-48.040808859434",
          "-48.01198500116",
          "-48.023145002324",
          "-48.036046158252",
          "-48.029991698267",
          "-48.036708072058",
          "-48.014091547176",
          "-48.02206",
          "-48.029319992303",
          "-48.02206",
          "-48.040183520072",
          "-48.029974218802",
          "-48.030893091352",
          "-48.036129995266",
          "-48.03885",
          "-48.036708072058",
          "-48.02206",
          "-48.02206",
          "-48.021175574139",
          "-48.02206",
          "-48.012204984209",
          "-48.012730940109",
          "-48.030955008246",
          "-48.040183520072",
          "-48.040365306995",
          "-48.042906345641",
          "-48.02206",
          "-48.02206",
          "-48.02206",
          "-48.036807093913",
          "-48.938829996129",
          "-48.03281499447",
          "-48.027706587243",
          "-48.02206",
          "-48.02206",
          "-48.02206",
          "-48.026566190314",
          "-48.02206",
          "-48.027943339188",
          "-48.01474998147",
          "-48.040183520072",
          "-48.028464996269",
          "-48.02206",
          "-48.02206",
          "-48.02206",
          "-48.012730940109",
          "-48.042906345641",
          "-48.020574407655",
          "-48.022429984073",
          "-48.029974218802",
          "-48.020920026126",
          "-48.016994990416",
          "-48.02206",
          "-48.038544989209",
          "-48.02206",
          "-48.02206",
          "-48.02206",
          "-47.994064995085",
          "-47.83064",
          "-48.032664723176",
          "-42.95808",
          "-48.036129995266",
          "-48.02206",
          "-48.040808859434",
          "-48.042906345641",
          "-48.039328560105",
          "-48.024210171831",
          "-48.019895881256",
          "-48.035433039244",
          "-48.02206",
          "-48.038544989209",
          "-48.029059288268",
          "-48.02206",
          "-48.01797",
          "-48.028464996269",
          "-48.023145002324",
          "-48.039159954942",
          "-48.016059124564",
          "-48.02206",
          "-48.02206",
          "-48.017989964233",
          "-48.038556163428",
          "-48.02206",
          "-48.036708072058",
          "-48.02206",
          "-48.02206",
          "-48.02206",
          "-48.015214627468",
          "-48.02206",
          "-48.040183520072",
          "-48.027706587243",
          "-48.036807093913",
          "-48.938829996129",
          "-48.02206",
          "-48.02206",
          "-48.02206",
          "-48.02206",
          "-48.02206",
          "-48.017505029225",
          "-48.01624497772",
          "-48.012204984209",
          "-48.021175574139",
          "-48.02206",
          "-48.017505029225",
          "-48.027706587243",
          "-48.042906345641",
          "-48.06544",
          "-48.01347999741",
          "-48.040183520072",
          "-48.039159954942",
          "-48.030039307702",
          "-48.034634999016",
          "-48.02206",
          "-48.02206",
          "-48.02206",
          "-48.042906345641",
          "-48.019485002393",
          "-48.042906345641",
          "-48.036708072058",
          "-48.038969993609",
          "-48.035433039244",
          "-48.03437398531",
          "-48.02206",
          "-48.02206",
          "-48.042906345641",
          "-48.015859996907",
          "-48.02206",
          "-48.016994990416",
          "-48.03885",
          "-48.027706587243",
          "-48.02206",
          "-48.02206",
          "-48.018114980319",
          "-48.014091547176",
          "-48.029991698267",
          "-48.02206",
          "-48.030439167642",
          "-48.011476184693",
          "-48.02206",
          "-48.042800020446",
          "-48.02206",
          "-48.040183520072",
          "-48.02206",
          "-48.02206",
          "-48.02206",
          "-48.015514997773",
          "-48.02206",
          "-48.02206",
          "-48.02206",
          "-48.040808859434",
          "-48.02206",
          "-48.047945000254",
          "-48.02206",
          "-48.02206",
          "-48.039159954942",
          "-48.019032846386",
          "-48.02206",
          "-48.021175574139",
          "-48.02206",
          "-48.02206",
          "-48.026566190314",
          "-48.023145002324",
          "-48.02206",
          "-48.03821302233",
          "-48.011021404263",
          "-48.02206",
          "-48.02206",
          "-48.019895881256",
          "-48.02206",
          "-48.02206",
          "-48.93883",
          "-48.040808859434",
          "-48.02206",
          "-48.026817125194",
          "-48.028464996269",
          "-48.026817125194",
          "-48.012055031961",
          "-48.040808859434",
          "-48.02206",
          "-48.039328560105",
          "-48.02206",
          "-48.02206",
          "-48.023145002324",
          "-48.019485002393",
          "-48.031560570408",
          "-48.02206",
          "-48.031239992953",
          "-48.03821302233",
          "-48.02206",
          "-48.036807093913",
          "-48.04411",
          "-50.47042",
          "-48.03281499447",
          "-48.013594997122",
          "-48.03885",
          "-48.02206",
          "-48.027943339188",
          "-48.019032846386",
          "-48.020574407655",
          "-48.029059288268",
          "-48.019895881256",
          "-48.02206",
          "-48.032664723176",
          "-48.017797942094",
          "-48.02206",
          "-48.02206",
          "-48.028773031088",
          "-48.040808859434",
          "-48.02206",
          "-48.038969993609",
          "-48.036807093913",
          "-48.010341468159",
          "-48.011021404263",
          "-48.02206",
          "-48.02206",
          "-48.014330006211",
          "-48.023145002324",
          "-48.031560570408",
          "-48.036708072058",
          "-48.010069987741",
          "-48.016994990416",
          "-48.02206",
          "-48.035433039244",
          "-48.02206",
          "-48.040808859434",
          "-48.02206",
          "-48.009124755818",
          "-48.033500005507",
          "-48.010341468159",
          "-48.022248736307",
          "-48.01697998681",
          "-48.036807093913",
          "-48.029059288268",
          "-48.021715007732",
          "-48.029319992303",
          "-48.01797",
          "-48.032885025271",
          "-48.02206",
          "-48.02206",
          "-48.02206",
          "-48.02206",
          "-48.02206",
          "-48.028464996269",
          "-48.02206",
          "-48.02206",
          "-48.938829996129",
          "-48.036807093913",
          "-48.029319992303",
          "-48.02206",
          "-48.02206",
          "-48.02206",
          "-48.03821302233",
          "-48.02206",
          "-48.02206",
          "-48.029319992303",
          "-48.02206",
          "-48.039328560105",
          "-48.019895881256",
          "-48.016059124564",
          "-48.040183520072",
          "-48.011021404263",
          "-48.02206",
          "-48.011476184693",
          "-48.036129995266",
          "-48.015214627468",
          "-48.03885",
          "-48.026817125194",
          "-48.028464996269",
          "-48.02206",
          "-48.020574407655",
          "-48.036807093913",
          "-48.028464996269",
          "-48.011021404263",
          "-48.03821302233",
          "-48.039159954942",
          "-48.02206",
          "-48.02206",
          "-48.032885025271",
          "-48.02993",
          "-48.014091547176",
          "-48.03437398531",
          "-48.036807093913",
          "-48.018114980319",
          "-48.02206",
          "-48.032633560512",
          "-48.02206",
          "-48.015214627468",
          "-48.018114980319",
          "-48.021175574139",
          "-48.042906345641",
          "-48.011169963486",
          "-48.02206",
          "-48.023145002324",
          "-48.014091547176",
          "-48.031983464489",
          "-48.027943339188",
          "-48.027706587243",
          "-48.021175574139",
          "-48.010069987741",
          "-48.015514997773",
          "-48.039328560105",
          "-48.029974218802",
          "-48.02206",
          "-47.83064",
          "-48.02206",
          "-48.017797942094",
          "-48.013594997122",
          "-48.03892",
          "-48.026566190314",
          "-48.02206",
          "-48.032664723176",
          "-48.019485002393",
          "-48.02206",
          "-48.029319992303",
          "-48.02206",
          "-48.012715023017",
          "-48.011103999526",
          "-48.02206",
          "-48.020574407655",
          "-48.024699971091",
          "-48.02206",
          "-48.032885025271",
          "-48.036267852923",
          "-48.02206",
          "-48.035544008185",
          "-48.021640031609",
          "-48.027706587243",
          "-48.038544989209",
          "-48.02206",
          "-48.02206",
          "-48.014091547176",
          "-48.042906345641",
          "-48.02206",
          "-48.021175574139",
          "-48.027943339188",
          "-48.030893091352",
          "-48.017873882211",
          "-48.040808859434",
          "-48.029991698267",
          "-48.02206",
          "-48.02206",
          "-48.023145002324",
          "-48.011199994018",
          "-48.014100006788",
          "-48.02206",
          "-48.010341468159",
          "-48.028773031088",
          "-47.83064",
          "-48.02206",
          "-48.02206",
          "-48.027943339188",
          "-48.029991698267",
          "-48.019032846386",
          "-48.02206",
          "-48.028464996269",
          "-48.010341468159",
          "-48.027706587243",
          "-48.040808859434",
          "-48.02206",
          "-48.038544989209",
          "-48.015859996907",
          "-48.02206",
          "-48.01474998147",
          "-48.01474998147",
          "-48.02206",
          "-48.018820024104",
          "-48.040808859434",
          "-48.02206",
          "-48.039328560105",
          "-50.47042",
          "-48.031719903733",
          "-48.02206",
          "-48.02592502815",
          "-48.02206",
          "-48.02206",
          "-48.016059124564",
          "-48.042906345641",
          "-48.029059288268",
          "-47.83064",
          "-48.02993",
          "-48.018114980319",
          "-48.02206",
          "-48.02206",
          "-48.030039307702",
          "-48.032664723176",
          "-48.017873882211",
          "-48.009124755818",
          "-48.036807093913",
          "-48.036807093913",
          "-48.031983464489",
          "-48.03281499447",
          "-48.02206",
          "-48.030893091352",
          "-48.02206",
          "-48.011199994018",
          "-48.040808859434",
          "-48.02206",
          "-48.02206",
          "-48.02206",
          "-48.036708072058",
          "-48.02206",
          "-48.029991698267",
          "-48.010341468159",
          "-48.02206",
          "-48.027001381243",
          "-48.036267852923",
          "-48.02206",
          "-48.036807093913",
          "-48.030129977516",
          "-48.02592502815",
          "-48.026566190314",
          "-48.02206",
          "-48.02866838915",
          "-48.02842642971",
          "-48.04454",
          "-48.047945000254",
          "-48.029319992303",
          "-48.02206",
          "-48.028773031088",
          "-48.030893091352",
          "-48.025080006581",
          "-48.02866838915",
          "-48.019032846386",
          "-48.02592502815",
          "-48.031560570408",
          "-48.026815018629",
          "-48.027706587243",
          "-48.015514997773",
          "-48.009124755818",
          "-48.015079976998",
          "-48.031983464489",
          "-48.029319992303",
          "-48.015214627468",
          "-48.039328560105",
          "-48.02206",
          "-48.02206",
          "-48.019485002393",
          "-48.014091547176",
          "-48.030893091352",
          "-48.03437398531",
          "-48.042906345641",
          "-48.040183520072",
          "-47.998491050443",
          "-48.017989964233",
          "-48.029991698267",
          "-48.026566190314",
          "-48.019895881256",
          "-48.011476184693",
          "-48.040183520072",
          "-48.02206",
          "-48.02206",
          "-48.027943339188",
          "-48.016994990416",
          "-48.019895881256",
          "-48.03806388527",
          "-48.02206",
          "-48.010341468159",
          "-48.02206",
          "-48.013594997122",
          "-48.02206",
          "-48.039159954942",
          "-48.042906345641",
          "-48.03885",
          "-48.02206",
          "-48.038544989209",
          "-48.02206",
          "-48.041491577599",
          "-48.014091547176",
          "-48.011476184693",
          "-48.039159954942",
          "-48.037294222577",
          "-48.011021404263",
          "-48.036807093913",
          "-48.02206",
          "-48.02206",
          "-48.03892",
          "-48.038556163428",
          "-48.02206",
          "-48.02021498234",
          "-48.039159954942",
          "-48.02206",
          "-48.037294222577",
          "-48.019895881256",
          "-48.040183520072",
          "-48.016994990416",
          "-48.032664723176",
          "-48.036807093913",
          "-48.028773031088",
          "-48.02206",
          "-48.036046158252",
          "-48.019895881256",
          "-48.023145002324",
          "-48.032664723176",
          "-48.02206",
          "-48.036807093913",
          "-48.03806388527",
          "-48.036807093913",
          "-48.017505029225",
          "-48.033500005507",
          "-48.029319992303",
          "-48.039159954942",
          "-48.028773031088",
          "-48.036807093913",
          "-48.02206",
          "-48.026566190314",
          "-48.02206",
          "-48.02206",
          "-48.01797",
          "-48.021175574139",
          "-48.013884818296",
          "-50.47042",
          "-48.019895881256",
          "-48.02206",
          "-48.042906345641",
          "-48.027706587243",
          "-48.02206",
          "-48.01474998147",
          "-47.83064",
          "-48.02206",
          "-48.017873882211",
          "-48.02206",
          "-48.03437398531",
          "-48.03437398531",
          "-48.038544989209",
          "-48.019895881256",
          "-48.02206",
          "-48.02206",
          "-48.009124755818",
          "-48.036708072058",
          "-48.010069987741",
          "-48.02592502815",
          "-48.02206",
          "-48.02206",
          "-48.042906345641",
          "-48.036807093913",
          "-48.03437398531",
          "-48.040808859434",
          "-48.039328560105",
          "-48.027706587243",
          "-47.83064",
          "-48.024210171831",
          "-48.014330006211",
          "-48.018114980319",
          "-48.02206",
          "-48.014330006211",
          "-48.02206",
          "-48.033500005507",
          "-48.036807093913",
          "-48.039159954942",
          "-48.030893091352",
          "-48.032664723176",
          "-48.02842642971",
          "-48.012730940109",
          "-48.014330006211",
          "-48.01198500116",
          "-48.030893091352",
          "-48.042906345641",
          "-48.03437398531",
          "-48.014465370993",
          "-48.030039307702",
          "-48.02206",
          "-48.024210171831",
          "-48.040808859434",
          "-48.02206",
          "-48.02206",
          "-48.02206",
          "-48.038544989209",
          "-48.03437398531",
          "-48.016994990416",
          "-48.036708072058",
          "-48.02206",
          "-48.038544989209",
          "-48.02206",
          "-48.02206",
          "-48.02206",
          "-48.027943339188",
          "-48.032885025271",
          "-48.02206",
          "-48.02206",
          "-48.029974218802",
          "-48.02206",
          "-48.040183520072",
          "-48.040183520072",
          "-48.022248736307",
          "-48.02206",
          "-48.02206",
          "-48.02206",
          "-48.02206",
          "-48.029991698267",
          "-48.03437398531",
          "-48.033500005507",
          "-48.040808859434",
          "-48.036807093913",
          "-48.027706587243",
          "-48.017989964233",
          "-48.018820024104",
          "-48.036129995266",
          "-48.02206",
          "-48.032885025271",
          "-48.018820024104",
          "-48.02206",
          "-48.015859996907",
          "-48.02206",
          "-48.02206",
          "-48.02206",
          "-48.02206",
          "-48.02206",
          "-48.030893091352",
          "-48.02206",
          "-48.040365306995",
          "-48.014330006211",
          "-48.032730001971",
          "-48.029506048683",
          "-48.02206",
          "-48.016994990416",
          "-48.02206",
          "-48.02206",
          "-48.036807093913",
          "-48.029991698267",
          "-48.02206",
          "-48.031560570408",
          "-48.024210171831",
          "-48.02206",
          "-48.014330006211",
          "-48.019485002393",
          "-48.032885025271",
          "-48.02206",
          "-48.036807093913",
          "-48.040183520072",
          "-48.033500005507",
          "-47.994064995085",
          "-48.039328560105",
          "-48.013594997122",
          "-48.032885025271",
          "-48.02206",
          "-48.02206",
          "-48.02206",
          "-48.02206",
          "-48.01624497772",
          "-48.015514997773",
          "-48.027706587243",
          "-55.54717",
          "-48.02206",
          "-48.02206",
          "-48.02206",
          "-48.03437398531",
          "-48.026566190314",
          "-48.02206",
          "-48.02206",
          "-48.023145002324",
          "-48.029059288268",
          "-48.02206",
          "-48.032633560512",
          "-48.02206",
          "-48.027706587243",
          "-48.02206",
          "-48.02206",
          "-48.036807093913",
          "-48.028773031088",
          "-48.02206",
          "-48.028773031088",
          "-48.035972496014",
          "-48.031983464489",
          "-48.034634999016",
          "-48.040183520072",
          "-48.016994990416",
          "-48.03437398531",
          "-48.036807093913",
          "-48.014091547176",
          "-48.010341468159",
          "-48.02206",
          "-48.02206",
          "-48.02866838915",
          "-48.03885",
          "-48.039159954942",
          "-48.938829996129",
          "-48.026566190314",
          "-48.030893091352",
          "-48.036807093913",
          "-48.036807093913",
          "-48.02592502815",
          "-48.02206",
          "-48.03806388527",
          "-48.02206",
          "-48.02206",
          "-48.02592502815",
          "-48.02206",
          "-48.029991698267",
          "-48.02206",
          "-48.02206",
          "-48.02206",
          "-48.039159954942",
          "-48.02206",
          "-48.02206",
          "-48.012730940109",
          "-48.02206",
          "-48.02206",
          "-48.036807093913",
          "-48.040808859434",
          "-48.02206",
          "-48.039328560105",
          "-48.02206",
          "-48.02206",
          "-48.01697998681",
          "-48.040808859434",
          "-48.02206",
          "-48.04454",
          "-48.036807093913",
          "-48.01252",
          "-48.010341468159",
          "-48.001282149549",
          "-48.029974218802",
          "-48.010341468159",
          "-48.06544",
          "-48.02206",
          "-48.02206",
          "-48.036807093913",
          "-48.02206",
          "-48.029974218802",
          "-48.03437398531",
          "-48.014091547176",
          "-48.02206",
          "-48.032885025271",
          "-48.011021404263",
          "-48.02206",
          "-48.032633560512",
          "-48.03821302233",
          "-48.02206",
          "-48.02206",
          "-48.00816084724",
          "-48.036129995266",
          "-48.017797942094",
          "-48.013594997122",
          "-48.011279999284",
          "-48.023145002324",
          "-48.029974218802",
          "-48.019895881256",
          "-48.01953",
          "-48.025080006581",
          "-48.027001381243",
          "-48.02592502815",
          "-48.014091547176",
          "-48.027706587243",
          "-48.036129995266",
          "-48.02206",
          "-48.040808859434",
          "-48.012730940109",
          "-48.027706587243",
          "-48.031560570408",
          "-48.02206",
          "-47.83064",
          "-48.019485002393",
          "-48.015859996907",
          "-48.02206",
          "-48.02206",
          "-48.02206",
          "-48.029991698267",
          "-48.010341468159",
          "-48.014484987601",
          "-42.95808",
          "-48.02206",
          "-48.02866838915",
          "-48.028464996269",
          "-48.036807093913",
          "-48.02993",
          "-48.018820024104",
          "-48.019032846386",
          "-48.02206",
          "-48.040808859434",
          "-48.031983464489",
          "-48.010341468159",
          "-48.02206",
          "-48.036708072058",
          "-48.02206",
          "-48.021175574139",
          "-48.036046158252",
          "-48.030893091352",
          "-48.012730940109",
          "-48.029785185951",
          "-48.034634999016",
          "-48.02206",
          "-48.038544989209",
          "-48.02206",
          "-48.036807093913",
          "-48.013594997122",
          "-48.028464996269",
          "-48.029319992303",
          "-48.036708072058",
          "-48.036807093913",
          "-48.02206",
          "-48.01474998147",
          "-48.031630002908",
          "-48.02206",
          "-48.02206",
          "-48.02206",
          "-48.021175574139",
          "-48.031239992953",
          "-48.02206",
          "-48.031560570408",
          "-48.014678629343",
          "-48.03885",
          "-48.03821302233",
          "-48.06544",
          "-48.027001381243",
          "-48.031983464489",
          "-48.03885",
          "-48.02206",
          "-48.02206",
          "-48.06544",
          "-48.027001381243"
         ],
         "radius": 7,
         "type": "densitymapbox"
        }
       ],
       "layout": {
        "mapbox": {
         "center": {
          "lon": 180
         },
         "style": "stamen-terrain"
        },
        "margin": {
         "b": 0,
         "l": 0,
         "r": 0,
         "t": 0
        },
        "template": {
         "data": {
          "bar": [
           {
            "error_x": {
             "color": "#2a3f5f"
            },
            "error_y": {
             "color": "#2a3f5f"
            },
            "marker": {
             "line": {
              "color": "#E5ECF6",
              "width": 0.5
             }
            },
            "type": "bar"
           }
          ],
          "barpolar": [
           {
            "marker": {
             "line": {
              "color": "#E5ECF6",
              "width": 0.5
             }
            },
            "type": "barpolar"
           }
          ],
          "carpet": [
           {
            "aaxis": {
             "endlinecolor": "#2a3f5f",
             "gridcolor": "white",
             "linecolor": "white",
             "minorgridcolor": "white",
             "startlinecolor": "#2a3f5f"
            },
            "baxis": {
             "endlinecolor": "#2a3f5f",
             "gridcolor": "white",
             "linecolor": "white",
             "minorgridcolor": "white",
             "startlinecolor": "#2a3f5f"
            },
            "type": "carpet"
           }
          ],
          "choropleth": [
           {
            "colorbar": {
             "outlinewidth": 0,
             "ticks": ""
            },
            "type": "choropleth"
           }
          ],
          "contour": [
           {
            "colorbar": {
             "outlinewidth": 0,
             "ticks": ""
            },
            "colorscale": [
             [
              0,
              "#0d0887"
             ],
             [
              0.1111111111111111,
              "#46039f"
             ],
             [
              0.2222222222222222,
              "#7201a8"
             ],
             [
              0.3333333333333333,
              "#9c179e"
             ],
             [
              0.4444444444444444,
              "#bd3786"
             ],
             [
              0.5555555555555556,
              "#d8576b"
             ],
             [
              0.6666666666666666,
              "#ed7953"
             ],
             [
              0.7777777777777778,
              "#fb9f3a"
             ],
             [
              0.8888888888888888,
              "#fdca26"
             ],
             [
              1,
              "#f0f921"
             ]
            ],
            "type": "contour"
           }
          ],
          "contourcarpet": [
           {
            "colorbar": {
             "outlinewidth": 0,
             "ticks": ""
            },
            "type": "contourcarpet"
           }
          ],
          "heatmap": [
           {
            "colorbar": {
             "outlinewidth": 0,
             "ticks": ""
            },
            "colorscale": [
             [
              0,
              "#0d0887"
             ],
             [
              0.1111111111111111,
              "#46039f"
             ],
             [
              0.2222222222222222,
              "#7201a8"
             ],
             [
              0.3333333333333333,
              "#9c179e"
             ],
             [
              0.4444444444444444,
              "#bd3786"
             ],
             [
              0.5555555555555556,
              "#d8576b"
             ],
             [
              0.6666666666666666,
              "#ed7953"
             ],
             [
              0.7777777777777778,
              "#fb9f3a"
             ],
             [
              0.8888888888888888,
              "#fdca26"
             ],
             [
              1,
              "#f0f921"
             ]
            ],
            "type": "heatmap"
           }
          ],
          "heatmapgl": [
           {
            "colorbar": {
             "outlinewidth": 0,
             "ticks": ""
            },
            "colorscale": [
             [
              0,
              "#0d0887"
             ],
             [
              0.1111111111111111,
              "#46039f"
             ],
             [
              0.2222222222222222,
              "#7201a8"
             ],
             [
              0.3333333333333333,
              "#9c179e"
             ],
             [
              0.4444444444444444,
              "#bd3786"
             ],
             [
              0.5555555555555556,
              "#d8576b"
             ],
             [
              0.6666666666666666,
              "#ed7953"
             ],
             [
              0.7777777777777778,
              "#fb9f3a"
             ],
             [
              0.8888888888888888,
              "#fdca26"
             ],
             [
              1,
              "#f0f921"
             ]
            ],
            "type": "heatmapgl"
           }
          ],
          "histogram": [
           {
            "marker": {
             "colorbar": {
              "outlinewidth": 0,
              "ticks": ""
             }
            },
            "type": "histogram"
           }
          ],
          "histogram2d": [
           {
            "colorbar": {
             "outlinewidth": 0,
             "ticks": ""
            },
            "colorscale": [
             [
              0,
              "#0d0887"
             ],
             [
              0.1111111111111111,
              "#46039f"
             ],
             [
              0.2222222222222222,
              "#7201a8"
             ],
             [
              0.3333333333333333,
              "#9c179e"
             ],
             [
              0.4444444444444444,
              "#bd3786"
             ],
             [
              0.5555555555555556,
              "#d8576b"
             ],
             [
              0.6666666666666666,
              "#ed7953"
             ],
             [
              0.7777777777777778,
              "#fb9f3a"
             ],
             [
              0.8888888888888888,
              "#fdca26"
             ],
             [
              1,
              "#f0f921"
             ]
            ],
            "type": "histogram2d"
           }
          ],
          "histogram2dcontour": [
           {
            "colorbar": {
             "outlinewidth": 0,
             "ticks": ""
            },
            "colorscale": [
             [
              0,
              "#0d0887"
             ],
             [
              0.1111111111111111,
              "#46039f"
             ],
             [
              0.2222222222222222,
              "#7201a8"
             ],
             [
              0.3333333333333333,
              "#9c179e"
             ],
             [
              0.4444444444444444,
              "#bd3786"
             ],
             [
              0.5555555555555556,
              "#d8576b"
             ],
             [
              0.6666666666666666,
              "#ed7953"
             ],
             [
              0.7777777777777778,
              "#fb9f3a"
             ],
             [
              0.8888888888888888,
              "#fdca26"
             ],
             [
              1,
              "#f0f921"
             ]
            ],
            "type": "histogram2dcontour"
           }
          ],
          "mesh3d": [
           {
            "colorbar": {
             "outlinewidth": 0,
             "ticks": ""
            },
            "type": "mesh3d"
           }
          ],
          "parcoords": [
           {
            "line": {
             "colorbar": {
              "outlinewidth": 0,
              "ticks": ""
             }
            },
            "type": "parcoords"
           }
          ],
          "pie": [
           {
            "automargin": true,
            "type": "pie"
           }
          ],
          "scatter": [
           {
            "marker": {
             "colorbar": {
              "outlinewidth": 0,
              "ticks": ""
             }
            },
            "type": "scatter"
           }
          ],
          "scatter3d": [
           {
            "line": {
             "colorbar": {
              "outlinewidth": 0,
              "ticks": ""
             }
            },
            "marker": {
             "colorbar": {
              "outlinewidth": 0,
              "ticks": ""
             }
            },
            "type": "scatter3d"
           }
          ],
          "scattercarpet": [
           {
            "marker": {
             "colorbar": {
              "outlinewidth": 0,
              "ticks": ""
             }
            },
            "type": "scattercarpet"
           }
          ],
          "scattergeo": [
           {
            "marker": {
             "colorbar": {
              "outlinewidth": 0,
              "ticks": ""
             }
            },
            "type": "scattergeo"
           }
          ],
          "scattergl": [
           {
            "marker": {
             "colorbar": {
              "outlinewidth": 0,
              "ticks": ""
             }
            },
            "type": "scattergl"
           }
          ],
          "scattermapbox": [
           {
            "marker": {
             "colorbar": {
              "outlinewidth": 0,
              "ticks": ""
             }
            },
            "type": "scattermapbox"
           }
          ],
          "scatterpolar": [
           {
            "marker": {
             "colorbar": {
              "outlinewidth": 0,
              "ticks": ""
             }
            },
            "type": "scatterpolar"
           }
          ],
          "scatterpolargl": [
           {
            "marker": {
             "colorbar": {
              "outlinewidth": 0,
              "ticks": ""
             }
            },
            "type": "scatterpolargl"
           }
          ],
          "scatterternary": [
           {
            "marker": {
             "colorbar": {
              "outlinewidth": 0,
              "ticks": ""
             }
            },
            "type": "scatterternary"
           }
          ],
          "surface": [
           {
            "colorbar": {
             "outlinewidth": 0,
             "ticks": ""
            },
            "colorscale": [
             [
              0,
              "#0d0887"
             ],
             [
              0.1111111111111111,
              "#46039f"
             ],
             [
              0.2222222222222222,
              "#7201a8"
             ],
             [
              0.3333333333333333,
              "#9c179e"
             ],
             [
              0.4444444444444444,
              "#bd3786"
             ],
             [
              0.5555555555555556,
              "#d8576b"
             ],
             [
              0.6666666666666666,
              "#ed7953"
             ],
             [
              0.7777777777777778,
              "#fb9f3a"
             ],
             [
              0.8888888888888888,
              "#fdca26"
             ],
             [
              1,
              "#f0f921"
             ]
            ],
            "type": "surface"
           }
          ],
          "table": [
           {
            "cells": {
             "fill": {
              "color": "#EBF0F8"
             },
             "line": {
              "color": "white"
             }
            },
            "header": {
             "fill": {
              "color": "#C8D4E3"
             },
             "line": {
              "color": "white"
             }
            },
            "type": "table"
           }
          ]
         },
         "layout": {
          "annotationdefaults": {
           "arrowcolor": "#2a3f5f",
           "arrowhead": 0,
           "arrowwidth": 1
          },
          "autotypenumbers": "strict",
          "coloraxis": {
           "colorbar": {
            "outlinewidth": 0,
            "ticks": ""
           }
          },
          "colorscale": {
           "diverging": [
            [
             0,
             "#8e0152"
            ],
            [
             0.1,
             "#c51b7d"
            ],
            [
             0.2,
             "#de77ae"
            ],
            [
             0.3,
             "#f1b6da"
            ],
            [
             0.4,
             "#fde0ef"
            ],
            [
             0.5,
             "#f7f7f7"
            ],
            [
             0.6,
             "#e6f5d0"
            ],
            [
             0.7,
             "#b8e186"
            ],
            [
             0.8,
             "#7fbc41"
            ],
            [
             0.9,
             "#4d9221"
            ],
            [
             1,
             "#276419"
            ]
           ],
           "sequential": [
            [
             0,
             "#0d0887"
            ],
            [
             0.1111111111111111,
             "#46039f"
            ],
            [
             0.2222222222222222,
             "#7201a8"
            ],
            [
             0.3333333333333333,
             "#9c179e"
            ],
            [
             0.4444444444444444,
             "#bd3786"
            ],
            [
             0.5555555555555556,
             "#d8576b"
            ],
            [
             0.6666666666666666,
             "#ed7953"
            ],
            [
             0.7777777777777778,
             "#fb9f3a"
            ],
            [
             0.8888888888888888,
             "#fdca26"
            ],
            [
             1,
             "#f0f921"
            ]
           ],
           "sequentialminus": [
            [
             0,
             "#0d0887"
            ],
            [
             0.1111111111111111,
             "#46039f"
            ],
            [
             0.2222222222222222,
             "#7201a8"
            ],
            [
             0.3333333333333333,
             "#9c179e"
            ],
            [
             0.4444444444444444,
             "#bd3786"
            ],
            [
             0.5555555555555556,
             "#d8576b"
            ],
            [
             0.6666666666666666,
             "#ed7953"
            ],
            [
             0.7777777777777778,
             "#fb9f3a"
            ],
            [
             0.8888888888888888,
             "#fdca26"
            ],
            [
             1,
             "#f0f921"
            ]
           ]
          },
          "colorway": [
           "#636efa",
           "#EF553B",
           "#00cc96",
           "#ab63fa",
           "#FFA15A",
           "#19d3f3",
           "#FF6692",
           "#B6E880",
           "#FF97FF",
           "#FECB52"
          ],
          "font": {
           "color": "#2a3f5f"
          },
          "geo": {
           "bgcolor": "white",
           "lakecolor": "white",
           "landcolor": "#E5ECF6",
           "showlakes": true,
           "showland": true,
           "subunitcolor": "white"
          },
          "hoverlabel": {
           "align": "left"
          },
          "hovermode": "closest",
          "mapbox": {
           "style": "light"
          },
          "paper_bgcolor": "white",
          "plot_bgcolor": "#E5ECF6",
          "polar": {
           "angularaxis": {
            "gridcolor": "white",
            "linecolor": "white",
            "ticks": ""
           },
           "bgcolor": "#E5ECF6",
           "radialaxis": {
            "gridcolor": "white",
            "linecolor": "white",
            "ticks": ""
           }
          },
          "scene": {
           "xaxis": {
            "backgroundcolor": "#E5ECF6",
            "gridcolor": "white",
            "gridwidth": 2,
            "linecolor": "white",
            "showbackground": true,
            "ticks": "",
            "zerolinecolor": "white"
           },
           "yaxis": {
            "backgroundcolor": "#E5ECF6",
            "gridcolor": "white",
            "gridwidth": 2,
            "linecolor": "white",
            "showbackground": true,
            "ticks": "",
            "zerolinecolor": "white"
           },
           "zaxis": {
            "backgroundcolor": "#E5ECF6",
            "gridcolor": "white",
            "gridwidth": 2,
            "linecolor": "white",
            "showbackground": true,
            "ticks": "",
            "zerolinecolor": "white"
           }
          },
          "shapedefaults": {
           "line": {
            "color": "#2a3f5f"
           }
          },
          "ternary": {
           "aaxis": {
            "gridcolor": "white",
            "linecolor": "white",
            "ticks": ""
           },
           "baxis": {
            "gridcolor": "white",
            "linecolor": "white",
            "ticks": ""
           },
           "bgcolor": "#E5ECF6",
           "caxis": {
            "gridcolor": "white",
            "linecolor": "white",
            "ticks": ""
           }
          },
          "title": {
           "x": 0.05
          },
          "xaxis": {
           "automargin": true,
           "gridcolor": "white",
           "linecolor": "white",
           "ticks": "",
           "title": {
            "standoff": 15
           },
           "zerolinecolor": "white",
           "zerolinewidth": 2
          },
          "yaxis": {
           "automargin": true,
           "gridcolor": "white",
           "linecolor": "white",
           "ticks": "",
           "title": {
            "standoff": 15
           },
           "zerolinecolor": "white",
           "zerolinewidth": 2
          }
         }
        }
       }
      },
      "text/html": [
       "<div>                            <div id=\"92f59537-29d9-4d55-b7d0-505a055b5111\" class=\"plotly-graph-div\" style=\"height:525px; width:100%;\"></div>            <script type=\"text/javascript\">                require([\"plotly\"], function(Plotly) {                    window.PLOTLYENV=window.PLOTLYENV || {};                                    if (document.getElementById(\"92f59537-29d9-4d55-b7d0-505a055b5111\")) {                    Plotly.newPlot(                        \"92f59537-29d9-4d55-b7d0-505a055b5111\",                        [{\"lat\": [\"-15.84067\", \"-15.84067\", \"-15.84067\", \"-15.835735462934\", \"-15.84060973365\", \"-15.83263347211\", \"-15.830976955297\", \"-15.832000002652\", \"-15.84060973365\", \"-15.84067\", \"-15.829993262634\", \"-15.838701645321\", \"-15.838053465316\", \"-15.83263347211\", \"-19.95215\", \"-15.838328619067\", \"-15.836631976279\", \"-15.836122270133\", \"-15.838345569024\", \"-15.836918381182\", \"-15.841345122238\", \"-15.838349985815\", \"-15.84067\", \"-15.839853435547\", \"-15.83455\", \"-15.83693499483\", \"-15.84067\", \"-15.84067\", \"-15.834165006333\", \"-15.84067\", \"-15.84067\", \"-15.84067\", \"-15.84067\", \"-15.974985617098\", \"-15.83263347211\", \"-15.835205011924\", \"-15.837020008283\", \"-15.837084988988\", \"-15.836495007778\", \"-15.838701645321\", \"-15.83871\", \"-15.836122270133\", \"-15.834902512606\", \"-15.84067\", \"-15.839090003091\", \"-15.84067\", \"-15.839853435547\", \"-15.836495007778\", \"-15.833969561015\", \"-15.84067\", \"-15.84067\", \"-15.84067\", \"-15.835735462934\", \"-15.841842667042\", \"-15.84067\", \"-15.834840000996\", \"-15.838053465316\", \"-15.836122270133\", \"-15.834165006333\", \"-15.835195016505\", \"-15.84067\", \"-15.834902512606\", \"-15.838685071444\", \"-15.84067\", \"-15.829993262634\", \"-15.83263347211\", \"-15.830381600035\", \"-15.84067\", \"-15.836495007778\", \"-15.838345569024\", \"-15.83263347211\", \"-15.844604958131\", \"-15.84060973365\", \"-15.829993262634\", \"-15.843075011318\", \"-15.841345122238\", \"-15.829135005283\", \"-15.841181517634\", \"-15.84067\", \"-15.879043484687\", \"-15.840054990649\", \"-15.84060973365\", \"-15.84067\", \"-15.838345569024\", \"-15.833969561015\", \"-15.837371178171\", \"-15.836631976279\", \"-15.836200006696\", \"-15.84067\", \"-15.841345122238\", \"-15.837135007995\", \"-15.844959835383\", \"-15.84060973365\", \"-15.838349985815\", \"-15.841842667042\", \"-15.83263347211\", \"-15.836485012358\", \"-15.841345122238\", \"-15.834840000996\", \"-15.84060973365\", \"-15.839317797727\", \"-15.835687747487\", \"-15.841345122238\", \"-15.820545586541\", \"-15.838349985815\", \"-15.833969561015\", \"-15.84067\", \"-15.834902512606\", \"-15.84067\", \"-15.84067\", \"-15.830019987575\", \"-15.828305008276\", \"-15.84060973365\", \"-15.844432049564\", \"-15.84067\", \"-15.84067\", \"-15.837020008283\", \"-15.820545586541\", \"-15.838701645321\", \"-15.838328619067\", \"-15.837084988988\", \"-15.838701645321\", \"-15.837135007995\", \"-15.837664995733\", \"-15.83263347211\", \"-15.832470870366\", \"-15.843415626518\", \"-15.837020008283\", \"-15.854895694028\", \"-15.84067\", \"-15.839090003091\", \"-15.830019987575\", \"-15.84067\", \"-15.84067\", \"-15.64461\", \"-15.858783210934\", \"-15.841181517634\", \"-15.844604958131\", \"-15.83693499483\", \"-15.84067\", \"-15.838701645321\", \"-15.832470870366\", \"-15.838701645321\", \"-15.837084988988\", \"-22.61436\", \"-15.84067\", \"-15.83263347211\", \"-15.84067\", \"-15.84067\", \"-15.854895694028\", \"-15.83514\", \"-15.84067\", \"-15.837135007995\", \"-15.827749571353\", \"-15.833969561015\", \"-15.836918381182\", \"-15.834165006333\", \"-15.841920228821\", \"-15.83673500262\", \"-15.841920228821\", \"-15.844959835383\", \"-15.832470870366\", \"-15.84067\", \"-15.834700002258\", \"-15.84067\", \"-15.829135005283\", \"-15.836765009834\", \"-15.837664995733\", \"-15.836534989456\", \"-15.84067\", \"-15.834665007812\", \"-15.84067\", \"-15.838701645321\", \"-15.841842667042\", \"-15.837135007995\", \"-15.84067\", \"-15.836631976279\", \"-15.839758276622\", \"-15.84067\", \"-15.84067\", \"-15.84067\", \"-15.836631976279\", \"-15.84067\", \"-15.834902512606\", \"-15.84067\", \"-15.84067\", \"-15.84060973365\", \"-15.84067\", \"-15.84067\", \"-15.844432049564\", \"-15.844959835383\", \"-15.99845\", \"-15.99845\", \"-15.839439989459\", \"-15.837020008283\", \"-15.837020008283\", \"-15.841842667042\", \"-15.820545586541\", \"-15.836918381182\", \"-15.845095068508\", \"-15.837020008283\", \"-15.84067\", \"-15.84067\", \"-15.844959835383\", \"-15.84067\", \"-15.830234983391\", \"-15.841842667042\", \"-15.84067\", \"-15.837135007995\", \"-15.837135007995\", \"-15.820545586541\", \"-15.839140708117\", \"-15.836122270133\", \"-15.838349985815\", \"-15.84060973365\", \"-15.84067\", \"-15.839115002118\", \"-15.84067\", \"-15.83673500262\", \"-15.83605\", \"-15.841727311452\", \"-15.84067\", \"-15.83939895395\", \"-15.838701645321\", \"-15.84067\", \"-15.844959835383\", \"-15.832470870366\", \"-15.84067\", \"-15.84067\", \"-15.84067\", \"-15.835195016505\", \"-15.83232\", \"-15.842330006809\", \"-15.838701645321\", \"-15.84067\", \"-15.84060973365\", \"-15.830976955297\", \"-15.84067\", \"-15.854516826001\", \"-15.820545586541\", \"-15.838701645321\", \"-15.837664995733\", \"-15.84060973365\", \"-15.841842667042\", \"-15.838701645321\", \"-15.84067\", \"-15.835687747487\", \"-15.838701645321\", \"-15.83455\", \"-15.843415626518\", \"-15.839758276622\", \"-15.84067\", \"-15.839793783435\", \"-15.843075011318\", \"-15.836918381182\", \"-15.820545586541\", \"-15.84067\", \"-15.84067\", \"-15.841920228821\", \"-15.844959835383\", \"-15.838701645321\", \"-15.84067\", \"-15.84067\", \"-15.833969561015\", \"-15.84067\", \"-15.84060973365\", \"-15.84067\", \"-15.836122270133\", \"-15.84067\", \"-15.837371178171\", \"-15.84060973365\", \"-15.869146300872\", \"-15.837135007995\", \"-15.843219480939\", \"-15.835195016505\", \"-15.837135007995\", \"-15.84067\", \"-15.844604958131\", \"-15.841065009982\", \"-15.836631976279\", \"-15.827749571353\", \"-15.84067\", \"-15.844432049564\", \"-15.836200006696\", \"-15.838701645321\", \"-15.84067\", \"-15.843415626518\", \"-15.84067\", \"-15.84067\", \"-15.84067\", \"-15.838701645321\", \"-15.841345122238\", \"-15.84067\", \"-15.833969561015\", \"-15.835195016505\", \"-15.834165006333\", \"-15.84067\", \"-15.844432049564\", \"-15.836495007778\", \"-15.820545586541\", \"-15.84060973365\", \"-15.84067\", \"-15.84067\", \"-15.84067\", \"-15.84060973365\", \"-15.834665007812\", \"-15.836495007778\", \"-15.831820001282\", \"-15.84059\", \"-15.83693499483\", \"-15.84067\", \"-15.838380765547\", \"-15.838349985815\", \"-15.84067\", \"-15.827749571353\", \"-15.84067\", \"-15.836918381182\", \"-15.838349985815\", \"-15.84067\", \"-15.83263347211\", \"-15.84067\", \"-15.84067\", \"-15.84067\", \"-15.831239551113\", \"-15.833969561015\", \"-15.836631976279\", \"-15.834665007812\", \"-15.836768410907\", \"-15.836631976279\", \"-15.836765009834\", \"-15.838701645321\", \"-15.834165006333\", \"-15.838349985815\", \"-15.839317797727\", \"-15.832470870366\", \"-15.838185009006\", \"-15.832899988551\", \"-15.836631976279\", \"-15.84067\", \"-15.841345122238\", \"-15.84067\", \"-15.833969561015\", \"-15.836768410907\", \"-15.84067\", \"-15.834902512606\", \"-15.838701645321\", \"-15.84067\", \"-15.84067\", \"-15.83455\", \"-15.841588540578\", \"-15.836200006696\", \"-15.843075011318\", \"-15.84067\", \"-15.830381600035\", \"-19.95215\", \"-15.834165006333\", \"-15.832899988551\", \"-15.843415626518\", \"-15.838345569024\", \"-15.836534989456\", \"-15.841345122238\", \"-15.834902512606\", \"-15.839758276622\", \"-15.83263347211\", \"-15.854895694028\", \"-15.837020008283\", \"-15.831060379564\", \"-15.83939895395\", \"-15.836485012358\", \"-15.838685071444\", \"-15.84067\", \"-15.836765009834\", \"-15.831075851288\", \"-15.836631976279\", \"-15.841842667042\", \"-15.84067\", \"-15.84067\", \"-15.836631976279\", \"-15.830019987575\", \"-15.83871\", \"-15.877041150707\", \"-15.836200006696\", \"-15.836768410907\", \"-15.820545586541\", \"-15.84067\", \"-15.836918381182\", \"-15.836485012358\", \"-15.838685071444\", \"-15.836631976279\", \"-15.834665007812\", \"-15.84067\", \"-15.836631976279\", \"-15.839758276622\", \"-15.841920228821\", \"-15.841842667042\", \"-15.838380765547\", \"-15.834165006333\", \"-15.838701645321\", \"-15.837135007995\", \"-15.843415626518\", \"-15.82753520327\", \"-15.835205011924\", \"-15.84067\", \"-15.83915\", \"-15.838053465316\", \"-15.836631976279\", \"-15.841920228821\", \"-15.836765009834\", \"-15.84067\", \"-15.84067\", \"-15.84067\", \"-15.836768410907\", \"-15.871551411401\", \"-15.832000002652\", \"-15.84067\", \"-15.840054990649\", \"-15.844432049564\", \"-15.836495007778\", \"-15.83455\", \"-15.838345569024\", \"-15.84067\", \"-15.84067\", \"-15.84067\", \"-15.838701645321\", \"-15.834165006333\", \"-15.833969561015\", \"-15.84122\", \"-15.84067\", \"-15.84067\", \"-15.838838020657\", \"-15.84067\", \"-15.841920228821\", \"-15.84067\", \"-15.84060973365\", \"-15.84067\", \"-15.838185009006\", \"-15.820545586541\", \"-15.84067\", \"-15.83693499483\", \"-15.843415626518\", \"-15.843219480939\", \"-15.833969561015\", \"-15.84067\", \"-15.841065009982\", \"-15.83455\", \"-15.841345122238\", \"-15.84067\", \"-15.84067\", \"-15.84067\", \"-15.84067\", \"-15.834665007812\", \"-15.820545586541\", \"-15.83673500262\", \"-15.84067\", \"-15.831060379564\", \"-15.84067\", \"-15.84067\", \"-15.820545586541\", \"-15.841842667042\", \"-15.831060379564\", \"-15.834902512606\", \"-15.835360014269\", \"-15.836918381182\", \"-15.84067\", \"-15.844527463825\", \"-15.84067\", \"-15.84067\", \"-15.82884999962\", \"-15.84067\", \"-15.84067\", \"-15.838380765547\", \"-15.84067\", \"-15.84067\", \"-15.84067\", \"-15.836768410907\", \"-15.845095068508\", \"-15.84060973365\", \"-15.841345122238\", \"-15.839140708117\", \"-15.84129498845\", \"-15.837135007995\", \"-15.84067\", \"-15.834902512606\", \"-15.84067\", \"-15.838229020206\", \"-15.84067\", \"-15.834700002258\", \"-15.84067\", \"-15.831075851288\", \"-15.84067\", \"-15.837020008283\", \"-15.84067\", \"-15.837020008283\", \"-15.832470870366\", \"-15.84067\", \"-15.844604958131\", \"-15.838701645321\", \"-15.84067\", \"-15.838701645321\", \"-15.84067\", \"-15.837135007995\", \"-15.84067\", \"-15.84067\", \"-15.834700002258\", \"-15.84067\", \"-15.835741108224\", \"-15.837135007995\", \"-15.835195016505\", \"-15.84067\", \"-15.830520010009\", \"-15.851060010423\", \"-15.84067\", \"-15.838701645321\", \"-15.844432049564\", \"-15.836665013729\", \"-15.829135005283\", \"-15.845095068508\", \"-15.83673500262\", \"-15.84067\", \"-15.839317797727\", \"-15.836631976279\", \"-15.83263347211\", \"-15.84067\", \"-15.84067\", \"-15.84067\", \"-15.84067\", \"-15.83514\", \"-15.841181517634\", \"-15.841065009982\", \"-15.86202\", \"-15.839758276622\", \"-15.830976955297\", \"-15.84067\", \"-15.830976955297\", \"-15.99845\", \"-15.836665013729\", \"-15.84067\", \"-15.838380765547\", \"-15.854895694028\", \"-15.832899988551\", \"-15.84067\", \"-15.831075851288\", \"-15.84067\", \"-15.838328619067\", \"-15.837664995733\", \"-15.834902512606\", \"-15.834902512606\", \"-15.845095068508\", \"-15.84067\", \"-15.836122270133\", \"-15.834165006333\", \"-15.836495007778\", \"-15.836631976279\", \"-15.84067\", \"-15.836918381182\", \"-15.843415626518\", \"-15.84067\", \"-15.83455\", \"-15.83939895395\", \"-15.84067\", \"-15.836495007778\", \"-15.860044062803\", \"-15.84067\", \"-15.839090003091\", \"-15.84067\", \"-15.877041150707\", \"-15.836200006696\", \"-15.84067\", \"-15.84067\", \"-15.84067\", \"-15.820545586541\", \"-15.834840000996\", \"-15.832470870366\", \"-15.836122270133\", \"-15.836122270133\", \"-15.838349985815\", \"-15.836495007778\", \"-15.84067\", \"-15.84067\", \"-15.84067\", \"-15.84067\", \"-15.84067\", \"-15.84067\", \"-15.99845\", \"-15.837135007995\", \"-15.84067\", \"-15.831060379564\", \"-15.830019987575\", \"-15.84067\", \"-15.83915\", \"-15.83232\", \"-15.836768410907\", \"-15.84096000569\", \"-15.834902512606\", \"-15.84067\", \"-15.836765009834\", \"-15.84067\", \"-15.83869498495\", \"-15.84067\", \"-15.844604958131\", \"-15.834165006333\", \"-15.84067\", \"-15.838328619067\", \"-15.841181517634\", \"-15.84067\", \"-15.84067\", \"-15.836918381182\", \"-15.844604958131\", \"-15.84060973365\", \"-15.832899988551\", \"-15.837371178171\", \"-15.84067\", \"-15.831075851288\", \"-15.83455\", \"-15.834902512606\", \"-15.839317797727\", \"-15.829993262634\", \"-15.84067\", \"-15.839090003091\", \"-15.84067\", \"-15.84067\", \"-15.843415626518\", \"-15.836765009834\", \"-15.834902512606\", \"-15.84067\", \"-15.84067\", \"-15.830381600035\", \"-15.845095068508\", \"-15.838044989313\", \"-15.84067\", \"-15.84067\", \"-15.854895694028\", \"-15.843219480939\", \"-15.835195016505\", \"-15.839499726024\", \"-15.838838020657\", \"-15.830381600035\", \"-15.843075011318\", \"-15.862317486449\", \"-15.831075851288\", \"-15.830381600035\", \"-15.84060973365\", \"-15.834840000996\", \"-15.838328619067\", \"-15.838044989313\", \"-15.834715005865\", \"-15.84067\", \"-15.831820001282\", \"-15.84060973365\", \"-15.836122270133\", \"-19.95215\", \"-15.838229020206\", \"-15.838701645321\", \"-15.836200006696\", \"-15.84067\", \"-15.84067\", \"-15.837020008283\", \"-15.84067\", \"-15.832470870366\", \"-15.83673500262\", \"-15.84067\", \"-15.84067\", \"-15.841345122238\", \"-15.834715005865\", \"-15.84067\", \"-19.95215\", \"-21.16981\", \"-15.841588540578\", \"-15.841181517634\", \"-15.832470870366\", \"-15.84067\", \"-15.841842667042\", \"-15.84067\", \"-15.836665013729\", \"-15.84067\", \"-15.844432049564\", \"-15.841345122238\", \"-15.839115002118\", \"-15.844432049564\", \"-15.838229020206\", \"-15.84060973365\", \"-15.84067\", \"-15.84067\", \"-3.407584993824\", \"-15.835735462934\", \"-15.877041150707\", \"-15.83514\", \"-15.834715005865\", \"-15.839439989459\", \"-15.84067\", \"-15.838701645321\", \"-15.84060973365\", \"-15.84067\", \"-15.84060973365\", \"-15.838701645321\", \"-15.835735462934\", \"-15.837735005579\", \"-15.828729556526\", \"-15.84067\", \"-15.83952\", \"-15.84067\", \"-15.832470870366\", \"-15.834902512606\", \"-15.833969561015\", \"-15.854895694028\", \"-15.835195016505\", \"-15.84067\", \"-15.83915\", \"-15.844604958131\", \"-15.843075011318\", \"-15.84067\", \"-15.854285010534\", \"-15.837135007995\", \"-15.839115002118\", \"-15.84067\", \"-15.830234983391\", \"-15.84067\", \"-15.83455\", \"-15.84060973365\", \"-15.838349985815\", \"-15.84067\", \"-15.84067\", \"-15.832899988551\", \"-15.829993262634\", \"-15.840054990649\", \"-15.837664995733\", \"-15.84067\", \"-15.84067\", \"-15.838380765547\", \"-15.84067\", \"-15.84067\", \"-15.837135007995\", \"-15.841588540578\", \"-15.838685071444\", \"-15.832899988551\", \"-15.834165006333\", \"-15.841065009982\", \"-15.84067\", \"-15.84067\", \"-15.836665013729\", \"-15.839317797727\", \"-15.836765009834\", \"-15.837135007995\", \"-15.64461\", \"-15.839758276622\", \"-15.84067\", \"-15.832470870366\", \"-15.837020008283\", \"-15.836200006696\", \"-15.832470870366\", \"-15.841920228821\", \"-15.64461\", \"-15.84067\", \"-15.84067\", \"-15.84060973365\", \"-15.84067\", \"-15.838345569024\", \"-15.843075011318\", \"-15.839090003091\", \"-15.854895694028\", \"-15.84067\", \"-15.84067\", \"-15.834165006333\", \"-15.836631976279\", \"-15.820545586541\", \"-15.830976955297\", \"-15.84067\", \"-15.833969561015\", \"-15.84067\", \"-15.841181517634\", \"-15.832470870366\", \"-15.843415626518\", \"-15.839853435547\", \"-15.839439989459\", \"-15.85549\", \"-15.843075011318\", \"-15.835735462934\", \"-15.839140708117\", \"-15.839758276622\", \"-15.836918381182\", \"-15.84067\", \"-15.844959835383\", \"-15.836768410907\", \"-15.837664995733\", \"-15.841842667042\", \"-15.84067\", \"-15.836122270133\", \"-15.84067\", \"-15.837664995733\", \"-15.84067\", \"-15.839090003091\", \"-15.836765009834\", \"-15.834165006333\", \"-15.830976955297\", \"-15.84067\", \"-15.83673500262\", \"-15.84067\", \"-15.84067\", \"-15.84067\", \"-15.84067\", \"-15.84067\", \"-15.836631976279\", \"-15.854516826001\", \"-15.84067\", \"-15.838349985815\", \"-15.832000002652\", \"-15.838685071444\", \"-15.841345122238\", \"-15.841345122238\", \"-15.84067\", \"-15.834902512606\", \"-15.839853435547\", \"-15.84067\", \"-15.829993262634\", \"-15.836765009834\", \"-15.84067\", \"-15.834700002258\", \"-3.40758\", \"-15.84067\", \"-15.841065009982\", \"-15.83455\", \"-15.838349985815\", \"-15.84067\", \"-15.84067\", \"-15.869146300872\", \"-15.835735462934\", \"-15.83915\", \"-15.85799125881\", \"-15.820545586541\", \"-15.84067\", \"-15.839317797727\", \"-15.841065009982\", \"-15.833969561015\", \"-15.83939895395\", \"-15.854895694028\", \"-15.871551411401\", \"-15.854895694028\", \"-15.84067\", \"-15.838349985815\", \"-15.84067\", \"-15.84067\", \"-15.839317797727\", \"-15.838053465316\", \"-15.835735462934\", \"-15.836765009834\", \"-15.838701645321\", \"-15.844959835383\", \"-15.839115002118\", \"-15.838345569024\", \"-15.854516826001\", \"-15.84067\", \"-15.84067\", \"-15.83693499483\", \"-15.83915\", \"-15.834902512606\", \"-15.830976955297\", \"-15.837135007995\", \"-15.836768410907\", \"-15.836665013729\", \"-15.841588540578\", \"-15.83693499483\", \"-15.841842667042\", \"-15.84067\", \"-15.831239551113\", \"-15.83869498495\", \"-15.838701645321\", \"-15.831060379564\", \"-15.84060973365\", \"-15.836122270133\", \"-15.845095068508\", \"-15.841842667042\", \"-15.84067\", \"-15.832470870366\", \"-15.84067\", \"-15.836665013729\", \"-15.84067\", \"-15.84067\", \"-15.838701645321\", \"-15.84067\", \"-15.830976955297\", \"-15.838349985815\", \"-15.837735005579\", \"-15.836768410907\", \"-15.829993262634\", \"-15.820545586541\", \"-15.838349985815\", \"-15.836918381182\", \"-15.83869498495\", \"-15.84067\", \"-15.837371178171\", \"-15.834840000996\", \"-15.84067\", \"-15.84067\", \"-15.839758276622\", \"-15.84067\", \"-15.84067\", \"-15.84067\", \"-15.837020008283\", \"-15.838328619067\", \"-15.84067\", \"-15.84067\", \"-15.836765009834\", \"-15.84067\", \"-15.839090003091\", \"-15.84067\", \"-15.833969561015\", \"-15.838701645321\", \"-15.836918381182\", \"-15.84067\", \"-15.84067\", \"-15.83461\", \"-15.84067\", \"-15.820545586541\", \"-15.838685071444\", \"-15.84067\", \"-15.820545586541\", \"-15.834902512606\", \"-15.84067\", \"-15.84067\", \"-15.844604958131\", \"-15.836185736652\", \"-15.84067\", \"-15.839115002118\", \"-15.838701645321\", \"-15.837135007995\", \"-15.83939895395\", \"-15.838229020206\", \"-15.830976955297\", \"-15.84067\", \"-15.836495007778\", \"-15.831075851288\", \"-15.836631976279\", \"-15.827749571353\", \"-15.845095068508\", \"-15.84067\", \"-15.841920228821\", \"-15.834902512606\", \"-15.839090003091\", \"-15.84067\", \"-15.838701645321\", \"-15.83673500262\", \"-15.844432049564\", \"-15.838792234434\", \"-15.843075011318\", \"-15.84067\", \"-15.841920228821\", \"-15.841920228821\", \"-15.845095068508\", \"-15.834165006333\", \"-15.830976955297\", \"-15.838229020206\", \"-15.832854587364\", \"-15.820545586541\", \"-15.84067\", \"-15.841842667042\", \"-15.841920228821\", \"-15.845095068508\", \"-15.832470870366\", \"-15.830976955297\", \"-15.853245158638\", \"-15.83915\", \"-15.836122270133\", \"-15.841345122238\", \"-15.832470870366\", \"-15.839793783435\", \"-15.841842667042\", \"-15.839758276622\", \"-15.829993262634\", \"-15.839090003091\", \"-15.84067\", \"-15.854516826001\", \"-15.84067\", \"-15.84067\", \"-15.83780499447\", \"-15.834665007812\", \"-15.84067\", \"-15.838701645321\", \"-15.84067\", \"-15.854895694028\", \"-15.833969561015\", \"-15.829135005283\", \"-15.832000002652\", \"-15.831239551113\", \"-15.838701645321\", \"-15.840054990649\", \"-15.837135007995\", \"-15.84067\", \"-15.836631976279\", \"-15.84067\", \"-15.839499726024\", \"-15.83263347211\", \"-15.833969561015\", \"-15.834902512606\", \"-15.838701645321\", \"-15.84067\", \"-15.84067\", \"-15.834700002258\", \"-15.869146300872\", \"-15.839317797727\", \"-15.84060973365\", \"-15.84067\", \"-15.837135007995\", \"-15.84067\", \"-15.83605\", \"-15.835195016505\", \"-15.64461\", \"-15.832470870366\", \"-15.84060973365\", \"-15.84067\", \"-15.85273\", \"-15.835687747487\", \"-15.836200006696\", \"-15.839115002118\", \"-15.84067\", \"-15.834165006333\", \"-15.840054990649\", \"-15.83514\", \"-15.820545586541\", \"-15.838229020206\", \"-15.839115002118\", \"-15.836765009834\", \"-15.84067\", \"-15.83869498495\", \"-15.836631976279\", \"-15.829993262634\", \"-15.843219480939\", \"-15.84060973365\", \"-15.84067\", \"-15.836631976279\", \"-15.839140708117\", \"-15.839758276622\", \"-15.84067\", \"-15.84067\", \"-15.854895694028\", \"-15.836122270133\", \"-15.84067\", \"-15.838349985815\", \"-15.860044062803\", \"-15.84067\", \"-15.836122270133\", \"-15.836765009834\", \"-15.837135007995\", \"-15.841842667042\", \"-15.84067\", \"-15.839758276622\", \"-15.84067\", \"-15.84067\", \"-15.838328619067\", \"-15.839758276622\", \"-15.84067\", \"-15.830019987575\", \"-15.841181517634\", \"-15.833969561015\", \"-15.84067\", \"-15.84067\", \"-15.838685071444\", \"-15.820545586541\", \"-15.83939895395\", \"-15.838838020657\", \"-15.834715005865\", \"-15.84067\", \"-15.820545586541\", \"-22.17185\", \"-15.84067\", \"-15.829258965485\", \"-15.84067\", \"-15.836765009834\", \"-15.841920228821\", \"-15.836918381182\", \"-15.843219480939\", \"-15.84067\", \"-15.84067\", \"-15.844959835383\", \"-15.832899988551\", \"-15.836631976279\", \"-15.8634\", \"-15.830381600035\", \"-15.841920228821\", \"-15.839793783435\", \"-15.84067\", \"-15.84067\", \"-15.84067\", \"-15.869146300872\", \"-15.836200006696\", \"-15.870262327677\", \"-15.834165006333\", \"-15.829993262634\", \"-15.869146300872\", \"-15.837020008283\", \"-15.838345569024\", \"-15.832899988551\", \"-15.83915\", \"-15.837371178171\", \"-15.841920228821\", \"-15.84067\", \"-15.841345122238\", \"-15.839140708117\", \"-15.856242347312\", \"-15.84067\", \"-15.837664995733\", \"-15.84129498845\", \"-15.839758276622\", \"-15.834700002258\", \"-15.837084988988\", \"-15.84067\", \"-15.832450448402\", \"-15.836534989456\", \"-15.837664995733\", \"-15.84067\", \"-15.874180002545\", \"-15.84096000569\", \"-15.839853435547\", \"-15.838701645321\", \"-15.84067\", \"-15.84067\", \"-15.84067\", \"-15.838229020206\", \"-15.84067\", \"-15.84060973365\", \"-15.84067\", \"-15.84067\", \"-15.834902512606\", \"-15.841920228821\", \"-15.661225437967\", \"-15.838380765547\", \"-15.838701645321\", \"-15.84067\", \"-15.841842667042\", \"-15.832899988551\", \"-15.838838020657\", \"-15.84060973365\", \"-15.820545586541\", \"-15.838701645321\", \"-15.839758276622\", \"-15.844604958131\", \"-15.843415626518\", \"-15.838345569024\", \"-15.84067\", \"-15.840054990649\", \"-15.840054990649\", \"-15.831075851288\", \"-15.84067\", \"-15.84067\", \"-15.841842667042\", \"-15.837135007995\", \"-15.834665007812\", \"-15.84060973365\", \"-15.836918381182\", \"-15.84067\", \"-15.83263347211\", \"-15.830381600035\", \"-15.83263347211\", \"-15.83780499447\", \"-15.84067\", \"-15.840054990649\", \"-15.831820001282\", \"-15.64461\", \"-15.84067\", \"-15.834840000996\", \"-15.858691107681\", \"-15.837020008283\", \"-15.870262327677\", \"-15.836122270133\", \"-15.831060379564\", \"-15.839758276622\", \"-15.84067\", \"-15.84067\", \"-15.856242347312\", \"-15.84239\", \"-15.84067\", \"-15.84067\", \"-15.838685071444\", \"-15.830234983391\", \"-15.84067\", \"-15.84060973365\", \"-15.836122270133\", \"-15.841920228821\", \"-15.84067\", \"-15.838229020206\", \"-15.84067\", \"-15.835360014269\", \"-15.84067\", \"-15.820545586541\", \"-15.84067\", \"-15.83514\", \"-15.829135005283\", \"-15.85799125881\", \"-15.837664995733\", \"-15.84067\", \"-15.838701645321\", \"-15.836631976279\", \"-15.84067\", \"-15.84060973365\", \"-15.833969561015\", \"-15.830976955297\", \"-15.84067\", \"-15.84060973365\", \"-15.838701645321\", \"-15.837020008283\", \"-15.838328619067\", \"-15.84067\", \"-15.836918381182\", \"-15.831075851288\", \"-15.837020008283\", \"-15.834902512606\", \"-15.838701645321\", \"-15.866004238102\", \"-15.84067\", \"-15.84067\", \"-15.84067\", \"-15.831075851288\", \"-15.836631976279\", \"-15.840054990649\", \"-15.83205\", \"-15.839758276622\", \"-15.837020008283\", \"-15.84067\", \"-15.84067\", \"-15.84067\", \"-15.836122270133\", \"-15.841920228821\", \"-15.836918381182\", \"-15.838380765547\", \"-15.84067\", \"-15.84067\", \"-15.837664995733\", \"-15.84067\", \"-15.83939895395\", \"-15.84067\", \"-15.820545586541\", \"-15.839758276622\", \"-15.841842667042\", \"-15.831239551113\", \"-15.83263347211\", \"-15.84067\", \"-15.83455\", \"-15.844959835383\", \"-15.835195016505\", \"-15.838229020206\", \"-15.84067\", \"-15.84059\", \"-15.84060973365\", \"-15.84067\", \"-15.84067\", \"-15.820545586541\", \"-15.854224996108\", \"-15.83673500262\", \"-15.831820001282\", \"-15.843075011318\", \"-15.820545586541\", \"-15.84067\", \"-21.16981\", \"-15.836665013729\", \"-15.84067\", \"-15.84060973365\", \"-15.836918381182\", \"-15.84067\", \"-15.830976955297\", \"-15.860044062803\", \"-15.843075011318\", \"-15.84067\", \"-15.845095068508\", \"-15.84067\", \"-15.83939895395\", \"-15.831075851288\", \"-15.837371178171\", \"-15.840054990649\", \"-15.841065009982\", \"-15.83263347211\", \"-15.828529999512\", \"-15.84067\", \"-15.83455\", \"-15.84067\", \"-15.84067\", \"-15.838053465316\", \"-15.832470870366\", \"-15.836122270133\", \"-15.839499726024\", \"-15.838345569024\", \"-15.837664995733\", \"-15.832000002652\", \"-15.84067\", \"-15.832470870366\", \"-15.832470870366\", \"-15.839499726024\", \"-15.830310363465\", \"-3.407584993824\", \"-15.84067\", \"-15.84067\", \"-15.834165006333\", \"-15.837135007995\", \"-15.84067\", \"-15.84067\", \"-15.854895694028\", \"-15.838701645321\", \"-15.84067\", \"-15.843415626518\", \"-15.84060973365\", \"-15.84067\", \"-15.84067\", \"-15.834700002258\", \"-15.831075851288\", \"-15.964734983148\", \"-15.836765009834\", \"-15.83263347211\", \"-15.84060973365\", \"-15.84067\", \"-15.839758276622\", \"-15.841920228821\", \"-15.841842667042\", \"-15.836765009834\", \"-15.843785000427\", \"-15.84067\", \"-15.832000002652\", \"-15.839090003091\", \"-15.83915\", \"-15.835735462934\", \"-15.84067\", \"-15.838380765547\", \"-15.84067\", \"-15.838685071444\", \"-15.84067\", \"-15.84067\", \"-15.836918381182\", \"-15.83263347211\", \"-15.838185009006\", \"-15.841345122238\", \"-15.837664995733\", \"-15.831239551113\", \"-15.838701645321\", \"-15.836665013729\", \"-15.841842667042\", \"-15.832470870366\", \"-15.84067\", \"-15.833969561015\", \"-15.839793783435\", \"-15.839853435547\", \"-15.833969561015\", \"-15.841842667042\", \"-15.838701645321\", \"-15.84067\", \"-15.831239551113\", \"-15.832000002652\", \"-15.84067\", \"-15.834902512606\", \"-15.836765009834\", \"-15.84067\", \"-15.830976955297\", \"-15.84067\", \"-15.84067\", \"-15.64461\", \"-15.836631976279\", \"-15.854895694028\", \"-15.84067\", \"-15.838701645321\", \"-15.836631976279\", \"-15.83673500262\", \"-15.84067\", \"-15.820545586541\", \"-15.830976955297\", \"-15.84067\", \"-15.838701645321\", \"-15.832450448402\", \"-15.83455\", \"-15.838685071444\", \"-15.830520010009\", \"-15.84067\", \"-15.84067\", \"-15.83232\", \"-15.838185009006\", \"-15.84060973365\", \"-15.820545586541\", \"-15.8634\", \"-15.836918381182\", \"-15.839758276622\", \"-15.832470870366\", \"-15.84067\", \"-15.84059\", \"-15.832854587364\", \"-15.84067\", \"-23.23621\", \"-15.836918381182\", \"-15.837135007995\", \"-15.84067\", \"-15.840054990649\", \"-15.84067\", \"-15.83693499483\", \"-15.833969561015\", \"-15.84067\", \"-15.84067\", \"-15.83263347211\", \"-15.836631976279\", \"-15.831075851288\", \"-15.836918381182\", \"-15.820545586541\", \"-15.83455\", \"-15.84067\", \"-15.84067\", \"-15.84067\", \"-15.84067\", \"-15.84067\", \"-15.838701645321\", \"-15.84067\", \"-15.836200006696\", \"-15.839115002118\", \"-15.837135007995\", \"-15.843415626518\", \"-15.83263347211\", \"-15.834715005865\", \"-15.84067\", \"-15.84067\", \"-15.84067\", \"-15.836631976279\", \"-15.84067\", \"-15.834165006333\", \"-15.83673500262\", \"-15.84067\", \"-15.833969561015\", \"-15.83915\", \"-15.838701645321\", \"-15.839090003091\", \"-15.830234983391\", \"-15.84067\", \"-15.845095068508\", \"-15.832899988551\", \"-15.84067\", \"-15.832854587364\", \"-15.833969561015\", \"-15.834165006333\", \"-15.834902512606\", \"-15.84067\", \"-15.869146300872\", \"-15.869146300872\", \"-15.829993262634\", \"-15.84067\", \"-15.84067\", \"-15.84067\", \"-15.845095068508\", \"-15.838185009006\", \"-15.835735462934\", \"-15.838349985815\", \"-15.84067\", \"-15.84067\", \"-15.84067\", \"-15.84067\", \"-15.836122270133\", \"-15.831060379564\", \"-15.84067\", \"-15.836534989456\", \"-15.83673500262\", \"-15.838185009006\", \"-15.84067\", \"-15.834700002258\", \"-15.833969561015\", \"-15.83673500262\", \"-15.841181517634\", \"-15.829993262634\", \"-15.841181517634\", \"-15.834165006333\", \"-15.84067\", \"-15.832470870366\", \"-15.84067\", \"-15.841842667042\", \"-15.84060973365\", \"-15.84067\", \"-15.845095068508\", \"-15.835687747487\", \"-15.84067\", \"-15.831075851288\", \"-15.84067\", \"-15.83693499483\", \"-15.83455\", \"-15.85549\", \"-15.84122\", \"-15.836631976279\", \"-15.838701645321\", \"-15.84067\", \"-15.841065009982\", \"-15.84067\", \"-15.841345122238\", \"-15.839793783435\", \"-15.839090003091\", \"-15.84067\", \"-15.84067\", \"-15.838345569024\", \"-15.83514\", \"-15.836631976279\", \"-15.839090003091\", \"-15.84067\", \"-15.877041150707\", \"-15.852067752397\", \"-15.84067\", \"-15.838701645321\", \"-15.845095068508\", \"-15.844432049564\", \"-15.836918381182\", \"-15.84067\", \"-15.836768410907\", \"-15.84067\", \"-15.84067\", \"-15.830019987575\", \"-15.832854587364\", \"-15.84067\", \"-15.830170002687\", \"-15.820545586541\", \"-15.843415626518\", \"-15.831239551113\", \"-15.84067\", \"-15.836631976279\", \"-15.84067\", \"-15.84067\", \"-15.84067\", \"-15.832470870366\", \"-15.84067\", \"-15.830170002687\", \"-15.829993262634\", \"-15.834665007812\", \"-15.84067\", \"-15.834715005865\", \"-15.84067\", \"-15.834902512606\", \"-15.84067\", \"-15.841842667042\", \"-15.837664995733\", \"-15.84067\", \"-15.84060973365\", \"-15.84067\", \"-15.84067\", \"-15.84067\", \"-15.84067\", \"-15.838685071444\", \"-15.85273\", \"-15.84067\", \"-15.83263347211\", \"-15.830976955297\", \"-15.84067\", \"-15.836765009834\", \"-15.837371178171\", \"-15.83455\", \"-15.84067\", \"-15.844527463825\", \"-15.84067\", \"-15.834665007812\", \"-15.834902512606\", \"-15.85273\", \"-15.833969561015\", \"-15.837020008283\", \"-15.84060973365\", \"-15.838701645321\", \"-15.836485012358\", \"-15.84067\", \"-15.84067\", \"-15.84067\", \"-15.839853435547\", \"-15.839090003091\", \"-15.838349985815\", \"-15.841345122238\", \"-15.854895694028\", \"-15.84067\", \"-15.84067\", \"-15.836765009834\", \"-15.84067\", \"-15.827749571353\", \"-15.839758276622\", \"-15.83939895395\", \"-15.869146300872\", \"-15.839758276622\", \"-15.830381600035\", \"-15.84096000569\", \"-15.837135007995\", \"-15.84067\", \"-15.838685071444\", \"-15.84067\", \"-15.820545586541\", \"-15.84067\", \"-15.832854587364\", \"-15.84067\", \"-15.83939895395\", \"-15.836122270133\", \"-15.83263347211\", \"-15.835195016505\", \"-15.836122270133\", \"-15.841065009982\", \"-15.836122270133\", \"-15.820545586541\", \"-15.836631976279\", \"-15.834902512606\", \"-15.84067\", \"-15.844432049564\", \"-15.64461\", \"-15.84067\", \"-15.836495007778\", \"-15.836631976279\", \"-15.836122270133\", \"-3.407584993824\", \"-15.84067\", \"-15.840054990649\", \"-15.860044062803\", \"-15.837020008283\", \"-15.836918381182\", \"-21.16981\", \"-15.838701645321\", \"-15.834715005865\", \"-15.841345122238\", \"-15.827749571353\", \"-15.836765009834\", \"-15.84067\", \"-15.843415626518\", \"-15.84067\", \"-15.839499726024\", \"-15.83869498495\", \"-15.834840000996\", \"-15.838229020206\", \"-15.839793783435\", \"-15.83263347211\", \"-15.84067\", \"-15.83693499483\", \"-15.839439989459\", \"-15.838345569024\", \"-15.841181517634\", \"-15.839439989459\", \"-15.84074\", \"-15.834715005865\", \"-15.84060973365\", \"-15.830976955297\", \"-15.836665013729\", \"-15.838380765547\", \"-15.828710000882\", \"-15.843219480939\", \"-15.84067\", \"-15.836631976279\", \"-15.83939895395\", \"-15.838685071444\", \"-15.838380765547\", \"-15.84067\", \"-15.837735005579\", \"-15.837371178171\", \"-15.839758276622\", \"-15.838792234434\", \"-15.844604958131\", \"-15.843415626518\", \"-15.83673500262\", \"-15.832470870366\", \"-15.838701645321\", \"-15.84067\", \"-15.84067\", \"-15.84060973365\", \"-15.835735462934\", \"-15.853245158638\", \"-15.830976955297\", \"-15.836122270133\", \"-15.83952\", \"-15.830234983391\", \"-15.841920228821\", \"-15.84067\", \"-15.845095068508\", \"-15.84060973365\", \"-15.84067\", \"-15.84067\", \"-15.836918381182\", \"-15.84067\", \"-15.839090003091\", \"-15.831075851288\", \"-15.84067\", \"-15.84239\", \"-15.84067\", \"-21.16981\", \"-15.839090003091\", \"-15.844432049564\", \"-15.837371178171\", \"-15.836631976279\", \"-15.869146300872\", \"-15.836631976279\", \"-15.869146300872\", \"-15.845095068508\", \"-15.854895694028\", \"-15.84067\", \"-15.84067\", \"-15.84067\", \"-15.829993262634\", \"-15.839115002118\", \"-15.83455\", \"-15.84067\", \"-15.84067\", \"-15.838701645321\", \"-15.845095068508\", \"-15.838229020206\", \"-15.84067\", \"-15.838044989313\", \"-15.860044062803\", \"-15.84067\", \"-15.845095068508\", \"-15.837084988988\", \"-15.84067\", \"-15.84067\", \"-15.834902512606\", \"-15.84067\", \"-15.832470870366\", \"-15.838701645321\", \"-15.839853435547\", \"-15.84067\", \"-15.832470870366\", \"-15.83455\", \"-15.84067\", \"-15.84067\", \"-15.84067\", \"-15.836765009834\", \"-15.845095068508\", \"-15.838701645321\", \"-15.834902512606\", \"-3.40758\", \"-15.836918381182\", \"-15.832470870366\", \"-15.84067\", \"-15.84067\", \"-15.841920228821\", \"-15.836631976279\", \"-15.840054990649\", \"-15.84067\", \"-15.84067\", \"-15.84067\", \"-15.830976955297\", \"-15.831239551113\", \"-15.84067\", \"-15.844604958131\", \"-15.84067\", \"-15.836918381182\", \"-15.84067\", \"-15.843075011318\", \"-15.83780499447\", \"-15.84067\", \"-15.837135007995\", \"-15.84067\", \"-15.831820001282\", \"-15.84067\", \"-15.836631976279\", \"-15.837371178171\", \"-15.84067\", \"-15.84067\", \"-15.866004238102\", \"-15.820545586541\", \"-15.832899988551\", \"-15.831060379564\", \"-15.84067\", \"-15.84067\", \"-15.84060973365\", \"-15.84067\", \"-15.85273\", \"-15.838701645321\", \"-15.84060973365\", \"-15.836495007778\", \"-15.835735462934\", \"-15.84067\", \"-15.84067\", \"-15.83605\", \"-15.656210182867\", \"-15.834902512606\", \"-15.832000002652\", \"-15.843075011318\", \"-15.836122270133\", \"-15.84067\", \"-15.84067\", \"-15.835687747487\", \"-15.84067\", \"-15.839317797727\", \"-15.830381600035\", \"-15.84067\", \"-15.84067\", \"-15.827749571353\", \"-15.84096000569\", \"-15.836631976279\", \"-15.841842667042\", \"-15.84067\", \"-15.838229020206\", \"-15.84067\", \"-15.83605\", \"-15.84067\", \"-15.84067\", \"-15.837735005579\", \"-15.84067\", \"-15.843415626518\", \"-15.84067\", \"-15.84067\", \"-15.84067\", \"-15.84067\", \"-15.838185009006\", \"-15.84067\", \"-15.835205011924\", \"-15.828305008276\", \"-15.840054990649\", \"-15.84067\", \"-15.841345122238\", \"-15.83455\", \"-15.84067\", \"-15.84067\", \"-15.843415626518\", \"-15.836765009834\", \"-15.844604958131\", \"-15.837020008283\", \"-15.838349985815\", \"-15.84067\", \"-3.40758\", \"-15.838701645321\", \"-15.84067\", \"-15.84067\", \"-15.836631976279\", \"-15.841345122238\", \"-15.841842667042\", \"-15.84067\", \"-15.84067\", \"-15.829108479532\", \"-15.837371178171\", \"-15.836631976279\", \"-15.841920228821\", \"-15.84067\", \"-15.84067\", \"-15.84067\", \"-15.84067\", \"-15.838345569024\", \"-15.834715005865\", \"-15.839245786226\", \"-15.830234983391\", \"-15.84067\", \"-15.841920228821\", \"-15.836768410907\", \"-15.837371178171\", \"-15.869146300872\", \"-15.820545586541\", \"-15.839499726024\", \"-15.838701645321\", \"-15.84067\", \"-15.84067\", \"-15.84067\", \"-15.843415626518\", \"-15.836768410907\", \"-15.836765009834\", \"-15.837135007995\", \"-15.832450448402\", \"-15.64461\", \"-15.830976955297\", \"-15.833969561015\", \"-15.84067\", \"-15.836765009834\", \"-15.84067\", \"-15.836122270133\", \"-15.838701645321\", \"-15.8634\", \"-15.841588540578\", \"-15.836534989456\", \"-15.838685071444\", \"-15.833969561015\", \"-15.835195016505\", \"-15.834840000996\", \"-15.837020008283\", \"-15.838701645321\", \"-15.84067\", \"-15.84067\", \"-15.84067\", \"-15.836485012358\", \"-15.839115002118\", \"-15.84067\", \"-15.836534989456\", \"-15.854516826001\", \"-15.829993262634\", \"-15.841065009982\", \"-15.837735005579\", \"-15.873224285554\", \"-15.838701645321\", \"-15.834165006333\", \"-15.84067\", \"-15.839115002118\", \"-15.836918381182\", \"-15.84067\", \"-15.838701645321\", \"-15.836495007778\", \"-15.837135007995\", \"-15.84067\", \"-15.84067\", \"-15.838701645321\", \"-15.839853435547\", \"-15.84067\", \"-15.841181517634\", \"-15.834902512606\", \"-15.836631976279\", \"-15.820545586541\", \"-15.839758276622\", \"-15.83455\", \"-15.836200006696\", \"-15.831075851288\", \"-15.84067\", \"-15.838229020206\", \"-15.832470870366\", \"-15.860044062803\", \"-15.837135007995\", \"-15.832470870366\", \"-15.83869498495\", \"-15.856242347312\", \"-15.841345122238\", \"-15.829135005283\", \"-15.84067\", \"-15.837020008283\", \"-15.84096000569\", \"-15.84067\", \"-15.837135007995\", \"-15.84067\", \"-15.838701645321\", \"-15.84067\", \"-15.831239551113\", \"-15.841842667042\", \"-15.84067\", \"-15.844604958131\", \"-15.84067\", \"-15.84067\", \"-15.834700002258\", \"-15.835195016505\", \"-15.838685071444\", \"-15.83455\", \"-15.85799125881\", \"-15.84067\", \"-15.845095068508\", \"-15.84067\", \"-15.84067\", \"-15.839853435547\", \"-15.84067\", \"-15.841842667042\", \"-15.845095068508\", \"-15.831239551113\", \"-15.834700002258\", \"-15.827749571353\", \"-15.839140708117\", \"-15.84067\", \"-15.85799125881\", \"-15.820545586541\", \"-15.834165006333\", \"-15.834840000996\", \"-15.844959835383\", \"-15.841842667042\", \"-15.834902512606\", \"-15.831060379564\", \"-15.838349985815\", \"-15.837135007995\", \"-15.869146300872\", \"-15.84067\", \"-15.974985617098\", \"-15.836631976279\", \"-15.836122270133\", \"-15.84067\", \"-15.84067\", \"-15.84067\", \"-15.832000002652\", \"-15.84060973365\", \"-15.84067\", \"-15.866004238102\", \"-15.84067\", \"-15.837020008283\", \"-15.845095068508\", \"-15.84067\", \"-15.839758276622\", \"-15.837135007995\", \"-15.838701645321\", \"-15.83915\", \"-15.835195016505\", \"-15.84067\", \"-15.831075851288\", \"-15.84067\", \"-15.84067\", \"-15.836122270133\", \"-15.836765009834\", \"-15.836918381182\", \"-15.836918381182\", \"-15.84067\", \"-15.84067\", \"-15.836665013729\", \"-15.835195016505\", \"-15.834715005865\", \"-15.869146300872\", \"-15.839115002118\", \"-15.831239551113\", \"-15.84067\", \"-15.84067\", \"-15.831060379564\", \"-15.836200006696\", \"-15.830976955297\", \"-15.84067\", \"-15.838685071444\", \"-15.831075851288\", \"-15.838701645321\", \"-15.84067\", \"-15.84067\", \"-15.84067\", \"-15.836631976279\", \"-15.83263347211\", \"-15.834165006333\", \"-15.836122270133\", \"-15.844959835383\", \"-15.838349985815\", \"-15.837371178171\", \"-15.84067\", \"-15.871551411401\", \"-15.84129498845\", \"-15.832899988551\", \"-15.833969561015\", \"-15.834902512606\", \"-15.84067\", \"-15.839317797727\", \"-15.838685071444\", \"-15.872420012426\", \"-15.84067\", \"-15.837135007995\", \"-15.84067\", \"-15.84067\", \"-15.836631976279\", \"-15.83869498495\", \"-15.84067\", \"-15.839499726024\", \"-15.836918381182\", \"-15.84067\", \"-15.84067\", \"-15.82879499338\", \"-15.830234983391\", \"-15.84067\", \"-15.844432049564\", \"-15.836765009834\", \"-15.834715005865\", \"-15.837371178171\", \"-15.84067\", \"-15.877041150707\", \"-15.835195016505\", \"-15.84067\", \"-15.844432049564\", \"-15.834715005865\", \"-15.841842667042\", \"-15.837020008283\", \"-15.838380765547\", \"-15.839140708117\", \"-15.820545586541\", \"-15.84067\", \"-15.838701645321\", \"-15.838380765547\", \"-15.84067\", \"-15.839758276622\", \"-15.84067\", \"-15.839793783435\", \"-15.832899988551\", \"-15.84067\", \"-15.838701645321\", \"-15.874180002545\", \"-15.844604958131\", \"-15.84129498845\", \"-15.837135007995\", \"-15.836200006696\", \"-15.84067\", \"-15.83693499483\", \"-15.837371178171\", \"-15.841181517634\", \"-15.830976955297\", \"-15.853245158638\", \"-15.831075851288\", \"-15.84067\", \"-15.84067\", \"-15.841345122238\", \"-15.834665007812\", \"-15.84067\", \"-15.836122270133\", \"-15.845095068508\", \"-15.83455\", \"-15.843075011318\", \"-15.834840000996\", \"-15.84067\", \"-15.84067\", \"-15.834165006333\", \"-15.84067\", \"-15.845095068508\", \"-15.831075851288\", \"-15.836631976279\", \"-15.838701645321\", \"-15.84067\", \"-15.84060973365\", \"-15.84067\", \"-15.836765009834\", \"-15.84060973365\", \"-15.84067\", \"-15.841842667042\", \"-15.829993262634\", \"-15.84067\", \"-15.84067\", \"-15.832470870366\", \"-15.839317797727\", \"-15.834165006333\", \"-15.84067\", \"-15.84067\", \"-15.838380765547\", \"-15.84067\", \"-15.839758276622\", \"-15.831060379564\", \"-15.83455\", \"-15.835735462934\", \"-15.837135007995\", \"-15.84067\", \"-15.839758276622\", \"-15.84067\", \"-15.85549\", \"-15.836918381182\", \"-15.834840000996\", \"-15.83455\", \"-15.841920228821\", \"-15.836918381182\", \"-15.835735462934\", \"-15.844604958131\", \"-15.839758276622\", \"-15.837135007995\", \"-15.84067\", \"-15.841181517634\", \"-15.836631976279\", \"-15.833969561015\", \"-15.84067\", \"-15.84067\", \"-15.84067\", \"-15.834902512606\", \"-15.93479\", \"-15.84067\", \"-15.831075851288\", \"-15.838685071444\", \"-15.836631976279\", \"-15.874180002545\", \"-15.84067\", \"-15.835741108224\", \"-15.828529999512\", \"-15.83952\", \"-15.84067\", \"-15.838701645321\", \"-15.83263347211\", \"-15.841181517634\", \"-15.834902512606\", \"-15.845095068508\", \"-15.84067\", \"-15.84067\", \"-15.84067\", \"-15.83915\", \"-15.839793783435\", \"-15.84067\", \"-15.854895694028\", \"-15.84067\", \"-15.84067\", \"-15.85799125881\", \"-15.84067\", \"-15.820545586541\", \"-15.834902512606\", \"-15.834665007812\", \"-15.854516826001\", \"-15.84067\", \"-3.40758\", \"-15.84067\", \"-15.84067\", \"-15.84067\", \"-15.835195016505\", \"-15.820545586541\", \"-15.838229020206\", \"-15.836768410907\", \"-15.84067\", \"-15.84067\", \"-15.836765009834\", \"-15.830976955297\", \"-15.839853435547\", \"-15.836768410907\", \"-15.829135005283\", \"-15.836122270133\", \"-15.837664995733\", \"-15.84067\", \"-15.836768410907\", \"-15.84060973365\", \"-15.854895694028\", \"-15.84067\", \"-15.832899988551\", \"-15.839499726024\", \"-15.836631976279\", \"-15.64461\", \"-15.838349985815\", \"-15.844432049564\", \"-15.84067\", \"-15.837664995733\", \"-22.17185\", \"-15.84067\", \"-15.84067\", \"-15.84067\", \"-15.84067\", \"-15.837020008283\", \"-15.84067\", \"-15.839499726024\", \"-15.84067\", \"-15.836918381182\", \"-15.84067\", \"-15.84067\", \"-15.834902512606\", \"-15.84067\", \"-15.84067\", \"-15.84067\", \"-15.835195016505\", \"-15.836631976279\", \"-15.836665013729\", \"-15.841345122238\", \"-15.844432049564\", \"-15.832854587364\", \"-15.84067\", \"-15.839115002118\", \"-15.838701645321\", \"-15.836122270133\", \"-15.84067\", \"-15.84067\", \"-15.836122270133\", \"-15.838685071444\", \"-15.832899988551\", \"-15.83952\", \"-15.84067\", \"-15.851060010423\", \"-15.833969561015\", \"-15.84067\", \"-15.83263347211\", \"-15.84067\", \"-15.839758276622\", \"-15.841920228821\", \"-15.839140708117\", \"-15.84067\", \"-15.83673500262\", \"-15.845095068508\", \"-15.83673500262\", \"-15.871551411401\", \"-15.836495007778\", \"-15.84067\", \"-15.83952\", \"-15.84067\", \"-15.838701645321\", \"-15.84067\", \"-15.84067\", \"-15.84067\", \"-15.84067\", \"-15.833969561015\", \"-15.84067\", \"-15.84067\", \"-15.838701645321\", \"-15.844432049564\", \"-15.834165006333\", \"-15.856242347312\", \"-15.833969561015\", \"-15.827749571353\", \"-15.84067\", \"-15.829993262634\", \"-15.838328619067\", \"-15.838328619067\", \"-15.84067\", \"-15.84067\", \"-15.84067\", \"-15.84067\", \"-15.84067\", \"-15.84067\", \"-15.839090003091\", \"-15.84067\", \"-15.843075011318\", \"-15.838701645321\", \"-15.84067\", \"-15.838701645321\", \"-15.838685071444\", \"-15.841920228821\", \"-15.838349985815\", \"-15.84067\", \"-15.833969561015\", \"-15.84067\", \"-15.834700002258\", \"-15.841842667042\", \"-15.836765009834\", \"-15.829135005283\", \"-15.843785000427\", \"-15.84067\", \"-15.841920228821\", \"-15.838701645321\", \"-15.84067\", \"-15.830381600035\", \"-15.820545586541\", \"-15.836631976279\", \"-15.858691107681\", \"-15.843219480939\", \"-15.836631976279\", \"-15.836631976279\", \"-15.87035\", \"-15.843415626518\", \"-15.84067\", \"-15.834902512606\", \"-15.841842667042\", \"-15.851060010423\", \"-15.836768410907\", \"-15.84067\", \"-15.836200006696\", \"-15.839090003091\", \"-15.844432049564\", \"-15.84067\", \"-15.834902512606\", \"-15.841920228821\", \"-15.840054990649\", \"-15.84067\", \"-15.84067\", \"-15.838349985815\", \"-15.839758276622\", \"-15.84067\", \"-15.839758276622\", \"-15.836495007778\", \"-15.836631976279\", \"-15.84067\", \"-15.840054990649\", \"-15.841920228821\", \"-15.84067\", \"-15.84067\", \"-15.84067\", \"-15.83869498495\", \"-15.84067\", \"-15.830170002687\", \"-15.84067\", \"-15.84067\", \"-15.84067\", \"-15.877041150707\", \"-15.84067\", \"-15.84067\", \"-15.84067\", \"-15.84067\", \"-15.837135007995\", \"-15.84067\", \"-15.839140708117\", \"-15.84067\", \"-15.837135007995\", \"-15.99845\", \"-15.853245158638\", \"-15.84067\", \"-15.84067\", \"-15.84067\", \"-15.837020008283\", \"-15.84067\", \"-15.836918381182\", \"-15.84067\", \"-15.833969561015\", \"-15.656210182867\", \"-15.832470870366\", \"-15.838229020206\", \"-15.84067\", \"-15.834902512606\", \"-15.829993262634\", \"-15.827749571353\", \"-15.84067\", \"-15.839758276622\", \"-15.836200006696\", \"-15.838701645321\", \"-15.84067\", \"-15.84067\", \"-15.838229020206\", \"-15.84067\", \"-15.841842667042\", \"-15.84067\", \"-15.85799125881\", \"-15.836631976279\", \"-15.841588540578\", \"-15.845095068508\", \"-15.838328619067\", \"-15.836765009834\", \"-15.839758276622\", \"-15.84067\", \"-15.84067\", \"-15.839758276622\", \"-15.839090003091\", \"-15.838701645321\", \"-15.841181517634\", \"-15.84067\", \"-15.839140708117\", \"-15.83939895395\", \"-15.844432049564\", \"-15.831075851288\", \"-15.838701645321\", \"-15.871551411401\", \"-15.84067\", \"-15.838701645321\", \"-15.839758276622\", \"-15.84067\", \"-15.84067\", \"-15.845095068508\", \"-15.830976955297\", \"-15.84067\", \"-15.84067\", \"-15.84067\", \"-15.843415626518\", \"-15.838701645321\", \"-15.835687747487\", \"-15.833969561015\", \"-15.830381600035\", \"-15.832470870366\", \"-15.839793783435\", \"-15.84067\", \"-15.841345122238\", \"-15.832470870366\", \"-15.84067\", \"-15.839115002118\", \"-15.836765009834\", \"-15.836765009834\", \"-15.83780499447\", \"-15.840054990649\", \"-15.856242347312\", \"-15.844604958131\", \"-15.836631976279\", \"-15.836765009834\", \"-15.838380765547\", \"-15.834902512606\", \"-15.84067\", \"-15.84074\", \"-15.841181517634\", \"-15.84067\", \"-15.84067\", \"-15.843075011318\", \"-15.84060973365\", \"-15.838685071444\", \"-15.837084988988\", \"-15.84067\", \"-15.856242347312\", \"-15.832000002652\", \"-15.831820001282\", \"-15.835741108224\", \"-15.830381600035\", \"-15.84067\", \"-15.839115002118\", \"-15.84067\", \"-15.84067\", \"-15.84067\", \"-15.830019987575\", \"-15.834902512606\", \"-15.83781922511\", \"-15.839317797727\", \"-15.841842667042\", \"-15.836665013729\", \"-15.832470870366\", \"-15.84067\", \"-15.838701645321\", \"-15.83514\", \"-15.831075851288\", \"-15.838345569024\", \"-15.839115002118\", \"-15.838701645321\", \"-15.837135007995\", \"-15.84067\", \"-15.836122270133\", \"-15.836765009834\", \"-15.836122270133\", \"-15.84060973365\", \"-15.836200006696\", \"-15.84067\", \"-15.830234983391\", \"-15.843415626518\", \"-15.835195016505\", \"-15.844959835383\", \"-15.831074996773\", \"-15.845095068508\", \"-15.84067\", \"-15.829135005283\", \"-15.84067\", \"-15.832470870366\", \"-15.84067\", \"-3.407584993824\", \"-15.836631976279\", \"-15.844604958131\", \"-15.832854587364\", \"-15.845095068508\", \"-15.831060379564\", \"-15.836534989456\", \"-15.836918381182\", \"-15.836200006696\", \"-15.84067\", \"-15.834715005865\", \"-15.84067\", \"-15.832450448402\", \"-15.836485012358\", \"-15.820545586541\", \"-15.84067\", \"-15.84067\", \"-15.838701645321\", \"-15.838349985815\", \"-15.834715005865\", \"-15.836768410907\", \"-15.831060379564\", \"-15.841920228821\", \"-15.84067\", \"-15.830976955297\", \"-15.841065009982\", \"-15.841920228821\", \"-15.833969561015\", \"-15.836631976279\", \"-15.84067\", \"-15.834902512606\", \"-15.84067\", \"-15.836768410907\", \"-15.851060010423\", \"-15.838701645321\", \"-15.84067\", \"-15.836768410907\", \"-15.839758276622\", \"-15.83263347211\", \"-15.83455\", \"-15.86202\", \"-15.834665007812\", \"-15.84067\", \"-15.835735462934\", \"-15.84067\", \"-15.84067\", \"-15.84067\", \"-15.839758276622\", \"-15.834715005865\", \"-15.84067\", \"-15.845095068508\", \"-15.839115002118\", \"-15.84067\", \"-15.854285010534\", \"-15.841920228821\", \"-15.84067\", \"-15.84067\", \"-15.834665007812\", \"-15.844432049564\", \"-15.833969561015\", \"-15.836495007778\", \"-15.834902512606\", \"-15.837135007995\", \"-15.83455\", \"-15.839758276622\", \"-15.836122270133\", \"-15.84067\", \"-15.832470870366\", \"-15.839140708117\", \"-15.838380765547\", \"-15.84067\", \"-15.838701645321\", \"-15.836122270133\", \"-15.84067\", \"-15.841181517634\", \"-15.84067\", \"-15.838349985815\", \"-15.84067\", \"-15.835687747487\", \"-15.84067\", \"-15.83869498495\", \"-15.832470870366\", \"-15.844959835383\", \"-15.838685071444\", \"-15.831239551113\", \"-15.839140708117\", \"-15.84227500057\", \"-15.836631976279\", \"-15.843075011318\", \"-15.836631976279\", \"-15.83514\", \"-15.834902512606\", \"-15.84067\", \"-15.84067\", \"-15.841181517634\", \"-15.84067\", \"-15.84067\", \"-15.84067\", \"-15.84067\", \"-15.84067\", \"-15.84067\", \"-15.854516826001\", \"-15.873224285554\", \"-15.83869498495\", \"-15.836918381182\", \"-15.84067\", \"-15.84060973365\", \"-15.834715005865\", \"-15.838701645321\", \"-15.84067\", \"-15.84067\", \"-15.836768410907\", \"-15.836768410907\", \"-15.84067\", \"-15.84067\", \"-15.836200006696\", \"-15.84067\", \"-15.836631976279\", \"-15.836631976279\", \"-15.838701645321\", \"-15.83939895395\", \"-15.84067\", \"-15.83952\", \"-15.838792234434\", \"-15.872983714265\", \"-15.82879499338\", \"-15.84067\", \"-15.84067\", \"-15.854895694028\", \"-15.835735462934\", \"-15.84067\", \"-15.836631976279\", \"-15.838685071444\", \"-15.841920228821\", \"-15.836631976279\", \"-15.839090003091\", \"-15.84067\", \"-15.84067\", \"-15.84067\", \"-15.838701645321\", \"-15.843219480939\", \"-15.838701645321\", \"-15.84067\", \"-15.845095068508\", \"-15.84060973365\", \"-15.839758276622\", \"-15.836631976279\", \"-15.830976955297\", \"-15.836768410907\", \"-15.84067\", \"-15.84067\", \"-15.84067\", \"-15.843415626518\", \"-15.84067\", \"-15.84067\", \"-15.820545586541\", \"-15.832470870366\", \"-15.83673500262\", \"-15.84067\", \"-15.829108479532\", \"-15.832854587364\", \"-15.844604958131\", \"-15.836768410907\", \"-15.837664995733\", \"-15.836122270133\", \"-15.834165006333\", \"-15.84067\", \"-15.841842667042\", \"-15.84067\", \"-15.841842667042\", \"-15.84067\", \"-15.844432049564\", \"-15.838229020206\", \"-15.84067\", \"-15.844959835383\", \"-15.829993262634\", \"-15.84067\", \"-15.84067\", \"-15.845095068508\", \"-15.84067\", \"-15.83869498495\", \"-15.820545586541\", \"-15.84067\", \"-15.84067\", \"-15.83673500262\", \"-15.84067\", \"-15.839793783435\", \"-15.84067\", \"-15.841181517634\", \"-15.832450448402\", \"-15.84060973365\", \"-15.844959835383\", \"-15.832470870366\", \"-15.838380765547\", \"-15.84074\", \"-15.84067\", \"-15.839758276622\", \"-15.834665007812\", \"-15.835735462934\", \"-15.820545586541\", \"-15.83869498495\", \"-15.83939895395\", \"-15.830976955297\", \"-15.84067\", \"-15.838701645321\", \"-3.40758\", \"-15.84067\", \"-15.844604958131\", \"-15.84067\", \"-15.844527463825\", \"-15.844604958131\", \"-15.833969561015\", \"-15.836631976279\", \"-15.838380765547\", \"-15.84067\", \"-15.83455\", \"-15.830976955297\", \"-15.84067\", \"-15.839439989459\", \"-15.832470870366\", \"-15.844604958131\", \"-15.84067\", \"-3.407584993824\", \"-15.836768410907\", \"-15.84067\", \"-15.845095068508\", \"-15.839115002118\", \"-15.84067\", \"-15.829375000125\", \"-15.829993262634\", \"-15.839245786226\", \"-15.84067\", \"-15.835735462934\", \"-15.834165006333\", \"-15.84067\", \"-15.84067\", \"-15.84067\", \"-15.84067\", \"-15.836122270133\", \"-15.835195016505\", \"-15.843415626518\", \"-15.84067\", \"-15.83673500262\", \"-15.839090003091\", \"-15.84067\", \"-15.836918381182\", \"-15.84067\", \"-15.84067\", \"-15.838701645321\", \"-15.831075851288\", \"-15.974985617098\", \"-15.84067\", \"-15.835195016505\", \"-15.84067\", \"-15.845095068508\", \"-15.836918381182\", \"-15.84067\", \"-15.836665013729\", \"-15.838685071444\", \"-15.84067\", \"-15.839758276622\", \"-15.84060973365\", \"-15.84067\", \"-15.844432049564\", \"-15.838328619067\", \"-15.83693499483\", \"-15.844604958131\", \"-15.836631976279\", \"-15.84060973365\", \"-15.838838020657\", \"-15.84067\", \"-15.83263347211\", \"-15.84067\", \"-3.407584993824\", \"-15.829993262634\", \"-15.844959835383\", \"-15.862464993662\", \"-15.836631976279\", \"-15.838380765547\", \"-15.83455\", \"-15.83869498495\", \"-15.83514\", \"-15.853245158638\", \"-15.836200006696\", \"-15.84067\", \"-15.830976955297\", \"-15.84067\", \"-15.834902512606\", \"-15.839758276622\", \"-15.83455\", \"-15.84067\", \"-15.84067\", \"-15.84067\", \"-15.836631976279\", \"-15.84067\", \"-15.836765009834\", \"-15.84067\", \"-15.828305008276\", \"-15.843219480939\", \"-15.84067\", \"-15.838185009006\", \"-15.84067\", \"-15.84067\", \"-15.84067\", \"-15.843219480939\", \"-15.84067\", \"-15.84067\", \"-15.84067\", \"-15.84067\", \"-15.832450448402\", \"-15.84067\", \"-15.84067\", \"-15.841920228821\", \"-15.839758276622\", \"-15.838328619067\", \"-15.84067\", \"-15.854895694028\", \"-15.838701645321\", \"-15.820545586541\", \"-15.836534989456\", \"-15.838349985815\", \"-15.839317797727\", \"-15.841920228821\", \"-15.833969561015\", \"-15.83263347211\", \"-15.84067\", \"-15.837135007995\", \"-15.84067\", \"-15.836122270133\", \"-15.838345569024\", \"-15.845095068508\", \"-15.832000002652\", \"-15.83455\", \"-15.833969561015\", \"-15.84067\", \"-15.84067\", \"-15.841842667042\", \"-15.84067\", \"-15.828529999512\", \"-15.831060379564\", \"-15.965450001399\", \"-15.836122270133\", \"-15.839499726024\", \"-15.836631976279\", \"-15.84067\", \"-15.84067\", \"-15.84067\", \"-15.838701645321\", \"-3.407584993824\", \"-15.851060010423\", \"-15.84060973365\", \"-15.84067\", \"-15.84067\", \"-15.84067\", \"-15.844432049564\", \"-15.84067\", \"-15.844959835383\", \"-15.834840000996\", \"-15.836122270133\", \"-15.843075011318\", \"-15.84067\", \"-15.84067\", \"-15.84067\", \"-15.831060379564\", \"-15.836631976279\", \"-15.838229020206\", \"-15.838044989313\", \"-15.838345569024\", \"-15.839439989459\", \"-15.837020008283\", \"-15.84067\", \"-15.834165006333\", \"-15.84067\", \"-15.84067\", \"-15.84067\", \"-15.875994998904\", \"-15.64461\", \"-15.844604958131\", \"-22.17185\", \"-15.832000002652\", \"-15.84067\", \"-15.820545586541\", \"-15.836631976279\", \"-15.829993262634\", \"-15.843415626518\", \"-15.834902512606\", \"-15.839793783435\", \"-15.84067\", \"-15.834165006333\", \"-15.827749571353\", \"-15.84067\", \"-15.83514\", \"-15.843075011318\", \"-15.838349985815\", \"-15.836918381182\", \"-15.832854587364\", \"-15.84067\", \"-15.84067\", \"-15.838185009006\", \"-15.837371178171\", \"-15.84067\", \"-15.833969561015\", \"-15.84067\", \"-15.84067\", \"-15.84067\", \"-15.831075851288\", \"-15.84067\", \"-15.836122270133\", \"-15.84060973365\", \"-15.838701645321\", \"-3.407584993824\", \"-15.84067\", \"-15.84067\", \"-15.84067\", \"-15.84067\", \"-15.84067\", \"-15.830170002687\", \"-15.830234983391\", \"-15.828529999512\", \"-15.841842667042\", \"-15.84067\", \"-15.830170002687\", \"-15.84060973365\", \"-15.836631976279\", \"-15.99845\", \"-15.828305008276\", \"-15.836122270133\", \"-15.836918381182\", \"-15.85799125881\", \"-15.831820001282\", \"-15.84067\", \"-15.84067\", \"-15.84067\", \"-15.836631976279\", \"-15.836765009834\", \"-15.836631976279\", \"-15.833969561015\", \"-15.83869498495\", \"-15.839793783435\", \"-15.839758276622\", \"-15.84067\", \"-15.84067\", \"-15.836631976279\", \"-15.835195016505\", \"-15.84067\", \"-15.837020008283\", \"-15.83455\", \"-15.84060973365\", \"-15.84067\", \"-15.84067\", \"-15.832899988551\", \"-15.83263347211\", \"-15.841920228821\", \"-15.84067\", \"-15.828729556526\", \"-15.838380765547\", \"-15.84067\", \"-15.840789999739\", \"-15.84067\", \"-15.836122270133\", \"-15.84067\", \"-15.84067\", \"-15.84067\", \"-15.830019987575\", \"-15.84067\", \"-15.84067\", \"-15.84067\", \"-15.820545586541\", \"-15.84067\", \"-15.835360014269\", \"-15.84067\", \"-15.84067\", \"-15.836918381182\", \"-15.841345122238\", \"-15.84067\", \"-15.841842667042\", \"-15.84067\", \"-15.84067\", \"-15.844432049564\", \"-15.838349985815\", \"-15.84067\", \"-15.841181517634\", \"-15.830976955297\", \"-15.84067\", \"-15.84067\", \"-15.834902512606\", \"-15.84067\", \"-15.84067\", \"-3.40758\", \"-15.820545586541\", \"-15.84067\", \"-15.839140708117\", \"-15.843075011318\", \"-15.839140708117\", \"-15.834665007812\", \"-15.820545586541\", \"-15.84067\", \"-15.829993262634\", \"-15.84067\", \"-15.84067\", \"-15.838349985815\", \"-15.836765009834\", \"-15.835687747487\", \"-15.84067\", \"-15.837664995733\", \"-15.841181517634\", \"-15.84067\", \"-15.838701645321\", \"-15.84239\", \"-21.16981\", \"-15.851060010423\", \"-15.834700002258\", \"-15.83455\", \"-15.84067\", \"-15.844959835383\", \"-15.841345122238\", \"-15.838229020206\", \"-15.827749571353\", \"-15.834902512606\", \"-15.84067\", \"-15.844604958131\", \"-15.836768410907\", \"-15.84067\", \"-15.84067\", \"-15.838685071444\", \"-15.820545586541\", \"-15.84067\", \"-15.83869498495\", \"-15.838701645321\", \"-15.832470870366\", \"-15.830976955297\", \"-15.84067\", \"-15.84067\", \"-15.836665013729\", \"-15.838349985815\", \"-15.835687747487\", \"-15.833969561015\", \"-15.834715005865\", \"-15.837020008283\", \"-15.84067\", \"-15.839793783435\", \"-15.84067\", \"-15.820545586541\", \"-15.84067\", \"-15.832450448402\", \"-15.836200006696\", \"-15.832470870366\", \"-15.843219480939\", \"-15.869659998393\", \"-15.838701645321\", \"-15.827749571353\", \"-15.837735005579\", \"-15.837135007995\", \"-15.83514\", \"-15.83673500262\", \"-15.84067\", \"-15.84067\", \"-15.84067\", \"-15.84067\", \"-15.84067\", \"-15.843075011318\", \"-15.84067\", \"-15.84067\", \"-3.407584993824\", \"-15.838701645321\", \"-15.837135007995\", \"-15.84067\", \"-15.84067\", \"-15.84067\", \"-15.841181517634\", \"-15.84067\", \"-15.84067\", \"-15.837135007995\", \"-15.84067\", \"-15.829993262634\", \"-15.834902512606\", \"-15.832854587364\", \"-15.836122270133\", \"-15.830976955297\", \"-15.84067\", \"-15.838380765547\", \"-15.832000002652\", \"-15.831075851288\", \"-15.83455\", \"-15.839140708117\", \"-15.843075011318\", \"-15.84067\", \"-15.838229020206\", \"-15.838701645321\", \"-15.843075011318\", \"-15.830976955297\", \"-15.841181517634\", \"-15.836918381182\", \"-15.84067\", \"-15.84067\", \"-15.83673500262\", \"-15.83952\", \"-15.83263347211\", \"-15.839758276622\", \"-15.838701645321\", \"-15.832899988551\", \"-15.84067\", \"-15.830381600035\", \"-15.84067\", \"-15.831075851288\", \"-15.832899988551\", \"-15.841842667042\", \"-15.836631976279\", \"-15.829108479532\", \"-15.84067\", \"-15.838349985815\", \"-15.83263347211\", \"-15.854516826001\", \"-15.844959835383\", \"-15.84060973365\", \"-15.841842667042\", \"-15.834715005865\", \"-15.830019987575\", \"-15.829993262634\", \"-15.838345569024\", \"-15.84067\", \"-15.64461\", \"-15.84067\", \"-15.836768410907\", \"-15.834700002258\", \"-15.83915\", \"-15.844432049564\", \"-15.84067\", \"-15.844604958131\", \"-15.836765009834\", \"-15.84067\", \"-15.837135007995\", \"-15.84067\", \"-15.83780499447\", \"-15.829258965485\", \"-15.84067\", \"-15.838229020206\", \"-15.84096000569\", \"-15.84067\", \"-15.83673500262\", \"-15.856242347312\", \"-15.84067\", \"-15.836185736652\", \"-15.839755002335\", \"-15.84060973365\", \"-15.834165006333\", \"-15.84067\", \"-15.84067\", \"-15.83263347211\", \"-15.836631976279\", \"-15.84067\", \"-15.841842667042\", \"-15.844959835383\", \"-15.845095068508\", \"-15.831239551113\", \"-15.820545586541\", \"-15.841920228821\", \"-15.84067\", \"-15.84067\", \"-15.838349985815\", \"-15.836495007778\", \"-15.82879499338\", \"-15.84067\", \"-15.832470870366\", \"-15.838685071444\", \"-15.64461\", \"-15.84067\", \"-15.84067\", \"-15.844959835383\", \"-15.841920228821\", \"-15.841345122238\", \"-15.84067\", \"-15.843075011318\", \"-15.832470870366\", \"-15.84060973365\", \"-15.820545586541\", \"-15.84067\", \"-15.834165006333\", \"-15.835195016505\", \"-15.84067\", \"-15.834840000996\", \"-15.834840000996\", \"-15.84067\", \"-15.836485012358\", \"-15.820545586541\", \"-15.84067\", \"-15.829993262634\", \"-21.16981\", \"-15.844527463825\", \"-15.84067\", \"-15.839115002118\", \"-15.84067\", \"-15.84067\", \"-15.832854587364\", \"-15.836631976279\", \"-15.827749571353\", \"-15.64461\", \"-15.83952\", \"-15.832899988551\", \"-15.84067\", \"-15.84067\", \"-15.85799125881\", \"-15.844604958131\", \"-15.831239551113\", \"-15.832450448402\", \"-15.838701645321\", \"-15.838701645321\", \"-15.854516826001\", \"-15.851060010423\", \"-15.84067\", \"-15.845095068508\", \"-15.84067\", \"-15.836495007778\", \"-15.820545586541\", \"-15.84067\", \"-15.84067\", \"-15.84067\", \"-15.833969561015\", \"-15.84067\", \"-15.841920228821\", \"-15.832470870366\", \"-15.84067\", \"-15.869146300872\", \"-15.856242347312\", \"-15.84067\", \"-15.838701645321\", \"-15.829135005283\", \"-15.839115002118\", \"-15.844432049564\", \"-15.84067\", \"-15.835735462934\", \"-15.872983714265\", \"-15.84074\", \"-15.835360014269\", \"-15.837135007995\", \"-15.84067\", \"-15.838685071444\", \"-15.845095068508\", \"-15.839090003091\", \"-15.835735462934\", \"-15.841345122238\", \"-15.839115002118\", \"-15.835687747487\", \"-15.84129498845\", \"-15.84060973365\", \"-15.830019987575\", \"-15.832450448402\", \"-15.83693499483\", \"-15.854516826001\", \"-15.837135007995\", \"-15.831075851288\", \"-15.829993262634\", \"-15.84067\", \"-15.84067\", \"-15.836765009834\", \"-15.83263347211\", \"-15.845095068508\", \"-15.839758276622\", \"-15.836631976279\", \"-15.836122270133\", \"-15.876442891764\", \"-15.838185009006\", \"-15.841920228821\", \"-15.844432049564\", \"-15.834902512606\", \"-15.838380765547\", \"-15.836122270133\", \"-15.84067\", \"-15.84067\", \"-15.844959835383\", \"-15.837020008283\", \"-15.834902512606\", \"-15.838053465316\", \"-15.84067\", \"-15.832470870366\", \"-15.84067\", \"-15.834700002258\", \"-15.84067\", \"-15.836918381182\", \"-15.836631976279\", \"-15.83455\", \"-15.84067\", \"-15.834165006333\", \"-15.84067\", \"-15.974985617098\", \"-15.83263347211\", \"-15.838380765547\", \"-15.836918381182\", \"-15.854895694028\", \"-15.830976955297\", \"-15.838701645321\", \"-15.84067\", \"-15.84067\", \"-15.83915\", \"-15.837371178171\", \"-15.84067\", \"-15.837084988988\", \"-15.836918381182\", \"-15.84067\", \"-15.854895694028\", \"-15.834902512606\", \"-15.836122270133\", \"-15.837020008283\", \"-15.844604958131\", \"-15.838701645321\", \"-15.838685071444\", \"-15.84067\", \"-15.839317797727\", \"-15.834902512606\", \"-15.838349985815\", \"-15.844604958131\", \"-15.84067\", \"-15.838701645321\", \"-15.838053465316\", \"-15.838701645321\", \"-15.830170002687\", \"-15.836200006696\", \"-15.837135007995\", \"-15.836918381182\", \"-15.838685071444\", \"-15.838701645321\", \"-15.84067\", \"-15.844432049564\", \"-15.84067\", \"-15.84067\", \"-15.83514\", \"-15.841842667042\", \"-15.845946457422\", \"-21.16981\", \"-15.834902512606\", \"-15.84067\", \"-15.836631976279\", \"-15.84060973365\", \"-15.84067\", \"-15.834840000996\", \"-15.64461\", \"-15.84067\", \"-15.831239551113\", \"-15.84067\", \"-15.839758276622\", \"-15.839758276622\", \"-15.834165006333\", \"-15.834902512606\", \"-15.84067\", \"-15.84067\", \"-15.832450448402\", \"-15.833969561015\", \"-15.834715005865\", \"-15.839115002118\", \"-15.84067\", \"-15.84067\", \"-15.836631976279\", \"-15.838701645321\", \"-15.839758276622\", \"-15.820545586541\", \"-15.829993262634\", \"-15.84060973365\", \"-15.64461\", \"-15.843415626518\", \"-15.836665013729\", \"-15.832899988551\", \"-15.84067\", \"-15.836665013729\", \"-15.84067\", \"-15.836200006696\", \"-15.838701645321\", \"-15.836918381182\", \"-15.845095068508\", \"-15.844604958131\", \"-15.872983714265\", \"-15.831060379564\", \"-15.836665013729\", \"-15.836534989456\", \"-15.845095068508\", \"-15.836631976279\", \"-15.839758276622\", \"-15.83939895395\", \"-15.85799125881\", \"-15.84067\", \"-15.843415626518\", \"-15.820545586541\", \"-15.84067\", \"-15.84067\", \"-15.84067\", \"-15.834165006333\", \"-15.839758276622\", \"-15.837020008283\", \"-15.833969561015\", \"-15.84067\", \"-15.834165006333\", \"-15.84067\", \"-15.84067\", \"-15.84067\", \"-15.844959835383\", \"-15.83673500262\", \"-15.84067\", \"-15.84067\", \"-15.838345569024\", \"-15.84067\", \"-15.836122270133\", \"-15.836122270133\", \"-15.843219480939\", \"-15.84067\", \"-15.84067\", \"-15.84067\", \"-15.84067\", \"-15.841920228821\", \"-15.839758276622\", \"-15.836200006696\", \"-15.820545586541\", \"-15.838701645321\", \"-15.84060973365\", \"-15.838185009006\", \"-15.836485012358\", \"-15.832000002652\", \"-15.84067\", \"-15.83673500262\", \"-15.836485012358\", \"-15.84067\", \"-15.835195016505\", \"-15.84067\", \"-15.84067\", \"-15.84067\", \"-15.84067\", \"-15.84067\", \"-15.845095068508\", \"-15.84067\", \"-15.839499726024\", \"-15.836665013729\", \"-15.854285010534\", \"-15.845138434123\", \"-15.84067\", \"-15.837020008283\", \"-15.84067\", \"-15.84067\", \"-15.838701645321\", \"-15.841920228821\", \"-15.84067\", \"-15.835687747487\", \"-15.843415626518\", \"-15.84067\", \"-15.836665013729\", \"-15.836765009834\", \"-15.83673500262\", \"-15.84067\", \"-15.838701645321\", \"-15.836122270133\", \"-15.836200006696\", \"-15.875994998904\", \"-15.829993262634\", \"-15.834700002258\", \"-15.83673500262\", \"-15.84067\", \"-15.84067\", \"-15.84067\", \"-15.84067\", \"-15.830234983391\", \"-15.830019987575\", \"-15.84060973365\", \"-11.85281\", \"-15.84067\", \"-15.84067\", \"-15.84067\", \"-15.839758276622\", \"-15.844432049564\", \"-15.84067\", \"-15.84067\", \"-15.838349985815\", \"-15.827749571353\", \"-15.84067\", \"-15.830381600035\", \"-15.84067\", \"-15.84060973365\", \"-15.84067\", \"-15.84067\", \"-15.838701645321\", \"-15.838685071444\", \"-15.84067\", \"-15.838685071444\", \"-15.852067752397\", \"-15.854516826001\", \"-15.831820001282\", \"-15.836122270133\", \"-15.837020008283\", \"-15.839758276622\", \"-15.838701645321\", \"-15.83263347211\", \"-15.832470870366\", \"-15.84067\", \"-15.84067\", \"-15.835735462934\", \"-15.83455\", \"-15.836918381182\", \"-3.407584993824\", \"-15.844432049564\", \"-15.845095068508\", \"-15.838701645321\", \"-15.838701645321\", \"-15.839115002118\", \"-15.84067\", \"-15.838053465316\", \"-15.84067\", \"-15.84067\", \"-15.839115002118\", \"-15.84067\", \"-15.841920228821\", \"-15.84067\", \"-15.84067\", \"-15.84067\", \"-15.836918381182\", \"-15.84067\", \"-15.84067\", \"-15.831060379564\", \"-15.84067\", \"-15.84067\", \"-15.838701645321\", \"-15.820545586541\", \"-15.84067\", \"-15.829993262634\", \"-15.84067\", \"-15.84067\", \"-15.869659998393\", \"-15.820545586541\", \"-15.84067\", \"-15.84074\", \"-15.838701645321\", \"-15.83721\", \"-15.832470870366\", \"-15.875423341634\", \"-15.838345569024\", \"-15.832470870366\", \"-15.99845\", \"-15.84067\", \"-15.84067\", \"-15.838701645321\", \"-15.84067\", \"-15.838345569024\", \"-15.839758276622\", \"-15.83263347211\", \"-15.84067\", \"-15.83673500262\", \"-15.830976955297\", \"-15.84067\", \"-15.830381600035\", \"-15.841181517634\", \"-15.84067\", \"-15.84067\", \"-15.8766401227\", \"-15.832000002652\", \"-15.836768410907\", \"-15.834700002258\", \"-15.828710000882\", \"-15.838349985815\", \"-15.838345569024\", \"-15.834902512606\", \"-15.83605\", \"-15.839090003091\", \"-15.869146300872\", \"-15.839115002118\", \"-15.83263347211\", \"-15.84060973365\", \"-15.832000002652\", \"-15.84067\", \"-15.820545586541\", \"-15.831060379564\", \"-15.84060973365\", \"-15.835687747487\", \"-15.84067\", \"-15.64461\", \"-15.836765009834\", \"-15.835195016505\", \"-15.84067\", \"-15.84067\", \"-15.84067\", \"-15.841920228821\", \"-15.832470870366\", \"-15.830520010009\", \"-22.17185\", \"-15.84067\", \"-15.835735462934\", \"-15.843075011318\", \"-15.838701645321\", \"-15.83952\", \"-15.836485012358\", \"-15.841345122238\", \"-15.84067\", \"-15.820545586541\", \"-15.854516826001\", \"-15.832470870366\", \"-15.84067\", \"-15.833969561015\", \"-15.84067\", \"-15.841842667042\", \"-15.839317797727\", \"-15.845095068508\", \"-15.831060379564\", \"-15.870262327677\", \"-15.831820001282\", \"-15.84067\", \"-15.834165006333\", \"-15.84067\", \"-15.838701645321\", \"-15.834700002258\", \"-15.843075011318\", \"-15.837135007995\", \"-15.833969561015\", \"-15.838701645321\", \"-15.84067\", \"-15.834840000996\", \"-15.843785000427\", \"-15.84067\", \"-15.84067\", \"-15.84067\", \"-15.841842667042\", \"-15.837664995733\", \"-15.84067\", \"-15.835687747487\", \"-15.8773062639\", \"-15.83455\", \"-15.841181517634\", \"-15.99845\", \"-15.869146300872\", \"-15.854516826001\", \"-15.83455\", \"-15.84067\", \"-15.84067\", \"-15.99845\", \"-15.869146300872\"], \"lon\": [\"-48.02206\", \"-48.02206\", \"-48.02206\", \"-48.02866838915\", \"-48.027706587243\", \"-48.014091547176\", \"-48.011021404263\", \"-48.036129995266\", \"-48.027706587243\", \"-48.02206\", \"-48.039328560105\", \"-48.036807093913\", \"-48.03806388527\", \"-48.014091547176\", \"-44.2475\", \"-48.037296854433\", \"-48.042906345641\", \"-48.040183520072\", \"-48.029974218802\", \"-48.039159954942\", \"-48.019032846386\", \"-48.023145002324\", \"-48.02206\", \"-48.018081673041\", \"-48.03885\", \"-48.015079976998\", \"-48.02206\", \"-48.02206\", \"-48.038544989209\", \"-48.02206\", \"-48.02206\", \"-48.02206\", \"-48.02206\", \"-48.041491577599\", \"-48.014091547176\", \"-48.030154997497\", \"-48.016994990416\", \"-48.02021498234\", \"-48.011199994018\", \"-48.036807093913\", \"-48.02517\", \"-48.040183520072\", \"-48.019895881256\", \"-48.02206\", \"-48.025080006581\", \"-48.02206\", \"-48.018081673041\", \"-48.011199994018\", \"-48.036708072058\", \"-48.02206\", \"-48.02206\", \"-48.02206\", \"-48.02866838915\", \"-48.021175574139\", \"-48.02206\", \"-48.01474998147\", \"-48.03806388527\", \"-48.040183520072\", \"-48.038544989209\", \"-48.015859996907\", \"-48.02206\", \"-48.019895881256\", \"-48.028773031088\", \"-48.02206\", \"-48.039328560105\", \"-48.014091547176\", \"-48.032633560512\", \"-48.02206\", \"-48.011199994018\", \"-48.029974218802\", \"-48.014091547176\", \"-48.032664723176\", \"-48.027706587243\", \"-48.039328560105\", \"-48.028464996269\", \"-48.019032846386\", \"-48.030129977516\", \"-48.03821302233\", \"-48.02206\", \"-47.976087713619\", \"-48.022309997129\", \"-48.027706587243\", \"-48.02206\", \"-48.029974218802\", \"-48.036708072058\", \"-48.038556163428\", \"-48.042906345641\", \"-48.033500005507\", \"-48.02206\", \"-48.019032846386\", \"-48.029319992303\", \"-48.027943339188\", \"-48.027706587243\", \"-48.023145002324\", \"-48.021175574139\", \"-48.014091547176\", \"-48.018820024104\", \"-48.019032846386\", \"-48.01474998147\", \"-48.027706587243\", \"-48.036046158252\", \"-48.031560570408\", \"-48.019032846386\", \"-48.040808859434\", \"-48.023145002324\", \"-48.036708072058\", \"-48.02206\", \"-48.019895881256\", \"-48.02206\", \"-48.02206\", \"-48.015514997773\", \"-48.01347999741\", \"-48.027706587243\", \"-48.026566190314\", \"-48.02206\", \"-48.02206\", \"-48.016994990416\", \"-48.040808859434\", \"-48.036807093913\", \"-48.037296854433\", \"-48.02021498234\", \"-48.036807093913\", \"-48.029319992303\", \"-48.031239992953\", \"-48.014091547176\", \"-48.010341468159\", \"-48.024210171831\", \"-48.016994990416\", \"-48.037294222577\", \"-48.02206\", \"-48.025080006581\", \"-48.015514997773\", \"-48.02206\", \"-48.02206\", \"-47.83064\", \"-48.036077254737\", \"-48.03821302233\", \"-48.032664723176\", \"-48.015079976998\", \"-48.02206\", \"-48.036807093913\", \"-48.010341468159\", \"-48.036807093913\", \"-48.02021498234\", \"-47.42651\", \"-48.02206\", \"-48.014091547176\", \"-48.02206\", \"-48.02206\", \"-48.037294222577\", \"-48.01797\", \"-48.02206\", \"-48.029319992303\", \"-48.029059288268\", \"-48.036708072058\", \"-48.039159954942\", \"-48.038544989209\", \"-48.029991698267\", \"-48.032885025271\", \"-48.029991698267\", \"-48.027943339188\", \"-48.010341468159\", \"-48.02206\", \"-48.013594997122\", \"-48.02206\", \"-48.030129977516\", \"-48.019485002393\", \"-48.031239992953\", \"-48.01198500116\", \"-48.02206\", \"-48.012055031961\", \"-48.02206\", \"-48.036807093913\", \"-48.021175574139\", \"-48.029319992303\", \"-48.02206\", \"-48.042906345641\", \"-48.03437398531\", \"-48.02206\", \"-48.02206\", \"-48.02206\", \"-48.042906345641\", \"-48.02206\", \"-48.019895881256\", \"-48.02206\", \"-48.02206\", \"-48.027706587243\", \"-48.02206\", \"-48.02206\", \"-48.026566190314\", \"-48.027943339188\", \"-48.06544\", \"-48.06544\", \"-48.020920026126\", \"-48.016994990416\", \"-48.016994990416\", \"-48.021175574139\", \"-48.040808859434\", \"-48.039159954942\", \"-48.030893091352\", \"-48.016994990416\", \"-48.02206\", \"-48.02206\", \"-48.027943339188\", \"-48.02206\", \"-48.01624497772\", \"-48.021175574139\", \"-48.02206\", \"-48.029319992303\", \"-48.029319992303\", \"-48.040808859434\", \"-48.026817125194\", \"-48.040183520072\", \"-48.023145002324\", \"-48.027706587243\", \"-48.02206\", \"-48.02592502815\", \"-48.02206\", \"-48.032885025271\", \"-48.01953\", \"-48.025870457665\", \"-48.02206\", \"-48.014465370993\", \"-48.036807093913\", \"-48.02206\", \"-48.027943339188\", \"-48.010341468159\", \"-48.02206\", \"-48.02206\", \"-48.02206\", \"-48.015859996907\", \"-48.01296\", \"-48.028835015385\", \"-48.036807093913\", \"-48.02206\", \"-48.027706587243\", \"-48.011021404263\", \"-48.02206\", \"-48.031983464489\", \"-48.040808859434\", \"-48.036807093913\", \"-48.031239992953\", \"-48.027706587243\", \"-48.021175574139\", \"-48.036807093913\", \"-48.02206\", \"-48.031560570408\", \"-48.036807093913\", \"-48.03885\", \"-48.024210171831\", \"-48.03437398531\", \"-48.02206\", \"-48.035433039244\", \"-48.028464996269\", \"-48.039159954942\", \"-48.040808859434\", \"-48.02206\", \"-48.02206\", \"-48.029991698267\", \"-48.027943339188\", \"-48.036807093913\", \"-48.02206\", \"-48.02206\", \"-48.036708072058\", \"-48.02206\", \"-48.027706587243\", \"-48.02206\", \"-48.040183520072\", \"-48.02206\", \"-48.038556163428\", \"-48.027706587243\", \"-48.027001381243\", \"-48.029319992303\", \"-48.022248736307\", \"-48.015859996907\", \"-48.029319992303\", \"-48.02206\", \"-48.032664723176\", \"-48.025935002615\", \"-48.042906345641\", \"-48.029059288268\", \"-48.02206\", \"-48.026566190314\", \"-48.033500005507\", \"-48.036807093913\", \"-48.02206\", \"-48.024210171831\", \"-48.02206\", \"-48.02206\", \"-48.02206\", \"-48.036807093913\", \"-48.019032846386\", \"-48.02206\", \"-48.036708072058\", \"-48.015859996907\", \"-48.038544989209\", \"-48.02206\", \"-48.026566190314\", \"-48.011199994018\", \"-48.040808859434\", \"-48.027706587243\", \"-48.02206\", \"-48.02206\", \"-48.02206\", \"-48.027706587243\", \"-48.012055031961\", \"-48.011199994018\", \"-48.034634999016\", \"-48.03887\", \"-48.015079976998\", \"-48.02206\", \"-48.011476184693\", \"-48.023145002324\", \"-48.02206\", \"-48.029059288268\", \"-48.02206\", \"-48.039159954942\", \"-48.023145002324\", \"-48.02206\", \"-48.014091547176\", \"-48.02206\", \"-48.02206\", \"-48.02206\", \"-48.017873882211\", \"-48.036708072058\", \"-48.042906345641\", \"-48.012055031961\", \"-48.017797942094\", \"-48.042906345641\", \"-48.019485002393\", \"-48.036807093913\", \"-48.038544989209\", \"-48.023145002324\", \"-48.036046158252\", \"-48.010341468159\", \"-48.017989964233\", \"-48.018114980319\", \"-48.042906345641\", \"-48.02206\", \"-48.019032846386\", \"-48.02206\", \"-48.036708072058\", \"-48.017797942094\", \"-48.02206\", \"-48.019895881256\", \"-48.036807093913\", \"-48.02206\", \"-48.02206\", \"-48.03885\", \"-48.034840608837\", \"-48.033500005507\", \"-48.028464996269\", \"-48.02206\", \"-48.032633560512\", \"-44.2475\", \"-48.038544989209\", \"-48.018114980319\", \"-48.024210171831\", \"-48.029974218802\", \"-48.01198500116\", \"-48.019032846386\", \"-48.019895881256\", \"-48.03437398531\", \"-48.014091547176\", \"-48.037294222577\", \"-48.016994990416\", \"-48.012730940109\", \"-48.014465370993\", \"-48.018820024104\", \"-48.028773031088\", \"-48.02206\", \"-48.019485002393\", \"-48.015214627468\", \"-48.042906345641\", \"-48.021175574139\", \"-48.02206\", \"-48.02206\", \"-48.042906345641\", \"-48.015514997773\", \"-48.02517\", \"-48.013339977718\", \"-48.033500005507\", \"-48.017797942094\", \"-48.040808859434\", \"-48.02206\", \"-48.039159954942\", \"-48.018820024104\", \"-48.028773031088\", \"-48.042906345641\", \"-48.012055031961\", \"-48.02206\", \"-48.042906345641\", \"-48.03437398531\", \"-48.029991698267\", \"-48.021175574139\", \"-48.011476184693\", \"-48.038544989209\", \"-48.036807093913\", \"-48.029319992303\", \"-48.024210171831\", \"-48.011338064854\", \"-48.030154997497\", \"-48.02206\", \"-48.03892\", \"-48.03806388527\", \"-48.042906345641\", \"-48.029991698267\", \"-48.019485002393\", \"-48.02206\", \"-48.02206\", \"-48.02206\", \"-48.017797942094\", \"-48.026338638516\", \"-48.036129995266\", \"-48.02206\", \"-48.022309997129\", \"-48.026566190314\", \"-48.011199994018\", \"-48.03885\", \"-48.029974218802\", \"-48.02206\", \"-48.02206\", \"-48.02206\", \"-48.036807093913\", \"-48.038544989209\", \"-48.036708072058\", \"-48.04554\", \"-48.02206\", \"-48.02206\", \"-48.024303707966\", \"-48.02206\", \"-48.029991698267\", \"-48.02206\", \"-48.027706587243\", \"-48.02206\", \"-48.017989964233\", \"-48.040808859434\", \"-48.02206\", \"-48.015079976998\", \"-48.024210171831\", \"-48.022248736307\", \"-48.036708072058\", \"-48.02206\", \"-48.025935002615\", \"-48.03885\", \"-48.019032846386\", \"-48.02206\", \"-48.02206\", \"-48.02206\", \"-48.02206\", \"-48.012055031961\", \"-48.040808859434\", \"-48.032885025271\", \"-48.02206\", \"-48.012730940109\", \"-48.02206\", \"-48.02206\", \"-48.040808859434\", \"-48.021175574139\", \"-48.012730940109\", \"-48.019895881256\", \"-48.047945000254\", \"-48.039159954942\", \"-48.02206\", \"-48.031719903733\", \"-48.02206\", \"-48.02206\", \"-48.012885008013\", \"-48.02206\", \"-48.02206\", \"-48.011476184693\", \"-48.02206\", \"-48.02206\", \"-48.02206\", \"-48.017797942094\", \"-48.030893091352\", \"-48.027706587243\", \"-48.019032846386\", \"-48.026817125194\", \"-48.026815018629\", \"-48.029319992303\", \"-48.02206\", \"-48.019895881256\", \"-48.02206\", \"-48.020574407655\", \"-48.02206\", \"-48.013594997122\", \"-48.02206\", \"-48.015214627468\", \"-48.02206\", \"-48.016994990416\", \"-48.02206\", \"-48.016994990416\", \"-48.010341468159\", \"-48.02206\", \"-48.032664723176\", \"-48.036807093913\", \"-48.02206\", \"-48.036807093913\", \"-48.02206\", \"-48.029319992303\", \"-48.02206\", \"-48.02206\", \"-48.013594997122\", \"-48.02206\", \"-48.036168576359\", \"-48.029319992303\", \"-48.015859996907\", \"-48.02206\", \"-48.014484987601\", \"-48.03281499447\", \"-48.02206\", \"-48.036807093913\", \"-48.026566190314\", \"-48.014330006211\", \"-48.030129977516\", \"-48.030893091352\", \"-48.032885025271\", \"-48.02206\", \"-48.036046158252\", \"-48.042906345641\", \"-48.014091547176\", \"-48.02206\", \"-48.02206\", \"-48.02206\", \"-48.02206\", \"-48.01797\", \"-48.03821302233\", \"-48.025935002615\", \"-48.001\", \"-48.03437398531\", \"-48.011021404263\", \"-48.02206\", \"-48.011021404263\", \"-48.06544\", \"-48.014330006211\", \"-48.02206\", \"-48.011476184693\", \"-48.037294222577\", \"-48.018114980319\", \"-48.02206\", \"-48.015214627468\", \"-48.02206\", \"-48.037296854433\", \"-48.031239992953\", \"-48.019895881256\", \"-48.019895881256\", \"-48.030893091352\", \"-48.02206\", \"-48.040183520072\", \"-48.038544989209\", \"-48.011199994018\", \"-48.042906345641\", \"-48.02206\", \"-48.039159954942\", \"-48.024210171831\", \"-48.02206\", \"-48.03885\", \"-48.014465370993\", \"-48.02206\", \"-48.011199994018\", \"-48.034099006872\", \"-48.02206\", \"-48.025080006581\", \"-48.02206\", \"-48.013339977718\", \"-48.033500005507\", \"-48.02206\", \"-48.02206\", \"-48.02206\", \"-48.040808859434\", \"-48.01474998147\", \"-48.010341468159\", \"-48.040183520072\", \"-48.040183520072\", \"-48.023145002324\", \"-48.011199994018\", \"-48.02206\", \"-48.02206\", \"-48.02206\", \"-48.02206\", \"-48.02206\", \"-48.02206\", \"-48.06544\", \"-48.029319992303\", \"-48.02206\", \"-48.012730940109\", \"-48.015514997773\", \"-48.02206\", \"-48.03892\", \"-48.01296\", \"-48.017797942094\", \"-48.024699971091\", \"-48.019895881256\", \"-48.02206\", \"-48.019485002393\", \"-48.02206\", \"-48.038969993609\", \"-48.02206\", \"-48.032664723176\", \"-48.038544989209\", \"-48.02206\", \"-48.037296854433\", \"-48.03821302233\", \"-48.02206\", \"-48.02206\", \"-48.039159954942\", \"-48.032664723176\", \"-48.027706587243\", \"-48.018114980319\", \"-48.038556163428\", \"-48.02206\", \"-48.015214627468\", \"-48.03885\", \"-48.019895881256\", \"-48.036046158252\", \"-48.039328560105\", \"-48.02206\", \"-48.025080006581\", \"-48.02206\", \"-48.02206\", \"-48.024210171831\", \"-48.019485002393\", \"-48.019895881256\", \"-48.02206\", \"-48.02206\", \"-48.032633560512\", \"-48.030893091352\", \"-48.022429984073\", \"-48.02206\", \"-48.02206\", \"-48.037294222577\", \"-48.022248736307\", \"-48.015859996907\", \"-48.040365306995\", \"-48.024303707966\", \"-48.032633560512\", \"-48.028464996269\", \"-48.006582233421\", \"-48.015214627468\", \"-48.032633560512\", \"-48.027706587243\", \"-48.01474998147\", \"-48.037296854433\", \"-48.022429984073\", \"-48.010069987741\", \"-48.02206\", \"-48.034634999016\", \"-48.027706587243\", \"-48.040183520072\", \"-44.2475\", \"-48.020574407655\", \"-48.036807093913\", \"-48.033500005507\", \"-48.02206\", \"-48.02206\", \"-48.016994990416\", \"-48.02206\", \"-48.010341468159\", \"-48.032885025271\", \"-48.02206\", \"-48.02206\", \"-48.019032846386\", \"-48.010069987741\", \"-48.02206\", \"-44.2475\", \"-50.47042\", \"-48.034840608837\", \"-48.03821302233\", \"-48.010341468159\", \"-48.02206\", \"-48.021175574139\", \"-48.02206\", \"-48.014330006211\", \"-48.02206\", \"-48.026566190314\", \"-48.019032846386\", \"-48.02592502815\", \"-48.026566190314\", \"-48.020574407655\", \"-48.027706587243\", \"-48.02206\", \"-48.02206\", \"-48.938829996129\", \"-48.02866838915\", \"-48.013339977718\", \"-48.01797\", \"-48.010069987741\", \"-48.020920026126\", \"-48.02206\", \"-48.036807093913\", \"-48.027706587243\", \"-48.02206\", \"-48.027706587243\", \"-48.036807093913\", \"-48.02866838915\", \"-48.021715007732\", \"-48.030439167642\", \"-48.02206\", \"-48.02993\", \"-48.02206\", \"-48.010341468159\", \"-48.019895881256\", \"-48.036708072058\", \"-48.037294222577\", \"-48.015859996907\", \"-48.02206\", \"-48.03892\", \"-48.032664723176\", \"-48.028464996269\", \"-48.02206\", \"-48.032730001971\", \"-48.029319992303\", \"-48.02592502815\", \"-48.02206\", \"-48.01624497772\", \"-48.02206\", \"-48.03885\", \"-48.027706587243\", \"-48.023145002324\", \"-48.02206\", \"-48.02206\", \"-48.018114980319\", \"-48.039328560105\", \"-48.022309997129\", \"-48.031239992953\", \"-48.02206\", \"-48.02206\", \"-48.011476184693\", \"-48.02206\", \"-48.02206\", \"-48.029319992303\", \"-48.034840608837\", \"-48.028773031088\", \"-48.018114980319\", \"-48.038544989209\", \"-48.025935002615\", \"-48.02206\", \"-48.02206\", \"-48.014330006211\", \"-48.036046158252\", \"-48.019485002393\", \"-48.029319992303\", \"-47.83064\", \"-48.03437398531\", \"-48.02206\", \"-48.010341468159\", \"-48.016994990416\", \"-48.033500005507\", \"-48.010341468159\", \"-48.029991698267\", \"-47.83064\", \"-48.02206\", \"-48.02206\", \"-48.027706587243\", \"-48.02206\", \"-48.029974218802\", \"-48.028464996269\", \"-48.025080006581\", \"-48.037294222577\", \"-48.02206\", \"-48.02206\", \"-48.038544989209\", \"-48.042906345641\", \"-48.040808859434\", \"-48.011021404263\", \"-48.02206\", \"-48.036708072058\", \"-48.02206\", \"-48.03821302233\", \"-48.010341468159\", \"-48.024210171831\", \"-48.018081673041\", \"-48.020920026126\", \"-48.00653\", \"-48.028464996269\", \"-48.02866838915\", \"-48.026817125194\", \"-48.03437398531\", \"-48.039159954942\", \"-48.02206\", \"-48.027943339188\", \"-48.017797942094\", \"-48.031239992953\", \"-48.021175574139\", \"-48.02206\", \"-48.040183520072\", \"-48.02206\", \"-48.031239992953\", \"-48.02206\", \"-48.025080006581\", \"-48.019485002393\", \"-48.038544989209\", \"-48.011021404263\", \"-48.02206\", \"-48.032885025271\", \"-48.02206\", \"-48.02206\", \"-48.02206\", \"-48.02206\", \"-48.02206\", \"-48.042906345641\", \"-48.031983464489\", \"-48.02206\", \"-48.023145002324\", \"-48.036129995266\", \"-48.028773031088\", \"-48.019032846386\", \"-48.019032846386\", \"-48.02206\", \"-48.019895881256\", \"-48.018081673041\", \"-48.02206\", \"-48.039328560105\", \"-48.019485002393\", \"-48.02206\", \"-48.013594997122\", \"-48.93883\", \"-48.02206\", \"-48.025935002615\", \"-48.03885\", \"-48.023145002324\", \"-48.02206\", \"-48.02206\", \"-48.027001381243\", \"-48.02866838915\", \"-48.03892\", \"-48.030039307702\", \"-48.040808859434\", \"-48.02206\", \"-48.036046158252\", \"-48.025935002615\", \"-48.036708072058\", \"-48.014465370993\", \"-48.037294222577\", \"-48.026338638516\", \"-48.037294222577\", \"-48.02206\", \"-48.023145002324\", \"-48.02206\", \"-48.02206\", \"-48.036046158252\", \"-48.03806388527\", \"-48.02866838915\", \"-48.019485002393\", \"-48.036807093913\", \"-48.027943339188\", \"-48.02592502815\", \"-48.029974218802\", \"-48.031983464489\", \"-48.02206\", \"-48.02206\", \"-48.015079976998\", \"-48.03892\", \"-48.019895881256\", \"-48.011021404263\", \"-48.029319992303\", \"-48.017797942094\", \"-48.014330006211\", \"-48.034840608837\", \"-48.015079976998\", \"-48.021175574139\", \"-48.02206\", \"-48.017873882211\", \"-48.038969993609\", \"-48.036807093913\", \"-48.012730940109\", \"-48.027706587243\", \"-48.040183520072\", \"-48.030893091352\", \"-48.021175574139\", \"-48.02206\", \"-48.010341468159\", \"-48.02206\", \"-48.014330006211\", \"-48.02206\", \"-48.02206\", \"-48.036807093913\", \"-48.02206\", \"-48.011021404263\", \"-48.023145002324\", \"-48.021715007732\", \"-48.017797942094\", \"-48.039328560105\", \"-48.040808859434\", \"-48.023145002324\", \"-48.039159954942\", \"-48.038969993609\", \"-48.02206\", \"-48.038556163428\", \"-48.01474998147\", \"-48.02206\", \"-48.02206\", \"-48.03437398531\", \"-48.02206\", \"-48.02206\", \"-48.02206\", \"-48.016994990416\", \"-48.037296854433\", \"-48.02206\", \"-48.02206\", \"-48.019485002393\", \"-48.02206\", \"-48.025080006581\", \"-48.02206\", \"-48.036708072058\", \"-48.036807093913\", \"-48.039159954942\", \"-48.02206\", \"-48.02206\", \"-48.01619\", \"-48.02206\", \"-48.040808859434\", \"-48.028773031088\", \"-48.02206\", \"-48.040808859434\", \"-48.019895881256\", \"-48.02206\", \"-48.02206\", \"-48.032664723176\", \"-48.035544008185\", \"-48.02206\", \"-48.02592502815\", \"-48.036807093913\", \"-48.029319992303\", \"-48.014465370993\", \"-48.020574407655\", \"-48.011021404263\", \"-48.02206\", \"-48.011199994018\", \"-48.015214627468\", \"-48.042906345641\", \"-48.029059288268\", \"-48.030893091352\", \"-48.02206\", \"-48.029991698267\", \"-48.019895881256\", \"-48.025080006581\", \"-48.02206\", \"-48.036807093913\", \"-48.032885025271\", \"-48.026566190314\", \"-48.019428275203\", \"-48.028464996269\", \"-48.02206\", \"-48.029991698267\", \"-48.029991698267\", \"-48.030893091352\", \"-48.038544989209\", \"-48.011021404263\", \"-48.020574407655\", \"-48.016059124564\", \"-48.040808859434\", \"-48.02206\", \"-48.021175574139\", \"-48.029991698267\", \"-48.030893091352\", \"-48.010341468159\", \"-48.011021404263\", \"-48.037448533886\", \"-48.03892\", \"-48.040183520072\", \"-48.019032846386\", \"-48.010341468159\", \"-48.035433039244\", \"-48.021175574139\", \"-48.03437398531\", \"-48.039328560105\", \"-48.025080006581\", \"-48.02206\", \"-48.031983464489\", \"-48.02206\", \"-48.02206\", \"-48.012715023017\", \"-48.012055031961\", \"-48.02206\", \"-48.036807093913\", \"-48.02206\", \"-48.037294222577\", \"-48.036708072058\", \"-48.030129977516\", \"-48.036129995266\", \"-48.017873882211\", \"-48.036807093913\", \"-48.022309997129\", \"-48.029319992303\", \"-48.02206\", \"-48.042906345641\", \"-48.02206\", \"-48.040365306995\", \"-48.014091547176\", \"-48.036708072058\", \"-48.019895881256\", \"-48.036807093913\", \"-48.02206\", \"-48.02206\", \"-48.013594997122\", \"-48.027001381243\", \"-48.036046158252\", \"-48.027706587243\", \"-48.02206\", \"-48.029319992303\", \"-48.02206\", \"-48.01953\", \"-48.015859996907\", \"-47.83064\", \"-48.010341468159\", \"-48.027706587243\", \"-48.02206\", \"-48.01177\", \"-48.031560570408\", \"-48.033500005507\", \"-48.02592502815\", \"-48.02206\", \"-48.038544989209\", \"-48.022309997129\", \"-48.01797\", \"-48.040808859434\", \"-48.020574407655\", \"-48.02592502815\", \"-48.019485002393\", \"-48.02206\", \"-48.038969993609\", \"-48.042906345641\", \"-48.039328560105\", \"-48.022248736307\", \"-48.027706587243\", \"-48.02206\", \"-48.042906345641\", \"-48.026817125194\", \"-48.03437398531\", \"-48.02206\", \"-48.02206\", \"-48.037294222577\", \"-48.040183520072\", \"-48.02206\", \"-48.023145002324\", \"-48.034099006872\", \"-48.02206\", \"-48.040183520072\", \"-48.019485002393\", \"-48.029319992303\", \"-48.021175574139\", \"-48.02206\", \"-48.03437398531\", \"-48.02206\", \"-48.02206\", \"-48.037296854433\", \"-48.03437398531\", \"-48.02206\", \"-48.015514997773\", \"-48.03821302233\", \"-48.036708072058\", \"-48.02206\", \"-48.02206\", \"-48.028773031088\", \"-48.040808859434\", \"-48.014465370993\", \"-48.024303707966\", \"-48.010069987741\", \"-48.02206\", \"-48.040808859434\", \"-42.95808\", \"-48.02206\", \"-48.011103999526\", \"-48.02206\", \"-48.019485002393\", \"-48.029991698267\", \"-48.039159954942\", \"-48.022248736307\", \"-48.02206\", \"-48.02206\", \"-48.027943339188\", \"-48.018114980319\", \"-48.042906345641\", \"-48.00623\", \"-48.032633560512\", \"-48.029991698267\", \"-48.035433039244\", \"-48.02206\", \"-48.02206\", \"-48.02206\", \"-48.027001381243\", \"-48.033500005507\", \"-48.029785185951\", \"-48.038544989209\", \"-48.039328560105\", \"-48.027001381243\", \"-48.016994990416\", \"-48.029974218802\", \"-48.018114980319\", \"-48.03892\", \"-48.038556163428\", \"-48.029991698267\", \"-48.02206\", \"-48.019032846386\", \"-48.026817125194\", \"-48.036267852923\", \"-48.02206\", \"-48.031239992953\", \"-48.026815018629\", \"-48.03437398531\", \"-48.013594997122\", \"-48.02021498234\", \"-48.02206\", \"-48.009124755818\", \"-48.01198500116\", \"-48.031239992953\", \"-48.02206\", \"-48.027109977802\", \"-48.024699971091\", \"-48.018081673041\", \"-48.036807093913\", \"-48.02206\", \"-48.02206\", \"-48.02206\", \"-48.020574407655\", \"-48.02206\", \"-48.027706587243\", \"-48.02206\", \"-48.02206\", \"-48.019895881256\", \"-48.029991698267\", \"-47.837222558332\", \"-48.011476184693\", \"-48.036807093913\", \"-48.02206\", \"-48.021175574139\", \"-48.018114980319\", \"-48.024303707966\", \"-48.027706587243\", \"-48.040808859434\", \"-48.036807093913\", \"-48.03437398531\", \"-48.032664723176\", \"-48.024210171831\", \"-48.029974218802\", \"-48.02206\", \"-48.022309997129\", \"-48.022309997129\", \"-48.015214627468\", \"-48.02206\", \"-48.02206\", \"-48.021175574139\", \"-48.029319992303\", \"-48.012055031961\", \"-48.027706587243\", \"-48.039159954942\", \"-48.02206\", \"-48.014091547176\", \"-48.032633560512\", \"-48.014091547176\", \"-48.012715023017\", \"-48.02206\", \"-48.022309997129\", \"-48.034634999016\", \"-47.83064\", \"-48.02206\", \"-48.01474998147\", \"-48.035923123337\", \"-48.016994990416\", \"-48.029785185951\", \"-48.040183520072\", \"-48.012730940109\", \"-48.03437398531\", \"-48.02206\", \"-48.02206\", \"-48.036267852923\", \"-48.04411\", \"-48.02206\", \"-48.02206\", \"-48.028773031088\", \"-48.01624497772\", \"-48.02206\", \"-48.027706587243\", \"-48.040183520072\", \"-48.029991698267\", \"-48.02206\", \"-48.020574407655\", \"-48.02206\", \"-48.047945000254\", \"-48.02206\", \"-48.040808859434\", \"-48.02206\", \"-48.01797\", \"-48.030129977516\", \"-48.030039307702\", \"-48.031239992953\", \"-48.02206\", \"-48.036807093913\", \"-48.042906345641\", \"-48.02206\", \"-48.027706587243\", \"-48.036708072058\", \"-48.011021404263\", \"-48.02206\", \"-48.027706587243\", \"-48.036807093913\", \"-48.016994990416\", \"-48.037296854433\", \"-48.02206\", \"-48.039159954942\", \"-48.015214627468\", \"-48.016994990416\", \"-48.019895881256\", \"-48.036807093913\", \"-48.03272974753\", \"-48.02206\", \"-48.02206\", \"-48.02206\", \"-48.015214627468\", \"-48.042906345641\", \"-48.022309997129\", \"-48.01672\", \"-48.03437398531\", \"-48.016994990416\", \"-48.02206\", \"-48.02206\", \"-48.02206\", \"-48.040183520072\", \"-48.029991698267\", \"-48.039159954942\", \"-48.011476184693\", \"-48.02206\", \"-48.02206\", \"-48.031239992953\", \"-48.02206\", \"-48.014465370993\", \"-48.02206\", \"-48.040808859434\", \"-48.03437398531\", \"-48.021175574139\", \"-48.017873882211\", \"-48.014091547176\", \"-48.02206\", \"-48.03885\", \"-48.027943339188\", \"-48.015859996907\", \"-48.020574407655\", \"-48.02206\", \"-48.03887\", \"-48.027706587243\", \"-48.02206\", \"-48.02206\", \"-48.040808859434\", \"-48.034450010413\", \"-48.032885025271\", \"-48.034634999016\", \"-48.028464996269\", \"-48.040808859434\", \"-48.02206\", \"-50.47042\", \"-48.014330006211\", \"-48.02206\", \"-48.027706587243\", \"-48.039159954942\", \"-48.02206\", \"-48.011021404263\", \"-48.034099006872\", \"-48.028464996269\", \"-48.02206\", \"-48.030893091352\", \"-48.02206\", \"-48.014465370993\", \"-48.015214627468\", \"-48.038556163428\", \"-48.022309997129\", \"-48.025935002615\", \"-48.014091547176\", \"-48.012204984209\", \"-48.02206\", \"-48.03885\", \"-48.02206\", \"-48.02206\", \"-48.03806388527\", \"-48.010341468159\", \"-48.040183520072\", \"-48.040365306995\", \"-48.029974218802\", \"-48.031239992953\", \"-48.036129995266\", \"-48.02206\", \"-48.010341468159\", \"-48.010341468159\", \"-48.040365306995\", \"-48.015448382773\", \"-48.938829996129\", \"-48.02206\", \"-48.02206\", \"-48.038544989209\", \"-48.029319992303\", \"-48.02206\", \"-48.02206\", \"-48.037294222577\", \"-48.036807093913\", \"-48.02206\", \"-48.024210171831\", \"-48.027706587243\", \"-48.02206\", \"-48.02206\", \"-48.013594997122\", \"-48.015214627468\", \"-48.033255002477\", \"-48.019485002393\", \"-48.014091547176\", \"-48.027706587243\", \"-48.02206\", \"-48.03437398531\", \"-48.029991698267\", \"-48.021175574139\", \"-48.019485002393\", \"-48.031630002908\", \"-48.02206\", \"-48.036129995266\", \"-48.025080006581\", \"-48.03892\", \"-48.02866838915\", \"-48.02206\", \"-48.011476184693\", \"-48.02206\", \"-48.028773031088\", \"-48.02206\", \"-48.02206\", \"-48.039159954942\", \"-48.014091547176\", \"-48.017989964233\", \"-48.019032846386\", \"-48.031239992953\", \"-48.017873882211\", \"-48.036807093913\", \"-48.014330006211\", \"-48.021175574139\", \"-48.010341468159\", \"-48.02206\", \"-48.036708072058\", \"-48.035433039244\", \"-48.018081673041\", \"-48.036708072058\", \"-48.021175574139\", \"-48.036807093913\", \"-48.02206\", \"-48.017873882211\", \"-48.036129995266\", \"-48.02206\", \"-48.019895881256\", \"-48.019485002393\", \"-48.02206\", \"-48.011021404263\", \"-48.02206\", \"-48.02206\", \"-47.83064\", \"-48.042906345641\", \"-48.037294222577\", \"-48.02206\", \"-48.036807093913\", \"-48.042906345641\", \"-48.032885025271\", \"-48.02206\", \"-48.040808859434\", \"-48.011021404263\", \"-48.02206\", \"-48.036807093913\", \"-48.009124755818\", \"-48.03885\", \"-48.028773031088\", \"-48.014484987601\", \"-48.02206\", \"-48.02206\", \"-48.01296\", \"-48.017989964233\", \"-48.027706587243\", \"-48.040808859434\", \"-48.00623\", \"-48.039159954942\", \"-48.03437398531\", \"-48.010341468159\", \"-48.02206\", \"-48.03887\", \"-48.016059124564\", \"-48.02206\", \"-45.88022\", \"-48.039159954942\", \"-48.029319992303\", \"-48.02206\", \"-48.022309997129\", \"-48.02206\", \"-48.015079976998\", \"-48.036708072058\", \"-48.02206\", \"-48.02206\", \"-48.014091547176\", \"-48.042906345641\", \"-48.015214627468\", \"-48.039159954942\", \"-48.040808859434\", \"-48.03885\", \"-48.02206\", \"-48.02206\", \"-48.02206\", \"-48.02206\", \"-48.02206\", \"-48.036807093913\", \"-48.02206\", \"-48.033500005507\", \"-48.02592502815\", \"-48.029319992303\", \"-48.024210171831\", \"-48.014091547176\", \"-48.010069987741\", \"-48.02206\", \"-48.02206\", \"-48.02206\", \"-48.042906345641\", \"-48.02206\", \"-48.038544989209\", \"-48.032885025271\", \"-48.02206\", \"-48.036708072058\", \"-48.03892\", \"-48.036807093913\", \"-48.025080006581\", \"-48.01624497772\", \"-48.02206\", \"-48.030893091352\", \"-48.018114980319\", \"-48.02206\", \"-48.016059124564\", \"-48.036708072058\", \"-48.038544989209\", \"-48.019895881256\", \"-48.02206\", \"-48.027001381243\", \"-48.027001381243\", \"-48.039328560105\", \"-48.02206\", \"-48.02206\", \"-48.02206\", \"-48.030893091352\", \"-48.017989964233\", \"-48.02866838915\", \"-48.023145002324\", \"-48.02206\", \"-48.02206\", \"-48.02206\", \"-48.02206\", \"-48.040183520072\", \"-48.012730940109\", \"-48.02206\", \"-48.01198500116\", \"-48.032885025271\", \"-48.017989964233\", \"-48.02206\", \"-48.013594997122\", \"-48.036708072058\", \"-48.032885025271\", \"-48.03821302233\", \"-48.039328560105\", \"-48.03821302233\", \"-48.038544989209\", \"-48.02206\", \"-48.010341468159\", \"-48.02206\", \"-48.021175574139\", \"-48.027706587243\", \"-48.02206\", \"-48.030893091352\", \"-48.031560570408\", \"-48.02206\", \"-48.015214627468\", \"-48.02206\", \"-48.015079976998\", \"-48.03885\", \"-48.00653\", \"-48.04554\", \"-48.042906345641\", \"-48.036807093913\", \"-48.02206\", \"-48.025935002615\", \"-48.02206\", \"-48.019032846386\", \"-48.035433039244\", \"-48.025080006581\", \"-48.02206\", \"-48.02206\", \"-48.029974218802\", \"-48.01797\", \"-48.042906345641\", \"-48.025080006581\", \"-48.02206\", \"-48.013339977718\", \"-48.035972496014\", \"-48.02206\", \"-48.036807093913\", \"-48.030893091352\", \"-48.026566190314\", \"-48.039159954942\", \"-48.02206\", \"-48.017797942094\", \"-48.02206\", \"-48.02206\", \"-48.015514997773\", \"-48.016059124564\", \"-48.02206\", \"-48.017505029225\", \"-48.040808859434\", \"-48.024210171831\", \"-48.017873882211\", \"-48.02206\", \"-48.042906345641\", \"-48.02206\", \"-48.02206\", \"-48.02206\", \"-48.010341468159\", \"-48.02206\", \"-48.017505029225\", \"-48.039328560105\", \"-48.012055031961\", \"-48.02206\", \"-48.010069987741\", \"-48.02206\", \"-48.019895881256\", \"-48.02206\", \"-48.021175574139\", \"-48.031239992953\", \"-48.02206\", \"-48.027706587243\", \"-48.02206\", \"-48.02206\", \"-48.02206\", \"-48.02206\", \"-48.028773031088\", \"-48.01177\", \"-48.02206\", \"-48.014091547176\", \"-48.011021404263\", \"-48.02206\", \"-48.019485002393\", \"-48.038556163428\", \"-48.03885\", \"-48.02206\", \"-48.031719903733\", \"-48.02206\", \"-48.012055031961\", \"-48.019895881256\", \"-48.01177\", \"-48.036708072058\", \"-48.016994990416\", \"-48.027706587243\", \"-48.036807093913\", \"-48.018820024104\", \"-48.02206\", \"-48.02206\", \"-48.02206\", \"-48.018081673041\", \"-48.025080006581\", \"-48.023145002324\", \"-48.019032846386\", \"-48.037294222577\", \"-48.02206\", \"-48.02206\", \"-48.019485002393\", \"-48.02206\", \"-48.029059288268\", \"-48.03437398531\", \"-48.014465370993\", \"-48.027001381243\", \"-48.03437398531\", \"-48.032633560512\", \"-48.024699971091\", \"-48.029319992303\", \"-48.02206\", \"-48.028773031088\", \"-48.02206\", \"-48.040808859434\", \"-48.02206\", \"-48.016059124564\", \"-48.02206\", \"-48.014465370993\", \"-48.040183520072\", \"-48.014091547176\", \"-48.015859996907\", \"-48.040183520072\", \"-48.025935002615\", \"-48.040183520072\", \"-48.040808859434\", \"-48.042906345641\", \"-48.019895881256\", \"-48.02206\", \"-48.026566190314\", \"-47.83064\", \"-48.02206\", \"-48.011199994018\", \"-48.042906345641\", \"-48.040183520072\", \"-48.938829996129\", \"-48.02206\", \"-48.022309997129\", \"-48.034099006872\", \"-48.016994990416\", \"-48.039159954942\", \"-50.47042\", \"-48.036807093913\", \"-48.010069987741\", \"-48.019032846386\", \"-48.029059288268\", \"-48.019485002393\", \"-48.02206\", \"-48.024210171831\", \"-48.02206\", \"-48.040365306995\", \"-48.038969993609\", \"-48.01474998147\", \"-48.020574407655\", \"-48.035433039244\", \"-48.014091547176\", \"-48.02206\", \"-48.015079976998\", \"-48.020920026126\", \"-48.029974218802\", \"-48.03821302233\", \"-48.020920026126\", \"-48.04454\", \"-48.010069987741\", \"-48.027706587243\", \"-48.011021404263\", \"-48.014330006211\", \"-48.011476184693\", \"-48.011279999284\", \"-48.022248736307\", \"-48.02206\", \"-48.042906345641\", \"-48.014465370993\", \"-48.028773031088\", \"-48.011476184693\", \"-48.02206\", \"-48.021715007732\", \"-48.038556163428\", \"-48.03437398531\", \"-48.019428275203\", \"-48.032664723176\", \"-48.024210171831\", \"-48.032885025271\", \"-48.010341468159\", \"-48.036807093913\", \"-48.02206\", \"-48.02206\", \"-48.027706587243\", \"-48.02866838915\", \"-48.037448533886\", \"-48.011021404263\", \"-48.040183520072\", \"-48.02993\", \"-48.01624497772\", \"-48.029991698267\", \"-48.02206\", \"-48.030893091352\", \"-48.027706587243\", \"-48.02206\", \"-48.02206\", \"-48.039159954942\", \"-48.02206\", \"-48.025080006581\", \"-48.015214627468\", \"-48.02206\", \"-48.04411\", \"-48.02206\", \"-50.47042\", \"-48.025080006581\", \"-48.026566190314\", \"-48.038556163428\", \"-48.042906345641\", \"-48.027001381243\", \"-48.042906345641\", \"-48.027001381243\", \"-48.030893091352\", \"-48.037294222577\", \"-48.02206\", \"-48.02206\", \"-48.02206\", \"-48.039328560105\", \"-48.02592502815\", \"-48.03885\", \"-48.02206\", \"-48.02206\", \"-48.036807093913\", \"-48.030893091352\", \"-48.020574407655\", \"-48.02206\", \"-48.022429984073\", \"-48.034099006872\", \"-48.02206\", \"-48.030893091352\", \"-48.02021498234\", \"-48.02206\", \"-48.02206\", \"-48.019895881256\", \"-48.02206\", \"-48.010341468159\", \"-48.036807093913\", \"-48.018081673041\", \"-48.02206\", \"-48.010341468159\", \"-48.03885\", \"-48.02206\", \"-48.02206\", \"-48.02206\", \"-48.019485002393\", \"-48.030893091352\", \"-48.036807093913\", \"-48.019895881256\", \"-48.93883\", \"-48.039159954942\", \"-48.010341468159\", \"-48.02206\", \"-48.02206\", \"-48.029991698267\", \"-48.042906345641\", \"-48.022309997129\", \"-48.02206\", \"-48.02206\", \"-48.02206\", \"-48.011021404263\", \"-48.017873882211\", \"-48.02206\", \"-48.032664723176\", \"-48.02206\", \"-48.039159954942\", \"-48.02206\", \"-48.028464996269\", \"-48.012715023017\", \"-48.02206\", \"-48.029319992303\", \"-48.02206\", \"-48.034634999016\", \"-48.02206\", \"-48.042906345641\", \"-48.038556163428\", \"-48.02206\", \"-48.02206\", \"-48.03272974753\", \"-48.040808859434\", \"-48.018114980319\", \"-48.012730940109\", \"-48.02206\", \"-48.02206\", \"-48.027706587243\", \"-48.02206\", \"-48.01177\", \"-48.036807093913\", \"-48.027706587243\", \"-48.011199994018\", \"-48.02866838915\", \"-48.02206\", \"-48.02206\", \"-48.01953\", \"-47.870050001829\", \"-48.019895881256\", \"-48.036129995266\", \"-48.028464996269\", \"-48.040183520072\", \"-48.02206\", \"-48.02206\", \"-48.031560570408\", \"-48.02206\", \"-48.036046158252\", \"-48.032633560512\", \"-48.02206\", \"-48.02206\", \"-48.029059288268\", \"-48.024699971091\", \"-48.042906345641\", \"-48.021175574139\", \"-48.02206\", \"-48.020574407655\", \"-48.02206\", \"-48.01953\", \"-48.02206\", \"-48.02206\", \"-48.021715007732\", \"-48.02206\", \"-48.024210171831\", \"-48.02206\", \"-48.02206\", \"-48.02206\", \"-48.02206\", \"-48.017989964233\", \"-48.02206\", \"-48.030154997497\", \"-48.01347999741\", \"-48.022309997129\", \"-48.02206\", \"-48.019032846386\", \"-48.03885\", \"-48.02206\", \"-48.02206\", \"-48.024210171831\", \"-48.019485002393\", \"-48.032664723176\", \"-48.016994990416\", \"-48.023145002324\", \"-48.02206\", \"-48.93883\", \"-48.036807093913\", \"-48.02206\", \"-48.02206\", \"-48.042906345641\", \"-48.019032846386\", \"-48.021175574139\", \"-48.02206\", \"-48.02206\", \"-48.011169963486\", \"-48.038556163428\", \"-48.042906345641\", \"-48.029991698267\", \"-48.02206\", \"-48.02206\", \"-48.02206\", \"-48.02206\", \"-48.029974218802\", \"-48.010069987741\", \"-48.030011081761\", \"-48.01624497772\", \"-48.02206\", \"-48.029991698267\", \"-48.017797942094\", \"-48.038556163428\", \"-48.027001381243\", \"-48.040808859434\", \"-48.040365306995\", \"-48.036807093913\", \"-48.02206\", \"-48.02206\", \"-48.02206\", \"-48.024210171831\", \"-48.017797942094\", \"-48.019485002393\", \"-48.029319992303\", \"-48.009124755818\", \"-47.83064\", \"-48.011021404263\", \"-48.036708072058\", \"-48.02206\", \"-48.019485002393\", \"-48.02206\", \"-48.040183520072\", \"-48.036807093913\", \"-48.00623\", \"-48.034840608837\", \"-48.01198500116\", \"-48.028773031088\", \"-48.036708072058\", \"-48.015859996907\", \"-48.01474998147\", \"-48.016994990416\", \"-48.036807093913\", \"-48.02206\", \"-48.02206\", \"-48.02206\", \"-48.018820024104\", \"-48.02592502815\", \"-48.02206\", \"-48.01198500116\", \"-48.031983464489\", \"-48.039328560105\", \"-48.025935002615\", \"-48.021715007732\", \"-48.015402933859\", \"-48.036807093913\", \"-48.038544989209\", \"-48.02206\", \"-48.02592502815\", \"-48.039159954942\", \"-48.02206\", \"-48.036807093913\", \"-48.011199994018\", \"-48.029319992303\", \"-48.02206\", \"-48.02206\", \"-48.036807093913\", \"-48.018081673041\", \"-48.02206\", \"-48.03821302233\", \"-48.019895881256\", \"-48.042906345641\", \"-48.040808859434\", \"-48.03437398531\", \"-48.03885\", \"-48.033500005507\", \"-48.015214627468\", \"-48.02206\", \"-48.020574407655\", \"-48.010341468159\", \"-48.034099006872\", \"-48.029319992303\", \"-48.010341468159\", \"-48.038969993609\", \"-48.036267852923\", \"-48.019032846386\", \"-48.030129977516\", \"-48.02206\", \"-48.016994990416\", \"-48.024699971091\", \"-48.02206\", \"-48.029319992303\", \"-48.02206\", \"-48.036807093913\", \"-48.02206\", \"-48.017873882211\", \"-48.021175574139\", \"-48.02206\", \"-48.032664723176\", \"-48.02206\", \"-48.02206\", \"-48.013594997122\", \"-48.015859996907\", \"-48.028773031088\", \"-48.03885\", \"-48.030039307702\", \"-48.02206\", \"-48.030893091352\", \"-48.02206\", \"-48.02206\", \"-48.018081673041\", \"-48.02206\", \"-48.021175574139\", \"-48.030893091352\", \"-48.017873882211\", \"-48.013594997122\", \"-48.029059288268\", \"-48.026817125194\", \"-48.02206\", \"-48.030039307702\", \"-48.040808859434\", \"-48.038544989209\", \"-48.01474998147\", \"-48.027943339188\", \"-48.021175574139\", \"-48.019895881256\", \"-48.012730940109\", \"-48.023145002324\", \"-48.029319992303\", \"-48.027001381243\", \"-48.02206\", \"-48.041491577599\", \"-48.042906345641\", \"-48.040183520072\", \"-48.02206\", \"-48.02206\", \"-48.02206\", \"-48.036129995266\", \"-48.027706587243\", \"-48.02206\", \"-48.03272974753\", \"-48.02206\", \"-48.016994990416\", \"-48.030893091352\", \"-48.02206\", \"-48.03437398531\", \"-48.029319992303\", \"-48.036807093913\", \"-48.03892\", \"-48.015859996907\", \"-48.02206\", \"-48.015214627468\", \"-48.02206\", \"-48.02206\", \"-48.040183520072\", \"-48.019485002393\", \"-48.039159954942\", \"-48.039159954942\", \"-48.02206\", \"-48.02206\", \"-48.014330006211\", \"-48.015859996907\", \"-48.010069987741\", \"-48.027001381243\", \"-48.02592502815\", \"-48.017873882211\", \"-48.02206\", \"-48.02206\", \"-48.012730940109\", \"-48.033500005507\", \"-48.011021404263\", \"-48.02206\", \"-48.028773031088\", \"-48.015214627468\", \"-48.036807093913\", \"-48.02206\", \"-48.02206\", \"-48.02206\", \"-48.042906345641\", \"-48.014091547176\", \"-48.038544989209\", \"-48.040183520072\", \"-48.027943339188\", \"-48.023145002324\", \"-48.038556163428\", \"-48.02206\", \"-48.026338638516\", \"-48.026815018629\", \"-48.018114980319\", \"-48.036708072058\", \"-48.019895881256\", \"-48.02206\", \"-48.036046158252\", \"-48.028773031088\", \"-48.015059986159\", \"-48.02206\", \"-48.029319992303\", \"-48.02206\", \"-48.02206\", \"-48.042906345641\", \"-48.038969993609\", \"-48.02206\", \"-48.040365306995\", \"-48.039159954942\", \"-48.02206\", \"-48.02206\", \"-48.014100006788\", \"-48.01624497772\", \"-48.02206\", \"-48.026566190314\", \"-48.019485002393\", \"-48.010069987741\", \"-48.038556163428\", \"-48.02206\", \"-48.013339977718\", \"-48.015859996907\", \"-48.02206\", \"-48.026566190314\", \"-48.010069987741\", \"-48.021175574139\", \"-48.016994990416\", \"-48.011476184693\", \"-48.026817125194\", \"-48.040808859434\", \"-48.02206\", \"-48.036807093913\", \"-48.011476184693\", \"-48.02206\", \"-48.03437398531\", \"-48.02206\", \"-48.035433039244\", \"-48.018114980319\", \"-48.02206\", \"-48.036807093913\", \"-48.027109977802\", \"-48.032664723176\", \"-48.026815018629\", \"-48.029319992303\", \"-48.033500005507\", \"-48.02206\", \"-48.015079976998\", \"-48.038556163428\", \"-48.03821302233\", \"-48.011021404263\", \"-48.037448533886\", \"-48.015214627468\", \"-48.02206\", \"-48.02206\", \"-48.019032846386\", \"-48.012055031961\", \"-48.02206\", \"-48.040183520072\", \"-48.030893091352\", \"-48.03885\", \"-48.028464996269\", \"-48.01474998147\", \"-48.02206\", \"-48.02206\", \"-48.038544989209\", \"-48.02206\", \"-48.030893091352\", \"-48.015214627468\", \"-48.042906345641\", \"-48.036807093913\", \"-48.02206\", \"-48.027706587243\", \"-48.02206\", \"-48.019485002393\", \"-48.027706587243\", \"-48.02206\", \"-48.021175574139\", \"-48.039328560105\", \"-48.02206\", \"-48.02206\", \"-48.010341468159\", \"-48.036046158252\", \"-48.038544989209\", \"-48.02206\", \"-48.02206\", \"-48.011476184693\", \"-48.02206\", \"-48.03437398531\", \"-48.012730940109\", \"-48.03885\", \"-48.02866838915\", \"-48.029319992303\", \"-48.02206\", \"-48.03437398531\", \"-48.02206\", \"-48.00653\", \"-48.039159954942\", \"-48.01474998147\", \"-48.03885\", \"-48.029991698267\", \"-48.039159954942\", \"-48.02866838915\", \"-48.032664723176\", \"-48.03437398531\", \"-48.029319992303\", \"-48.02206\", \"-48.03821302233\", \"-48.042906345641\", \"-48.036708072058\", \"-48.02206\", \"-48.02206\", \"-48.02206\", \"-48.019895881256\", \"-47.97297\", \"-48.02206\", \"-48.015214627468\", \"-48.028773031088\", \"-48.042906345641\", \"-48.027109977802\", \"-48.02206\", \"-48.036168576359\", \"-48.012204984209\", \"-48.02993\", \"-48.02206\", \"-48.036807093913\", \"-48.014091547176\", \"-48.03821302233\", \"-48.019895881256\", \"-48.030893091352\", \"-48.02206\", \"-48.02206\", \"-48.02206\", \"-48.03892\", \"-48.035433039244\", \"-48.02206\", \"-48.037294222577\", \"-48.02206\", \"-48.02206\", \"-48.030039307702\", \"-48.02206\", \"-48.040808859434\", \"-48.019895881256\", \"-48.012055031961\", \"-48.031983464489\", \"-48.02206\", \"-48.93883\", \"-48.02206\", \"-48.02206\", \"-48.02206\", \"-48.015859996907\", \"-48.040808859434\", \"-48.020574407655\", \"-48.017797942094\", \"-48.02206\", \"-48.02206\", \"-48.019485002393\", \"-48.011021404263\", \"-48.018081673041\", \"-48.017797942094\", \"-48.030129977516\", \"-48.040183520072\", \"-48.031239992953\", \"-48.02206\", \"-48.017797942094\", \"-48.027706587243\", \"-48.037294222577\", \"-48.02206\", \"-48.018114980319\", \"-48.040365306995\", \"-48.042906345641\", \"-47.83064\", \"-48.023145002324\", \"-48.026566190314\", \"-48.02206\", \"-48.031239992953\", \"-42.95808\", \"-48.02206\", \"-48.02206\", \"-48.02206\", \"-48.02206\", \"-48.016994990416\", \"-48.02206\", \"-48.040365306995\", \"-48.02206\", \"-48.039159954942\", \"-48.02206\", \"-48.02206\", \"-48.019895881256\", \"-48.02206\", \"-48.02206\", \"-48.02206\", \"-48.015859996907\", \"-48.042906345641\", \"-48.014330006211\", \"-48.019032846386\", \"-48.026566190314\", \"-48.016059124564\", \"-48.02206\", \"-48.02592502815\", \"-48.036807093913\", \"-48.040183520072\", \"-48.02206\", \"-48.02206\", \"-48.040183520072\", \"-48.028773031088\", \"-48.018114980319\", \"-48.02993\", \"-48.02206\", \"-48.03281499447\", \"-48.036708072058\", \"-48.02206\", \"-48.014091547176\", \"-48.02206\", \"-48.03437398531\", \"-48.029991698267\", \"-48.026817125194\", \"-48.02206\", \"-48.032885025271\", \"-48.030893091352\", \"-48.032885025271\", \"-48.026338638516\", \"-48.011199994018\", \"-48.02206\", \"-48.02993\", \"-48.02206\", \"-48.036807093913\", \"-48.02206\", \"-48.02206\", \"-48.02206\", \"-48.02206\", \"-48.036708072058\", \"-48.02206\", \"-48.02206\", \"-48.036807093913\", \"-48.026566190314\", \"-48.038544989209\", \"-48.036267852923\", \"-48.036708072058\", \"-48.029059288268\", \"-48.02206\", \"-48.039328560105\", \"-48.037296854433\", \"-48.037296854433\", \"-48.02206\", \"-48.02206\", \"-48.02206\", \"-48.02206\", \"-48.02206\", \"-48.02206\", \"-48.025080006581\", \"-48.02206\", \"-48.028464996269\", \"-48.036807093913\", \"-48.02206\", \"-48.036807093913\", \"-48.028773031088\", \"-48.029991698267\", \"-48.023145002324\", \"-48.02206\", \"-48.036708072058\", \"-48.02206\", \"-48.013594997122\", \"-48.021175574139\", \"-48.019485002393\", \"-48.030129977516\", \"-48.031630002908\", \"-48.02206\", \"-48.029991698267\", \"-48.036807093913\", \"-48.02206\", \"-48.032633560512\", \"-48.040808859434\", \"-48.042906345641\", \"-48.035923123337\", \"-48.022248736307\", \"-48.042906345641\", \"-48.042906345641\", \"-47.86501\", \"-48.024210171831\", \"-48.02206\", \"-48.019895881256\", \"-48.021175574139\", \"-48.03281499447\", \"-48.017797942094\", \"-48.02206\", \"-48.033500005507\", \"-48.025080006581\", \"-48.026566190314\", \"-48.02206\", \"-48.019895881256\", \"-48.029991698267\", \"-48.022309997129\", \"-48.02206\", \"-48.02206\", \"-48.023145002324\", \"-48.03437398531\", \"-48.02206\", \"-48.03437398531\", \"-48.011199994018\", \"-48.042906345641\", \"-48.02206\", \"-48.022309997129\", \"-48.029991698267\", \"-48.02206\", \"-48.02206\", \"-48.02206\", \"-48.038969993609\", \"-48.02206\", \"-48.017505029225\", \"-48.02206\", \"-48.02206\", \"-48.02206\", \"-48.013339977718\", \"-48.02206\", \"-48.02206\", \"-48.02206\", \"-48.02206\", \"-48.029319992303\", \"-48.02206\", \"-48.026817125194\", \"-48.02206\", \"-48.029319992303\", \"-48.06544\", \"-48.037448533886\", \"-48.02206\", \"-48.02206\", \"-48.02206\", \"-48.016994990416\", \"-48.02206\", \"-48.039159954942\", \"-48.02206\", \"-48.036708072058\", \"-47.870050001829\", \"-48.010341468159\", \"-48.020574407655\", \"-48.02206\", \"-48.019895881256\", \"-48.039328560105\", \"-48.029059288268\", \"-48.02206\", \"-48.03437398531\", \"-48.033500005507\", \"-48.036807093913\", \"-48.02206\", \"-48.02206\", \"-48.020574407655\", \"-48.02206\", \"-48.021175574139\", \"-48.02206\", \"-48.030039307702\", \"-48.042906345641\", \"-48.034840608837\", \"-48.030893091352\", \"-48.037296854433\", \"-48.019485002393\", \"-48.03437398531\", \"-48.02206\", \"-48.02206\", \"-48.03437398531\", \"-48.025080006581\", \"-48.036807093913\", \"-48.03821302233\", \"-48.02206\", \"-48.026817125194\", \"-48.014465370993\", \"-48.026566190314\", \"-48.015214627468\", \"-48.036807093913\", \"-48.026338638516\", \"-48.02206\", \"-48.036807093913\", \"-48.03437398531\", \"-48.02206\", \"-48.02206\", \"-48.030893091352\", \"-48.011021404263\", \"-48.02206\", \"-48.02206\", \"-48.02206\", \"-48.024210171831\", \"-48.036807093913\", \"-48.031560570408\", \"-48.036708072058\", \"-48.032633560512\", \"-48.010341468159\", \"-48.035433039244\", \"-48.02206\", \"-48.019032846386\", \"-48.010341468159\", \"-48.02206\", \"-48.02592502815\", \"-48.019485002393\", \"-48.019485002393\", \"-48.012715023017\", \"-48.022309997129\", \"-48.036267852923\", \"-48.032664723176\", \"-48.042906345641\", \"-48.019485002393\", \"-48.011476184693\", \"-48.019895881256\", \"-48.02206\", \"-48.04454\", \"-48.03821302233\", \"-48.02206\", \"-48.02206\", \"-48.028464996269\", \"-48.027706587243\", \"-48.028773031088\", \"-48.02021498234\", \"-48.02206\", \"-48.036267852923\", \"-48.036129995266\", \"-48.034634999016\", \"-48.036168576359\", \"-48.032633560512\", \"-48.02206\", \"-48.02592502815\", \"-48.02206\", \"-48.02206\", \"-48.02206\", \"-48.015514997773\", \"-48.019895881256\", \"-48.03584777167\", \"-48.036046158252\", \"-48.021175574139\", \"-48.014330006211\", \"-48.010341468159\", \"-48.02206\", \"-48.036807093913\", \"-48.01797\", \"-48.015214627468\", \"-48.029974218802\", \"-48.02592502815\", \"-48.036807093913\", \"-48.029319992303\", \"-48.02206\", \"-48.040183520072\", \"-48.019485002393\", \"-48.040183520072\", \"-48.027706587243\", \"-48.033500005507\", \"-48.02206\", \"-48.01624497772\", \"-48.024210171831\", \"-48.015859996907\", \"-48.027943339188\", \"-48.015834976926\", \"-48.030893091352\", \"-48.02206\", \"-48.030129977516\", \"-48.02206\", \"-48.010341468159\", \"-48.02206\", \"-48.938829996129\", \"-48.042906345641\", \"-48.032664723176\", \"-48.016059124564\", \"-48.030893091352\", \"-48.012730940109\", \"-48.01198500116\", \"-48.039159954942\", \"-48.033500005507\", \"-48.02206\", \"-48.010069987741\", \"-48.02206\", \"-48.009124755818\", \"-48.018820024104\", \"-48.040808859434\", \"-48.02206\", \"-48.02206\", \"-48.036807093913\", \"-48.023145002324\", \"-48.010069987741\", \"-48.017797942094\", \"-48.012730940109\", \"-48.029991698267\", \"-48.02206\", \"-48.011021404263\", \"-48.025935002615\", \"-48.029991698267\", \"-48.036708072058\", \"-48.042906345641\", \"-48.02206\", \"-48.019895881256\", \"-48.02206\", \"-48.017797942094\", \"-48.03281499447\", \"-48.036807093913\", \"-48.02206\", \"-48.017797942094\", \"-48.03437398531\", \"-48.014091547176\", \"-48.03885\", \"-48.001\", \"-48.012055031961\", \"-48.02206\", \"-48.02866838915\", \"-48.02206\", \"-48.02206\", \"-48.02206\", \"-48.03437398531\", \"-48.010069987741\", \"-48.02206\", \"-48.030893091352\", \"-48.02592502815\", \"-48.02206\", \"-48.032730001971\", \"-48.029991698267\", \"-48.02206\", \"-48.02206\", \"-48.012055031961\", \"-48.026566190314\", \"-48.036708072058\", \"-48.011199994018\", \"-48.019895881256\", \"-48.029319992303\", \"-48.03885\", \"-48.03437398531\", \"-48.040183520072\", \"-48.02206\", \"-48.010341468159\", \"-48.026817125194\", \"-48.011476184693\", \"-48.02206\", \"-48.036807093913\", \"-48.040183520072\", \"-48.02206\", \"-48.03821302233\", \"-48.02206\", \"-48.023145002324\", \"-48.02206\", \"-48.031560570408\", \"-48.02206\", \"-48.038969993609\", \"-48.010341468159\", \"-48.027943339188\", \"-48.028773031088\", \"-48.017873882211\", \"-48.026817125194\", \"-48.031389987111\", \"-48.042906345641\", \"-48.028464996269\", \"-48.042906345641\", \"-48.01797\", \"-48.019895881256\", \"-48.02206\", \"-48.02206\", \"-48.03821302233\", \"-48.02206\", \"-48.02206\", \"-48.02206\", \"-48.02206\", \"-48.02206\", \"-48.02206\", \"-48.031983464489\", \"-48.015402933859\", \"-48.038969993609\", \"-48.039159954942\", \"-48.02206\", \"-48.027706587243\", \"-48.010069987741\", \"-48.036807093913\", \"-48.02206\", \"-48.02206\", \"-48.017797942094\", \"-48.017797942094\", \"-48.02206\", \"-48.02206\", \"-48.033500005507\", \"-48.02206\", \"-48.042906345641\", \"-48.042906345641\", \"-48.036807093913\", \"-48.014465370993\", \"-48.02206\", \"-48.02993\", \"-48.019428275203\", \"-48.02842642971\", \"-48.014100006788\", \"-48.02206\", \"-48.02206\", \"-48.037294222577\", \"-48.02866838915\", \"-48.02206\", \"-48.042906345641\", \"-48.028773031088\", \"-48.029991698267\", \"-48.042906345641\", \"-48.025080006581\", \"-48.02206\", \"-48.02206\", \"-48.02206\", \"-48.036807093913\", \"-48.022248736307\", \"-48.036807093913\", \"-48.02206\", \"-48.030893091352\", \"-48.027706587243\", \"-48.03437398531\", \"-48.042906345641\", \"-48.011021404263\", \"-48.017797942094\", \"-48.02206\", \"-48.02206\", \"-48.02206\", \"-48.024210171831\", \"-48.02206\", \"-48.02206\", \"-48.040808859434\", \"-48.010341468159\", \"-48.032885025271\", \"-48.02206\", \"-48.011169963486\", \"-48.016059124564\", \"-48.032664723176\", \"-48.017797942094\", \"-48.031239992953\", \"-48.040183520072\", \"-48.038544989209\", \"-48.02206\", \"-48.021175574139\", \"-48.02206\", \"-48.021175574139\", \"-48.02206\", \"-48.026566190314\", \"-48.020574407655\", \"-48.02206\", \"-48.027943339188\", \"-48.039328560105\", \"-48.02206\", \"-48.02206\", \"-48.030893091352\", \"-48.02206\", \"-48.038969993609\", \"-48.040808859434\", \"-48.02206\", \"-48.02206\", \"-48.032885025271\", \"-48.02206\", \"-48.035433039244\", \"-48.02206\", \"-48.03821302233\", \"-48.009124755818\", \"-48.027706587243\", \"-48.027943339188\", \"-48.010341468159\", \"-48.011476184693\", \"-48.04454\", \"-48.02206\", \"-48.03437398531\", \"-48.012055031961\", \"-48.02866838915\", \"-48.040808859434\", \"-48.038969993609\", \"-48.014465370993\", \"-48.011021404263\", \"-48.02206\", \"-48.036807093913\", \"-48.93883\", \"-48.02206\", \"-48.032664723176\", \"-48.02206\", \"-48.031719903733\", \"-48.032664723176\", \"-48.036708072058\", \"-48.042906345641\", \"-48.011476184693\", \"-48.02206\", \"-48.03885\", \"-48.011021404263\", \"-48.02206\", \"-48.020920026126\", \"-48.010341468159\", \"-48.032664723176\", \"-48.02206\", \"-48.938829996129\", \"-48.017797942094\", \"-48.02206\", \"-48.030893091352\", \"-48.02592502815\", \"-48.02206\", \"-48.011825032538\", \"-48.039328560105\", \"-48.030011081761\", \"-48.02206\", \"-48.02866838915\", \"-48.038544989209\", \"-48.02206\", \"-48.02206\", \"-48.02206\", \"-48.02206\", \"-48.040183520072\", \"-48.015859996907\", \"-48.024210171831\", \"-48.02206\", \"-48.032885025271\", \"-48.025080006581\", \"-48.02206\", \"-48.039159954942\", \"-48.02206\", \"-48.02206\", \"-48.036807093913\", \"-48.015214627468\", \"-48.041491577599\", \"-48.02206\", \"-48.015859996907\", \"-48.02206\", \"-48.030893091352\", \"-48.039159954942\", \"-48.02206\", \"-48.014330006211\", \"-48.028773031088\", \"-48.02206\", \"-48.03437398531\", \"-48.027706587243\", \"-48.02206\", \"-48.026566190314\", \"-48.037296854433\", \"-48.015079976998\", \"-48.032664723176\", \"-48.042906345641\", \"-48.027706587243\", \"-48.024303707966\", \"-48.02206\", \"-48.014091547176\", \"-48.02206\", \"-48.938829996129\", \"-48.039328560105\", \"-48.027943339188\", \"-48.024800009106\", \"-48.042906345641\", \"-48.011476184693\", \"-48.03885\", \"-48.038969993609\", \"-48.01797\", \"-48.037448533886\", \"-48.033500005507\", \"-48.02206\", \"-48.011021404263\", \"-48.02206\", \"-48.019895881256\", \"-48.03437398531\", \"-48.03885\", \"-48.02206\", \"-48.02206\", \"-48.02206\", \"-48.042906345641\", \"-48.02206\", \"-48.019485002393\", \"-48.02206\", \"-48.01347999741\", \"-48.022248736307\", \"-48.02206\", \"-48.017989964233\", \"-48.02206\", \"-48.02206\", \"-48.02206\", \"-48.022248736307\", \"-48.02206\", \"-48.02206\", \"-48.02206\", \"-48.02206\", \"-48.009124755818\", \"-48.02206\", \"-48.02206\", \"-48.029991698267\", \"-48.03437398531\", \"-48.037296854433\", \"-48.02206\", \"-48.037294222577\", \"-48.036807093913\", \"-48.040808859434\", \"-48.01198500116\", \"-48.023145002324\", \"-48.036046158252\", \"-48.029991698267\", \"-48.036708072058\", \"-48.014091547176\", \"-48.02206\", \"-48.029319992303\", \"-48.02206\", \"-48.040183520072\", \"-48.029974218802\", \"-48.030893091352\", \"-48.036129995266\", \"-48.03885\", \"-48.036708072058\", \"-48.02206\", \"-48.02206\", \"-48.021175574139\", \"-48.02206\", \"-48.012204984209\", \"-48.012730940109\", \"-48.030955008246\", \"-48.040183520072\", \"-48.040365306995\", \"-48.042906345641\", \"-48.02206\", \"-48.02206\", \"-48.02206\", \"-48.036807093913\", \"-48.938829996129\", \"-48.03281499447\", \"-48.027706587243\", \"-48.02206\", \"-48.02206\", \"-48.02206\", \"-48.026566190314\", \"-48.02206\", \"-48.027943339188\", \"-48.01474998147\", \"-48.040183520072\", \"-48.028464996269\", \"-48.02206\", \"-48.02206\", \"-48.02206\", \"-48.012730940109\", \"-48.042906345641\", \"-48.020574407655\", \"-48.022429984073\", \"-48.029974218802\", \"-48.020920026126\", \"-48.016994990416\", \"-48.02206\", \"-48.038544989209\", \"-48.02206\", \"-48.02206\", \"-48.02206\", \"-47.994064995085\", \"-47.83064\", \"-48.032664723176\", \"-42.95808\", \"-48.036129995266\", \"-48.02206\", \"-48.040808859434\", \"-48.042906345641\", \"-48.039328560105\", \"-48.024210171831\", \"-48.019895881256\", \"-48.035433039244\", \"-48.02206\", \"-48.038544989209\", \"-48.029059288268\", \"-48.02206\", \"-48.01797\", \"-48.028464996269\", \"-48.023145002324\", \"-48.039159954942\", \"-48.016059124564\", \"-48.02206\", \"-48.02206\", \"-48.017989964233\", \"-48.038556163428\", \"-48.02206\", \"-48.036708072058\", \"-48.02206\", \"-48.02206\", \"-48.02206\", \"-48.015214627468\", \"-48.02206\", \"-48.040183520072\", \"-48.027706587243\", \"-48.036807093913\", \"-48.938829996129\", \"-48.02206\", \"-48.02206\", \"-48.02206\", \"-48.02206\", \"-48.02206\", \"-48.017505029225\", \"-48.01624497772\", \"-48.012204984209\", \"-48.021175574139\", \"-48.02206\", \"-48.017505029225\", \"-48.027706587243\", \"-48.042906345641\", \"-48.06544\", \"-48.01347999741\", \"-48.040183520072\", \"-48.039159954942\", \"-48.030039307702\", \"-48.034634999016\", \"-48.02206\", \"-48.02206\", \"-48.02206\", \"-48.042906345641\", \"-48.019485002393\", \"-48.042906345641\", \"-48.036708072058\", \"-48.038969993609\", \"-48.035433039244\", \"-48.03437398531\", \"-48.02206\", \"-48.02206\", \"-48.042906345641\", \"-48.015859996907\", \"-48.02206\", \"-48.016994990416\", \"-48.03885\", \"-48.027706587243\", \"-48.02206\", \"-48.02206\", \"-48.018114980319\", \"-48.014091547176\", \"-48.029991698267\", \"-48.02206\", \"-48.030439167642\", \"-48.011476184693\", \"-48.02206\", \"-48.042800020446\", \"-48.02206\", \"-48.040183520072\", \"-48.02206\", \"-48.02206\", \"-48.02206\", \"-48.015514997773\", \"-48.02206\", \"-48.02206\", \"-48.02206\", \"-48.040808859434\", \"-48.02206\", \"-48.047945000254\", \"-48.02206\", \"-48.02206\", \"-48.039159954942\", \"-48.019032846386\", \"-48.02206\", \"-48.021175574139\", \"-48.02206\", \"-48.02206\", \"-48.026566190314\", \"-48.023145002324\", \"-48.02206\", \"-48.03821302233\", \"-48.011021404263\", \"-48.02206\", \"-48.02206\", \"-48.019895881256\", \"-48.02206\", \"-48.02206\", \"-48.93883\", \"-48.040808859434\", \"-48.02206\", \"-48.026817125194\", \"-48.028464996269\", \"-48.026817125194\", \"-48.012055031961\", \"-48.040808859434\", \"-48.02206\", \"-48.039328560105\", \"-48.02206\", \"-48.02206\", \"-48.023145002324\", \"-48.019485002393\", \"-48.031560570408\", \"-48.02206\", \"-48.031239992953\", \"-48.03821302233\", \"-48.02206\", \"-48.036807093913\", \"-48.04411\", \"-50.47042\", \"-48.03281499447\", \"-48.013594997122\", \"-48.03885\", \"-48.02206\", \"-48.027943339188\", \"-48.019032846386\", \"-48.020574407655\", \"-48.029059288268\", \"-48.019895881256\", \"-48.02206\", \"-48.032664723176\", \"-48.017797942094\", \"-48.02206\", \"-48.02206\", \"-48.028773031088\", \"-48.040808859434\", \"-48.02206\", \"-48.038969993609\", \"-48.036807093913\", \"-48.010341468159\", \"-48.011021404263\", \"-48.02206\", \"-48.02206\", \"-48.014330006211\", \"-48.023145002324\", \"-48.031560570408\", \"-48.036708072058\", \"-48.010069987741\", \"-48.016994990416\", \"-48.02206\", \"-48.035433039244\", \"-48.02206\", \"-48.040808859434\", \"-48.02206\", \"-48.009124755818\", \"-48.033500005507\", \"-48.010341468159\", \"-48.022248736307\", \"-48.01697998681\", \"-48.036807093913\", \"-48.029059288268\", \"-48.021715007732\", \"-48.029319992303\", \"-48.01797\", \"-48.032885025271\", \"-48.02206\", \"-48.02206\", \"-48.02206\", \"-48.02206\", \"-48.02206\", \"-48.028464996269\", \"-48.02206\", \"-48.02206\", \"-48.938829996129\", \"-48.036807093913\", \"-48.029319992303\", \"-48.02206\", \"-48.02206\", \"-48.02206\", \"-48.03821302233\", \"-48.02206\", \"-48.02206\", \"-48.029319992303\", \"-48.02206\", \"-48.039328560105\", \"-48.019895881256\", \"-48.016059124564\", \"-48.040183520072\", \"-48.011021404263\", \"-48.02206\", \"-48.011476184693\", \"-48.036129995266\", \"-48.015214627468\", \"-48.03885\", \"-48.026817125194\", \"-48.028464996269\", \"-48.02206\", \"-48.020574407655\", \"-48.036807093913\", \"-48.028464996269\", \"-48.011021404263\", \"-48.03821302233\", \"-48.039159954942\", \"-48.02206\", \"-48.02206\", \"-48.032885025271\", \"-48.02993\", \"-48.014091547176\", \"-48.03437398531\", \"-48.036807093913\", \"-48.018114980319\", \"-48.02206\", \"-48.032633560512\", \"-48.02206\", \"-48.015214627468\", \"-48.018114980319\", \"-48.021175574139\", \"-48.042906345641\", \"-48.011169963486\", \"-48.02206\", \"-48.023145002324\", \"-48.014091547176\", \"-48.031983464489\", \"-48.027943339188\", \"-48.027706587243\", \"-48.021175574139\", \"-48.010069987741\", \"-48.015514997773\", \"-48.039328560105\", \"-48.029974218802\", \"-48.02206\", \"-47.83064\", \"-48.02206\", \"-48.017797942094\", \"-48.013594997122\", \"-48.03892\", \"-48.026566190314\", \"-48.02206\", \"-48.032664723176\", \"-48.019485002393\", \"-48.02206\", \"-48.029319992303\", \"-48.02206\", \"-48.012715023017\", \"-48.011103999526\", \"-48.02206\", \"-48.020574407655\", \"-48.024699971091\", \"-48.02206\", \"-48.032885025271\", \"-48.036267852923\", \"-48.02206\", \"-48.035544008185\", \"-48.021640031609\", \"-48.027706587243\", \"-48.038544989209\", \"-48.02206\", \"-48.02206\", \"-48.014091547176\", \"-48.042906345641\", \"-48.02206\", \"-48.021175574139\", \"-48.027943339188\", \"-48.030893091352\", \"-48.017873882211\", \"-48.040808859434\", \"-48.029991698267\", \"-48.02206\", \"-48.02206\", \"-48.023145002324\", \"-48.011199994018\", \"-48.014100006788\", \"-48.02206\", \"-48.010341468159\", \"-48.028773031088\", \"-47.83064\", \"-48.02206\", \"-48.02206\", \"-48.027943339188\", \"-48.029991698267\", \"-48.019032846386\", \"-48.02206\", \"-48.028464996269\", \"-48.010341468159\", \"-48.027706587243\", \"-48.040808859434\", \"-48.02206\", \"-48.038544989209\", \"-48.015859996907\", \"-48.02206\", \"-48.01474998147\", \"-48.01474998147\", \"-48.02206\", \"-48.018820024104\", \"-48.040808859434\", \"-48.02206\", \"-48.039328560105\", \"-50.47042\", \"-48.031719903733\", \"-48.02206\", \"-48.02592502815\", \"-48.02206\", \"-48.02206\", \"-48.016059124564\", \"-48.042906345641\", \"-48.029059288268\", \"-47.83064\", \"-48.02993\", \"-48.018114980319\", \"-48.02206\", \"-48.02206\", \"-48.030039307702\", \"-48.032664723176\", \"-48.017873882211\", \"-48.009124755818\", \"-48.036807093913\", \"-48.036807093913\", \"-48.031983464489\", \"-48.03281499447\", \"-48.02206\", \"-48.030893091352\", \"-48.02206\", \"-48.011199994018\", \"-48.040808859434\", \"-48.02206\", \"-48.02206\", \"-48.02206\", \"-48.036708072058\", \"-48.02206\", \"-48.029991698267\", \"-48.010341468159\", \"-48.02206\", \"-48.027001381243\", \"-48.036267852923\", \"-48.02206\", \"-48.036807093913\", \"-48.030129977516\", \"-48.02592502815\", \"-48.026566190314\", \"-48.02206\", \"-48.02866838915\", \"-48.02842642971\", \"-48.04454\", \"-48.047945000254\", \"-48.029319992303\", \"-48.02206\", \"-48.028773031088\", \"-48.030893091352\", \"-48.025080006581\", \"-48.02866838915\", \"-48.019032846386\", \"-48.02592502815\", \"-48.031560570408\", \"-48.026815018629\", \"-48.027706587243\", \"-48.015514997773\", \"-48.009124755818\", \"-48.015079976998\", \"-48.031983464489\", \"-48.029319992303\", \"-48.015214627468\", \"-48.039328560105\", \"-48.02206\", \"-48.02206\", \"-48.019485002393\", \"-48.014091547176\", \"-48.030893091352\", \"-48.03437398531\", \"-48.042906345641\", \"-48.040183520072\", \"-47.998491050443\", \"-48.017989964233\", \"-48.029991698267\", \"-48.026566190314\", \"-48.019895881256\", \"-48.011476184693\", \"-48.040183520072\", \"-48.02206\", \"-48.02206\", \"-48.027943339188\", \"-48.016994990416\", \"-48.019895881256\", \"-48.03806388527\", \"-48.02206\", \"-48.010341468159\", \"-48.02206\", \"-48.013594997122\", \"-48.02206\", \"-48.039159954942\", \"-48.042906345641\", \"-48.03885\", \"-48.02206\", \"-48.038544989209\", \"-48.02206\", \"-48.041491577599\", \"-48.014091547176\", \"-48.011476184693\", \"-48.039159954942\", \"-48.037294222577\", \"-48.011021404263\", \"-48.036807093913\", \"-48.02206\", \"-48.02206\", \"-48.03892\", \"-48.038556163428\", \"-48.02206\", \"-48.02021498234\", \"-48.039159954942\", \"-48.02206\", \"-48.037294222577\", \"-48.019895881256\", \"-48.040183520072\", \"-48.016994990416\", \"-48.032664723176\", \"-48.036807093913\", \"-48.028773031088\", \"-48.02206\", \"-48.036046158252\", \"-48.019895881256\", \"-48.023145002324\", \"-48.032664723176\", \"-48.02206\", \"-48.036807093913\", \"-48.03806388527\", \"-48.036807093913\", \"-48.017505029225\", \"-48.033500005507\", \"-48.029319992303\", \"-48.039159954942\", \"-48.028773031088\", \"-48.036807093913\", \"-48.02206\", \"-48.026566190314\", \"-48.02206\", \"-48.02206\", \"-48.01797\", \"-48.021175574139\", \"-48.013884818296\", \"-50.47042\", \"-48.019895881256\", \"-48.02206\", \"-48.042906345641\", \"-48.027706587243\", \"-48.02206\", \"-48.01474998147\", \"-47.83064\", \"-48.02206\", \"-48.017873882211\", \"-48.02206\", \"-48.03437398531\", \"-48.03437398531\", \"-48.038544989209\", \"-48.019895881256\", \"-48.02206\", \"-48.02206\", \"-48.009124755818\", \"-48.036708072058\", \"-48.010069987741\", \"-48.02592502815\", \"-48.02206\", \"-48.02206\", \"-48.042906345641\", \"-48.036807093913\", \"-48.03437398531\", \"-48.040808859434\", \"-48.039328560105\", \"-48.027706587243\", \"-47.83064\", \"-48.024210171831\", \"-48.014330006211\", \"-48.018114980319\", \"-48.02206\", \"-48.014330006211\", \"-48.02206\", \"-48.033500005507\", \"-48.036807093913\", \"-48.039159954942\", \"-48.030893091352\", \"-48.032664723176\", \"-48.02842642971\", \"-48.012730940109\", \"-48.014330006211\", \"-48.01198500116\", \"-48.030893091352\", \"-48.042906345641\", \"-48.03437398531\", \"-48.014465370993\", \"-48.030039307702\", \"-48.02206\", \"-48.024210171831\", \"-48.040808859434\", \"-48.02206\", \"-48.02206\", \"-48.02206\", \"-48.038544989209\", \"-48.03437398531\", \"-48.016994990416\", \"-48.036708072058\", \"-48.02206\", \"-48.038544989209\", \"-48.02206\", \"-48.02206\", \"-48.02206\", \"-48.027943339188\", \"-48.032885025271\", \"-48.02206\", \"-48.02206\", \"-48.029974218802\", \"-48.02206\", \"-48.040183520072\", \"-48.040183520072\", \"-48.022248736307\", \"-48.02206\", \"-48.02206\", \"-48.02206\", \"-48.02206\", \"-48.029991698267\", \"-48.03437398531\", \"-48.033500005507\", \"-48.040808859434\", \"-48.036807093913\", \"-48.027706587243\", \"-48.017989964233\", \"-48.018820024104\", \"-48.036129995266\", \"-48.02206\", \"-48.032885025271\", \"-48.018820024104\", \"-48.02206\", \"-48.015859996907\", \"-48.02206\", \"-48.02206\", \"-48.02206\", \"-48.02206\", \"-48.02206\", \"-48.030893091352\", \"-48.02206\", \"-48.040365306995\", \"-48.014330006211\", \"-48.032730001971\", \"-48.029506048683\", \"-48.02206\", \"-48.016994990416\", \"-48.02206\", \"-48.02206\", \"-48.036807093913\", \"-48.029991698267\", \"-48.02206\", \"-48.031560570408\", \"-48.024210171831\", \"-48.02206\", \"-48.014330006211\", \"-48.019485002393\", \"-48.032885025271\", \"-48.02206\", \"-48.036807093913\", \"-48.040183520072\", \"-48.033500005507\", \"-47.994064995085\", \"-48.039328560105\", \"-48.013594997122\", \"-48.032885025271\", \"-48.02206\", \"-48.02206\", \"-48.02206\", \"-48.02206\", \"-48.01624497772\", \"-48.015514997773\", \"-48.027706587243\", \"-55.54717\", \"-48.02206\", \"-48.02206\", \"-48.02206\", \"-48.03437398531\", \"-48.026566190314\", \"-48.02206\", \"-48.02206\", \"-48.023145002324\", \"-48.029059288268\", \"-48.02206\", \"-48.032633560512\", \"-48.02206\", \"-48.027706587243\", \"-48.02206\", \"-48.02206\", \"-48.036807093913\", \"-48.028773031088\", \"-48.02206\", \"-48.028773031088\", \"-48.035972496014\", \"-48.031983464489\", \"-48.034634999016\", \"-48.040183520072\", \"-48.016994990416\", \"-48.03437398531\", \"-48.036807093913\", \"-48.014091547176\", \"-48.010341468159\", \"-48.02206\", \"-48.02206\", \"-48.02866838915\", \"-48.03885\", \"-48.039159954942\", \"-48.938829996129\", \"-48.026566190314\", \"-48.030893091352\", \"-48.036807093913\", \"-48.036807093913\", \"-48.02592502815\", \"-48.02206\", \"-48.03806388527\", \"-48.02206\", \"-48.02206\", \"-48.02592502815\", \"-48.02206\", \"-48.029991698267\", \"-48.02206\", \"-48.02206\", \"-48.02206\", \"-48.039159954942\", \"-48.02206\", \"-48.02206\", \"-48.012730940109\", \"-48.02206\", \"-48.02206\", \"-48.036807093913\", \"-48.040808859434\", \"-48.02206\", \"-48.039328560105\", \"-48.02206\", \"-48.02206\", \"-48.01697998681\", \"-48.040808859434\", \"-48.02206\", \"-48.04454\", \"-48.036807093913\", \"-48.01252\", \"-48.010341468159\", \"-48.001282149549\", \"-48.029974218802\", \"-48.010341468159\", \"-48.06544\", \"-48.02206\", \"-48.02206\", \"-48.036807093913\", \"-48.02206\", \"-48.029974218802\", \"-48.03437398531\", \"-48.014091547176\", \"-48.02206\", \"-48.032885025271\", \"-48.011021404263\", \"-48.02206\", \"-48.032633560512\", \"-48.03821302233\", \"-48.02206\", \"-48.02206\", \"-48.00816084724\", \"-48.036129995266\", \"-48.017797942094\", \"-48.013594997122\", \"-48.011279999284\", \"-48.023145002324\", \"-48.029974218802\", \"-48.019895881256\", \"-48.01953\", \"-48.025080006581\", \"-48.027001381243\", \"-48.02592502815\", \"-48.014091547176\", \"-48.027706587243\", \"-48.036129995266\", \"-48.02206\", \"-48.040808859434\", \"-48.012730940109\", \"-48.027706587243\", \"-48.031560570408\", \"-48.02206\", \"-47.83064\", \"-48.019485002393\", \"-48.015859996907\", \"-48.02206\", \"-48.02206\", \"-48.02206\", \"-48.029991698267\", \"-48.010341468159\", \"-48.014484987601\", \"-42.95808\", \"-48.02206\", \"-48.02866838915\", \"-48.028464996269\", \"-48.036807093913\", \"-48.02993\", \"-48.018820024104\", \"-48.019032846386\", \"-48.02206\", \"-48.040808859434\", \"-48.031983464489\", \"-48.010341468159\", \"-48.02206\", \"-48.036708072058\", \"-48.02206\", \"-48.021175574139\", \"-48.036046158252\", \"-48.030893091352\", \"-48.012730940109\", \"-48.029785185951\", \"-48.034634999016\", \"-48.02206\", \"-48.038544989209\", \"-48.02206\", \"-48.036807093913\", \"-48.013594997122\", \"-48.028464996269\", \"-48.029319992303\", \"-48.036708072058\", \"-48.036807093913\", \"-48.02206\", \"-48.01474998147\", \"-48.031630002908\", \"-48.02206\", \"-48.02206\", \"-48.02206\", \"-48.021175574139\", \"-48.031239992953\", \"-48.02206\", \"-48.031560570408\", \"-48.014678629343\", \"-48.03885\", \"-48.03821302233\", \"-48.06544\", \"-48.027001381243\", \"-48.031983464489\", \"-48.03885\", \"-48.02206\", \"-48.02206\", \"-48.06544\", \"-48.027001381243\"], \"radius\": 7, \"type\": \"densitymapbox\"}],                        {\"mapbox\": {\"center\": {\"lon\": 180}, \"style\": \"stamen-terrain\"}, \"margin\": {\"b\": 0, \"l\": 0, \"r\": 0, \"t\": 0}, \"template\": {\"data\": {\"bar\": [{\"error_x\": {\"color\": \"#2a3f5f\"}, \"error_y\": {\"color\": \"#2a3f5f\"}, \"marker\": {\"line\": {\"color\": \"#E5ECF6\", \"width\": 0.5}}, \"type\": \"bar\"}], \"barpolar\": [{\"marker\": {\"line\": {\"color\": \"#E5ECF6\", \"width\": 0.5}}, \"type\": \"barpolar\"}], \"carpet\": [{\"aaxis\": {\"endlinecolor\": \"#2a3f5f\", \"gridcolor\": \"white\", \"linecolor\": \"white\", \"minorgridcolor\": \"white\", \"startlinecolor\": \"#2a3f5f\"}, \"baxis\": {\"endlinecolor\": \"#2a3f5f\", \"gridcolor\": \"white\", \"linecolor\": \"white\", \"minorgridcolor\": \"white\", \"startlinecolor\": \"#2a3f5f\"}, \"type\": \"carpet\"}], \"choropleth\": [{\"colorbar\": {\"outlinewidth\": 0, \"ticks\": \"\"}, \"type\": \"choropleth\"}], \"contour\": [{\"colorbar\": {\"outlinewidth\": 0, \"ticks\": \"\"}, \"colorscale\": [[0.0, \"#0d0887\"], [0.1111111111111111, \"#46039f\"], [0.2222222222222222, \"#7201a8\"], [0.3333333333333333, \"#9c179e\"], [0.4444444444444444, \"#bd3786\"], [0.5555555555555556, \"#d8576b\"], [0.6666666666666666, \"#ed7953\"], [0.7777777777777778, \"#fb9f3a\"], [0.8888888888888888, \"#fdca26\"], [1.0, \"#f0f921\"]], \"type\": \"contour\"}], \"contourcarpet\": [{\"colorbar\": {\"outlinewidth\": 0, \"ticks\": \"\"}, \"type\": \"contourcarpet\"}], \"heatmap\": [{\"colorbar\": {\"outlinewidth\": 0, \"ticks\": \"\"}, \"colorscale\": [[0.0, \"#0d0887\"], [0.1111111111111111, \"#46039f\"], [0.2222222222222222, \"#7201a8\"], [0.3333333333333333, \"#9c179e\"], [0.4444444444444444, \"#bd3786\"], [0.5555555555555556, \"#d8576b\"], [0.6666666666666666, \"#ed7953\"], [0.7777777777777778, \"#fb9f3a\"], [0.8888888888888888, \"#fdca26\"], [1.0, \"#f0f921\"]], \"type\": \"heatmap\"}], \"heatmapgl\": [{\"colorbar\": {\"outlinewidth\": 0, \"ticks\": \"\"}, \"colorscale\": [[0.0, \"#0d0887\"], [0.1111111111111111, \"#46039f\"], [0.2222222222222222, \"#7201a8\"], [0.3333333333333333, \"#9c179e\"], [0.4444444444444444, \"#bd3786\"], [0.5555555555555556, \"#d8576b\"], [0.6666666666666666, \"#ed7953\"], [0.7777777777777778, \"#fb9f3a\"], [0.8888888888888888, \"#fdca26\"], [1.0, \"#f0f921\"]], \"type\": \"heatmapgl\"}], \"histogram\": [{\"marker\": {\"colorbar\": {\"outlinewidth\": 0, \"ticks\": \"\"}}, \"type\": \"histogram\"}], \"histogram2d\": [{\"colorbar\": {\"outlinewidth\": 0, \"ticks\": \"\"}, \"colorscale\": [[0.0, \"#0d0887\"], [0.1111111111111111, \"#46039f\"], [0.2222222222222222, \"#7201a8\"], [0.3333333333333333, \"#9c179e\"], [0.4444444444444444, \"#bd3786\"], [0.5555555555555556, \"#d8576b\"], [0.6666666666666666, \"#ed7953\"], [0.7777777777777778, \"#fb9f3a\"], [0.8888888888888888, \"#fdca26\"], [1.0, \"#f0f921\"]], \"type\": \"histogram2d\"}], \"histogram2dcontour\": [{\"colorbar\": {\"outlinewidth\": 0, \"ticks\": \"\"}, \"colorscale\": [[0.0, \"#0d0887\"], [0.1111111111111111, \"#46039f\"], [0.2222222222222222, \"#7201a8\"], [0.3333333333333333, \"#9c179e\"], [0.4444444444444444, \"#bd3786\"], [0.5555555555555556, \"#d8576b\"], [0.6666666666666666, \"#ed7953\"], [0.7777777777777778, \"#fb9f3a\"], [0.8888888888888888, \"#fdca26\"], [1.0, \"#f0f921\"]], \"type\": \"histogram2dcontour\"}], \"mesh3d\": [{\"colorbar\": {\"outlinewidth\": 0, \"ticks\": \"\"}, \"type\": \"mesh3d\"}], \"parcoords\": [{\"line\": {\"colorbar\": {\"outlinewidth\": 0, \"ticks\": \"\"}}, \"type\": \"parcoords\"}], \"pie\": [{\"automargin\": true, \"type\": \"pie\"}], \"scatter\": [{\"marker\": {\"colorbar\": {\"outlinewidth\": 0, \"ticks\": \"\"}}, \"type\": \"scatter\"}], \"scatter3d\": [{\"line\": {\"colorbar\": {\"outlinewidth\": 0, \"ticks\": \"\"}}, \"marker\": {\"colorbar\": {\"outlinewidth\": 0, \"ticks\": \"\"}}, \"type\": \"scatter3d\"}], \"scattercarpet\": [{\"marker\": {\"colorbar\": {\"outlinewidth\": 0, \"ticks\": \"\"}}, \"type\": \"scattercarpet\"}], \"scattergeo\": [{\"marker\": {\"colorbar\": {\"outlinewidth\": 0, \"ticks\": \"\"}}, \"type\": \"scattergeo\"}], \"scattergl\": [{\"marker\": {\"colorbar\": {\"outlinewidth\": 0, \"ticks\": \"\"}}, \"type\": \"scattergl\"}], \"scattermapbox\": [{\"marker\": {\"colorbar\": {\"outlinewidth\": 0, \"ticks\": \"\"}}, \"type\": \"scattermapbox\"}], \"scatterpolar\": [{\"marker\": {\"colorbar\": {\"outlinewidth\": 0, \"ticks\": \"\"}}, \"type\": \"scatterpolar\"}], \"scatterpolargl\": [{\"marker\": {\"colorbar\": {\"outlinewidth\": 0, \"ticks\": \"\"}}, \"type\": \"scatterpolargl\"}], \"scatterternary\": [{\"marker\": {\"colorbar\": {\"outlinewidth\": 0, \"ticks\": \"\"}}, \"type\": \"scatterternary\"}], \"surface\": [{\"colorbar\": {\"outlinewidth\": 0, \"ticks\": \"\"}, \"colorscale\": [[0.0, \"#0d0887\"], [0.1111111111111111, \"#46039f\"], [0.2222222222222222, \"#7201a8\"], [0.3333333333333333, \"#9c179e\"], [0.4444444444444444, \"#bd3786\"], [0.5555555555555556, \"#d8576b\"], [0.6666666666666666, \"#ed7953\"], [0.7777777777777778, \"#fb9f3a\"], [0.8888888888888888, \"#fdca26\"], [1.0, \"#f0f921\"]], \"type\": \"surface\"}], \"table\": [{\"cells\": {\"fill\": {\"color\": \"#EBF0F8\"}, \"line\": {\"color\": \"white\"}}, \"header\": {\"fill\": {\"color\": \"#C8D4E3\"}, \"line\": {\"color\": \"white\"}}, \"type\": \"table\"}]}, \"layout\": {\"annotationdefaults\": {\"arrowcolor\": \"#2a3f5f\", \"arrowhead\": 0, \"arrowwidth\": 1}, \"autotypenumbers\": \"strict\", \"coloraxis\": {\"colorbar\": {\"outlinewidth\": 0, \"ticks\": \"\"}}, \"colorscale\": {\"diverging\": [[0, \"#8e0152\"], [0.1, \"#c51b7d\"], [0.2, \"#de77ae\"], [0.3, \"#f1b6da\"], [0.4, \"#fde0ef\"], [0.5, \"#f7f7f7\"], [0.6, \"#e6f5d0\"], [0.7, \"#b8e186\"], [0.8, \"#7fbc41\"], [0.9, \"#4d9221\"], [1, \"#276419\"]], \"sequential\": [[0.0, \"#0d0887\"], [0.1111111111111111, \"#46039f\"], [0.2222222222222222, \"#7201a8\"], [0.3333333333333333, \"#9c179e\"], [0.4444444444444444, \"#bd3786\"], [0.5555555555555556, \"#d8576b\"], [0.6666666666666666, \"#ed7953\"], [0.7777777777777778, \"#fb9f3a\"], [0.8888888888888888, \"#fdca26\"], [1.0, \"#f0f921\"]], \"sequentialminus\": [[0.0, \"#0d0887\"], [0.1111111111111111, \"#46039f\"], [0.2222222222222222, \"#7201a8\"], [0.3333333333333333, \"#9c179e\"], [0.4444444444444444, \"#bd3786\"], [0.5555555555555556, \"#d8576b\"], [0.6666666666666666, \"#ed7953\"], [0.7777777777777778, \"#fb9f3a\"], [0.8888888888888888, \"#fdca26\"], [1.0, \"#f0f921\"]]}, \"colorway\": [\"#636efa\", \"#EF553B\", \"#00cc96\", \"#ab63fa\", \"#FFA15A\", \"#19d3f3\", \"#FF6692\", \"#B6E880\", \"#FF97FF\", \"#FECB52\"], \"font\": {\"color\": \"#2a3f5f\"}, \"geo\": {\"bgcolor\": \"white\", \"lakecolor\": \"white\", \"landcolor\": \"#E5ECF6\", \"showlakes\": true, \"showland\": true, \"subunitcolor\": \"white\"}, \"hoverlabel\": {\"align\": \"left\"}, \"hovermode\": \"closest\", \"mapbox\": {\"style\": \"light\"}, \"paper_bgcolor\": \"white\", \"plot_bgcolor\": \"#E5ECF6\", \"polar\": {\"angularaxis\": {\"gridcolor\": \"white\", \"linecolor\": \"white\", \"ticks\": \"\"}, \"bgcolor\": \"#E5ECF6\", \"radialaxis\": {\"gridcolor\": \"white\", \"linecolor\": \"white\", \"ticks\": \"\"}}, \"scene\": {\"xaxis\": {\"backgroundcolor\": \"#E5ECF6\", \"gridcolor\": \"white\", \"gridwidth\": 2, \"linecolor\": \"white\", \"showbackground\": true, \"ticks\": \"\", \"zerolinecolor\": \"white\"}, \"yaxis\": {\"backgroundcolor\": \"#E5ECF6\", \"gridcolor\": \"white\", \"gridwidth\": 2, \"linecolor\": \"white\", \"showbackground\": true, \"ticks\": \"\", \"zerolinecolor\": \"white\"}, \"zaxis\": {\"backgroundcolor\": \"#E5ECF6\", \"gridcolor\": \"white\", \"gridwidth\": 2, \"linecolor\": \"white\", \"showbackground\": true, \"ticks\": \"\", \"zerolinecolor\": \"white\"}}, \"shapedefaults\": {\"line\": {\"color\": \"#2a3f5f\"}}, \"ternary\": {\"aaxis\": {\"gridcolor\": \"white\", \"linecolor\": \"white\", \"ticks\": \"\"}, \"baxis\": {\"gridcolor\": \"white\", \"linecolor\": \"white\", \"ticks\": \"\"}, \"bgcolor\": \"#E5ECF6\", \"caxis\": {\"gridcolor\": \"white\", \"linecolor\": \"white\", \"ticks\": \"\"}}, \"title\": {\"x\": 0.05}, \"xaxis\": {\"automargin\": true, \"gridcolor\": \"white\", \"linecolor\": \"white\", \"ticks\": \"\", \"title\": {\"standoff\": 15}, \"zerolinecolor\": \"white\", \"zerolinewidth\": 2}, \"yaxis\": {\"automargin\": true, \"gridcolor\": \"white\", \"linecolor\": \"white\", \"ticks\": \"\", \"title\": {\"standoff\": 15}, \"zerolinecolor\": \"white\", \"zerolinewidth\": 2}}}},                        {\"responsive\": true}                    ).then(function(){\n",
       "                            \n",
       "var gd = document.getElementById('92f59537-29d9-4d55-b7d0-505a055b5111');\n",
       "var x = new MutationObserver(function (mutations, observer) {{\n",
       "        var display = window.getComputedStyle(gd).display;\n",
       "        if (!display || display === 'none') {{\n",
       "            console.log([gd, 'removed!']);\n",
       "            Plotly.purge(gd);\n",
       "            observer.disconnect();\n",
       "        }}\n",
       "}});\n",
       "\n",
       "// Listen for the removal of the full notebook cells\n",
       "var notebookContainer = gd.closest('#notebook-container');\n",
       "if (notebookContainer) {{\n",
       "    x.observe(notebookContainer, {childList: true});\n",
       "}}\n",
       "\n",
       "// Listen for the clearing of the current output cell\n",
       "var outputEl = gd.closest('.output');\n",
       "if (outputEl) {{\n",
       "    x.observe(outputEl, {childList: true});\n",
       "}}\n",
       "\n",
       "                        })                };                });            </script>        </div>"
      ]
     },
     "metadata": {},
     "output_type": "display_data"
    }
   ],
   "source": [
    "# Criando mapa de localização dos imoveis\n",
    "\n",
    "# Importando a biblioteca grafica\n",
    "import plotly.graph_objects as go\n",
    "\n",
    "# Imoveis a venda\n",
    "fig = go.Figure(go.Densitymapbox(lat=df.latitude, lon=df.longitude, radius=7))\n",
    "fig.update_layout(mapbox_style=\"stamen-terrain\", mapbox_center_lon=180)\n",
    "fig.update_layout(margin={\"r\":0,\"t\":0,\"l\":0,\"b\":0})\n",
    "fig.show()"
   ]
  },
  {
   "cell_type": "code",
   "execution_count": null,
   "metadata": {
    "colab": {
     "base_uri": "https://localhost:8080/",
     "height": 542
    },
    "executionInfo": {
     "elapsed": 8,
     "status": "ok",
     "timestamp": 1688415821152,
     "user": {
      "displayName": "Caio Cesar Ribeiro Brito",
      "userId": "09669924537412269636"
     },
     "user_tz": 180
    },
    "id": "aOYd0un8CAl_",
    "outputId": "1a63b952-956c-4f6b-c5de-b96c8e24b726"
   },
   "outputs": [],
   "source": [
    "# Mapa de calor dos precos em aguas claras\n",
    "fig = go.Figure(go.Densitymapbox(lat=df.latitude, lon=df.longitude, radius=10, z=df.preco))\n",
    "fig.update_layout(mapbox_style=\"stamen-terrain\", mapbox_center_lon=180)\n",
    "fig.update_layout(margin={\"r\":0,\"t\":0,\"l\":0,\"b\":0})\n",
    "fig.show()"
   ]
  },
  {
   "cell_type": "markdown",
   "metadata": {
    "id": "MOWOMgiLokpB"
   },
   "source": [
    "### 50 imoveis mais caros"
   ]
  },
  {
   "cell_type": "code",
   "execution_count": 12,
   "metadata": {
    "colab": {
     "base_uri": "https://localhost:8080/",
     "height": 542
    },
    "executionInfo": {
     "elapsed": 18,
     "status": "ok",
     "timestamp": 1686340977655,
     "user": {
      "displayName": "Caio Cesar Ribeiro Brito",
      "userId": "09669924537412269636"
     },
     "user_tz": 180
    },
    "id": "u_cApxAUpM9A",
    "outputId": "ad4383da-716f-43e9-9465-bf65cf69bfff"
   },
   "outputs": [
    {
     "data": {
      "application/vnd.plotly.v1+json": {
       "config": {
        "plotlyServerURL": "https://plot.ly"
       },
       "data": [
        {
         "lat": [
          "-15.831075851288",
          "-15.834902512606",
          "-15.834902512606",
          "-15.834902512606",
          "-15.834902512606",
          "-15.820545586541",
          "-15.820545586541",
          "-15.820545586541",
          "-15.820545586541",
          "-15.820545586541",
          "-15.841345122238",
          "-15.834902512606",
          "-15.841345122238",
          "-15.83263347211",
          "-15.83673500262",
          "-15.835687747487",
          "-15.841842667042",
          "-15.84067",
          "-15.843415626518",
          "-15.843415626518",
          "-15.84067",
          "-15.84067",
          "-15.83263347211",
          "-15.834902512606",
          "-15.83939895395",
          "-15.83939895395",
          "-15.843415626518",
          "-15.84067",
          "-15.843415626518",
          "-15.843415626518",
          "-15.84067",
          "-15.843415626518",
          "-15.841842667042",
          "-15.84067",
          "-15.84067",
          "-15.843415626518",
          "-15.837371178171",
          "-15.836918381182",
          "-15.83455",
          "-15.836918381182",
          "-15.841920228821",
          "-15.84067",
          "-15.84067",
          "-15.84067",
          "-15.84067",
          "-15.84067",
          "-15.84067",
          "-15.84067",
          "-15.84067",
          "-15.841842667042"
         ],
         "lon": [
          "-48.015214627468",
          "-48.019895881256",
          "-48.019895881256",
          "-48.019895881256",
          "-48.019895881256",
          "-48.040808859434",
          "-48.040808859434",
          "-48.040808859434",
          "-48.040808859434",
          "-48.040808859434",
          "-48.019032846386",
          "-48.019895881256",
          "-48.019032846386",
          "-48.014091547176",
          "-48.032885025271",
          "-48.031560570408",
          "-48.021175574139",
          "-48.02206",
          "-48.024210171831",
          "-48.024210171831",
          "-48.02206",
          "-48.02206",
          "-48.014091547176",
          "-48.019895881256",
          "-48.014465370993",
          "-48.014465370993",
          "-48.024210171831",
          "-48.02206",
          "-48.024210171831",
          "-48.024210171831",
          "-48.02206",
          "-48.024210171831",
          "-48.021175574139",
          "-48.02206",
          "-48.02206",
          "-48.024210171831",
          "-48.038556163428",
          "-48.039159954942",
          "-48.03885",
          "-48.039159954942",
          "-48.029991698267",
          "-48.02206",
          "-48.02206",
          "-48.02206",
          "-48.02206",
          "-48.02206",
          "-48.02206",
          "-48.02206",
          "-48.02206",
          "-48.021175574139"
         ],
         "radius": 10,
         "type": "densitymapbox"
        }
       ],
       "layout": {
        "mapbox": {
         "center": {
          "lon": 180
         },
         "style": "stamen-terrain"
        },
        "margin": {
         "b": 0,
         "l": 0,
         "r": 0,
         "t": 0
        },
        "template": {
         "data": {
          "bar": [
           {
            "error_x": {
             "color": "#2a3f5f"
            },
            "error_y": {
             "color": "#2a3f5f"
            },
            "marker": {
             "line": {
              "color": "#E5ECF6",
              "width": 0.5
             }
            },
            "type": "bar"
           }
          ],
          "barpolar": [
           {
            "marker": {
             "line": {
              "color": "#E5ECF6",
              "width": 0.5
             }
            },
            "type": "barpolar"
           }
          ],
          "carpet": [
           {
            "aaxis": {
             "endlinecolor": "#2a3f5f",
             "gridcolor": "white",
             "linecolor": "white",
             "minorgridcolor": "white",
             "startlinecolor": "#2a3f5f"
            },
            "baxis": {
             "endlinecolor": "#2a3f5f",
             "gridcolor": "white",
             "linecolor": "white",
             "minorgridcolor": "white",
             "startlinecolor": "#2a3f5f"
            },
            "type": "carpet"
           }
          ],
          "choropleth": [
           {
            "colorbar": {
             "outlinewidth": 0,
             "ticks": ""
            },
            "type": "choropleth"
           }
          ],
          "contour": [
           {
            "colorbar": {
             "outlinewidth": 0,
             "ticks": ""
            },
            "colorscale": [
             [
              0,
              "#0d0887"
             ],
             [
              0.1111111111111111,
              "#46039f"
             ],
             [
              0.2222222222222222,
              "#7201a8"
             ],
             [
              0.3333333333333333,
              "#9c179e"
             ],
             [
              0.4444444444444444,
              "#bd3786"
             ],
             [
              0.5555555555555556,
              "#d8576b"
             ],
             [
              0.6666666666666666,
              "#ed7953"
             ],
             [
              0.7777777777777778,
              "#fb9f3a"
             ],
             [
              0.8888888888888888,
              "#fdca26"
             ],
             [
              1,
              "#f0f921"
             ]
            ],
            "type": "contour"
           }
          ],
          "contourcarpet": [
           {
            "colorbar": {
             "outlinewidth": 0,
             "ticks": ""
            },
            "type": "contourcarpet"
           }
          ],
          "heatmap": [
           {
            "colorbar": {
             "outlinewidth": 0,
             "ticks": ""
            },
            "colorscale": [
             [
              0,
              "#0d0887"
             ],
             [
              0.1111111111111111,
              "#46039f"
             ],
             [
              0.2222222222222222,
              "#7201a8"
             ],
             [
              0.3333333333333333,
              "#9c179e"
             ],
             [
              0.4444444444444444,
              "#bd3786"
             ],
             [
              0.5555555555555556,
              "#d8576b"
             ],
             [
              0.6666666666666666,
              "#ed7953"
             ],
             [
              0.7777777777777778,
              "#fb9f3a"
             ],
             [
              0.8888888888888888,
              "#fdca26"
             ],
             [
              1,
              "#f0f921"
             ]
            ],
            "type": "heatmap"
           }
          ],
          "heatmapgl": [
           {
            "colorbar": {
             "outlinewidth": 0,
             "ticks": ""
            },
            "colorscale": [
             [
              0,
              "#0d0887"
             ],
             [
              0.1111111111111111,
              "#46039f"
             ],
             [
              0.2222222222222222,
              "#7201a8"
             ],
             [
              0.3333333333333333,
              "#9c179e"
             ],
             [
              0.4444444444444444,
              "#bd3786"
             ],
             [
              0.5555555555555556,
              "#d8576b"
             ],
             [
              0.6666666666666666,
              "#ed7953"
             ],
             [
              0.7777777777777778,
              "#fb9f3a"
             ],
             [
              0.8888888888888888,
              "#fdca26"
             ],
             [
              1,
              "#f0f921"
             ]
            ],
            "type": "heatmapgl"
           }
          ],
          "histogram": [
           {
            "marker": {
             "colorbar": {
              "outlinewidth": 0,
              "ticks": ""
             }
            },
            "type": "histogram"
           }
          ],
          "histogram2d": [
           {
            "colorbar": {
             "outlinewidth": 0,
             "ticks": ""
            },
            "colorscale": [
             [
              0,
              "#0d0887"
             ],
             [
              0.1111111111111111,
              "#46039f"
             ],
             [
              0.2222222222222222,
              "#7201a8"
             ],
             [
              0.3333333333333333,
              "#9c179e"
             ],
             [
              0.4444444444444444,
              "#bd3786"
             ],
             [
              0.5555555555555556,
              "#d8576b"
             ],
             [
              0.6666666666666666,
              "#ed7953"
             ],
             [
              0.7777777777777778,
              "#fb9f3a"
             ],
             [
              0.8888888888888888,
              "#fdca26"
             ],
             [
              1,
              "#f0f921"
             ]
            ],
            "type": "histogram2d"
           }
          ],
          "histogram2dcontour": [
           {
            "colorbar": {
             "outlinewidth": 0,
             "ticks": ""
            },
            "colorscale": [
             [
              0,
              "#0d0887"
             ],
             [
              0.1111111111111111,
              "#46039f"
             ],
             [
              0.2222222222222222,
              "#7201a8"
             ],
             [
              0.3333333333333333,
              "#9c179e"
             ],
             [
              0.4444444444444444,
              "#bd3786"
             ],
             [
              0.5555555555555556,
              "#d8576b"
             ],
             [
              0.6666666666666666,
              "#ed7953"
             ],
             [
              0.7777777777777778,
              "#fb9f3a"
             ],
             [
              0.8888888888888888,
              "#fdca26"
             ],
             [
              1,
              "#f0f921"
             ]
            ],
            "type": "histogram2dcontour"
           }
          ],
          "mesh3d": [
           {
            "colorbar": {
             "outlinewidth": 0,
             "ticks": ""
            },
            "type": "mesh3d"
           }
          ],
          "parcoords": [
           {
            "line": {
             "colorbar": {
              "outlinewidth": 0,
              "ticks": ""
             }
            },
            "type": "parcoords"
           }
          ],
          "pie": [
           {
            "automargin": true,
            "type": "pie"
           }
          ],
          "scatter": [
           {
            "marker": {
             "colorbar": {
              "outlinewidth": 0,
              "ticks": ""
             }
            },
            "type": "scatter"
           }
          ],
          "scatter3d": [
           {
            "line": {
             "colorbar": {
              "outlinewidth": 0,
              "ticks": ""
             }
            },
            "marker": {
             "colorbar": {
              "outlinewidth": 0,
              "ticks": ""
             }
            },
            "type": "scatter3d"
           }
          ],
          "scattercarpet": [
           {
            "marker": {
             "colorbar": {
              "outlinewidth": 0,
              "ticks": ""
             }
            },
            "type": "scattercarpet"
           }
          ],
          "scattergeo": [
           {
            "marker": {
             "colorbar": {
              "outlinewidth": 0,
              "ticks": ""
             }
            },
            "type": "scattergeo"
           }
          ],
          "scattergl": [
           {
            "marker": {
             "colorbar": {
              "outlinewidth": 0,
              "ticks": ""
             }
            },
            "type": "scattergl"
           }
          ],
          "scattermapbox": [
           {
            "marker": {
             "colorbar": {
              "outlinewidth": 0,
              "ticks": ""
             }
            },
            "type": "scattermapbox"
           }
          ],
          "scatterpolar": [
           {
            "marker": {
             "colorbar": {
              "outlinewidth": 0,
              "ticks": ""
             }
            },
            "type": "scatterpolar"
           }
          ],
          "scatterpolargl": [
           {
            "marker": {
             "colorbar": {
              "outlinewidth": 0,
              "ticks": ""
             }
            },
            "type": "scatterpolargl"
           }
          ],
          "scatterternary": [
           {
            "marker": {
             "colorbar": {
              "outlinewidth": 0,
              "ticks": ""
             }
            },
            "type": "scatterternary"
           }
          ],
          "surface": [
           {
            "colorbar": {
             "outlinewidth": 0,
             "ticks": ""
            },
            "colorscale": [
             [
              0,
              "#0d0887"
             ],
             [
              0.1111111111111111,
              "#46039f"
             ],
             [
              0.2222222222222222,
              "#7201a8"
             ],
             [
              0.3333333333333333,
              "#9c179e"
             ],
             [
              0.4444444444444444,
              "#bd3786"
             ],
             [
              0.5555555555555556,
              "#d8576b"
             ],
             [
              0.6666666666666666,
              "#ed7953"
             ],
             [
              0.7777777777777778,
              "#fb9f3a"
             ],
             [
              0.8888888888888888,
              "#fdca26"
             ],
             [
              1,
              "#f0f921"
             ]
            ],
            "type": "surface"
           }
          ],
          "table": [
           {
            "cells": {
             "fill": {
              "color": "#EBF0F8"
             },
             "line": {
              "color": "white"
             }
            },
            "header": {
             "fill": {
              "color": "#C8D4E3"
             },
             "line": {
              "color": "white"
             }
            },
            "type": "table"
           }
          ]
         },
         "layout": {
          "annotationdefaults": {
           "arrowcolor": "#2a3f5f",
           "arrowhead": 0,
           "arrowwidth": 1
          },
          "autotypenumbers": "strict",
          "coloraxis": {
           "colorbar": {
            "outlinewidth": 0,
            "ticks": ""
           }
          },
          "colorscale": {
           "diverging": [
            [
             0,
             "#8e0152"
            ],
            [
             0.1,
             "#c51b7d"
            ],
            [
             0.2,
             "#de77ae"
            ],
            [
             0.3,
             "#f1b6da"
            ],
            [
             0.4,
             "#fde0ef"
            ],
            [
             0.5,
             "#f7f7f7"
            ],
            [
             0.6,
             "#e6f5d0"
            ],
            [
             0.7,
             "#b8e186"
            ],
            [
             0.8,
             "#7fbc41"
            ],
            [
             0.9,
             "#4d9221"
            ],
            [
             1,
             "#276419"
            ]
           ],
           "sequential": [
            [
             0,
             "#0d0887"
            ],
            [
             0.1111111111111111,
             "#46039f"
            ],
            [
             0.2222222222222222,
             "#7201a8"
            ],
            [
             0.3333333333333333,
             "#9c179e"
            ],
            [
             0.4444444444444444,
             "#bd3786"
            ],
            [
             0.5555555555555556,
             "#d8576b"
            ],
            [
             0.6666666666666666,
             "#ed7953"
            ],
            [
             0.7777777777777778,
             "#fb9f3a"
            ],
            [
             0.8888888888888888,
             "#fdca26"
            ],
            [
             1,
             "#f0f921"
            ]
           ],
           "sequentialminus": [
            [
             0,
             "#0d0887"
            ],
            [
             0.1111111111111111,
             "#46039f"
            ],
            [
             0.2222222222222222,
             "#7201a8"
            ],
            [
             0.3333333333333333,
             "#9c179e"
            ],
            [
             0.4444444444444444,
             "#bd3786"
            ],
            [
             0.5555555555555556,
             "#d8576b"
            ],
            [
             0.6666666666666666,
             "#ed7953"
            ],
            [
             0.7777777777777778,
             "#fb9f3a"
            ],
            [
             0.8888888888888888,
             "#fdca26"
            ],
            [
             1,
             "#f0f921"
            ]
           ]
          },
          "colorway": [
           "#636efa",
           "#EF553B",
           "#00cc96",
           "#ab63fa",
           "#FFA15A",
           "#19d3f3",
           "#FF6692",
           "#B6E880",
           "#FF97FF",
           "#FECB52"
          ],
          "font": {
           "color": "#2a3f5f"
          },
          "geo": {
           "bgcolor": "white",
           "lakecolor": "white",
           "landcolor": "#E5ECF6",
           "showlakes": true,
           "showland": true,
           "subunitcolor": "white"
          },
          "hoverlabel": {
           "align": "left"
          },
          "hovermode": "closest",
          "mapbox": {
           "style": "light"
          },
          "paper_bgcolor": "white",
          "plot_bgcolor": "#E5ECF6",
          "polar": {
           "angularaxis": {
            "gridcolor": "white",
            "linecolor": "white",
            "ticks": ""
           },
           "bgcolor": "#E5ECF6",
           "radialaxis": {
            "gridcolor": "white",
            "linecolor": "white",
            "ticks": ""
           }
          },
          "scene": {
           "xaxis": {
            "backgroundcolor": "#E5ECF6",
            "gridcolor": "white",
            "gridwidth": 2,
            "linecolor": "white",
            "showbackground": true,
            "ticks": "",
            "zerolinecolor": "white"
           },
           "yaxis": {
            "backgroundcolor": "#E5ECF6",
            "gridcolor": "white",
            "gridwidth": 2,
            "linecolor": "white",
            "showbackground": true,
            "ticks": "",
            "zerolinecolor": "white"
           },
           "zaxis": {
            "backgroundcolor": "#E5ECF6",
            "gridcolor": "white",
            "gridwidth": 2,
            "linecolor": "white",
            "showbackground": true,
            "ticks": "",
            "zerolinecolor": "white"
           }
          },
          "shapedefaults": {
           "line": {
            "color": "#2a3f5f"
           }
          },
          "ternary": {
           "aaxis": {
            "gridcolor": "white",
            "linecolor": "white",
            "ticks": ""
           },
           "baxis": {
            "gridcolor": "white",
            "linecolor": "white",
            "ticks": ""
           },
           "bgcolor": "#E5ECF6",
           "caxis": {
            "gridcolor": "white",
            "linecolor": "white",
            "ticks": ""
           }
          },
          "title": {
           "x": 0.05
          },
          "xaxis": {
           "automargin": true,
           "gridcolor": "white",
           "linecolor": "white",
           "ticks": "",
           "title": {
            "standoff": 15
           },
           "zerolinecolor": "white",
           "zerolinewidth": 2
          },
          "yaxis": {
           "automargin": true,
           "gridcolor": "white",
           "linecolor": "white",
           "ticks": "",
           "title": {
            "standoff": 15
           },
           "zerolinecolor": "white",
           "zerolinewidth": 2
          }
         }
        }
       }
      },
      "text/html": [
       "<div>                            <div id=\"1344604f-9f94-4f5c-a3cc-ac43e148620c\" class=\"plotly-graph-div\" style=\"height:525px; width:100%;\"></div>            <script type=\"text/javascript\">                require([\"plotly\"], function(Plotly) {                    window.PLOTLYENV=window.PLOTLYENV || {};                                    if (document.getElementById(\"1344604f-9f94-4f5c-a3cc-ac43e148620c\")) {                    Plotly.newPlot(                        \"1344604f-9f94-4f5c-a3cc-ac43e148620c\",                        [{\"lat\": [\"-15.831075851288\", \"-15.834902512606\", \"-15.834902512606\", \"-15.834902512606\", \"-15.834902512606\", \"-15.820545586541\", \"-15.820545586541\", \"-15.820545586541\", \"-15.820545586541\", \"-15.820545586541\", \"-15.841345122238\", \"-15.834902512606\", \"-15.841345122238\", \"-15.83263347211\", \"-15.83673500262\", \"-15.835687747487\", \"-15.841842667042\", \"-15.84067\", \"-15.843415626518\", \"-15.843415626518\", \"-15.84067\", \"-15.84067\", \"-15.83263347211\", \"-15.834902512606\", \"-15.83939895395\", \"-15.83939895395\", \"-15.843415626518\", \"-15.84067\", \"-15.843415626518\", \"-15.843415626518\", \"-15.84067\", \"-15.843415626518\", \"-15.841842667042\", \"-15.84067\", \"-15.84067\", \"-15.843415626518\", \"-15.837371178171\", \"-15.836918381182\", \"-15.83455\", \"-15.836918381182\", \"-15.841920228821\", \"-15.84067\", \"-15.84067\", \"-15.84067\", \"-15.84067\", \"-15.84067\", \"-15.84067\", \"-15.84067\", \"-15.84067\", \"-15.841842667042\"], \"lon\": [\"-48.015214627468\", \"-48.019895881256\", \"-48.019895881256\", \"-48.019895881256\", \"-48.019895881256\", \"-48.040808859434\", \"-48.040808859434\", \"-48.040808859434\", \"-48.040808859434\", \"-48.040808859434\", \"-48.019032846386\", \"-48.019895881256\", \"-48.019032846386\", \"-48.014091547176\", \"-48.032885025271\", \"-48.031560570408\", \"-48.021175574139\", \"-48.02206\", \"-48.024210171831\", \"-48.024210171831\", \"-48.02206\", \"-48.02206\", \"-48.014091547176\", \"-48.019895881256\", \"-48.014465370993\", \"-48.014465370993\", \"-48.024210171831\", \"-48.02206\", \"-48.024210171831\", \"-48.024210171831\", \"-48.02206\", \"-48.024210171831\", \"-48.021175574139\", \"-48.02206\", \"-48.02206\", \"-48.024210171831\", \"-48.038556163428\", \"-48.039159954942\", \"-48.03885\", \"-48.039159954942\", \"-48.029991698267\", \"-48.02206\", \"-48.02206\", \"-48.02206\", \"-48.02206\", \"-48.02206\", \"-48.02206\", \"-48.02206\", \"-48.02206\", \"-48.021175574139\"], \"radius\": 10, \"type\": \"densitymapbox\"}],                        {\"mapbox\": {\"center\": {\"lon\": 180}, \"style\": \"stamen-terrain\"}, \"margin\": {\"b\": 0, \"l\": 0, \"r\": 0, \"t\": 0}, \"template\": {\"data\": {\"bar\": [{\"error_x\": {\"color\": \"#2a3f5f\"}, \"error_y\": {\"color\": \"#2a3f5f\"}, \"marker\": {\"line\": {\"color\": \"#E5ECF6\", \"width\": 0.5}}, \"type\": \"bar\"}], \"barpolar\": [{\"marker\": {\"line\": {\"color\": \"#E5ECF6\", \"width\": 0.5}}, \"type\": \"barpolar\"}], \"carpet\": [{\"aaxis\": {\"endlinecolor\": \"#2a3f5f\", \"gridcolor\": \"white\", \"linecolor\": \"white\", \"minorgridcolor\": \"white\", \"startlinecolor\": \"#2a3f5f\"}, \"baxis\": {\"endlinecolor\": \"#2a3f5f\", \"gridcolor\": \"white\", \"linecolor\": \"white\", \"minorgridcolor\": \"white\", \"startlinecolor\": \"#2a3f5f\"}, \"type\": \"carpet\"}], \"choropleth\": [{\"colorbar\": {\"outlinewidth\": 0, \"ticks\": \"\"}, \"type\": \"choropleth\"}], \"contour\": [{\"colorbar\": {\"outlinewidth\": 0, \"ticks\": \"\"}, \"colorscale\": [[0.0, \"#0d0887\"], [0.1111111111111111, \"#46039f\"], [0.2222222222222222, \"#7201a8\"], [0.3333333333333333, \"#9c179e\"], [0.4444444444444444, \"#bd3786\"], [0.5555555555555556, \"#d8576b\"], [0.6666666666666666, \"#ed7953\"], [0.7777777777777778, \"#fb9f3a\"], [0.8888888888888888, \"#fdca26\"], [1.0, \"#f0f921\"]], \"type\": \"contour\"}], \"contourcarpet\": [{\"colorbar\": {\"outlinewidth\": 0, \"ticks\": \"\"}, \"type\": \"contourcarpet\"}], \"heatmap\": [{\"colorbar\": {\"outlinewidth\": 0, \"ticks\": \"\"}, \"colorscale\": [[0.0, \"#0d0887\"], [0.1111111111111111, \"#46039f\"], [0.2222222222222222, \"#7201a8\"], [0.3333333333333333, \"#9c179e\"], [0.4444444444444444, \"#bd3786\"], [0.5555555555555556, \"#d8576b\"], [0.6666666666666666, \"#ed7953\"], [0.7777777777777778, \"#fb9f3a\"], [0.8888888888888888, \"#fdca26\"], [1.0, \"#f0f921\"]], \"type\": \"heatmap\"}], \"heatmapgl\": [{\"colorbar\": {\"outlinewidth\": 0, \"ticks\": \"\"}, \"colorscale\": [[0.0, \"#0d0887\"], [0.1111111111111111, \"#46039f\"], [0.2222222222222222, \"#7201a8\"], [0.3333333333333333, \"#9c179e\"], [0.4444444444444444, \"#bd3786\"], [0.5555555555555556, \"#d8576b\"], [0.6666666666666666, \"#ed7953\"], [0.7777777777777778, \"#fb9f3a\"], [0.8888888888888888, \"#fdca26\"], [1.0, \"#f0f921\"]], \"type\": \"heatmapgl\"}], \"histogram\": [{\"marker\": {\"colorbar\": {\"outlinewidth\": 0, \"ticks\": \"\"}}, \"type\": \"histogram\"}], \"histogram2d\": [{\"colorbar\": {\"outlinewidth\": 0, \"ticks\": \"\"}, \"colorscale\": [[0.0, \"#0d0887\"], [0.1111111111111111, \"#46039f\"], [0.2222222222222222, \"#7201a8\"], [0.3333333333333333, \"#9c179e\"], [0.4444444444444444, \"#bd3786\"], [0.5555555555555556, \"#d8576b\"], [0.6666666666666666, \"#ed7953\"], [0.7777777777777778, \"#fb9f3a\"], [0.8888888888888888, \"#fdca26\"], [1.0, \"#f0f921\"]], \"type\": \"histogram2d\"}], \"histogram2dcontour\": [{\"colorbar\": {\"outlinewidth\": 0, \"ticks\": \"\"}, \"colorscale\": [[0.0, \"#0d0887\"], [0.1111111111111111, \"#46039f\"], [0.2222222222222222, \"#7201a8\"], [0.3333333333333333, \"#9c179e\"], [0.4444444444444444, \"#bd3786\"], [0.5555555555555556, \"#d8576b\"], [0.6666666666666666, \"#ed7953\"], [0.7777777777777778, \"#fb9f3a\"], [0.8888888888888888, \"#fdca26\"], [1.0, \"#f0f921\"]], \"type\": \"histogram2dcontour\"}], \"mesh3d\": [{\"colorbar\": {\"outlinewidth\": 0, \"ticks\": \"\"}, \"type\": \"mesh3d\"}], \"parcoords\": [{\"line\": {\"colorbar\": {\"outlinewidth\": 0, \"ticks\": \"\"}}, \"type\": \"parcoords\"}], \"pie\": [{\"automargin\": true, \"type\": \"pie\"}], \"scatter\": [{\"marker\": {\"colorbar\": {\"outlinewidth\": 0, \"ticks\": \"\"}}, \"type\": \"scatter\"}], \"scatter3d\": [{\"line\": {\"colorbar\": {\"outlinewidth\": 0, \"ticks\": \"\"}}, \"marker\": {\"colorbar\": {\"outlinewidth\": 0, \"ticks\": \"\"}}, \"type\": \"scatter3d\"}], \"scattercarpet\": [{\"marker\": {\"colorbar\": {\"outlinewidth\": 0, \"ticks\": \"\"}}, \"type\": \"scattercarpet\"}], \"scattergeo\": [{\"marker\": {\"colorbar\": {\"outlinewidth\": 0, \"ticks\": \"\"}}, \"type\": \"scattergeo\"}], \"scattergl\": [{\"marker\": {\"colorbar\": {\"outlinewidth\": 0, \"ticks\": \"\"}}, \"type\": \"scattergl\"}], \"scattermapbox\": [{\"marker\": {\"colorbar\": {\"outlinewidth\": 0, \"ticks\": \"\"}}, \"type\": \"scattermapbox\"}], \"scatterpolar\": [{\"marker\": {\"colorbar\": {\"outlinewidth\": 0, \"ticks\": \"\"}}, \"type\": \"scatterpolar\"}], \"scatterpolargl\": [{\"marker\": {\"colorbar\": {\"outlinewidth\": 0, \"ticks\": \"\"}}, \"type\": \"scatterpolargl\"}], \"scatterternary\": [{\"marker\": {\"colorbar\": {\"outlinewidth\": 0, \"ticks\": \"\"}}, \"type\": \"scatterternary\"}], \"surface\": [{\"colorbar\": {\"outlinewidth\": 0, \"ticks\": \"\"}, \"colorscale\": [[0.0, \"#0d0887\"], [0.1111111111111111, \"#46039f\"], [0.2222222222222222, \"#7201a8\"], [0.3333333333333333, \"#9c179e\"], [0.4444444444444444, \"#bd3786\"], [0.5555555555555556, \"#d8576b\"], [0.6666666666666666, \"#ed7953\"], [0.7777777777777778, \"#fb9f3a\"], [0.8888888888888888, \"#fdca26\"], [1.0, \"#f0f921\"]], \"type\": \"surface\"}], \"table\": [{\"cells\": {\"fill\": {\"color\": \"#EBF0F8\"}, \"line\": {\"color\": \"white\"}}, \"header\": {\"fill\": {\"color\": \"#C8D4E3\"}, \"line\": {\"color\": \"white\"}}, \"type\": \"table\"}]}, \"layout\": {\"annotationdefaults\": {\"arrowcolor\": \"#2a3f5f\", \"arrowhead\": 0, \"arrowwidth\": 1}, \"autotypenumbers\": \"strict\", \"coloraxis\": {\"colorbar\": {\"outlinewidth\": 0, \"ticks\": \"\"}}, \"colorscale\": {\"diverging\": [[0, \"#8e0152\"], [0.1, \"#c51b7d\"], [0.2, \"#de77ae\"], [0.3, \"#f1b6da\"], [0.4, \"#fde0ef\"], [0.5, \"#f7f7f7\"], [0.6, \"#e6f5d0\"], [0.7, \"#b8e186\"], [0.8, \"#7fbc41\"], [0.9, \"#4d9221\"], [1, \"#276419\"]], \"sequential\": [[0.0, \"#0d0887\"], [0.1111111111111111, \"#46039f\"], [0.2222222222222222, \"#7201a8\"], [0.3333333333333333, \"#9c179e\"], [0.4444444444444444, \"#bd3786\"], [0.5555555555555556, \"#d8576b\"], [0.6666666666666666, \"#ed7953\"], [0.7777777777777778, \"#fb9f3a\"], [0.8888888888888888, \"#fdca26\"], [1.0, \"#f0f921\"]], \"sequentialminus\": [[0.0, \"#0d0887\"], [0.1111111111111111, \"#46039f\"], [0.2222222222222222, \"#7201a8\"], [0.3333333333333333, \"#9c179e\"], [0.4444444444444444, \"#bd3786\"], [0.5555555555555556, \"#d8576b\"], [0.6666666666666666, \"#ed7953\"], [0.7777777777777778, \"#fb9f3a\"], [0.8888888888888888, \"#fdca26\"], [1.0, \"#f0f921\"]]}, \"colorway\": [\"#636efa\", \"#EF553B\", \"#00cc96\", \"#ab63fa\", \"#FFA15A\", \"#19d3f3\", \"#FF6692\", \"#B6E880\", \"#FF97FF\", \"#FECB52\"], \"font\": {\"color\": \"#2a3f5f\"}, \"geo\": {\"bgcolor\": \"white\", \"lakecolor\": \"white\", \"landcolor\": \"#E5ECF6\", \"showlakes\": true, \"showland\": true, \"subunitcolor\": \"white\"}, \"hoverlabel\": {\"align\": \"left\"}, \"hovermode\": \"closest\", \"mapbox\": {\"style\": \"light\"}, \"paper_bgcolor\": \"white\", \"plot_bgcolor\": \"#E5ECF6\", \"polar\": {\"angularaxis\": {\"gridcolor\": \"white\", \"linecolor\": \"white\", \"ticks\": \"\"}, \"bgcolor\": \"#E5ECF6\", \"radialaxis\": {\"gridcolor\": \"white\", \"linecolor\": \"white\", \"ticks\": \"\"}}, \"scene\": {\"xaxis\": {\"backgroundcolor\": \"#E5ECF6\", \"gridcolor\": \"white\", \"gridwidth\": 2, \"linecolor\": \"white\", \"showbackground\": true, \"ticks\": \"\", \"zerolinecolor\": \"white\"}, \"yaxis\": {\"backgroundcolor\": \"#E5ECF6\", \"gridcolor\": \"white\", \"gridwidth\": 2, \"linecolor\": \"white\", \"showbackground\": true, \"ticks\": \"\", \"zerolinecolor\": \"white\"}, \"zaxis\": {\"backgroundcolor\": \"#E5ECF6\", \"gridcolor\": \"white\", \"gridwidth\": 2, \"linecolor\": \"white\", \"showbackground\": true, \"ticks\": \"\", \"zerolinecolor\": \"white\"}}, \"shapedefaults\": {\"line\": {\"color\": \"#2a3f5f\"}}, \"ternary\": {\"aaxis\": {\"gridcolor\": \"white\", \"linecolor\": \"white\", \"ticks\": \"\"}, \"baxis\": {\"gridcolor\": \"white\", \"linecolor\": \"white\", \"ticks\": \"\"}, \"bgcolor\": \"#E5ECF6\", \"caxis\": {\"gridcolor\": \"white\", \"linecolor\": \"white\", \"ticks\": \"\"}}, \"title\": {\"x\": 0.05}, \"xaxis\": {\"automargin\": true, \"gridcolor\": \"white\", \"linecolor\": \"white\", \"ticks\": \"\", \"title\": {\"standoff\": 15}, \"zerolinecolor\": \"white\", \"zerolinewidth\": 2}, \"yaxis\": {\"automargin\": true, \"gridcolor\": \"white\", \"linecolor\": \"white\", \"ticks\": \"\", \"title\": {\"standoff\": 15}, \"zerolinecolor\": \"white\", \"zerolinewidth\": 2}}}},                        {\"responsive\": true}                    ).then(function(){\n",
       "                            \n",
       "var gd = document.getElementById('1344604f-9f94-4f5c-a3cc-ac43e148620c');\n",
       "var x = new MutationObserver(function (mutations, observer) {{\n",
       "        var display = window.getComputedStyle(gd).display;\n",
       "        if (!display || display === 'none') {{\n",
       "            console.log([gd, 'removed!']);\n",
       "            Plotly.purge(gd);\n",
       "            observer.disconnect();\n",
       "        }}\n",
       "}});\n",
       "\n",
       "// Listen for the removal of the full notebook cells\n",
       "var notebookContainer = gd.closest('#notebook-container');\n",
       "if (notebookContainer) {{\n",
       "    x.observe(notebookContainer, {childList: true});\n",
       "}}\n",
       "\n",
       "// Listen for the clearing of the current output cell\n",
       "var outputEl = gd.closest('.output');\n",
       "if (outputEl) {{\n",
       "    x.observe(outputEl, {childList: true});\n",
       "}}\n",
       "\n",
       "                        })                };                });            </script>        </div>"
      ]
     },
     "metadata": {},
     "output_type": "display_data"
    }
   ],
   "source": [
    "# Mapa 50 imoveis mais caros\n",
    "x = df.nlargest(50, 'preco')\n",
    "fig = go.Figure(go.Densitymapbox(lat=x.latitude, lon=x.longitude, radius=10))\n",
    "fig.update_layout(mapbox_style=\"stamen-terrain\", mapbox_center_lon=180)\n",
    "fig.update_layout(margin={\"r\":0,\"t\":0,\"l\":0,\"b\":0})\n",
    "fig.show()"
   ]
  },
  {
   "cell_type": "markdown",
   "metadata": {
    "id": "R7Vs67AjxZdF"
   },
   "source": [
    "### 50 imóveis mais baratos"
   ]
  },
  {
   "cell_type": "code",
   "execution_count": 13,
   "metadata": {
    "colab": {
     "base_uri": "https://localhost:8080/",
     "height": 542
    },
    "executionInfo": {
     "elapsed": 13,
     "status": "ok",
     "timestamp": 1686344969492,
     "user": {
      "displayName": "Caio Cesar Ribeiro Brito",
      "userId": "09669924537412269636"
     },
     "user_tz": 180
    },
    "id": "pVD-0aa7_hF5",
    "outputId": "7cf3e22e-8ce2-4286-f470-7c58fdc347a4",
    "scrolled": false
   },
   "outputs": [
    {
     "data": {
      "application/vnd.plotly.v1+json": {
       "config": {
        "plotlyServerURL": "https://plot.ly"
       },
       "data": [
        {
         "lat": [
          "-15.84067",
          "-15.84067",
          "-15.84067",
          "-15.84067",
          "-15.840054990649",
          "-15.84067",
          "-15.838685071444",
          "-15.83605",
          "-15.836200006696",
          "-15.84067",
          "-15.84067",
          "-15.84067",
          "-15.84067",
          "-15.869659998393",
          "-15.870262327677",
          "-15.875994998904",
          "-15.875423341634",
          "-15.829993262634",
          "-15.84067",
          "-15.829993262634",
          "-15.829993262634",
          "-15.8773062639",
          "-15.877041150707",
          "-15.86202",
          "-15.872983714265",
          "-15.835735462934",
          "-15.872420012426",
          "-15.862464993662",
          "-15.835735462934",
          "-15.877041150707",
          "-15.877041150707",
          "-15.877041150707",
          "-15.874180002545",
          "-15.831075851288",
          "-15.866004238102",
          "-15.877041150707",
          "-15.851060010423",
          "-15.851060010423",
          "-15.872983714265",
          "-15.84067",
          "-15.869146300872",
          "-15.84096000569",
          "-15.858691107681",
          "-15.869146300872",
          "-15.873224285554",
          "-15.873224285554",
          "-15.871551411401",
          "-15.869146300872",
          "-15.835735462934",
          "-15.845095068508"
         ],
         "lon": [
          "-48.02206",
          "-48.02206",
          "-48.02206",
          "-48.02206",
          "-48.022309997129",
          "-48.02206",
          "-48.028773031088",
          "-48.01953",
          "-48.033500005507",
          "-48.02206",
          "-48.02206",
          "-48.02206",
          "-48.02206",
          "-48.01697998681",
          "-48.029785185951",
          "-47.994064995085",
          "-48.001282149549",
          "-48.039328560105",
          "-48.02206",
          "-48.039328560105",
          "-48.039328560105",
          "-48.014678629343",
          "-48.013339977718",
          "-48.001",
          "-48.02842642971",
          "-48.02866838915",
          "-48.015059986159",
          "-48.024800009106",
          "-48.02866838915",
          "-48.013339977718",
          "-48.013339977718",
          "-48.013339977718",
          "-48.027109977802",
          "-48.015214627468",
          "-48.03272974753",
          "-48.013339977718",
          "-48.03281499447",
          "-48.03281499447",
          "-48.02842642971",
          "-48.02206",
          "-48.027001381243",
          "-48.024699971091",
          "-48.035923123337",
          "-48.027001381243",
          "-48.015402933859",
          "-48.015402933859",
          "-48.026338638516",
          "-48.027001381243",
          "-48.02866838915",
          "-48.030893091352"
         ],
         "radius": 10,
         "type": "densitymapbox"
        }
       ],
       "layout": {
        "mapbox": {
         "center": {
          "lon": 180
         },
         "style": "stamen-terrain"
        },
        "margin": {
         "b": 0,
         "l": 0,
         "r": 0,
         "t": 0
        },
        "template": {
         "data": {
          "bar": [
           {
            "error_x": {
             "color": "#2a3f5f"
            },
            "error_y": {
             "color": "#2a3f5f"
            },
            "marker": {
             "line": {
              "color": "#E5ECF6",
              "width": 0.5
             }
            },
            "type": "bar"
           }
          ],
          "barpolar": [
           {
            "marker": {
             "line": {
              "color": "#E5ECF6",
              "width": 0.5
             }
            },
            "type": "barpolar"
           }
          ],
          "carpet": [
           {
            "aaxis": {
             "endlinecolor": "#2a3f5f",
             "gridcolor": "white",
             "linecolor": "white",
             "minorgridcolor": "white",
             "startlinecolor": "#2a3f5f"
            },
            "baxis": {
             "endlinecolor": "#2a3f5f",
             "gridcolor": "white",
             "linecolor": "white",
             "minorgridcolor": "white",
             "startlinecolor": "#2a3f5f"
            },
            "type": "carpet"
           }
          ],
          "choropleth": [
           {
            "colorbar": {
             "outlinewidth": 0,
             "ticks": ""
            },
            "type": "choropleth"
           }
          ],
          "contour": [
           {
            "colorbar": {
             "outlinewidth": 0,
             "ticks": ""
            },
            "colorscale": [
             [
              0,
              "#0d0887"
             ],
             [
              0.1111111111111111,
              "#46039f"
             ],
             [
              0.2222222222222222,
              "#7201a8"
             ],
             [
              0.3333333333333333,
              "#9c179e"
             ],
             [
              0.4444444444444444,
              "#bd3786"
             ],
             [
              0.5555555555555556,
              "#d8576b"
             ],
             [
              0.6666666666666666,
              "#ed7953"
             ],
             [
              0.7777777777777778,
              "#fb9f3a"
             ],
             [
              0.8888888888888888,
              "#fdca26"
             ],
             [
              1,
              "#f0f921"
             ]
            ],
            "type": "contour"
           }
          ],
          "contourcarpet": [
           {
            "colorbar": {
             "outlinewidth": 0,
             "ticks": ""
            },
            "type": "contourcarpet"
           }
          ],
          "heatmap": [
           {
            "colorbar": {
             "outlinewidth": 0,
             "ticks": ""
            },
            "colorscale": [
             [
              0,
              "#0d0887"
             ],
             [
              0.1111111111111111,
              "#46039f"
             ],
             [
              0.2222222222222222,
              "#7201a8"
             ],
             [
              0.3333333333333333,
              "#9c179e"
             ],
             [
              0.4444444444444444,
              "#bd3786"
             ],
             [
              0.5555555555555556,
              "#d8576b"
             ],
             [
              0.6666666666666666,
              "#ed7953"
             ],
             [
              0.7777777777777778,
              "#fb9f3a"
             ],
             [
              0.8888888888888888,
              "#fdca26"
             ],
             [
              1,
              "#f0f921"
             ]
            ],
            "type": "heatmap"
           }
          ],
          "heatmapgl": [
           {
            "colorbar": {
             "outlinewidth": 0,
             "ticks": ""
            },
            "colorscale": [
             [
              0,
              "#0d0887"
             ],
             [
              0.1111111111111111,
              "#46039f"
             ],
             [
              0.2222222222222222,
              "#7201a8"
             ],
             [
              0.3333333333333333,
              "#9c179e"
             ],
             [
              0.4444444444444444,
              "#bd3786"
             ],
             [
              0.5555555555555556,
              "#d8576b"
             ],
             [
              0.6666666666666666,
              "#ed7953"
             ],
             [
              0.7777777777777778,
              "#fb9f3a"
             ],
             [
              0.8888888888888888,
              "#fdca26"
             ],
             [
              1,
              "#f0f921"
             ]
            ],
            "type": "heatmapgl"
           }
          ],
          "histogram": [
           {
            "marker": {
             "colorbar": {
              "outlinewidth": 0,
              "ticks": ""
             }
            },
            "type": "histogram"
           }
          ],
          "histogram2d": [
           {
            "colorbar": {
             "outlinewidth": 0,
             "ticks": ""
            },
            "colorscale": [
             [
              0,
              "#0d0887"
             ],
             [
              0.1111111111111111,
              "#46039f"
             ],
             [
              0.2222222222222222,
              "#7201a8"
             ],
             [
              0.3333333333333333,
              "#9c179e"
             ],
             [
              0.4444444444444444,
              "#bd3786"
             ],
             [
              0.5555555555555556,
              "#d8576b"
             ],
             [
              0.6666666666666666,
              "#ed7953"
             ],
             [
              0.7777777777777778,
              "#fb9f3a"
             ],
             [
              0.8888888888888888,
              "#fdca26"
             ],
             [
              1,
              "#f0f921"
             ]
            ],
            "type": "histogram2d"
           }
          ],
          "histogram2dcontour": [
           {
            "colorbar": {
             "outlinewidth": 0,
             "ticks": ""
            },
            "colorscale": [
             [
              0,
              "#0d0887"
             ],
             [
              0.1111111111111111,
              "#46039f"
             ],
             [
              0.2222222222222222,
              "#7201a8"
             ],
             [
              0.3333333333333333,
              "#9c179e"
             ],
             [
              0.4444444444444444,
              "#bd3786"
             ],
             [
              0.5555555555555556,
              "#d8576b"
             ],
             [
              0.6666666666666666,
              "#ed7953"
             ],
             [
              0.7777777777777778,
              "#fb9f3a"
             ],
             [
              0.8888888888888888,
              "#fdca26"
             ],
             [
              1,
              "#f0f921"
             ]
            ],
            "type": "histogram2dcontour"
           }
          ],
          "mesh3d": [
           {
            "colorbar": {
             "outlinewidth": 0,
             "ticks": ""
            },
            "type": "mesh3d"
           }
          ],
          "parcoords": [
           {
            "line": {
             "colorbar": {
              "outlinewidth": 0,
              "ticks": ""
             }
            },
            "type": "parcoords"
           }
          ],
          "pie": [
           {
            "automargin": true,
            "type": "pie"
           }
          ],
          "scatter": [
           {
            "marker": {
             "colorbar": {
              "outlinewidth": 0,
              "ticks": ""
             }
            },
            "type": "scatter"
           }
          ],
          "scatter3d": [
           {
            "line": {
             "colorbar": {
              "outlinewidth": 0,
              "ticks": ""
             }
            },
            "marker": {
             "colorbar": {
              "outlinewidth": 0,
              "ticks": ""
             }
            },
            "type": "scatter3d"
           }
          ],
          "scattercarpet": [
           {
            "marker": {
             "colorbar": {
              "outlinewidth": 0,
              "ticks": ""
             }
            },
            "type": "scattercarpet"
           }
          ],
          "scattergeo": [
           {
            "marker": {
             "colorbar": {
              "outlinewidth": 0,
              "ticks": ""
             }
            },
            "type": "scattergeo"
           }
          ],
          "scattergl": [
           {
            "marker": {
             "colorbar": {
              "outlinewidth": 0,
              "ticks": ""
             }
            },
            "type": "scattergl"
           }
          ],
          "scattermapbox": [
           {
            "marker": {
             "colorbar": {
              "outlinewidth": 0,
              "ticks": ""
             }
            },
            "type": "scattermapbox"
           }
          ],
          "scatterpolar": [
           {
            "marker": {
             "colorbar": {
              "outlinewidth": 0,
              "ticks": ""
             }
            },
            "type": "scatterpolar"
           }
          ],
          "scatterpolargl": [
           {
            "marker": {
             "colorbar": {
              "outlinewidth": 0,
              "ticks": ""
             }
            },
            "type": "scatterpolargl"
           }
          ],
          "scatterternary": [
           {
            "marker": {
             "colorbar": {
              "outlinewidth": 0,
              "ticks": ""
             }
            },
            "type": "scatterternary"
           }
          ],
          "surface": [
           {
            "colorbar": {
             "outlinewidth": 0,
             "ticks": ""
            },
            "colorscale": [
             [
              0,
              "#0d0887"
             ],
             [
              0.1111111111111111,
              "#46039f"
             ],
             [
              0.2222222222222222,
              "#7201a8"
             ],
             [
              0.3333333333333333,
              "#9c179e"
             ],
             [
              0.4444444444444444,
              "#bd3786"
             ],
             [
              0.5555555555555556,
              "#d8576b"
             ],
             [
              0.6666666666666666,
              "#ed7953"
             ],
             [
              0.7777777777777778,
              "#fb9f3a"
             ],
             [
              0.8888888888888888,
              "#fdca26"
             ],
             [
              1,
              "#f0f921"
             ]
            ],
            "type": "surface"
           }
          ],
          "table": [
           {
            "cells": {
             "fill": {
              "color": "#EBF0F8"
             },
             "line": {
              "color": "white"
             }
            },
            "header": {
             "fill": {
              "color": "#C8D4E3"
             },
             "line": {
              "color": "white"
             }
            },
            "type": "table"
           }
          ]
         },
         "layout": {
          "annotationdefaults": {
           "arrowcolor": "#2a3f5f",
           "arrowhead": 0,
           "arrowwidth": 1
          },
          "autotypenumbers": "strict",
          "coloraxis": {
           "colorbar": {
            "outlinewidth": 0,
            "ticks": ""
           }
          },
          "colorscale": {
           "diverging": [
            [
             0,
             "#8e0152"
            ],
            [
             0.1,
             "#c51b7d"
            ],
            [
             0.2,
             "#de77ae"
            ],
            [
             0.3,
             "#f1b6da"
            ],
            [
             0.4,
             "#fde0ef"
            ],
            [
             0.5,
             "#f7f7f7"
            ],
            [
             0.6,
             "#e6f5d0"
            ],
            [
             0.7,
             "#b8e186"
            ],
            [
             0.8,
             "#7fbc41"
            ],
            [
             0.9,
             "#4d9221"
            ],
            [
             1,
             "#276419"
            ]
           ],
           "sequential": [
            [
             0,
             "#0d0887"
            ],
            [
             0.1111111111111111,
             "#46039f"
            ],
            [
             0.2222222222222222,
             "#7201a8"
            ],
            [
             0.3333333333333333,
             "#9c179e"
            ],
            [
             0.4444444444444444,
             "#bd3786"
            ],
            [
             0.5555555555555556,
             "#d8576b"
            ],
            [
             0.6666666666666666,
             "#ed7953"
            ],
            [
             0.7777777777777778,
             "#fb9f3a"
            ],
            [
             0.8888888888888888,
             "#fdca26"
            ],
            [
             1,
             "#f0f921"
            ]
           ],
           "sequentialminus": [
            [
             0,
             "#0d0887"
            ],
            [
             0.1111111111111111,
             "#46039f"
            ],
            [
             0.2222222222222222,
             "#7201a8"
            ],
            [
             0.3333333333333333,
             "#9c179e"
            ],
            [
             0.4444444444444444,
             "#bd3786"
            ],
            [
             0.5555555555555556,
             "#d8576b"
            ],
            [
             0.6666666666666666,
             "#ed7953"
            ],
            [
             0.7777777777777778,
             "#fb9f3a"
            ],
            [
             0.8888888888888888,
             "#fdca26"
            ],
            [
             1,
             "#f0f921"
            ]
           ]
          },
          "colorway": [
           "#636efa",
           "#EF553B",
           "#00cc96",
           "#ab63fa",
           "#FFA15A",
           "#19d3f3",
           "#FF6692",
           "#B6E880",
           "#FF97FF",
           "#FECB52"
          ],
          "font": {
           "color": "#2a3f5f"
          },
          "geo": {
           "bgcolor": "white",
           "lakecolor": "white",
           "landcolor": "#E5ECF6",
           "showlakes": true,
           "showland": true,
           "subunitcolor": "white"
          },
          "hoverlabel": {
           "align": "left"
          },
          "hovermode": "closest",
          "mapbox": {
           "style": "light"
          },
          "paper_bgcolor": "white",
          "plot_bgcolor": "#E5ECF6",
          "polar": {
           "angularaxis": {
            "gridcolor": "white",
            "linecolor": "white",
            "ticks": ""
           },
           "bgcolor": "#E5ECF6",
           "radialaxis": {
            "gridcolor": "white",
            "linecolor": "white",
            "ticks": ""
           }
          },
          "scene": {
           "xaxis": {
            "backgroundcolor": "#E5ECF6",
            "gridcolor": "white",
            "gridwidth": 2,
            "linecolor": "white",
            "showbackground": true,
            "ticks": "",
            "zerolinecolor": "white"
           },
           "yaxis": {
            "backgroundcolor": "#E5ECF6",
            "gridcolor": "white",
            "gridwidth": 2,
            "linecolor": "white",
            "showbackground": true,
            "ticks": "",
            "zerolinecolor": "white"
           },
           "zaxis": {
            "backgroundcolor": "#E5ECF6",
            "gridcolor": "white",
            "gridwidth": 2,
            "linecolor": "white",
            "showbackground": true,
            "ticks": "",
            "zerolinecolor": "white"
           }
          },
          "shapedefaults": {
           "line": {
            "color": "#2a3f5f"
           }
          },
          "ternary": {
           "aaxis": {
            "gridcolor": "white",
            "linecolor": "white",
            "ticks": ""
           },
           "baxis": {
            "gridcolor": "white",
            "linecolor": "white",
            "ticks": ""
           },
           "bgcolor": "#E5ECF6",
           "caxis": {
            "gridcolor": "white",
            "linecolor": "white",
            "ticks": ""
           }
          },
          "title": {
           "x": 0.05
          },
          "xaxis": {
           "automargin": true,
           "gridcolor": "white",
           "linecolor": "white",
           "ticks": "",
           "title": {
            "standoff": 15
           },
           "zerolinecolor": "white",
           "zerolinewidth": 2
          },
          "yaxis": {
           "automargin": true,
           "gridcolor": "white",
           "linecolor": "white",
           "ticks": "",
           "title": {
            "standoff": 15
           },
           "zerolinecolor": "white",
           "zerolinewidth": 2
          }
         }
        }
       }
      },
      "text/html": [
       "<div>                            <div id=\"d384bf74-4cdb-47e8-8e37-3a85b63cb60b\" class=\"plotly-graph-div\" style=\"height:525px; width:100%;\"></div>            <script type=\"text/javascript\">                require([\"plotly\"], function(Plotly) {                    window.PLOTLYENV=window.PLOTLYENV || {};                                    if (document.getElementById(\"d384bf74-4cdb-47e8-8e37-3a85b63cb60b\")) {                    Plotly.newPlot(                        \"d384bf74-4cdb-47e8-8e37-3a85b63cb60b\",                        [{\"lat\": [\"-15.84067\", \"-15.84067\", \"-15.84067\", \"-15.84067\", \"-15.840054990649\", \"-15.84067\", \"-15.838685071444\", \"-15.83605\", \"-15.836200006696\", \"-15.84067\", \"-15.84067\", \"-15.84067\", \"-15.84067\", \"-15.869659998393\", \"-15.870262327677\", \"-15.875994998904\", \"-15.875423341634\", \"-15.829993262634\", \"-15.84067\", \"-15.829993262634\", \"-15.829993262634\", \"-15.8773062639\", \"-15.877041150707\", \"-15.86202\", \"-15.872983714265\", \"-15.835735462934\", \"-15.872420012426\", \"-15.862464993662\", \"-15.835735462934\", \"-15.877041150707\", \"-15.877041150707\", \"-15.877041150707\", \"-15.874180002545\", \"-15.831075851288\", \"-15.866004238102\", \"-15.877041150707\", \"-15.851060010423\", \"-15.851060010423\", \"-15.872983714265\", \"-15.84067\", \"-15.869146300872\", \"-15.84096000569\", \"-15.858691107681\", \"-15.869146300872\", \"-15.873224285554\", \"-15.873224285554\", \"-15.871551411401\", \"-15.869146300872\", \"-15.835735462934\", \"-15.845095068508\"], \"lon\": [\"-48.02206\", \"-48.02206\", \"-48.02206\", \"-48.02206\", \"-48.022309997129\", \"-48.02206\", \"-48.028773031088\", \"-48.01953\", \"-48.033500005507\", \"-48.02206\", \"-48.02206\", \"-48.02206\", \"-48.02206\", \"-48.01697998681\", \"-48.029785185951\", \"-47.994064995085\", \"-48.001282149549\", \"-48.039328560105\", \"-48.02206\", \"-48.039328560105\", \"-48.039328560105\", \"-48.014678629343\", \"-48.013339977718\", \"-48.001\", \"-48.02842642971\", \"-48.02866838915\", \"-48.015059986159\", \"-48.024800009106\", \"-48.02866838915\", \"-48.013339977718\", \"-48.013339977718\", \"-48.013339977718\", \"-48.027109977802\", \"-48.015214627468\", \"-48.03272974753\", \"-48.013339977718\", \"-48.03281499447\", \"-48.03281499447\", \"-48.02842642971\", \"-48.02206\", \"-48.027001381243\", \"-48.024699971091\", \"-48.035923123337\", \"-48.027001381243\", \"-48.015402933859\", \"-48.015402933859\", \"-48.026338638516\", \"-48.027001381243\", \"-48.02866838915\", \"-48.030893091352\"], \"radius\": 10, \"type\": \"densitymapbox\"}],                        {\"mapbox\": {\"center\": {\"lon\": 180}, \"style\": \"stamen-terrain\"}, \"margin\": {\"b\": 0, \"l\": 0, \"r\": 0, \"t\": 0}, \"template\": {\"data\": {\"bar\": [{\"error_x\": {\"color\": \"#2a3f5f\"}, \"error_y\": {\"color\": \"#2a3f5f\"}, \"marker\": {\"line\": {\"color\": \"#E5ECF6\", \"width\": 0.5}}, \"type\": \"bar\"}], \"barpolar\": [{\"marker\": {\"line\": {\"color\": \"#E5ECF6\", \"width\": 0.5}}, \"type\": \"barpolar\"}], \"carpet\": [{\"aaxis\": {\"endlinecolor\": \"#2a3f5f\", \"gridcolor\": \"white\", \"linecolor\": \"white\", \"minorgridcolor\": \"white\", \"startlinecolor\": \"#2a3f5f\"}, \"baxis\": {\"endlinecolor\": \"#2a3f5f\", \"gridcolor\": \"white\", \"linecolor\": \"white\", \"minorgridcolor\": \"white\", \"startlinecolor\": \"#2a3f5f\"}, \"type\": \"carpet\"}], \"choropleth\": [{\"colorbar\": {\"outlinewidth\": 0, \"ticks\": \"\"}, \"type\": \"choropleth\"}], \"contour\": [{\"colorbar\": {\"outlinewidth\": 0, \"ticks\": \"\"}, \"colorscale\": [[0.0, \"#0d0887\"], [0.1111111111111111, \"#46039f\"], [0.2222222222222222, \"#7201a8\"], [0.3333333333333333, \"#9c179e\"], [0.4444444444444444, \"#bd3786\"], [0.5555555555555556, \"#d8576b\"], [0.6666666666666666, \"#ed7953\"], [0.7777777777777778, \"#fb9f3a\"], [0.8888888888888888, \"#fdca26\"], [1.0, \"#f0f921\"]], \"type\": \"contour\"}], \"contourcarpet\": [{\"colorbar\": {\"outlinewidth\": 0, \"ticks\": \"\"}, \"type\": \"contourcarpet\"}], \"heatmap\": [{\"colorbar\": {\"outlinewidth\": 0, \"ticks\": \"\"}, \"colorscale\": [[0.0, \"#0d0887\"], [0.1111111111111111, \"#46039f\"], [0.2222222222222222, \"#7201a8\"], [0.3333333333333333, \"#9c179e\"], [0.4444444444444444, \"#bd3786\"], [0.5555555555555556, \"#d8576b\"], [0.6666666666666666, \"#ed7953\"], [0.7777777777777778, \"#fb9f3a\"], [0.8888888888888888, \"#fdca26\"], [1.0, \"#f0f921\"]], \"type\": \"heatmap\"}], \"heatmapgl\": [{\"colorbar\": {\"outlinewidth\": 0, \"ticks\": \"\"}, \"colorscale\": [[0.0, \"#0d0887\"], [0.1111111111111111, \"#46039f\"], [0.2222222222222222, \"#7201a8\"], [0.3333333333333333, \"#9c179e\"], [0.4444444444444444, \"#bd3786\"], [0.5555555555555556, \"#d8576b\"], [0.6666666666666666, \"#ed7953\"], [0.7777777777777778, \"#fb9f3a\"], [0.8888888888888888, \"#fdca26\"], [1.0, \"#f0f921\"]], \"type\": \"heatmapgl\"}], \"histogram\": [{\"marker\": {\"colorbar\": {\"outlinewidth\": 0, \"ticks\": \"\"}}, \"type\": \"histogram\"}], \"histogram2d\": [{\"colorbar\": {\"outlinewidth\": 0, \"ticks\": \"\"}, \"colorscale\": [[0.0, \"#0d0887\"], [0.1111111111111111, \"#46039f\"], [0.2222222222222222, \"#7201a8\"], [0.3333333333333333, \"#9c179e\"], [0.4444444444444444, \"#bd3786\"], [0.5555555555555556, \"#d8576b\"], [0.6666666666666666, \"#ed7953\"], [0.7777777777777778, \"#fb9f3a\"], [0.8888888888888888, \"#fdca26\"], [1.0, \"#f0f921\"]], \"type\": \"histogram2d\"}], \"histogram2dcontour\": [{\"colorbar\": {\"outlinewidth\": 0, \"ticks\": \"\"}, \"colorscale\": [[0.0, \"#0d0887\"], [0.1111111111111111, \"#46039f\"], [0.2222222222222222, \"#7201a8\"], [0.3333333333333333, \"#9c179e\"], [0.4444444444444444, \"#bd3786\"], [0.5555555555555556, \"#d8576b\"], [0.6666666666666666, \"#ed7953\"], [0.7777777777777778, \"#fb9f3a\"], [0.8888888888888888, \"#fdca26\"], [1.0, \"#f0f921\"]], \"type\": \"histogram2dcontour\"}], \"mesh3d\": [{\"colorbar\": {\"outlinewidth\": 0, \"ticks\": \"\"}, \"type\": \"mesh3d\"}], \"parcoords\": [{\"line\": {\"colorbar\": {\"outlinewidth\": 0, \"ticks\": \"\"}}, \"type\": \"parcoords\"}], \"pie\": [{\"automargin\": true, \"type\": \"pie\"}], \"scatter\": [{\"marker\": {\"colorbar\": {\"outlinewidth\": 0, \"ticks\": \"\"}}, \"type\": \"scatter\"}], \"scatter3d\": [{\"line\": {\"colorbar\": {\"outlinewidth\": 0, \"ticks\": \"\"}}, \"marker\": {\"colorbar\": {\"outlinewidth\": 0, \"ticks\": \"\"}}, \"type\": \"scatter3d\"}], \"scattercarpet\": [{\"marker\": {\"colorbar\": {\"outlinewidth\": 0, \"ticks\": \"\"}}, \"type\": \"scattercarpet\"}], \"scattergeo\": [{\"marker\": {\"colorbar\": {\"outlinewidth\": 0, \"ticks\": \"\"}}, \"type\": \"scattergeo\"}], \"scattergl\": [{\"marker\": {\"colorbar\": {\"outlinewidth\": 0, \"ticks\": \"\"}}, \"type\": \"scattergl\"}], \"scattermapbox\": [{\"marker\": {\"colorbar\": {\"outlinewidth\": 0, \"ticks\": \"\"}}, \"type\": \"scattermapbox\"}], \"scatterpolar\": [{\"marker\": {\"colorbar\": {\"outlinewidth\": 0, \"ticks\": \"\"}}, \"type\": \"scatterpolar\"}], \"scatterpolargl\": [{\"marker\": {\"colorbar\": {\"outlinewidth\": 0, \"ticks\": \"\"}}, \"type\": \"scatterpolargl\"}], \"scatterternary\": [{\"marker\": {\"colorbar\": {\"outlinewidth\": 0, \"ticks\": \"\"}}, \"type\": \"scatterternary\"}], \"surface\": [{\"colorbar\": {\"outlinewidth\": 0, \"ticks\": \"\"}, \"colorscale\": [[0.0, \"#0d0887\"], [0.1111111111111111, \"#46039f\"], [0.2222222222222222, \"#7201a8\"], [0.3333333333333333, \"#9c179e\"], [0.4444444444444444, \"#bd3786\"], [0.5555555555555556, \"#d8576b\"], [0.6666666666666666, \"#ed7953\"], [0.7777777777777778, \"#fb9f3a\"], [0.8888888888888888, \"#fdca26\"], [1.0, \"#f0f921\"]], \"type\": \"surface\"}], \"table\": [{\"cells\": {\"fill\": {\"color\": \"#EBF0F8\"}, \"line\": {\"color\": \"white\"}}, \"header\": {\"fill\": {\"color\": \"#C8D4E3\"}, \"line\": {\"color\": \"white\"}}, \"type\": \"table\"}]}, \"layout\": {\"annotationdefaults\": {\"arrowcolor\": \"#2a3f5f\", \"arrowhead\": 0, \"arrowwidth\": 1}, \"autotypenumbers\": \"strict\", \"coloraxis\": {\"colorbar\": {\"outlinewidth\": 0, \"ticks\": \"\"}}, \"colorscale\": {\"diverging\": [[0, \"#8e0152\"], [0.1, \"#c51b7d\"], [0.2, \"#de77ae\"], [0.3, \"#f1b6da\"], [0.4, \"#fde0ef\"], [0.5, \"#f7f7f7\"], [0.6, \"#e6f5d0\"], [0.7, \"#b8e186\"], [0.8, \"#7fbc41\"], [0.9, \"#4d9221\"], [1, \"#276419\"]], \"sequential\": [[0.0, \"#0d0887\"], [0.1111111111111111, \"#46039f\"], [0.2222222222222222, \"#7201a8\"], [0.3333333333333333, \"#9c179e\"], [0.4444444444444444, \"#bd3786\"], [0.5555555555555556, \"#d8576b\"], [0.6666666666666666, \"#ed7953\"], [0.7777777777777778, \"#fb9f3a\"], [0.8888888888888888, \"#fdca26\"], [1.0, \"#f0f921\"]], \"sequentialminus\": [[0.0, \"#0d0887\"], [0.1111111111111111, \"#46039f\"], [0.2222222222222222, \"#7201a8\"], [0.3333333333333333, \"#9c179e\"], [0.4444444444444444, \"#bd3786\"], [0.5555555555555556, \"#d8576b\"], [0.6666666666666666, \"#ed7953\"], [0.7777777777777778, \"#fb9f3a\"], [0.8888888888888888, \"#fdca26\"], [1.0, \"#f0f921\"]]}, \"colorway\": [\"#636efa\", \"#EF553B\", \"#00cc96\", \"#ab63fa\", \"#FFA15A\", \"#19d3f3\", \"#FF6692\", \"#B6E880\", \"#FF97FF\", \"#FECB52\"], \"font\": {\"color\": \"#2a3f5f\"}, \"geo\": {\"bgcolor\": \"white\", \"lakecolor\": \"white\", \"landcolor\": \"#E5ECF6\", \"showlakes\": true, \"showland\": true, \"subunitcolor\": \"white\"}, \"hoverlabel\": {\"align\": \"left\"}, \"hovermode\": \"closest\", \"mapbox\": {\"style\": \"light\"}, \"paper_bgcolor\": \"white\", \"plot_bgcolor\": \"#E5ECF6\", \"polar\": {\"angularaxis\": {\"gridcolor\": \"white\", \"linecolor\": \"white\", \"ticks\": \"\"}, \"bgcolor\": \"#E5ECF6\", \"radialaxis\": {\"gridcolor\": \"white\", \"linecolor\": \"white\", \"ticks\": \"\"}}, \"scene\": {\"xaxis\": {\"backgroundcolor\": \"#E5ECF6\", \"gridcolor\": \"white\", \"gridwidth\": 2, \"linecolor\": \"white\", \"showbackground\": true, \"ticks\": \"\", \"zerolinecolor\": \"white\"}, \"yaxis\": {\"backgroundcolor\": \"#E5ECF6\", \"gridcolor\": \"white\", \"gridwidth\": 2, \"linecolor\": \"white\", \"showbackground\": true, \"ticks\": \"\", \"zerolinecolor\": \"white\"}, \"zaxis\": {\"backgroundcolor\": \"#E5ECF6\", \"gridcolor\": \"white\", \"gridwidth\": 2, \"linecolor\": \"white\", \"showbackground\": true, \"ticks\": \"\", \"zerolinecolor\": \"white\"}}, \"shapedefaults\": {\"line\": {\"color\": \"#2a3f5f\"}}, \"ternary\": {\"aaxis\": {\"gridcolor\": \"white\", \"linecolor\": \"white\", \"ticks\": \"\"}, \"baxis\": {\"gridcolor\": \"white\", \"linecolor\": \"white\", \"ticks\": \"\"}, \"bgcolor\": \"#E5ECF6\", \"caxis\": {\"gridcolor\": \"white\", \"linecolor\": \"white\", \"ticks\": \"\"}}, \"title\": {\"x\": 0.05}, \"xaxis\": {\"automargin\": true, \"gridcolor\": \"white\", \"linecolor\": \"white\", \"ticks\": \"\", \"title\": {\"standoff\": 15}, \"zerolinecolor\": \"white\", \"zerolinewidth\": 2}, \"yaxis\": {\"automargin\": true, \"gridcolor\": \"white\", \"linecolor\": \"white\", \"ticks\": \"\", \"title\": {\"standoff\": 15}, \"zerolinecolor\": \"white\", \"zerolinewidth\": 2}}}},                        {\"responsive\": true}                    ).then(function(){\n",
       "                            \n",
       "var gd = document.getElementById('d384bf74-4cdb-47e8-8e37-3a85b63cb60b');\n",
       "var x = new MutationObserver(function (mutations, observer) {{\n",
       "        var display = window.getComputedStyle(gd).display;\n",
       "        if (!display || display === 'none') {{\n",
       "            console.log([gd, 'removed!']);\n",
       "            Plotly.purge(gd);\n",
       "            observer.disconnect();\n",
       "        }}\n",
       "}});\n",
       "\n",
       "// Listen for the removal of the full notebook cells\n",
       "var notebookContainer = gd.closest('#notebook-container');\n",
       "if (notebookContainer) {{\n",
       "    x.observe(notebookContainer, {childList: true});\n",
       "}}\n",
       "\n",
       "// Listen for the clearing of the current output cell\n",
       "var outputEl = gd.closest('.output');\n",
       "if (outputEl) {{\n",
       "    x.observe(outputEl, {childList: true});\n",
       "}}\n",
       "\n",
       "                        })                };                });            </script>        </div>"
      ]
     },
     "metadata": {},
     "output_type": "display_data"
    }
   ],
   "source": [
    "# Localizacao 50 mais baratos\n",
    "x = df.nsmallest(50, 'preco')\n",
    "fig = go.Figure(go.Densitymapbox(lat=x.latitude, lon=x.longitude, radius=10))\n",
    "fig.update_layout(mapbox_style=\"stamen-terrain\", mapbox_center_lon=180)\n",
    "fig.update_layout(margin={\"r\":0,\"t\":0,\"l\":0,\"b\":0})\n",
    "fig.show()"
   ]
  },
  {
   "cell_type": "code",
   "execution_count": 14,
   "metadata": {
    "colab": {
     "base_uri": "https://localhost:8080/",
     "height": 542
    },
    "executionInfo": {
     "elapsed": 326,
     "status": "ok",
     "timestamp": 1686340187014,
     "user": {
      "displayName": "Caio Cesar Ribeiro Brito",
      "userId": "09669924537412269636"
     },
     "user_tz": 180
    },
    "id": "qNsiwAWAsiho",
    "outputId": "c7242cf0-43a4-449c-de20-379e49b64e80"
   },
   "outputs": [
    {
     "data": {
      "application/vnd.plotly.v1+json": {
       "config": {
        "plotlyServerURL": "https://plot.ly"
       },
       "data": [
        {
         "lat": [
          "-15.84067",
          "-15.84067",
          "-15.84067",
          "-15.84067",
          "-15.840054990649",
          "-15.84067",
          "-15.838685071444",
          "-15.83605",
          "-15.836200006696",
          "-15.84067",
          "-15.84067",
          "-15.84067",
          "-15.84067",
          "-15.869659998393",
          "-15.870262327677",
          "-15.875994998904",
          "-15.875423341634",
          "-15.829993262634",
          "-15.84067",
          "-15.829993262634",
          "-15.829993262634",
          "-15.8773062639",
          "-15.877041150707",
          "-15.86202",
          "-15.872983714265",
          "-15.835735462934",
          "-15.872420012426",
          "-15.862464993662",
          "-15.835735462934",
          "-15.877041150707",
          "-15.877041150707",
          "-15.877041150707",
          "-15.874180002545",
          "-15.831075851288",
          "-15.866004238102",
          "-15.877041150707",
          "-15.851060010423",
          "-15.851060010423",
          "-15.872983714265",
          "-15.84067",
          "-15.869146300872",
          "-15.84096000569",
          "-15.858691107681",
          "-15.869146300872",
          "-15.873224285554",
          "-15.873224285554",
          "-15.871551411401",
          "-15.869146300872",
          "-15.835735462934",
          "-15.845095068508"
         ],
         "lon": [
          "-48.02206",
          "-48.02206",
          "-48.02206",
          "-48.02206",
          "-48.022309997129",
          "-48.02206",
          "-48.028773031088",
          "-48.01953",
          "-48.033500005507",
          "-48.02206",
          "-48.02206",
          "-48.02206",
          "-48.02206",
          "-48.01697998681",
          "-48.029785185951",
          "-47.994064995085",
          "-48.001282149549",
          "-48.039328560105",
          "-48.02206",
          "-48.039328560105",
          "-48.039328560105",
          "-48.014678629343",
          "-48.013339977718",
          "-48.001",
          "-48.02842642971",
          "-48.02866838915",
          "-48.015059986159",
          "-48.024800009106",
          "-48.02866838915",
          "-48.013339977718",
          "-48.013339977718",
          "-48.013339977718",
          "-48.027109977802",
          "-48.015214627468",
          "-48.03272974753",
          "-48.013339977718",
          "-48.03281499447",
          "-48.03281499447",
          "-48.02842642971",
          "-48.02206",
          "-48.027001381243",
          "-48.024699971091",
          "-48.035923123337",
          "-48.027001381243",
          "-48.015402933859",
          "-48.015402933859",
          "-48.026338638516",
          "-48.027001381243",
          "-48.02866838915",
          "-48.030893091352"
         ],
         "radius": 10,
         "type": "densitymapbox",
         "z": [
          0,
          0,
          0,
          0,
          1,
          1,
          1,
          477,
          1070,
          1145,
          1300,
          1429,
          2300,
          75000,
          75000,
          90000,
          90000,
          120000,
          125000,
          125000,
          125000,
          130000,
          135000,
          135000,
          135000,
          140000,
          140000,
          140000,
          140000,
          150000,
          150000,
          150000,
          159900,
          160000,
          160000,
          160000,
          160000,
          160000,
          160000,
          165000,
          170000,
          170000,
          170000,
          170000,
          170000,
          170000,
          175000,
          179000,
          180000,
          180000
         ]
        }
       ],
       "layout": {
        "mapbox": {
         "center": {
          "lon": 180
         },
         "style": "stamen-terrain"
        },
        "margin": {
         "b": 0,
         "l": 0,
         "r": 0,
         "t": 0
        },
        "template": {
         "data": {
          "bar": [
           {
            "error_x": {
             "color": "#2a3f5f"
            },
            "error_y": {
             "color": "#2a3f5f"
            },
            "marker": {
             "line": {
              "color": "#E5ECF6",
              "width": 0.5
             }
            },
            "type": "bar"
           }
          ],
          "barpolar": [
           {
            "marker": {
             "line": {
              "color": "#E5ECF6",
              "width": 0.5
             }
            },
            "type": "barpolar"
           }
          ],
          "carpet": [
           {
            "aaxis": {
             "endlinecolor": "#2a3f5f",
             "gridcolor": "white",
             "linecolor": "white",
             "minorgridcolor": "white",
             "startlinecolor": "#2a3f5f"
            },
            "baxis": {
             "endlinecolor": "#2a3f5f",
             "gridcolor": "white",
             "linecolor": "white",
             "minorgridcolor": "white",
             "startlinecolor": "#2a3f5f"
            },
            "type": "carpet"
           }
          ],
          "choropleth": [
           {
            "colorbar": {
             "outlinewidth": 0,
             "ticks": ""
            },
            "type": "choropleth"
           }
          ],
          "contour": [
           {
            "colorbar": {
             "outlinewidth": 0,
             "ticks": ""
            },
            "colorscale": [
             [
              0,
              "#0d0887"
             ],
             [
              0.1111111111111111,
              "#46039f"
             ],
             [
              0.2222222222222222,
              "#7201a8"
             ],
             [
              0.3333333333333333,
              "#9c179e"
             ],
             [
              0.4444444444444444,
              "#bd3786"
             ],
             [
              0.5555555555555556,
              "#d8576b"
             ],
             [
              0.6666666666666666,
              "#ed7953"
             ],
             [
              0.7777777777777778,
              "#fb9f3a"
             ],
             [
              0.8888888888888888,
              "#fdca26"
             ],
             [
              1,
              "#f0f921"
             ]
            ],
            "type": "contour"
           }
          ],
          "contourcarpet": [
           {
            "colorbar": {
             "outlinewidth": 0,
             "ticks": ""
            },
            "type": "contourcarpet"
           }
          ],
          "heatmap": [
           {
            "colorbar": {
             "outlinewidth": 0,
             "ticks": ""
            },
            "colorscale": [
             [
              0,
              "#0d0887"
             ],
             [
              0.1111111111111111,
              "#46039f"
             ],
             [
              0.2222222222222222,
              "#7201a8"
             ],
             [
              0.3333333333333333,
              "#9c179e"
             ],
             [
              0.4444444444444444,
              "#bd3786"
             ],
             [
              0.5555555555555556,
              "#d8576b"
             ],
             [
              0.6666666666666666,
              "#ed7953"
             ],
             [
              0.7777777777777778,
              "#fb9f3a"
             ],
             [
              0.8888888888888888,
              "#fdca26"
             ],
             [
              1,
              "#f0f921"
             ]
            ],
            "type": "heatmap"
           }
          ],
          "heatmapgl": [
           {
            "colorbar": {
             "outlinewidth": 0,
             "ticks": ""
            },
            "colorscale": [
             [
              0,
              "#0d0887"
             ],
             [
              0.1111111111111111,
              "#46039f"
             ],
             [
              0.2222222222222222,
              "#7201a8"
             ],
             [
              0.3333333333333333,
              "#9c179e"
             ],
             [
              0.4444444444444444,
              "#bd3786"
             ],
             [
              0.5555555555555556,
              "#d8576b"
             ],
             [
              0.6666666666666666,
              "#ed7953"
             ],
             [
              0.7777777777777778,
              "#fb9f3a"
             ],
             [
              0.8888888888888888,
              "#fdca26"
             ],
             [
              1,
              "#f0f921"
             ]
            ],
            "type": "heatmapgl"
           }
          ],
          "histogram": [
           {
            "marker": {
             "colorbar": {
              "outlinewidth": 0,
              "ticks": ""
             }
            },
            "type": "histogram"
           }
          ],
          "histogram2d": [
           {
            "colorbar": {
             "outlinewidth": 0,
             "ticks": ""
            },
            "colorscale": [
             [
              0,
              "#0d0887"
             ],
             [
              0.1111111111111111,
              "#46039f"
             ],
             [
              0.2222222222222222,
              "#7201a8"
             ],
             [
              0.3333333333333333,
              "#9c179e"
             ],
             [
              0.4444444444444444,
              "#bd3786"
             ],
             [
              0.5555555555555556,
              "#d8576b"
             ],
             [
              0.6666666666666666,
              "#ed7953"
             ],
             [
              0.7777777777777778,
              "#fb9f3a"
             ],
             [
              0.8888888888888888,
              "#fdca26"
             ],
             [
              1,
              "#f0f921"
             ]
            ],
            "type": "histogram2d"
           }
          ],
          "histogram2dcontour": [
           {
            "colorbar": {
             "outlinewidth": 0,
             "ticks": ""
            },
            "colorscale": [
             [
              0,
              "#0d0887"
             ],
             [
              0.1111111111111111,
              "#46039f"
             ],
             [
              0.2222222222222222,
              "#7201a8"
             ],
             [
              0.3333333333333333,
              "#9c179e"
             ],
             [
              0.4444444444444444,
              "#bd3786"
             ],
             [
              0.5555555555555556,
              "#d8576b"
             ],
             [
              0.6666666666666666,
              "#ed7953"
             ],
             [
              0.7777777777777778,
              "#fb9f3a"
             ],
             [
              0.8888888888888888,
              "#fdca26"
             ],
             [
              1,
              "#f0f921"
             ]
            ],
            "type": "histogram2dcontour"
           }
          ],
          "mesh3d": [
           {
            "colorbar": {
             "outlinewidth": 0,
             "ticks": ""
            },
            "type": "mesh3d"
           }
          ],
          "parcoords": [
           {
            "line": {
             "colorbar": {
              "outlinewidth": 0,
              "ticks": ""
             }
            },
            "type": "parcoords"
           }
          ],
          "pie": [
           {
            "automargin": true,
            "type": "pie"
           }
          ],
          "scatter": [
           {
            "marker": {
             "colorbar": {
              "outlinewidth": 0,
              "ticks": ""
             }
            },
            "type": "scatter"
           }
          ],
          "scatter3d": [
           {
            "line": {
             "colorbar": {
              "outlinewidth": 0,
              "ticks": ""
             }
            },
            "marker": {
             "colorbar": {
              "outlinewidth": 0,
              "ticks": ""
             }
            },
            "type": "scatter3d"
           }
          ],
          "scattercarpet": [
           {
            "marker": {
             "colorbar": {
              "outlinewidth": 0,
              "ticks": ""
             }
            },
            "type": "scattercarpet"
           }
          ],
          "scattergeo": [
           {
            "marker": {
             "colorbar": {
              "outlinewidth": 0,
              "ticks": ""
             }
            },
            "type": "scattergeo"
           }
          ],
          "scattergl": [
           {
            "marker": {
             "colorbar": {
              "outlinewidth": 0,
              "ticks": ""
             }
            },
            "type": "scattergl"
           }
          ],
          "scattermapbox": [
           {
            "marker": {
             "colorbar": {
              "outlinewidth": 0,
              "ticks": ""
             }
            },
            "type": "scattermapbox"
           }
          ],
          "scatterpolar": [
           {
            "marker": {
             "colorbar": {
              "outlinewidth": 0,
              "ticks": ""
             }
            },
            "type": "scatterpolar"
           }
          ],
          "scatterpolargl": [
           {
            "marker": {
             "colorbar": {
              "outlinewidth": 0,
              "ticks": ""
             }
            },
            "type": "scatterpolargl"
           }
          ],
          "scatterternary": [
           {
            "marker": {
             "colorbar": {
              "outlinewidth": 0,
              "ticks": ""
             }
            },
            "type": "scatterternary"
           }
          ],
          "surface": [
           {
            "colorbar": {
             "outlinewidth": 0,
             "ticks": ""
            },
            "colorscale": [
             [
              0,
              "#0d0887"
             ],
             [
              0.1111111111111111,
              "#46039f"
             ],
             [
              0.2222222222222222,
              "#7201a8"
             ],
             [
              0.3333333333333333,
              "#9c179e"
             ],
             [
              0.4444444444444444,
              "#bd3786"
             ],
             [
              0.5555555555555556,
              "#d8576b"
             ],
             [
              0.6666666666666666,
              "#ed7953"
             ],
             [
              0.7777777777777778,
              "#fb9f3a"
             ],
             [
              0.8888888888888888,
              "#fdca26"
             ],
             [
              1,
              "#f0f921"
             ]
            ],
            "type": "surface"
           }
          ],
          "table": [
           {
            "cells": {
             "fill": {
              "color": "#EBF0F8"
             },
             "line": {
              "color": "white"
             }
            },
            "header": {
             "fill": {
              "color": "#C8D4E3"
             },
             "line": {
              "color": "white"
             }
            },
            "type": "table"
           }
          ]
         },
         "layout": {
          "annotationdefaults": {
           "arrowcolor": "#2a3f5f",
           "arrowhead": 0,
           "arrowwidth": 1
          },
          "autotypenumbers": "strict",
          "coloraxis": {
           "colorbar": {
            "outlinewidth": 0,
            "ticks": ""
           }
          },
          "colorscale": {
           "diverging": [
            [
             0,
             "#8e0152"
            ],
            [
             0.1,
             "#c51b7d"
            ],
            [
             0.2,
             "#de77ae"
            ],
            [
             0.3,
             "#f1b6da"
            ],
            [
             0.4,
             "#fde0ef"
            ],
            [
             0.5,
             "#f7f7f7"
            ],
            [
             0.6,
             "#e6f5d0"
            ],
            [
             0.7,
             "#b8e186"
            ],
            [
             0.8,
             "#7fbc41"
            ],
            [
             0.9,
             "#4d9221"
            ],
            [
             1,
             "#276419"
            ]
           ],
           "sequential": [
            [
             0,
             "#0d0887"
            ],
            [
             0.1111111111111111,
             "#46039f"
            ],
            [
             0.2222222222222222,
             "#7201a8"
            ],
            [
             0.3333333333333333,
             "#9c179e"
            ],
            [
             0.4444444444444444,
             "#bd3786"
            ],
            [
             0.5555555555555556,
             "#d8576b"
            ],
            [
             0.6666666666666666,
             "#ed7953"
            ],
            [
             0.7777777777777778,
             "#fb9f3a"
            ],
            [
             0.8888888888888888,
             "#fdca26"
            ],
            [
             1,
             "#f0f921"
            ]
           ],
           "sequentialminus": [
            [
             0,
             "#0d0887"
            ],
            [
             0.1111111111111111,
             "#46039f"
            ],
            [
             0.2222222222222222,
             "#7201a8"
            ],
            [
             0.3333333333333333,
             "#9c179e"
            ],
            [
             0.4444444444444444,
             "#bd3786"
            ],
            [
             0.5555555555555556,
             "#d8576b"
            ],
            [
             0.6666666666666666,
             "#ed7953"
            ],
            [
             0.7777777777777778,
             "#fb9f3a"
            ],
            [
             0.8888888888888888,
             "#fdca26"
            ],
            [
             1,
             "#f0f921"
            ]
           ]
          },
          "colorway": [
           "#636efa",
           "#EF553B",
           "#00cc96",
           "#ab63fa",
           "#FFA15A",
           "#19d3f3",
           "#FF6692",
           "#B6E880",
           "#FF97FF",
           "#FECB52"
          ],
          "font": {
           "color": "#2a3f5f"
          },
          "geo": {
           "bgcolor": "white",
           "lakecolor": "white",
           "landcolor": "#E5ECF6",
           "showlakes": true,
           "showland": true,
           "subunitcolor": "white"
          },
          "hoverlabel": {
           "align": "left"
          },
          "hovermode": "closest",
          "mapbox": {
           "style": "light"
          },
          "paper_bgcolor": "white",
          "plot_bgcolor": "#E5ECF6",
          "polar": {
           "angularaxis": {
            "gridcolor": "white",
            "linecolor": "white",
            "ticks": ""
           },
           "bgcolor": "#E5ECF6",
           "radialaxis": {
            "gridcolor": "white",
            "linecolor": "white",
            "ticks": ""
           }
          },
          "scene": {
           "xaxis": {
            "backgroundcolor": "#E5ECF6",
            "gridcolor": "white",
            "gridwidth": 2,
            "linecolor": "white",
            "showbackground": true,
            "ticks": "",
            "zerolinecolor": "white"
           },
           "yaxis": {
            "backgroundcolor": "#E5ECF6",
            "gridcolor": "white",
            "gridwidth": 2,
            "linecolor": "white",
            "showbackground": true,
            "ticks": "",
            "zerolinecolor": "white"
           },
           "zaxis": {
            "backgroundcolor": "#E5ECF6",
            "gridcolor": "white",
            "gridwidth": 2,
            "linecolor": "white",
            "showbackground": true,
            "ticks": "",
            "zerolinecolor": "white"
           }
          },
          "shapedefaults": {
           "line": {
            "color": "#2a3f5f"
           }
          },
          "ternary": {
           "aaxis": {
            "gridcolor": "white",
            "linecolor": "white",
            "ticks": ""
           },
           "baxis": {
            "gridcolor": "white",
            "linecolor": "white",
            "ticks": ""
           },
           "bgcolor": "#E5ECF6",
           "caxis": {
            "gridcolor": "white",
            "linecolor": "white",
            "ticks": ""
           }
          },
          "title": {
           "x": 0.05
          },
          "xaxis": {
           "automargin": true,
           "gridcolor": "white",
           "linecolor": "white",
           "ticks": "",
           "title": {
            "standoff": 15
           },
           "zerolinecolor": "white",
           "zerolinewidth": 2
          },
          "yaxis": {
           "automargin": true,
           "gridcolor": "white",
           "linecolor": "white",
           "ticks": "",
           "title": {
            "standoff": 15
           },
           "zerolinecolor": "white",
           "zerolinewidth": 2
          }
         }
        }
       }
      },
      "text/html": [
       "<div>                            <div id=\"5069108c-b5bc-4e0c-ba6b-d3be857b105a\" class=\"plotly-graph-div\" style=\"height:525px; width:100%;\"></div>            <script type=\"text/javascript\">                require([\"plotly\"], function(Plotly) {                    window.PLOTLYENV=window.PLOTLYENV || {};                                    if (document.getElementById(\"5069108c-b5bc-4e0c-ba6b-d3be857b105a\")) {                    Plotly.newPlot(                        \"5069108c-b5bc-4e0c-ba6b-d3be857b105a\",                        [{\"lat\": [\"-15.84067\", \"-15.84067\", \"-15.84067\", \"-15.84067\", \"-15.840054990649\", \"-15.84067\", \"-15.838685071444\", \"-15.83605\", \"-15.836200006696\", \"-15.84067\", \"-15.84067\", \"-15.84067\", \"-15.84067\", \"-15.869659998393\", \"-15.870262327677\", \"-15.875994998904\", \"-15.875423341634\", \"-15.829993262634\", \"-15.84067\", \"-15.829993262634\", \"-15.829993262634\", \"-15.8773062639\", \"-15.877041150707\", \"-15.86202\", \"-15.872983714265\", \"-15.835735462934\", \"-15.872420012426\", \"-15.862464993662\", \"-15.835735462934\", \"-15.877041150707\", \"-15.877041150707\", \"-15.877041150707\", \"-15.874180002545\", \"-15.831075851288\", \"-15.866004238102\", \"-15.877041150707\", \"-15.851060010423\", \"-15.851060010423\", \"-15.872983714265\", \"-15.84067\", \"-15.869146300872\", \"-15.84096000569\", \"-15.858691107681\", \"-15.869146300872\", \"-15.873224285554\", \"-15.873224285554\", \"-15.871551411401\", \"-15.869146300872\", \"-15.835735462934\", \"-15.845095068508\"], \"lon\": [\"-48.02206\", \"-48.02206\", \"-48.02206\", \"-48.02206\", \"-48.022309997129\", \"-48.02206\", \"-48.028773031088\", \"-48.01953\", \"-48.033500005507\", \"-48.02206\", \"-48.02206\", \"-48.02206\", \"-48.02206\", \"-48.01697998681\", \"-48.029785185951\", \"-47.994064995085\", \"-48.001282149549\", \"-48.039328560105\", \"-48.02206\", \"-48.039328560105\", \"-48.039328560105\", \"-48.014678629343\", \"-48.013339977718\", \"-48.001\", \"-48.02842642971\", \"-48.02866838915\", \"-48.015059986159\", \"-48.024800009106\", \"-48.02866838915\", \"-48.013339977718\", \"-48.013339977718\", \"-48.013339977718\", \"-48.027109977802\", \"-48.015214627468\", \"-48.03272974753\", \"-48.013339977718\", \"-48.03281499447\", \"-48.03281499447\", \"-48.02842642971\", \"-48.02206\", \"-48.027001381243\", \"-48.024699971091\", \"-48.035923123337\", \"-48.027001381243\", \"-48.015402933859\", \"-48.015402933859\", \"-48.026338638516\", \"-48.027001381243\", \"-48.02866838915\", \"-48.030893091352\"], \"radius\": 10, \"type\": \"densitymapbox\", \"z\": [0.0, 0.0, 0.0, 0.0, 1.0, 1.0, 1.0, 477.0, 1070.0, 1145.0, 1300.0, 1429.0, 2300.0, 75000.0, 75000.0, 90000.0, 90000.0, 120000.0, 125000.0, 125000.0, 125000.0, 130000.0, 135000.0, 135000.0, 135000.0, 140000.0, 140000.0, 140000.0, 140000.0, 150000.0, 150000.0, 150000.0, 159900.0, 160000.0, 160000.0, 160000.0, 160000.0, 160000.0, 160000.0, 165000.0, 170000.0, 170000.0, 170000.0, 170000.0, 170000.0, 170000.0, 175000.0, 179000.0, 180000.0, 180000.0]}],                        {\"mapbox\": {\"center\": {\"lon\": 180}, \"style\": \"stamen-terrain\"}, \"margin\": {\"b\": 0, \"l\": 0, \"r\": 0, \"t\": 0}, \"template\": {\"data\": {\"bar\": [{\"error_x\": {\"color\": \"#2a3f5f\"}, \"error_y\": {\"color\": \"#2a3f5f\"}, \"marker\": {\"line\": {\"color\": \"#E5ECF6\", \"width\": 0.5}}, \"type\": \"bar\"}], \"barpolar\": [{\"marker\": {\"line\": {\"color\": \"#E5ECF6\", \"width\": 0.5}}, \"type\": \"barpolar\"}], \"carpet\": [{\"aaxis\": {\"endlinecolor\": \"#2a3f5f\", \"gridcolor\": \"white\", \"linecolor\": \"white\", \"minorgridcolor\": \"white\", \"startlinecolor\": \"#2a3f5f\"}, \"baxis\": {\"endlinecolor\": \"#2a3f5f\", \"gridcolor\": \"white\", \"linecolor\": \"white\", \"minorgridcolor\": \"white\", \"startlinecolor\": \"#2a3f5f\"}, \"type\": \"carpet\"}], \"choropleth\": [{\"colorbar\": {\"outlinewidth\": 0, \"ticks\": \"\"}, \"type\": \"choropleth\"}], \"contour\": [{\"colorbar\": {\"outlinewidth\": 0, \"ticks\": \"\"}, \"colorscale\": [[0.0, \"#0d0887\"], [0.1111111111111111, \"#46039f\"], [0.2222222222222222, \"#7201a8\"], [0.3333333333333333, \"#9c179e\"], [0.4444444444444444, \"#bd3786\"], [0.5555555555555556, \"#d8576b\"], [0.6666666666666666, \"#ed7953\"], [0.7777777777777778, \"#fb9f3a\"], [0.8888888888888888, \"#fdca26\"], [1.0, \"#f0f921\"]], \"type\": \"contour\"}], \"contourcarpet\": [{\"colorbar\": {\"outlinewidth\": 0, \"ticks\": \"\"}, \"type\": \"contourcarpet\"}], \"heatmap\": [{\"colorbar\": {\"outlinewidth\": 0, \"ticks\": \"\"}, \"colorscale\": [[0.0, \"#0d0887\"], [0.1111111111111111, \"#46039f\"], [0.2222222222222222, \"#7201a8\"], [0.3333333333333333, \"#9c179e\"], [0.4444444444444444, \"#bd3786\"], [0.5555555555555556, \"#d8576b\"], [0.6666666666666666, \"#ed7953\"], [0.7777777777777778, \"#fb9f3a\"], [0.8888888888888888, \"#fdca26\"], [1.0, \"#f0f921\"]], \"type\": \"heatmap\"}], \"heatmapgl\": [{\"colorbar\": {\"outlinewidth\": 0, \"ticks\": \"\"}, \"colorscale\": [[0.0, \"#0d0887\"], [0.1111111111111111, \"#46039f\"], [0.2222222222222222, \"#7201a8\"], [0.3333333333333333, \"#9c179e\"], [0.4444444444444444, \"#bd3786\"], [0.5555555555555556, \"#d8576b\"], [0.6666666666666666, \"#ed7953\"], [0.7777777777777778, \"#fb9f3a\"], [0.8888888888888888, \"#fdca26\"], [1.0, \"#f0f921\"]], \"type\": \"heatmapgl\"}], \"histogram\": [{\"marker\": {\"colorbar\": {\"outlinewidth\": 0, \"ticks\": \"\"}}, \"type\": \"histogram\"}], \"histogram2d\": [{\"colorbar\": {\"outlinewidth\": 0, \"ticks\": \"\"}, \"colorscale\": [[0.0, \"#0d0887\"], [0.1111111111111111, \"#46039f\"], [0.2222222222222222, \"#7201a8\"], [0.3333333333333333, \"#9c179e\"], [0.4444444444444444, \"#bd3786\"], [0.5555555555555556, \"#d8576b\"], [0.6666666666666666, \"#ed7953\"], [0.7777777777777778, \"#fb9f3a\"], [0.8888888888888888, \"#fdca26\"], [1.0, \"#f0f921\"]], \"type\": \"histogram2d\"}], \"histogram2dcontour\": [{\"colorbar\": {\"outlinewidth\": 0, \"ticks\": \"\"}, \"colorscale\": [[0.0, \"#0d0887\"], [0.1111111111111111, \"#46039f\"], [0.2222222222222222, \"#7201a8\"], [0.3333333333333333, \"#9c179e\"], [0.4444444444444444, \"#bd3786\"], [0.5555555555555556, \"#d8576b\"], [0.6666666666666666, \"#ed7953\"], [0.7777777777777778, \"#fb9f3a\"], [0.8888888888888888, \"#fdca26\"], [1.0, \"#f0f921\"]], \"type\": \"histogram2dcontour\"}], \"mesh3d\": [{\"colorbar\": {\"outlinewidth\": 0, \"ticks\": \"\"}, \"type\": \"mesh3d\"}], \"parcoords\": [{\"line\": {\"colorbar\": {\"outlinewidth\": 0, \"ticks\": \"\"}}, \"type\": \"parcoords\"}], \"pie\": [{\"automargin\": true, \"type\": \"pie\"}], \"scatter\": [{\"marker\": {\"colorbar\": {\"outlinewidth\": 0, \"ticks\": \"\"}}, \"type\": \"scatter\"}], \"scatter3d\": [{\"line\": {\"colorbar\": {\"outlinewidth\": 0, \"ticks\": \"\"}}, \"marker\": {\"colorbar\": {\"outlinewidth\": 0, \"ticks\": \"\"}}, \"type\": \"scatter3d\"}], \"scattercarpet\": [{\"marker\": {\"colorbar\": {\"outlinewidth\": 0, \"ticks\": \"\"}}, \"type\": \"scattercarpet\"}], \"scattergeo\": [{\"marker\": {\"colorbar\": {\"outlinewidth\": 0, \"ticks\": \"\"}}, \"type\": \"scattergeo\"}], \"scattergl\": [{\"marker\": {\"colorbar\": {\"outlinewidth\": 0, \"ticks\": \"\"}}, \"type\": \"scattergl\"}], \"scattermapbox\": [{\"marker\": {\"colorbar\": {\"outlinewidth\": 0, \"ticks\": \"\"}}, \"type\": \"scattermapbox\"}], \"scatterpolar\": [{\"marker\": {\"colorbar\": {\"outlinewidth\": 0, \"ticks\": \"\"}}, \"type\": \"scatterpolar\"}], \"scatterpolargl\": [{\"marker\": {\"colorbar\": {\"outlinewidth\": 0, \"ticks\": \"\"}}, \"type\": \"scatterpolargl\"}], \"scatterternary\": [{\"marker\": {\"colorbar\": {\"outlinewidth\": 0, \"ticks\": \"\"}}, \"type\": \"scatterternary\"}], \"surface\": [{\"colorbar\": {\"outlinewidth\": 0, \"ticks\": \"\"}, \"colorscale\": [[0.0, \"#0d0887\"], [0.1111111111111111, \"#46039f\"], [0.2222222222222222, \"#7201a8\"], [0.3333333333333333, \"#9c179e\"], [0.4444444444444444, \"#bd3786\"], [0.5555555555555556, \"#d8576b\"], [0.6666666666666666, \"#ed7953\"], [0.7777777777777778, \"#fb9f3a\"], [0.8888888888888888, \"#fdca26\"], [1.0, \"#f0f921\"]], \"type\": \"surface\"}], \"table\": [{\"cells\": {\"fill\": {\"color\": \"#EBF0F8\"}, \"line\": {\"color\": \"white\"}}, \"header\": {\"fill\": {\"color\": \"#C8D4E3\"}, \"line\": {\"color\": \"white\"}}, \"type\": \"table\"}]}, \"layout\": {\"annotationdefaults\": {\"arrowcolor\": \"#2a3f5f\", \"arrowhead\": 0, \"arrowwidth\": 1}, \"autotypenumbers\": \"strict\", \"coloraxis\": {\"colorbar\": {\"outlinewidth\": 0, \"ticks\": \"\"}}, \"colorscale\": {\"diverging\": [[0, \"#8e0152\"], [0.1, \"#c51b7d\"], [0.2, \"#de77ae\"], [0.3, \"#f1b6da\"], [0.4, \"#fde0ef\"], [0.5, \"#f7f7f7\"], [0.6, \"#e6f5d0\"], [0.7, \"#b8e186\"], [0.8, \"#7fbc41\"], [0.9, \"#4d9221\"], [1, \"#276419\"]], \"sequential\": [[0.0, \"#0d0887\"], [0.1111111111111111, \"#46039f\"], [0.2222222222222222, \"#7201a8\"], [0.3333333333333333, \"#9c179e\"], [0.4444444444444444, \"#bd3786\"], [0.5555555555555556, \"#d8576b\"], [0.6666666666666666, \"#ed7953\"], [0.7777777777777778, \"#fb9f3a\"], [0.8888888888888888, \"#fdca26\"], [1.0, \"#f0f921\"]], \"sequentialminus\": [[0.0, \"#0d0887\"], [0.1111111111111111, \"#46039f\"], [0.2222222222222222, \"#7201a8\"], [0.3333333333333333, \"#9c179e\"], [0.4444444444444444, \"#bd3786\"], [0.5555555555555556, \"#d8576b\"], [0.6666666666666666, \"#ed7953\"], [0.7777777777777778, \"#fb9f3a\"], [0.8888888888888888, \"#fdca26\"], [1.0, \"#f0f921\"]]}, \"colorway\": [\"#636efa\", \"#EF553B\", \"#00cc96\", \"#ab63fa\", \"#FFA15A\", \"#19d3f3\", \"#FF6692\", \"#B6E880\", \"#FF97FF\", \"#FECB52\"], \"font\": {\"color\": \"#2a3f5f\"}, \"geo\": {\"bgcolor\": \"white\", \"lakecolor\": \"white\", \"landcolor\": \"#E5ECF6\", \"showlakes\": true, \"showland\": true, \"subunitcolor\": \"white\"}, \"hoverlabel\": {\"align\": \"left\"}, \"hovermode\": \"closest\", \"mapbox\": {\"style\": \"light\"}, \"paper_bgcolor\": \"white\", \"plot_bgcolor\": \"#E5ECF6\", \"polar\": {\"angularaxis\": {\"gridcolor\": \"white\", \"linecolor\": \"white\", \"ticks\": \"\"}, \"bgcolor\": \"#E5ECF6\", \"radialaxis\": {\"gridcolor\": \"white\", \"linecolor\": \"white\", \"ticks\": \"\"}}, \"scene\": {\"xaxis\": {\"backgroundcolor\": \"#E5ECF6\", \"gridcolor\": \"white\", \"gridwidth\": 2, \"linecolor\": \"white\", \"showbackground\": true, \"ticks\": \"\", \"zerolinecolor\": \"white\"}, \"yaxis\": {\"backgroundcolor\": \"#E5ECF6\", \"gridcolor\": \"white\", \"gridwidth\": 2, \"linecolor\": \"white\", \"showbackground\": true, \"ticks\": \"\", \"zerolinecolor\": \"white\"}, \"zaxis\": {\"backgroundcolor\": \"#E5ECF6\", \"gridcolor\": \"white\", \"gridwidth\": 2, \"linecolor\": \"white\", \"showbackground\": true, \"ticks\": \"\", \"zerolinecolor\": \"white\"}}, \"shapedefaults\": {\"line\": {\"color\": \"#2a3f5f\"}}, \"ternary\": {\"aaxis\": {\"gridcolor\": \"white\", \"linecolor\": \"white\", \"ticks\": \"\"}, \"baxis\": {\"gridcolor\": \"white\", \"linecolor\": \"white\", \"ticks\": \"\"}, \"bgcolor\": \"#E5ECF6\", \"caxis\": {\"gridcolor\": \"white\", \"linecolor\": \"white\", \"ticks\": \"\"}}, \"title\": {\"x\": 0.05}, \"xaxis\": {\"automargin\": true, \"gridcolor\": \"white\", \"linecolor\": \"white\", \"ticks\": \"\", \"title\": {\"standoff\": 15}, \"zerolinecolor\": \"white\", \"zerolinewidth\": 2}, \"yaxis\": {\"automargin\": true, \"gridcolor\": \"white\", \"linecolor\": \"white\", \"ticks\": \"\", \"title\": {\"standoff\": 15}, \"zerolinecolor\": \"white\", \"zerolinewidth\": 2}}}},                        {\"responsive\": true}                    ).then(function(){\n",
       "                            \n",
       "var gd = document.getElementById('5069108c-b5bc-4e0c-ba6b-d3be857b105a');\n",
       "var x = new MutationObserver(function (mutations, observer) {{\n",
       "        var display = window.getComputedStyle(gd).display;\n",
       "        if (!display || display === 'none') {{\n",
       "            console.log([gd, 'removed!']);\n",
       "            Plotly.purge(gd);\n",
       "            observer.disconnect();\n",
       "        }}\n",
       "}});\n",
       "\n",
       "// Listen for the removal of the full notebook cells\n",
       "var notebookContainer = gd.closest('#notebook-container');\n",
       "if (notebookContainer) {{\n",
       "    x.observe(notebookContainer, {childList: true});\n",
       "}}\n",
       "\n",
       "// Listen for the clearing of the current output cell\n",
       "var outputEl = gd.closest('.output');\n",
       "if (outputEl) {{\n",
       "    x.observe(outputEl, {childList: true});\n",
       "}}\n",
       "\n",
       "                        })                };                });            </script>        </div>"
      ]
     },
     "metadata": {},
     "output_type": "display_data"
    }
   ],
   "source": [
    "# Valor 50 mais baratos\n",
    "x = df.nsmallest(50, 'preco')\n",
    "fig = go.Figure(go.Densitymapbox(lat=x.latitude, lon=x.longitude, radius=10, z=x.preco))\n",
    "fig.update_layout(mapbox_style=\"stamen-terrain\", mapbox_center_lon=180)\n",
    "fig.update_layout(margin={\"r\":0,\"t\":0,\"l\":0,\"b\":0})\n",
    "fig.show()"
   ]
  },
  {
   "cell_type": "code",
   "execution_count": 15,
   "metadata": {},
   "outputs": [
    {
     "data": {
      "application/vnd.plotly.v1+json": {
       "config": {
        "plotlyServerURL": "https://plot.ly"
       },
       "data": [
        {
         "lat": [
          "-15.831075851288",
          "-15.834902512606",
          "-15.834902512606",
          "-15.834902512606",
          "-15.834902512606",
          "-15.820545586541",
          "-15.820545586541",
          "-15.820545586541",
          "-15.820545586541",
          "-15.820545586541",
          "-15.841345122238",
          "-15.834902512606",
          "-15.841345122238",
          "-15.83263347211",
          "-15.83673500262",
          "-15.835687747487",
          "-15.841842667042",
          "-15.84067",
          "-15.843415626518",
          "-15.843415626518",
          "-15.84067",
          "-15.84067",
          "-15.83263347211",
          "-15.834902512606",
          "-15.83939895395",
          "-15.83939895395",
          "-15.843415626518",
          "-15.84067",
          "-15.843415626518",
          "-15.843415626518",
          "-15.84067",
          "-15.843415626518",
          "-15.841842667042",
          "-15.84067",
          "-15.84067",
          "-15.843415626518",
          "-15.837371178171",
          "-15.836918381182",
          "-15.83455",
          "-15.836918381182",
          "-15.841920228821",
          "-15.84067",
          "-15.84067",
          "-15.84067",
          "-15.84067",
          "-15.84067",
          "-15.84067",
          "-15.84067",
          "-15.84067",
          "-15.841842667042"
         ],
         "lon": [
          "-48.015214627468",
          "-48.019895881256",
          "-48.019895881256",
          "-48.019895881256",
          "-48.019895881256",
          "-48.040808859434",
          "-48.040808859434",
          "-48.040808859434",
          "-48.040808859434",
          "-48.040808859434",
          "-48.019032846386",
          "-48.019895881256",
          "-48.019032846386",
          "-48.014091547176",
          "-48.032885025271",
          "-48.031560570408",
          "-48.021175574139",
          "-48.02206",
          "-48.024210171831",
          "-48.024210171831",
          "-48.02206",
          "-48.02206",
          "-48.014091547176",
          "-48.019895881256",
          "-48.014465370993",
          "-48.014465370993",
          "-48.024210171831",
          "-48.02206",
          "-48.024210171831",
          "-48.024210171831",
          "-48.02206",
          "-48.024210171831",
          "-48.021175574139",
          "-48.02206",
          "-48.02206",
          "-48.024210171831",
          "-48.038556163428",
          "-48.039159954942",
          "-48.03885",
          "-48.039159954942",
          "-48.029991698267",
          "-48.02206",
          "-48.02206",
          "-48.02206",
          "-48.02206",
          "-48.02206",
          "-48.02206",
          "-48.02206",
          "-48.02206",
          "-48.021175574139"
         ],
         "radius": 10,
         "type": "densitymapbox",
         "z": [
          495000000,
          5496580,
          4745646,
          4325176,
          4116328,
          3850000,
          3790000,
          3700000,
          3600000,
          3500000,
          3499000,
          3394910,
          3390000,
          3300000,
          3200000,
          3200000,
          3150000,
          3100000,
          3000000,
          3000000,
          3000000,
          2990000,
          2920000,
          2897910,
          2890000,
          2890000,
          2800000,
          2800000,
          2800000,
          2800000,
          2800000,
          2700000,
          2599990,
          2599000,
          2590000,
          2590000,
          2552680,
          2550000,
          2550000,
          2550000,
          2510000,
          2500000,
          2500000,
          2500000,
          2500000,
          2500000,
          2490000,
          2450000,
          2449000,
          2449000
         ]
        }
       ],
       "layout": {
        "mapbox": {
         "center": {
          "lon": 180
         },
         "style": "stamen-terrain"
        },
        "margin": {
         "b": 0,
         "l": 0,
         "r": 0,
         "t": 0
        },
        "template": {
         "data": {
          "bar": [
           {
            "error_x": {
             "color": "#2a3f5f"
            },
            "error_y": {
             "color": "#2a3f5f"
            },
            "marker": {
             "line": {
              "color": "#E5ECF6",
              "width": 0.5
             }
            },
            "type": "bar"
           }
          ],
          "barpolar": [
           {
            "marker": {
             "line": {
              "color": "#E5ECF6",
              "width": 0.5
             }
            },
            "type": "barpolar"
           }
          ],
          "carpet": [
           {
            "aaxis": {
             "endlinecolor": "#2a3f5f",
             "gridcolor": "white",
             "linecolor": "white",
             "minorgridcolor": "white",
             "startlinecolor": "#2a3f5f"
            },
            "baxis": {
             "endlinecolor": "#2a3f5f",
             "gridcolor": "white",
             "linecolor": "white",
             "minorgridcolor": "white",
             "startlinecolor": "#2a3f5f"
            },
            "type": "carpet"
           }
          ],
          "choropleth": [
           {
            "colorbar": {
             "outlinewidth": 0,
             "ticks": ""
            },
            "type": "choropleth"
           }
          ],
          "contour": [
           {
            "colorbar": {
             "outlinewidth": 0,
             "ticks": ""
            },
            "colorscale": [
             [
              0,
              "#0d0887"
             ],
             [
              0.1111111111111111,
              "#46039f"
             ],
             [
              0.2222222222222222,
              "#7201a8"
             ],
             [
              0.3333333333333333,
              "#9c179e"
             ],
             [
              0.4444444444444444,
              "#bd3786"
             ],
             [
              0.5555555555555556,
              "#d8576b"
             ],
             [
              0.6666666666666666,
              "#ed7953"
             ],
             [
              0.7777777777777778,
              "#fb9f3a"
             ],
             [
              0.8888888888888888,
              "#fdca26"
             ],
             [
              1,
              "#f0f921"
             ]
            ],
            "type": "contour"
           }
          ],
          "contourcarpet": [
           {
            "colorbar": {
             "outlinewidth": 0,
             "ticks": ""
            },
            "type": "contourcarpet"
           }
          ],
          "heatmap": [
           {
            "colorbar": {
             "outlinewidth": 0,
             "ticks": ""
            },
            "colorscale": [
             [
              0,
              "#0d0887"
             ],
             [
              0.1111111111111111,
              "#46039f"
             ],
             [
              0.2222222222222222,
              "#7201a8"
             ],
             [
              0.3333333333333333,
              "#9c179e"
             ],
             [
              0.4444444444444444,
              "#bd3786"
             ],
             [
              0.5555555555555556,
              "#d8576b"
             ],
             [
              0.6666666666666666,
              "#ed7953"
             ],
             [
              0.7777777777777778,
              "#fb9f3a"
             ],
             [
              0.8888888888888888,
              "#fdca26"
             ],
             [
              1,
              "#f0f921"
             ]
            ],
            "type": "heatmap"
           }
          ],
          "heatmapgl": [
           {
            "colorbar": {
             "outlinewidth": 0,
             "ticks": ""
            },
            "colorscale": [
             [
              0,
              "#0d0887"
             ],
             [
              0.1111111111111111,
              "#46039f"
             ],
             [
              0.2222222222222222,
              "#7201a8"
             ],
             [
              0.3333333333333333,
              "#9c179e"
             ],
             [
              0.4444444444444444,
              "#bd3786"
             ],
             [
              0.5555555555555556,
              "#d8576b"
             ],
             [
              0.6666666666666666,
              "#ed7953"
             ],
             [
              0.7777777777777778,
              "#fb9f3a"
             ],
             [
              0.8888888888888888,
              "#fdca26"
             ],
             [
              1,
              "#f0f921"
             ]
            ],
            "type": "heatmapgl"
           }
          ],
          "histogram": [
           {
            "marker": {
             "colorbar": {
              "outlinewidth": 0,
              "ticks": ""
             }
            },
            "type": "histogram"
           }
          ],
          "histogram2d": [
           {
            "colorbar": {
             "outlinewidth": 0,
             "ticks": ""
            },
            "colorscale": [
             [
              0,
              "#0d0887"
             ],
             [
              0.1111111111111111,
              "#46039f"
             ],
             [
              0.2222222222222222,
              "#7201a8"
             ],
             [
              0.3333333333333333,
              "#9c179e"
             ],
             [
              0.4444444444444444,
              "#bd3786"
             ],
             [
              0.5555555555555556,
              "#d8576b"
             ],
             [
              0.6666666666666666,
              "#ed7953"
             ],
             [
              0.7777777777777778,
              "#fb9f3a"
             ],
             [
              0.8888888888888888,
              "#fdca26"
             ],
             [
              1,
              "#f0f921"
             ]
            ],
            "type": "histogram2d"
           }
          ],
          "histogram2dcontour": [
           {
            "colorbar": {
             "outlinewidth": 0,
             "ticks": ""
            },
            "colorscale": [
             [
              0,
              "#0d0887"
             ],
             [
              0.1111111111111111,
              "#46039f"
             ],
             [
              0.2222222222222222,
              "#7201a8"
             ],
             [
              0.3333333333333333,
              "#9c179e"
             ],
             [
              0.4444444444444444,
              "#bd3786"
             ],
             [
              0.5555555555555556,
              "#d8576b"
             ],
             [
              0.6666666666666666,
              "#ed7953"
             ],
             [
              0.7777777777777778,
              "#fb9f3a"
             ],
             [
              0.8888888888888888,
              "#fdca26"
             ],
             [
              1,
              "#f0f921"
             ]
            ],
            "type": "histogram2dcontour"
           }
          ],
          "mesh3d": [
           {
            "colorbar": {
             "outlinewidth": 0,
             "ticks": ""
            },
            "type": "mesh3d"
           }
          ],
          "parcoords": [
           {
            "line": {
             "colorbar": {
              "outlinewidth": 0,
              "ticks": ""
             }
            },
            "type": "parcoords"
           }
          ],
          "pie": [
           {
            "automargin": true,
            "type": "pie"
           }
          ],
          "scatter": [
           {
            "marker": {
             "colorbar": {
              "outlinewidth": 0,
              "ticks": ""
             }
            },
            "type": "scatter"
           }
          ],
          "scatter3d": [
           {
            "line": {
             "colorbar": {
              "outlinewidth": 0,
              "ticks": ""
             }
            },
            "marker": {
             "colorbar": {
              "outlinewidth": 0,
              "ticks": ""
             }
            },
            "type": "scatter3d"
           }
          ],
          "scattercarpet": [
           {
            "marker": {
             "colorbar": {
              "outlinewidth": 0,
              "ticks": ""
             }
            },
            "type": "scattercarpet"
           }
          ],
          "scattergeo": [
           {
            "marker": {
             "colorbar": {
              "outlinewidth": 0,
              "ticks": ""
             }
            },
            "type": "scattergeo"
           }
          ],
          "scattergl": [
           {
            "marker": {
             "colorbar": {
              "outlinewidth": 0,
              "ticks": ""
             }
            },
            "type": "scattergl"
           }
          ],
          "scattermapbox": [
           {
            "marker": {
             "colorbar": {
              "outlinewidth": 0,
              "ticks": ""
             }
            },
            "type": "scattermapbox"
           }
          ],
          "scatterpolar": [
           {
            "marker": {
             "colorbar": {
              "outlinewidth": 0,
              "ticks": ""
             }
            },
            "type": "scatterpolar"
           }
          ],
          "scatterpolargl": [
           {
            "marker": {
             "colorbar": {
              "outlinewidth": 0,
              "ticks": ""
             }
            },
            "type": "scatterpolargl"
           }
          ],
          "scatterternary": [
           {
            "marker": {
             "colorbar": {
              "outlinewidth": 0,
              "ticks": ""
             }
            },
            "type": "scatterternary"
           }
          ],
          "surface": [
           {
            "colorbar": {
             "outlinewidth": 0,
             "ticks": ""
            },
            "colorscale": [
             [
              0,
              "#0d0887"
             ],
             [
              0.1111111111111111,
              "#46039f"
             ],
             [
              0.2222222222222222,
              "#7201a8"
             ],
             [
              0.3333333333333333,
              "#9c179e"
             ],
             [
              0.4444444444444444,
              "#bd3786"
             ],
             [
              0.5555555555555556,
              "#d8576b"
             ],
             [
              0.6666666666666666,
              "#ed7953"
             ],
             [
              0.7777777777777778,
              "#fb9f3a"
             ],
             [
              0.8888888888888888,
              "#fdca26"
             ],
             [
              1,
              "#f0f921"
             ]
            ],
            "type": "surface"
           }
          ],
          "table": [
           {
            "cells": {
             "fill": {
              "color": "#EBF0F8"
             },
             "line": {
              "color": "white"
             }
            },
            "header": {
             "fill": {
              "color": "#C8D4E3"
             },
             "line": {
              "color": "white"
             }
            },
            "type": "table"
           }
          ]
         },
         "layout": {
          "annotationdefaults": {
           "arrowcolor": "#2a3f5f",
           "arrowhead": 0,
           "arrowwidth": 1
          },
          "autotypenumbers": "strict",
          "coloraxis": {
           "colorbar": {
            "outlinewidth": 0,
            "ticks": ""
           }
          },
          "colorscale": {
           "diverging": [
            [
             0,
             "#8e0152"
            ],
            [
             0.1,
             "#c51b7d"
            ],
            [
             0.2,
             "#de77ae"
            ],
            [
             0.3,
             "#f1b6da"
            ],
            [
             0.4,
             "#fde0ef"
            ],
            [
             0.5,
             "#f7f7f7"
            ],
            [
             0.6,
             "#e6f5d0"
            ],
            [
             0.7,
             "#b8e186"
            ],
            [
             0.8,
             "#7fbc41"
            ],
            [
             0.9,
             "#4d9221"
            ],
            [
             1,
             "#276419"
            ]
           ],
           "sequential": [
            [
             0,
             "#0d0887"
            ],
            [
             0.1111111111111111,
             "#46039f"
            ],
            [
             0.2222222222222222,
             "#7201a8"
            ],
            [
             0.3333333333333333,
             "#9c179e"
            ],
            [
             0.4444444444444444,
             "#bd3786"
            ],
            [
             0.5555555555555556,
             "#d8576b"
            ],
            [
             0.6666666666666666,
             "#ed7953"
            ],
            [
             0.7777777777777778,
             "#fb9f3a"
            ],
            [
             0.8888888888888888,
             "#fdca26"
            ],
            [
             1,
             "#f0f921"
            ]
           ],
           "sequentialminus": [
            [
             0,
             "#0d0887"
            ],
            [
             0.1111111111111111,
             "#46039f"
            ],
            [
             0.2222222222222222,
             "#7201a8"
            ],
            [
             0.3333333333333333,
             "#9c179e"
            ],
            [
             0.4444444444444444,
             "#bd3786"
            ],
            [
             0.5555555555555556,
             "#d8576b"
            ],
            [
             0.6666666666666666,
             "#ed7953"
            ],
            [
             0.7777777777777778,
             "#fb9f3a"
            ],
            [
             0.8888888888888888,
             "#fdca26"
            ],
            [
             1,
             "#f0f921"
            ]
           ]
          },
          "colorway": [
           "#636efa",
           "#EF553B",
           "#00cc96",
           "#ab63fa",
           "#FFA15A",
           "#19d3f3",
           "#FF6692",
           "#B6E880",
           "#FF97FF",
           "#FECB52"
          ],
          "font": {
           "color": "#2a3f5f"
          },
          "geo": {
           "bgcolor": "white",
           "lakecolor": "white",
           "landcolor": "#E5ECF6",
           "showlakes": true,
           "showland": true,
           "subunitcolor": "white"
          },
          "hoverlabel": {
           "align": "left"
          },
          "hovermode": "closest",
          "mapbox": {
           "style": "light"
          },
          "paper_bgcolor": "white",
          "plot_bgcolor": "#E5ECF6",
          "polar": {
           "angularaxis": {
            "gridcolor": "white",
            "linecolor": "white",
            "ticks": ""
           },
           "bgcolor": "#E5ECF6",
           "radialaxis": {
            "gridcolor": "white",
            "linecolor": "white",
            "ticks": ""
           }
          },
          "scene": {
           "xaxis": {
            "backgroundcolor": "#E5ECF6",
            "gridcolor": "white",
            "gridwidth": 2,
            "linecolor": "white",
            "showbackground": true,
            "ticks": "",
            "zerolinecolor": "white"
           },
           "yaxis": {
            "backgroundcolor": "#E5ECF6",
            "gridcolor": "white",
            "gridwidth": 2,
            "linecolor": "white",
            "showbackground": true,
            "ticks": "",
            "zerolinecolor": "white"
           },
           "zaxis": {
            "backgroundcolor": "#E5ECF6",
            "gridcolor": "white",
            "gridwidth": 2,
            "linecolor": "white",
            "showbackground": true,
            "ticks": "",
            "zerolinecolor": "white"
           }
          },
          "shapedefaults": {
           "line": {
            "color": "#2a3f5f"
           }
          },
          "ternary": {
           "aaxis": {
            "gridcolor": "white",
            "linecolor": "white",
            "ticks": ""
           },
           "baxis": {
            "gridcolor": "white",
            "linecolor": "white",
            "ticks": ""
           },
           "bgcolor": "#E5ECF6",
           "caxis": {
            "gridcolor": "white",
            "linecolor": "white",
            "ticks": ""
           }
          },
          "title": {
           "x": 0.05
          },
          "xaxis": {
           "automargin": true,
           "gridcolor": "white",
           "linecolor": "white",
           "ticks": "",
           "title": {
            "standoff": 15
           },
           "zerolinecolor": "white",
           "zerolinewidth": 2
          },
          "yaxis": {
           "automargin": true,
           "gridcolor": "white",
           "linecolor": "white",
           "ticks": "",
           "title": {
            "standoff": 15
           },
           "zerolinecolor": "white",
           "zerolinewidth": 2
          }
         }
        }
       }
      },
      "text/html": [
       "<div>                            <div id=\"b233f04d-48b5-48cf-bc1e-3d74537a61cb\" class=\"plotly-graph-div\" style=\"height:525px; width:100%;\"></div>            <script type=\"text/javascript\">                require([\"plotly\"], function(Plotly) {                    window.PLOTLYENV=window.PLOTLYENV || {};                                    if (document.getElementById(\"b233f04d-48b5-48cf-bc1e-3d74537a61cb\")) {                    Plotly.newPlot(                        \"b233f04d-48b5-48cf-bc1e-3d74537a61cb\",                        [{\"lat\": [\"-15.831075851288\", \"-15.834902512606\", \"-15.834902512606\", \"-15.834902512606\", \"-15.834902512606\", \"-15.820545586541\", \"-15.820545586541\", \"-15.820545586541\", \"-15.820545586541\", \"-15.820545586541\", \"-15.841345122238\", \"-15.834902512606\", \"-15.841345122238\", \"-15.83263347211\", \"-15.83673500262\", \"-15.835687747487\", \"-15.841842667042\", \"-15.84067\", \"-15.843415626518\", \"-15.843415626518\", \"-15.84067\", \"-15.84067\", \"-15.83263347211\", \"-15.834902512606\", \"-15.83939895395\", \"-15.83939895395\", \"-15.843415626518\", \"-15.84067\", \"-15.843415626518\", \"-15.843415626518\", \"-15.84067\", \"-15.843415626518\", \"-15.841842667042\", \"-15.84067\", \"-15.84067\", \"-15.843415626518\", \"-15.837371178171\", \"-15.836918381182\", \"-15.83455\", \"-15.836918381182\", \"-15.841920228821\", \"-15.84067\", \"-15.84067\", \"-15.84067\", \"-15.84067\", \"-15.84067\", \"-15.84067\", \"-15.84067\", \"-15.84067\", \"-15.841842667042\"], \"lon\": [\"-48.015214627468\", \"-48.019895881256\", \"-48.019895881256\", \"-48.019895881256\", \"-48.019895881256\", \"-48.040808859434\", \"-48.040808859434\", \"-48.040808859434\", \"-48.040808859434\", \"-48.040808859434\", \"-48.019032846386\", \"-48.019895881256\", \"-48.019032846386\", \"-48.014091547176\", \"-48.032885025271\", \"-48.031560570408\", \"-48.021175574139\", \"-48.02206\", \"-48.024210171831\", \"-48.024210171831\", \"-48.02206\", \"-48.02206\", \"-48.014091547176\", \"-48.019895881256\", \"-48.014465370993\", \"-48.014465370993\", \"-48.024210171831\", \"-48.02206\", \"-48.024210171831\", \"-48.024210171831\", \"-48.02206\", \"-48.024210171831\", \"-48.021175574139\", \"-48.02206\", \"-48.02206\", \"-48.024210171831\", \"-48.038556163428\", \"-48.039159954942\", \"-48.03885\", \"-48.039159954942\", \"-48.029991698267\", \"-48.02206\", \"-48.02206\", \"-48.02206\", \"-48.02206\", \"-48.02206\", \"-48.02206\", \"-48.02206\", \"-48.02206\", \"-48.021175574139\"], \"radius\": 10, \"type\": \"densitymapbox\", \"z\": [495000000.0, 5496580.0, 4745646.0, 4325176.0, 4116328.0, 3850000.0, 3790000.0, 3700000.0, 3600000.0, 3500000.0, 3499000.0, 3394910.0, 3390000.0, 3300000.0, 3200000.0, 3200000.0, 3150000.0, 3100000.0, 3000000.0, 3000000.0, 3000000.0, 2990000.0, 2920000.0, 2897910.0, 2890000.0, 2890000.0, 2800000.0, 2800000.0, 2800000.0, 2800000.0, 2800000.0, 2700000.0, 2599990.0, 2599000.0, 2590000.0, 2590000.0, 2552680.0, 2550000.0, 2550000.0, 2550000.0, 2510000.0, 2500000.0, 2500000.0, 2500000.0, 2500000.0, 2500000.0, 2490000.0, 2450000.0, 2449000.0, 2449000.0]}],                        {\"mapbox\": {\"center\": {\"lon\": 180}, \"style\": \"stamen-terrain\"}, \"margin\": {\"b\": 0, \"l\": 0, \"r\": 0, \"t\": 0}, \"template\": {\"data\": {\"bar\": [{\"error_x\": {\"color\": \"#2a3f5f\"}, \"error_y\": {\"color\": \"#2a3f5f\"}, \"marker\": {\"line\": {\"color\": \"#E5ECF6\", \"width\": 0.5}}, \"type\": \"bar\"}], \"barpolar\": [{\"marker\": {\"line\": {\"color\": \"#E5ECF6\", \"width\": 0.5}}, \"type\": \"barpolar\"}], \"carpet\": [{\"aaxis\": {\"endlinecolor\": \"#2a3f5f\", \"gridcolor\": \"white\", \"linecolor\": \"white\", \"minorgridcolor\": \"white\", \"startlinecolor\": \"#2a3f5f\"}, \"baxis\": {\"endlinecolor\": \"#2a3f5f\", \"gridcolor\": \"white\", \"linecolor\": \"white\", \"minorgridcolor\": \"white\", \"startlinecolor\": \"#2a3f5f\"}, \"type\": \"carpet\"}], \"choropleth\": [{\"colorbar\": {\"outlinewidth\": 0, \"ticks\": \"\"}, \"type\": \"choropleth\"}], \"contour\": [{\"colorbar\": {\"outlinewidth\": 0, \"ticks\": \"\"}, \"colorscale\": [[0.0, \"#0d0887\"], [0.1111111111111111, \"#46039f\"], [0.2222222222222222, \"#7201a8\"], [0.3333333333333333, \"#9c179e\"], [0.4444444444444444, \"#bd3786\"], [0.5555555555555556, \"#d8576b\"], [0.6666666666666666, \"#ed7953\"], [0.7777777777777778, \"#fb9f3a\"], [0.8888888888888888, \"#fdca26\"], [1.0, \"#f0f921\"]], \"type\": \"contour\"}], \"contourcarpet\": [{\"colorbar\": {\"outlinewidth\": 0, \"ticks\": \"\"}, \"type\": \"contourcarpet\"}], \"heatmap\": [{\"colorbar\": {\"outlinewidth\": 0, \"ticks\": \"\"}, \"colorscale\": [[0.0, \"#0d0887\"], [0.1111111111111111, \"#46039f\"], [0.2222222222222222, \"#7201a8\"], [0.3333333333333333, \"#9c179e\"], [0.4444444444444444, \"#bd3786\"], [0.5555555555555556, \"#d8576b\"], [0.6666666666666666, \"#ed7953\"], [0.7777777777777778, \"#fb9f3a\"], [0.8888888888888888, \"#fdca26\"], [1.0, \"#f0f921\"]], \"type\": \"heatmap\"}], \"heatmapgl\": [{\"colorbar\": {\"outlinewidth\": 0, \"ticks\": \"\"}, \"colorscale\": [[0.0, \"#0d0887\"], [0.1111111111111111, \"#46039f\"], [0.2222222222222222, \"#7201a8\"], [0.3333333333333333, \"#9c179e\"], [0.4444444444444444, \"#bd3786\"], [0.5555555555555556, \"#d8576b\"], [0.6666666666666666, \"#ed7953\"], [0.7777777777777778, \"#fb9f3a\"], [0.8888888888888888, \"#fdca26\"], [1.0, \"#f0f921\"]], \"type\": \"heatmapgl\"}], \"histogram\": [{\"marker\": {\"colorbar\": {\"outlinewidth\": 0, \"ticks\": \"\"}}, \"type\": \"histogram\"}], \"histogram2d\": [{\"colorbar\": {\"outlinewidth\": 0, \"ticks\": \"\"}, \"colorscale\": [[0.0, \"#0d0887\"], [0.1111111111111111, \"#46039f\"], [0.2222222222222222, \"#7201a8\"], [0.3333333333333333, \"#9c179e\"], [0.4444444444444444, \"#bd3786\"], [0.5555555555555556, \"#d8576b\"], [0.6666666666666666, \"#ed7953\"], [0.7777777777777778, \"#fb9f3a\"], [0.8888888888888888, \"#fdca26\"], [1.0, \"#f0f921\"]], \"type\": \"histogram2d\"}], \"histogram2dcontour\": [{\"colorbar\": {\"outlinewidth\": 0, \"ticks\": \"\"}, \"colorscale\": [[0.0, \"#0d0887\"], [0.1111111111111111, \"#46039f\"], [0.2222222222222222, \"#7201a8\"], [0.3333333333333333, \"#9c179e\"], [0.4444444444444444, \"#bd3786\"], [0.5555555555555556, \"#d8576b\"], [0.6666666666666666, \"#ed7953\"], [0.7777777777777778, \"#fb9f3a\"], [0.8888888888888888, \"#fdca26\"], [1.0, \"#f0f921\"]], \"type\": \"histogram2dcontour\"}], \"mesh3d\": [{\"colorbar\": {\"outlinewidth\": 0, \"ticks\": \"\"}, \"type\": \"mesh3d\"}], \"parcoords\": [{\"line\": {\"colorbar\": {\"outlinewidth\": 0, \"ticks\": \"\"}}, \"type\": \"parcoords\"}], \"pie\": [{\"automargin\": true, \"type\": \"pie\"}], \"scatter\": [{\"marker\": {\"colorbar\": {\"outlinewidth\": 0, \"ticks\": \"\"}}, \"type\": \"scatter\"}], \"scatter3d\": [{\"line\": {\"colorbar\": {\"outlinewidth\": 0, \"ticks\": \"\"}}, \"marker\": {\"colorbar\": {\"outlinewidth\": 0, \"ticks\": \"\"}}, \"type\": \"scatter3d\"}], \"scattercarpet\": [{\"marker\": {\"colorbar\": {\"outlinewidth\": 0, \"ticks\": \"\"}}, \"type\": \"scattercarpet\"}], \"scattergeo\": [{\"marker\": {\"colorbar\": {\"outlinewidth\": 0, \"ticks\": \"\"}}, \"type\": \"scattergeo\"}], \"scattergl\": [{\"marker\": {\"colorbar\": {\"outlinewidth\": 0, \"ticks\": \"\"}}, \"type\": \"scattergl\"}], \"scattermapbox\": [{\"marker\": {\"colorbar\": {\"outlinewidth\": 0, \"ticks\": \"\"}}, \"type\": \"scattermapbox\"}], \"scatterpolar\": [{\"marker\": {\"colorbar\": {\"outlinewidth\": 0, \"ticks\": \"\"}}, \"type\": \"scatterpolar\"}], \"scatterpolargl\": [{\"marker\": {\"colorbar\": {\"outlinewidth\": 0, \"ticks\": \"\"}}, \"type\": \"scatterpolargl\"}], \"scatterternary\": [{\"marker\": {\"colorbar\": {\"outlinewidth\": 0, \"ticks\": \"\"}}, \"type\": \"scatterternary\"}], \"surface\": [{\"colorbar\": {\"outlinewidth\": 0, \"ticks\": \"\"}, \"colorscale\": [[0.0, \"#0d0887\"], [0.1111111111111111, \"#46039f\"], [0.2222222222222222, \"#7201a8\"], [0.3333333333333333, \"#9c179e\"], [0.4444444444444444, \"#bd3786\"], [0.5555555555555556, \"#d8576b\"], [0.6666666666666666, \"#ed7953\"], [0.7777777777777778, \"#fb9f3a\"], [0.8888888888888888, \"#fdca26\"], [1.0, \"#f0f921\"]], \"type\": \"surface\"}], \"table\": [{\"cells\": {\"fill\": {\"color\": \"#EBF0F8\"}, \"line\": {\"color\": \"white\"}}, \"header\": {\"fill\": {\"color\": \"#C8D4E3\"}, \"line\": {\"color\": \"white\"}}, \"type\": \"table\"}]}, \"layout\": {\"annotationdefaults\": {\"arrowcolor\": \"#2a3f5f\", \"arrowhead\": 0, \"arrowwidth\": 1}, \"autotypenumbers\": \"strict\", \"coloraxis\": {\"colorbar\": {\"outlinewidth\": 0, \"ticks\": \"\"}}, \"colorscale\": {\"diverging\": [[0, \"#8e0152\"], [0.1, \"#c51b7d\"], [0.2, \"#de77ae\"], [0.3, \"#f1b6da\"], [0.4, \"#fde0ef\"], [0.5, \"#f7f7f7\"], [0.6, \"#e6f5d0\"], [0.7, \"#b8e186\"], [0.8, \"#7fbc41\"], [0.9, \"#4d9221\"], [1, \"#276419\"]], \"sequential\": [[0.0, \"#0d0887\"], [0.1111111111111111, \"#46039f\"], [0.2222222222222222, \"#7201a8\"], [0.3333333333333333, \"#9c179e\"], [0.4444444444444444, \"#bd3786\"], [0.5555555555555556, \"#d8576b\"], [0.6666666666666666, \"#ed7953\"], [0.7777777777777778, \"#fb9f3a\"], [0.8888888888888888, \"#fdca26\"], [1.0, \"#f0f921\"]], \"sequentialminus\": [[0.0, \"#0d0887\"], [0.1111111111111111, \"#46039f\"], [0.2222222222222222, \"#7201a8\"], [0.3333333333333333, \"#9c179e\"], [0.4444444444444444, \"#bd3786\"], [0.5555555555555556, \"#d8576b\"], [0.6666666666666666, \"#ed7953\"], [0.7777777777777778, \"#fb9f3a\"], [0.8888888888888888, \"#fdca26\"], [1.0, \"#f0f921\"]]}, \"colorway\": [\"#636efa\", \"#EF553B\", \"#00cc96\", \"#ab63fa\", \"#FFA15A\", \"#19d3f3\", \"#FF6692\", \"#B6E880\", \"#FF97FF\", \"#FECB52\"], \"font\": {\"color\": \"#2a3f5f\"}, \"geo\": {\"bgcolor\": \"white\", \"lakecolor\": \"white\", \"landcolor\": \"#E5ECF6\", \"showlakes\": true, \"showland\": true, \"subunitcolor\": \"white\"}, \"hoverlabel\": {\"align\": \"left\"}, \"hovermode\": \"closest\", \"mapbox\": {\"style\": \"light\"}, \"paper_bgcolor\": \"white\", \"plot_bgcolor\": \"#E5ECF6\", \"polar\": {\"angularaxis\": {\"gridcolor\": \"white\", \"linecolor\": \"white\", \"ticks\": \"\"}, \"bgcolor\": \"#E5ECF6\", \"radialaxis\": {\"gridcolor\": \"white\", \"linecolor\": \"white\", \"ticks\": \"\"}}, \"scene\": {\"xaxis\": {\"backgroundcolor\": \"#E5ECF6\", \"gridcolor\": \"white\", \"gridwidth\": 2, \"linecolor\": \"white\", \"showbackground\": true, \"ticks\": \"\", \"zerolinecolor\": \"white\"}, \"yaxis\": {\"backgroundcolor\": \"#E5ECF6\", \"gridcolor\": \"white\", \"gridwidth\": 2, \"linecolor\": \"white\", \"showbackground\": true, \"ticks\": \"\", \"zerolinecolor\": \"white\"}, \"zaxis\": {\"backgroundcolor\": \"#E5ECF6\", \"gridcolor\": \"white\", \"gridwidth\": 2, \"linecolor\": \"white\", \"showbackground\": true, \"ticks\": \"\", \"zerolinecolor\": \"white\"}}, \"shapedefaults\": {\"line\": {\"color\": \"#2a3f5f\"}}, \"ternary\": {\"aaxis\": {\"gridcolor\": \"white\", \"linecolor\": \"white\", \"ticks\": \"\"}, \"baxis\": {\"gridcolor\": \"white\", \"linecolor\": \"white\", \"ticks\": \"\"}, \"bgcolor\": \"#E5ECF6\", \"caxis\": {\"gridcolor\": \"white\", \"linecolor\": \"white\", \"ticks\": \"\"}}, \"title\": {\"x\": 0.05}, \"xaxis\": {\"automargin\": true, \"gridcolor\": \"white\", \"linecolor\": \"white\", \"ticks\": \"\", \"title\": {\"standoff\": 15}, \"zerolinecolor\": \"white\", \"zerolinewidth\": 2}, \"yaxis\": {\"automargin\": true, \"gridcolor\": \"white\", \"linecolor\": \"white\", \"ticks\": \"\", \"title\": {\"standoff\": 15}, \"zerolinecolor\": \"white\", \"zerolinewidth\": 2}}}},                        {\"responsive\": true}                    ).then(function(){\n",
       "                            \n",
       "var gd = document.getElementById('b233f04d-48b5-48cf-bc1e-3d74537a61cb');\n",
       "var x = new MutationObserver(function (mutations, observer) {{\n",
       "        var display = window.getComputedStyle(gd).display;\n",
       "        if (!display || display === 'none') {{\n",
       "            console.log([gd, 'removed!']);\n",
       "            Plotly.purge(gd);\n",
       "            observer.disconnect();\n",
       "        }}\n",
       "}});\n",
       "\n",
       "// Listen for the removal of the full notebook cells\n",
       "var notebookContainer = gd.closest('#notebook-container');\n",
       "if (notebookContainer) {{\n",
       "    x.observe(notebookContainer, {childList: true});\n",
       "}}\n",
       "\n",
       "// Listen for the clearing of the current output cell\n",
       "var outputEl = gd.closest('.output');\n",
       "if (outputEl) {{\n",
       "    x.observe(outputEl, {childList: true});\n",
       "}}\n",
       "\n",
       "                        })                };                });            </script>        </div>"
      ]
     },
     "metadata": {},
     "output_type": "display_data"
    }
   ],
   "source": [
    "# Valor 50 mais caros\n",
    "x = df.nlargest(50, 'preco')\n",
    "fig = go.Figure(go.Densitymapbox(lat=x.latitude, lon=x.longitude, radius=10, z=x.preco))\n",
    "fig.update_layout(mapbox_style=\"stamen-terrain\", mapbox_center_lon=180)\n",
    "fig.update_layout(margin={\"r\":0,\"t\":0,\"l\":0,\"b\":0})\n",
    "fig.show()"
   ]
  },
  {
   "cell_type": "code",
   "execution_count": 17,
   "metadata": {},
   "outputs": [
    {
     "data": {
      "application/vnd.plotly.v1+json": {
       "config": {
        "plotlyServerURL": "https://plot.ly"
       },
       "data": [
        {
         "lat": [
          "-15.834902512606",
          "-15.834902512606",
          "-15.834902512606",
          "-15.834902512606",
          "-15.820545586541",
          "-15.820545586541",
          "-15.820545586541",
          "-15.820545586541",
          "-15.820545586541",
          "-15.841345122238",
          "-15.834902512606",
          "-15.841345122238",
          "-15.83263347211",
          "-15.83673500262",
          "-15.835687747487",
          "-15.841842667042",
          "-15.84067",
          "-15.843415626518",
          "-15.843415626518",
          "-15.84067",
          "-15.84067",
          "-15.83263347211",
          "-15.834902512606",
          "-15.83939895395",
          "-15.83939895395",
          "-15.843415626518",
          "-15.84067",
          "-15.843415626518",
          "-15.843415626518",
          "-15.84067",
          "-15.843415626518",
          "-15.841842667042",
          "-15.84067",
          "-15.84067",
          "-15.843415626518",
          "-15.837371178171",
          "-15.836918381182",
          "-15.83455",
          "-15.836918381182",
          "-15.841920228821",
          "-15.84067",
          "-15.84067",
          "-15.84067",
          "-15.84067",
          "-15.84067",
          "-15.84067",
          "-15.84067",
          "-15.84067",
          "-15.841842667042"
         ],
         "lon": [
          "-48.019895881256",
          "-48.019895881256",
          "-48.019895881256",
          "-48.019895881256",
          "-48.040808859434",
          "-48.040808859434",
          "-48.040808859434",
          "-48.040808859434",
          "-48.040808859434",
          "-48.019032846386",
          "-48.019895881256",
          "-48.019032846386",
          "-48.014091547176",
          "-48.032885025271",
          "-48.031560570408",
          "-48.021175574139",
          "-48.02206",
          "-48.024210171831",
          "-48.024210171831",
          "-48.02206",
          "-48.02206",
          "-48.014091547176",
          "-48.019895881256",
          "-48.014465370993",
          "-48.014465370993",
          "-48.024210171831",
          "-48.02206",
          "-48.024210171831",
          "-48.024210171831",
          "-48.02206",
          "-48.024210171831",
          "-48.021175574139",
          "-48.02206",
          "-48.02206",
          "-48.024210171831",
          "-48.038556163428",
          "-48.039159954942",
          "-48.03885",
          "-48.039159954942",
          "-48.029991698267",
          "-48.02206",
          "-48.02206",
          "-48.02206",
          "-48.02206",
          "-48.02206",
          "-48.02206",
          "-48.02206",
          "-48.02206",
          "-48.021175574139"
         ],
         "radius": 10,
         "type": "densitymapbox",
         "z": [
          5496580,
          4745646,
          4325176,
          4116328,
          3850000,
          3790000,
          3700000,
          3600000,
          3500000,
          3499000,
          3394910,
          3390000,
          3300000,
          3200000,
          3200000,
          3150000,
          3100000,
          3000000,
          3000000,
          3000000,
          2990000,
          2920000,
          2897910,
          2890000,
          2890000,
          2800000,
          2800000,
          2800000,
          2800000,
          2800000,
          2700000,
          2599990,
          2599000,
          2590000,
          2590000,
          2552680,
          2550000,
          2550000,
          2550000,
          2510000,
          2500000,
          2500000,
          2500000,
          2500000,
          2500000,
          2490000,
          2450000,
          2449000,
          2449000
         ]
        }
       ],
       "layout": {
        "mapbox": {
         "center": {
          "lon": 180
         },
         "style": "stamen-terrain"
        },
        "margin": {
         "b": 0,
         "l": 0,
         "r": 0,
         "t": 0
        },
        "template": {
         "data": {
          "bar": [
           {
            "error_x": {
             "color": "#2a3f5f"
            },
            "error_y": {
             "color": "#2a3f5f"
            },
            "marker": {
             "line": {
              "color": "#E5ECF6",
              "width": 0.5
             }
            },
            "type": "bar"
           }
          ],
          "barpolar": [
           {
            "marker": {
             "line": {
              "color": "#E5ECF6",
              "width": 0.5
             }
            },
            "type": "barpolar"
           }
          ],
          "carpet": [
           {
            "aaxis": {
             "endlinecolor": "#2a3f5f",
             "gridcolor": "white",
             "linecolor": "white",
             "minorgridcolor": "white",
             "startlinecolor": "#2a3f5f"
            },
            "baxis": {
             "endlinecolor": "#2a3f5f",
             "gridcolor": "white",
             "linecolor": "white",
             "minorgridcolor": "white",
             "startlinecolor": "#2a3f5f"
            },
            "type": "carpet"
           }
          ],
          "choropleth": [
           {
            "colorbar": {
             "outlinewidth": 0,
             "ticks": ""
            },
            "type": "choropleth"
           }
          ],
          "contour": [
           {
            "colorbar": {
             "outlinewidth": 0,
             "ticks": ""
            },
            "colorscale": [
             [
              0,
              "#0d0887"
             ],
             [
              0.1111111111111111,
              "#46039f"
             ],
             [
              0.2222222222222222,
              "#7201a8"
             ],
             [
              0.3333333333333333,
              "#9c179e"
             ],
             [
              0.4444444444444444,
              "#bd3786"
             ],
             [
              0.5555555555555556,
              "#d8576b"
             ],
             [
              0.6666666666666666,
              "#ed7953"
             ],
             [
              0.7777777777777778,
              "#fb9f3a"
             ],
             [
              0.8888888888888888,
              "#fdca26"
             ],
             [
              1,
              "#f0f921"
             ]
            ],
            "type": "contour"
           }
          ],
          "contourcarpet": [
           {
            "colorbar": {
             "outlinewidth": 0,
             "ticks": ""
            },
            "type": "contourcarpet"
           }
          ],
          "heatmap": [
           {
            "colorbar": {
             "outlinewidth": 0,
             "ticks": ""
            },
            "colorscale": [
             [
              0,
              "#0d0887"
             ],
             [
              0.1111111111111111,
              "#46039f"
             ],
             [
              0.2222222222222222,
              "#7201a8"
             ],
             [
              0.3333333333333333,
              "#9c179e"
             ],
             [
              0.4444444444444444,
              "#bd3786"
             ],
             [
              0.5555555555555556,
              "#d8576b"
             ],
             [
              0.6666666666666666,
              "#ed7953"
             ],
             [
              0.7777777777777778,
              "#fb9f3a"
             ],
             [
              0.8888888888888888,
              "#fdca26"
             ],
             [
              1,
              "#f0f921"
             ]
            ],
            "type": "heatmap"
           }
          ],
          "heatmapgl": [
           {
            "colorbar": {
             "outlinewidth": 0,
             "ticks": ""
            },
            "colorscale": [
             [
              0,
              "#0d0887"
             ],
             [
              0.1111111111111111,
              "#46039f"
             ],
             [
              0.2222222222222222,
              "#7201a8"
             ],
             [
              0.3333333333333333,
              "#9c179e"
             ],
             [
              0.4444444444444444,
              "#bd3786"
             ],
             [
              0.5555555555555556,
              "#d8576b"
             ],
             [
              0.6666666666666666,
              "#ed7953"
             ],
             [
              0.7777777777777778,
              "#fb9f3a"
             ],
             [
              0.8888888888888888,
              "#fdca26"
             ],
             [
              1,
              "#f0f921"
             ]
            ],
            "type": "heatmapgl"
           }
          ],
          "histogram": [
           {
            "marker": {
             "colorbar": {
              "outlinewidth": 0,
              "ticks": ""
             }
            },
            "type": "histogram"
           }
          ],
          "histogram2d": [
           {
            "colorbar": {
             "outlinewidth": 0,
             "ticks": ""
            },
            "colorscale": [
             [
              0,
              "#0d0887"
             ],
             [
              0.1111111111111111,
              "#46039f"
             ],
             [
              0.2222222222222222,
              "#7201a8"
             ],
             [
              0.3333333333333333,
              "#9c179e"
             ],
             [
              0.4444444444444444,
              "#bd3786"
             ],
             [
              0.5555555555555556,
              "#d8576b"
             ],
             [
              0.6666666666666666,
              "#ed7953"
             ],
             [
              0.7777777777777778,
              "#fb9f3a"
             ],
             [
              0.8888888888888888,
              "#fdca26"
             ],
             [
              1,
              "#f0f921"
             ]
            ],
            "type": "histogram2d"
           }
          ],
          "histogram2dcontour": [
           {
            "colorbar": {
             "outlinewidth": 0,
             "ticks": ""
            },
            "colorscale": [
             [
              0,
              "#0d0887"
             ],
             [
              0.1111111111111111,
              "#46039f"
             ],
             [
              0.2222222222222222,
              "#7201a8"
             ],
             [
              0.3333333333333333,
              "#9c179e"
             ],
             [
              0.4444444444444444,
              "#bd3786"
             ],
             [
              0.5555555555555556,
              "#d8576b"
             ],
             [
              0.6666666666666666,
              "#ed7953"
             ],
             [
              0.7777777777777778,
              "#fb9f3a"
             ],
             [
              0.8888888888888888,
              "#fdca26"
             ],
             [
              1,
              "#f0f921"
             ]
            ],
            "type": "histogram2dcontour"
           }
          ],
          "mesh3d": [
           {
            "colorbar": {
             "outlinewidth": 0,
             "ticks": ""
            },
            "type": "mesh3d"
           }
          ],
          "parcoords": [
           {
            "line": {
             "colorbar": {
              "outlinewidth": 0,
              "ticks": ""
             }
            },
            "type": "parcoords"
           }
          ],
          "pie": [
           {
            "automargin": true,
            "type": "pie"
           }
          ],
          "scatter": [
           {
            "marker": {
             "colorbar": {
              "outlinewidth": 0,
              "ticks": ""
             }
            },
            "type": "scatter"
           }
          ],
          "scatter3d": [
           {
            "line": {
             "colorbar": {
              "outlinewidth": 0,
              "ticks": ""
             }
            },
            "marker": {
             "colorbar": {
              "outlinewidth": 0,
              "ticks": ""
             }
            },
            "type": "scatter3d"
           }
          ],
          "scattercarpet": [
           {
            "marker": {
             "colorbar": {
              "outlinewidth": 0,
              "ticks": ""
             }
            },
            "type": "scattercarpet"
           }
          ],
          "scattergeo": [
           {
            "marker": {
             "colorbar": {
              "outlinewidth": 0,
              "ticks": ""
             }
            },
            "type": "scattergeo"
           }
          ],
          "scattergl": [
           {
            "marker": {
             "colorbar": {
              "outlinewidth": 0,
              "ticks": ""
             }
            },
            "type": "scattergl"
           }
          ],
          "scattermapbox": [
           {
            "marker": {
             "colorbar": {
              "outlinewidth": 0,
              "ticks": ""
             }
            },
            "type": "scattermapbox"
           }
          ],
          "scatterpolar": [
           {
            "marker": {
             "colorbar": {
              "outlinewidth": 0,
              "ticks": ""
             }
            },
            "type": "scatterpolar"
           }
          ],
          "scatterpolargl": [
           {
            "marker": {
             "colorbar": {
              "outlinewidth": 0,
              "ticks": ""
             }
            },
            "type": "scatterpolargl"
           }
          ],
          "scatterternary": [
           {
            "marker": {
             "colorbar": {
              "outlinewidth": 0,
              "ticks": ""
             }
            },
            "type": "scatterternary"
           }
          ],
          "surface": [
           {
            "colorbar": {
             "outlinewidth": 0,
             "ticks": ""
            },
            "colorscale": [
             [
              0,
              "#0d0887"
             ],
             [
              0.1111111111111111,
              "#46039f"
             ],
             [
              0.2222222222222222,
              "#7201a8"
             ],
             [
              0.3333333333333333,
              "#9c179e"
             ],
             [
              0.4444444444444444,
              "#bd3786"
             ],
             [
              0.5555555555555556,
              "#d8576b"
             ],
             [
              0.6666666666666666,
              "#ed7953"
             ],
             [
              0.7777777777777778,
              "#fb9f3a"
             ],
             [
              0.8888888888888888,
              "#fdca26"
             ],
             [
              1,
              "#f0f921"
             ]
            ],
            "type": "surface"
           }
          ],
          "table": [
           {
            "cells": {
             "fill": {
              "color": "#EBF0F8"
             },
             "line": {
              "color": "white"
             }
            },
            "header": {
             "fill": {
              "color": "#C8D4E3"
             },
             "line": {
              "color": "white"
             }
            },
            "type": "table"
           }
          ]
         },
         "layout": {
          "annotationdefaults": {
           "arrowcolor": "#2a3f5f",
           "arrowhead": 0,
           "arrowwidth": 1
          },
          "autotypenumbers": "strict",
          "coloraxis": {
           "colorbar": {
            "outlinewidth": 0,
            "ticks": ""
           }
          },
          "colorscale": {
           "diverging": [
            [
             0,
             "#8e0152"
            ],
            [
             0.1,
             "#c51b7d"
            ],
            [
             0.2,
             "#de77ae"
            ],
            [
             0.3,
             "#f1b6da"
            ],
            [
             0.4,
             "#fde0ef"
            ],
            [
             0.5,
             "#f7f7f7"
            ],
            [
             0.6,
             "#e6f5d0"
            ],
            [
             0.7,
             "#b8e186"
            ],
            [
             0.8,
             "#7fbc41"
            ],
            [
             0.9,
             "#4d9221"
            ],
            [
             1,
             "#276419"
            ]
           ],
           "sequential": [
            [
             0,
             "#0d0887"
            ],
            [
             0.1111111111111111,
             "#46039f"
            ],
            [
             0.2222222222222222,
             "#7201a8"
            ],
            [
             0.3333333333333333,
             "#9c179e"
            ],
            [
             0.4444444444444444,
             "#bd3786"
            ],
            [
             0.5555555555555556,
             "#d8576b"
            ],
            [
             0.6666666666666666,
             "#ed7953"
            ],
            [
             0.7777777777777778,
             "#fb9f3a"
            ],
            [
             0.8888888888888888,
             "#fdca26"
            ],
            [
             1,
             "#f0f921"
            ]
           ],
           "sequentialminus": [
            [
             0,
             "#0d0887"
            ],
            [
             0.1111111111111111,
             "#46039f"
            ],
            [
             0.2222222222222222,
             "#7201a8"
            ],
            [
             0.3333333333333333,
             "#9c179e"
            ],
            [
             0.4444444444444444,
             "#bd3786"
            ],
            [
             0.5555555555555556,
             "#d8576b"
            ],
            [
             0.6666666666666666,
             "#ed7953"
            ],
            [
             0.7777777777777778,
             "#fb9f3a"
            ],
            [
             0.8888888888888888,
             "#fdca26"
            ],
            [
             1,
             "#f0f921"
            ]
           ]
          },
          "colorway": [
           "#636efa",
           "#EF553B",
           "#00cc96",
           "#ab63fa",
           "#FFA15A",
           "#19d3f3",
           "#FF6692",
           "#B6E880",
           "#FF97FF",
           "#FECB52"
          ],
          "font": {
           "color": "#2a3f5f"
          },
          "geo": {
           "bgcolor": "white",
           "lakecolor": "white",
           "landcolor": "#E5ECF6",
           "showlakes": true,
           "showland": true,
           "subunitcolor": "white"
          },
          "hoverlabel": {
           "align": "left"
          },
          "hovermode": "closest",
          "mapbox": {
           "style": "light"
          },
          "paper_bgcolor": "white",
          "plot_bgcolor": "#E5ECF6",
          "polar": {
           "angularaxis": {
            "gridcolor": "white",
            "linecolor": "white",
            "ticks": ""
           },
           "bgcolor": "#E5ECF6",
           "radialaxis": {
            "gridcolor": "white",
            "linecolor": "white",
            "ticks": ""
           }
          },
          "scene": {
           "xaxis": {
            "backgroundcolor": "#E5ECF6",
            "gridcolor": "white",
            "gridwidth": 2,
            "linecolor": "white",
            "showbackground": true,
            "ticks": "",
            "zerolinecolor": "white"
           },
           "yaxis": {
            "backgroundcolor": "#E5ECF6",
            "gridcolor": "white",
            "gridwidth": 2,
            "linecolor": "white",
            "showbackground": true,
            "ticks": "",
            "zerolinecolor": "white"
           },
           "zaxis": {
            "backgroundcolor": "#E5ECF6",
            "gridcolor": "white",
            "gridwidth": 2,
            "linecolor": "white",
            "showbackground": true,
            "ticks": "",
            "zerolinecolor": "white"
           }
          },
          "shapedefaults": {
           "line": {
            "color": "#2a3f5f"
           }
          },
          "ternary": {
           "aaxis": {
            "gridcolor": "white",
            "linecolor": "white",
            "ticks": ""
           },
           "baxis": {
            "gridcolor": "white",
            "linecolor": "white",
            "ticks": ""
           },
           "bgcolor": "#E5ECF6",
           "caxis": {
            "gridcolor": "white",
            "linecolor": "white",
            "ticks": ""
           }
          },
          "title": {
           "x": 0.05
          },
          "xaxis": {
           "automargin": true,
           "gridcolor": "white",
           "linecolor": "white",
           "ticks": "",
           "title": {
            "standoff": 15
           },
           "zerolinecolor": "white",
           "zerolinewidth": 2
          },
          "yaxis": {
           "automargin": true,
           "gridcolor": "white",
           "linecolor": "white",
           "ticks": "",
           "title": {
            "standoff": 15
           },
           "zerolinecolor": "white",
           "zerolinewidth": 2
          }
         }
        }
       }
      },
      "text/html": [
       "<div>                            <div id=\"894ae904-c7a6-408f-84b8-11dbc0641135\" class=\"plotly-graph-div\" style=\"height:525px; width:100%;\"></div>            <script type=\"text/javascript\">                require([\"plotly\"], function(Plotly) {                    window.PLOTLYENV=window.PLOTLYENV || {};                                    if (document.getElementById(\"894ae904-c7a6-408f-84b8-11dbc0641135\")) {                    Plotly.newPlot(                        \"894ae904-c7a6-408f-84b8-11dbc0641135\",                        [{\"lat\": [\"-15.834902512606\", \"-15.834902512606\", \"-15.834902512606\", \"-15.834902512606\", \"-15.820545586541\", \"-15.820545586541\", \"-15.820545586541\", \"-15.820545586541\", \"-15.820545586541\", \"-15.841345122238\", \"-15.834902512606\", \"-15.841345122238\", \"-15.83263347211\", \"-15.83673500262\", \"-15.835687747487\", \"-15.841842667042\", \"-15.84067\", \"-15.843415626518\", \"-15.843415626518\", \"-15.84067\", \"-15.84067\", \"-15.83263347211\", \"-15.834902512606\", \"-15.83939895395\", \"-15.83939895395\", \"-15.843415626518\", \"-15.84067\", \"-15.843415626518\", \"-15.843415626518\", \"-15.84067\", \"-15.843415626518\", \"-15.841842667042\", \"-15.84067\", \"-15.84067\", \"-15.843415626518\", \"-15.837371178171\", \"-15.836918381182\", \"-15.83455\", \"-15.836918381182\", \"-15.841920228821\", \"-15.84067\", \"-15.84067\", \"-15.84067\", \"-15.84067\", \"-15.84067\", \"-15.84067\", \"-15.84067\", \"-15.84067\", \"-15.841842667042\"], \"lon\": [\"-48.019895881256\", \"-48.019895881256\", \"-48.019895881256\", \"-48.019895881256\", \"-48.040808859434\", \"-48.040808859434\", \"-48.040808859434\", \"-48.040808859434\", \"-48.040808859434\", \"-48.019032846386\", \"-48.019895881256\", \"-48.019032846386\", \"-48.014091547176\", \"-48.032885025271\", \"-48.031560570408\", \"-48.021175574139\", \"-48.02206\", \"-48.024210171831\", \"-48.024210171831\", \"-48.02206\", \"-48.02206\", \"-48.014091547176\", \"-48.019895881256\", \"-48.014465370993\", \"-48.014465370993\", \"-48.024210171831\", \"-48.02206\", \"-48.024210171831\", \"-48.024210171831\", \"-48.02206\", \"-48.024210171831\", \"-48.021175574139\", \"-48.02206\", \"-48.02206\", \"-48.024210171831\", \"-48.038556163428\", \"-48.039159954942\", \"-48.03885\", \"-48.039159954942\", \"-48.029991698267\", \"-48.02206\", \"-48.02206\", \"-48.02206\", \"-48.02206\", \"-48.02206\", \"-48.02206\", \"-48.02206\", \"-48.02206\", \"-48.021175574139\"], \"radius\": 10, \"type\": \"densitymapbox\", \"z\": [5496580.0, 4745646.0, 4325176.0, 4116328.0, 3850000.0, 3790000.0, 3700000.0, 3600000.0, 3500000.0, 3499000.0, 3394910.0, 3390000.0, 3300000.0, 3200000.0, 3200000.0, 3150000.0, 3100000.0, 3000000.0, 3000000.0, 3000000.0, 2990000.0, 2920000.0, 2897910.0, 2890000.0, 2890000.0, 2800000.0, 2800000.0, 2800000.0, 2800000.0, 2800000.0, 2700000.0, 2599990.0, 2599000.0, 2590000.0, 2590000.0, 2552680.0, 2550000.0, 2550000.0, 2550000.0, 2510000.0, 2500000.0, 2500000.0, 2500000.0, 2500000.0, 2500000.0, 2490000.0, 2450000.0, 2449000.0, 2449000.0]}],                        {\"mapbox\": {\"center\": {\"lon\": 180}, \"style\": \"stamen-terrain\"}, \"margin\": {\"b\": 0, \"l\": 0, \"r\": 0, \"t\": 0}, \"template\": {\"data\": {\"bar\": [{\"error_x\": {\"color\": \"#2a3f5f\"}, \"error_y\": {\"color\": \"#2a3f5f\"}, \"marker\": {\"line\": {\"color\": \"#E5ECF6\", \"width\": 0.5}}, \"type\": \"bar\"}], \"barpolar\": [{\"marker\": {\"line\": {\"color\": \"#E5ECF6\", \"width\": 0.5}}, \"type\": \"barpolar\"}], \"carpet\": [{\"aaxis\": {\"endlinecolor\": \"#2a3f5f\", \"gridcolor\": \"white\", \"linecolor\": \"white\", \"minorgridcolor\": \"white\", \"startlinecolor\": \"#2a3f5f\"}, \"baxis\": {\"endlinecolor\": \"#2a3f5f\", \"gridcolor\": \"white\", \"linecolor\": \"white\", \"minorgridcolor\": \"white\", \"startlinecolor\": \"#2a3f5f\"}, \"type\": \"carpet\"}], \"choropleth\": [{\"colorbar\": {\"outlinewidth\": 0, \"ticks\": \"\"}, \"type\": \"choropleth\"}], \"contour\": [{\"colorbar\": {\"outlinewidth\": 0, \"ticks\": \"\"}, \"colorscale\": [[0.0, \"#0d0887\"], [0.1111111111111111, \"#46039f\"], [0.2222222222222222, \"#7201a8\"], [0.3333333333333333, \"#9c179e\"], [0.4444444444444444, \"#bd3786\"], [0.5555555555555556, \"#d8576b\"], [0.6666666666666666, \"#ed7953\"], [0.7777777777777778, \"#fb9f3a\"], [0.8888888888888888, \"#fdca26\"], [1.0, \"#f0f921\"]], \"type\": \"contour\"}], \"contourcarpet\": [{\"colorbar\": {\"outlinewidth\": 0, \"ticks\": \"\"}, \"type\": \"contourcarpet\"}], \"heatmap\": [{\"colorbar\": {\"outlinewidth\": 0, \"ticks\": \"\"}, \"colorscale\": [[0.0, \"#0d0887\"], [0.1111111111111111, \"#46039f\"], [0.2222222222222222, \"#7201a8\"], [0.3333333333333333, \"#9c179e\"], [0.4444444444444444, \"#bd3786\"], [0.5555555555555556, \"#d8576b\"], [0.6666666666666666, \"#ed7953\"], [0.7777777777777778, \"#fb9f3a\"], [0.8888888888888888, \"#fdca26\"], [1.0, \"#f0f921\"]], \"type\": \"heatmap\"}], \"heatmapgl\": [{\"colorbar\": {\"outlinewidth\": 0, \"ticks\": \"\"}, \"colorscale\": [[0.0, \"#0d0887\"], [0.1111111111111111, \"#46039f\"], [0.2222222222222222, \"#7201a8\"], [0.3333333333333333, \"#9c179e\"], [0.4444444444444444, \"#bd3786\"], [0.5555555555555556, \"#d8576b\"], [0.6666666666666666, \"#ed7953\"], [0.7777777777777778, \"#fb9f3a\"], [0.8888888888888888, \"#fdca26\"], [1.0, \"#f0f921\"]], \"type\": \"heatmapgl\"}], \"histogram\": [{\"marker\": {\"colorbar\": {\"outlinewidth\": 0, \"ticks\": \"\"}}, \"type\": \"histogram\"}], \"histogram2d\": [{\"colorbar\": {\"outlinewidth\": 0, \"ticks\": \"\"}, \"colorscale\": [[0.0, \"#0d0887\"], [0.1111111111111111, \"#46039f\"], [0.2222222222222222, \"#7201a8\"], [0.3333333333333333, \"#9c179e\"], [0.4444444444444444, \"#bd3786\"], [0.5555555555555556, \"#d8576b\"], [0.6666666666666666, \"#ed7953\"], [0.7777777777777778, \"#fb9f3a\"], [0.8888888888888888, \"#fdca26\"], [1.0, \"#f0f921\"]], \"type\": \"histogram2d\"}], \"histogram2dcontour\": [{\"colorbar\": {\"outlinewidth\": 0, \"ticks\": \"\"}, \"colorscale\": [[0.0, \"#0d0887\"], [0.1111111111111111, \"#46039f\"], [0.2222222222222222, \"#7201a8\"], [0.3333333333333333, \"#9c179e\"], [0.4444444444444444, \"#bd3786\"], [0.5555555555555556, \"#d8576b\"], [0.6666666666666666, \"#ed7953\"], [0.7777777777777778, \"#fb9f3a\"], [0.8888888888888888, \"#fdca26\"], [1.0, \"#f0f921\"]], \"type\": \"histogram2dcontour\"}], \"mesh3d\": [{\"colorbar\": {\"outlinewidth\": 0, \"ticks\": \"\"}, \"type\": \"mesh3d\"}], \"parcoords\": [{\"line\": {\"colorbar\": {\"outlinewidth\": 0, \"ticks\": \"\"}}, \"type\": \"parcoords\"}], \"pie\": [{\"automargin\": true, \"type\": \"pie\"}], \"scatter\": [{\"marker\": {\"colorbar\": {\"outlinewidth\": 0, \"ticks\": \"\"}}, \"type\": \"scatter\"}], \"scatter3d\": [{\"line\": {\"colorbar\": {\"outlinewidth\": 0, \"ticks\": \"\"}}, \"marker\": {\"colorbar\": {\"outlinewidth\": 0, \"ticks\": \"\"}}, \"type\": \"scatter3d\"}], \"scattercarpet\": [{\"marker\": {\"colorbar\": {\"outlinewidth\": 0, \"ticks\": \"\"}}, \"type\": \"scattercarpet\"}], \"scattergeo\": [{\"marker\": {\"colorbar\": {\"outlinewidth\": 0, \"ticks\": \"\"}}, \"type\": \"scattergeo\"}], \"scattergl\": [{\"marker\": {\"colorbar\": {\"outlinewidth\": 0, \"ticks\": \"\"}}, \"type\": \"scattergl\"}], \"scattermapbox\": [{\"marker\": {\"colorbar\": {\"outlinewidth\": 0, \"ticks\": \"\"}}, \"type\": \"scattermapbox\"}], \"scatterpolar\": [{\"marker\": {\"colorbar\": {\"outlinewidth\": 0, \"ticks\": \"\"}}, \"type\": \"scatterpolar\"}], \"scatterpolargl\": [{\"marker\": {\"colorbar\": {\"outlinewidth\": 0, \"ticks\": \"\"}}, \"type\": \"scatterpolargl\"}], \"scatterternary\": [{\"marker\": {\"colorbar\": {\"outlinewidth\": 0, \"ticks\": \"\"}}, \"type\": \"scatterternary\"}], \"surface\": [{\"colorbar\": {\"outlinewidth\": 0, \"ticks\": \"\"}, \"colorscale\": [[0.0, \"#0d0887\"], [0.1111111111111111, \"#46039f\"], [0.2222222222222222, \"#7201a8\"], [0.3333333333333333, \"#9c179e\"], [0.4444444444444444, \"#bd3786\"], [0.5555555555555556, \"#d8576b\"], [0.6666666666666666, \"#ed7953\"], [0.7777777777777778, \"#fb9f3a\"], [0.8888888888888888, \"#fdca26\"], [1.0, \"#f0f921\"]], \"type\": \"surface\"}], \"table\": [{\"cells\": {\"fill\": {\"color\": \"#EBF0F8\"}, \"line\": {\"color\": \"white\"}}, \"header\": {\"fill\": {\"color\": \"#C8D4E3\"}, \"line\": {\"color\": \"white\"}}, \"type\": \"table\"}]}, \"layout\": {\"annotationdefaults\": {\"arrowcolor\": \"#2a3f5f\", \"arrowhead\": 0, \"arrowwidth\": 1}, \"autotypenumbers\": \"strict\", \"coloraxis\": {\"colorbar\": {\"outlinewidth\": 0, \"ticks\": \"\"}}, \"colorscale\": {\"diverging\": [[0, \"#8e0152\"], [0.1, \"#c51b7d\"], [0.2, \"#de77ae\"], [0.3, \"#f1b6da\"], [0.4, \"#fde0ef\"], [0.5, \"#f7f7f7\"], [0.6, \"#e6f5d0\"], [0.7, \"#b8e186\"], [0.8, \"#7fbc41\"], [0.9, \"#4d9221\"], [1, \"#276419\"]], \"sequential\": [[0.0, \"#0d0887\"], [0.1111111111111111, \"#46039f\"], [0.2222222222222222, \"#7201a8\"], [0.3333333333333333, \"#9c179e\"], [0.4444444444444444, \"#bd3786\"], [0.5555555555555556, \"#d8576b\"], [0.6666666666666666, \"#ed7953\"], [0.7777777777777778, \"#fb9f3a\"], [0.8888888888888888, \"#fdca26\"], [1.0, \"#f0f921\"]], \"sequentialminus\": [[0.0, \"#0d0887\"], [0.1111111111111111, \"#46039f\"], [0.2222222222222222, \"#7201a8\"], [0.3333333333333333, \"#9c179e\"], [0.4444444444444444, \"#bd3786\"], [0.5555555555555556, \"#d8576b\"], [0.6666666666666666, \"#ed7953\"], [0.7777777777777778, \"#fb9f3a\"], [0.8888888888888888, \"#fdca26\"], [1.0, \"#f0f921\"]]}, \"colorway\": [\"#636efa\", \"#EF553B\", \"#00cc96\", \"#ab63fa\", \"#FFA15A\", \"#19d3f3\", \"#FF6692\", \"#B6E880\", \"#FF97FF\", \"#FECB52\"], \"font\": {\"color\": \"#2a3f5f\"}, \"geo\": {\"bgcolor\": \"white\", \"lakecolor\": \"white\", \"landcolor\": \"#E5ECF6\", \"showlakes\": true, \"showland\": true, \"subunitcolor\": \"white\"}, \"hoverlabel\": {\"align\": \"left\"}, \"hovermode\": \"closest\", \"mapbox\": {\"style\": \"light\"}, \"paper_bgcolor\": \"white\", \"plot_bgcolor\": \"#E5ECF6\", \"polar\": {\"angularaxis\": {\"gridcolor\": \"white\", \"linecolor\": \"white\", \"ticks\": \"\"}, \"bgcolor\": \"#E5ECF6\", \"radialaxis\": {\"gridcolor\": \"white\", \"linecolor\": \"white\", \"ticks\": \"\"}}, \"scene\": {\"xaxis\": {\"backgroundcolor\": \"#E5ECF6\", \"gridcolor\": \"white\", \"gridwidth\": 2, \"linecolor\": \"white\", \"showbackground\": true, \"ticks\": \"\", \"zerolinecolor\": \"white\"}, \"yaxis\": {\"backgroundcolor\": \"#E5ECF6\", \"gridcolor\": \"white\", \"gridwidth\": 2, \"linecolor\": \"white\", \"showbackground\": true, \"ticks\": \"\", \"zerolinecolor\": \"white\"}, \"zaxis\": {\"backgroundcolor\": \"#E5ECF6\", \"gridcolor\": \"white\", \"gridwidth\": 2, \"linecolor\": \"white\", \"showbackground\": true, \"ticks\": \"\", \"zerolinecolor\": \"white\"}}, \"shapedefaults\": {\"line\": {\"color\": \"#2a3f5f\"}}, \"ternary\": {\"aaxis\": {\"gridcolor\": \"white\", \"linecolor\": \"white\", \"ticks\": \"\"}, \"baxis\": {\"gridcolor\": \"white\", \"linecolor\": \"white\", \"ticks\": \"\"}, \"bgcolor\": \"#E5ECF6\", \"caxis\": {\"gridcolor\": \"white\", \"linecolor\": \"white\", \"ticks\": \"\"}}, \"title\": {\"x\": 0.05}, \"xaxis\": {\"automargin\": true, \"gridcolor\": \"white\", \"linecolor\": \"white\", \"ticks\": \"\", \"title\": {\"standoff\": 15}, \"zerolinecolor\": \"white\", \"zerolinewidth\": 2}, \"yaxis\": {\"automargin\": true, \"gridcolor\": \"white\", \"linecolor\": \"white\", \"ticks\": \"\", \"title\": {\"standoff\": 15}, \"zerolinecolor\": \"white\", \"zerolinewidth\": 2}}}},                        {\"responsive\": true}                    ).then(function(){\n",
       "                            \n",
       "var gd = document.getElementById('894ae904-c7a6-408f-84b8-11dbc0641135');\n",
       "var x = new MutationObserver(function (mutations, observer) {{\n",
       "        var display = window.getComputedStyle(gd).display;\n",
       "        if (!display || display === 'none') {{\n",
       "            console.log([gd, 'removed!']);\n",
       "            Plotly.purge(gd);\n",
       "            observer.disconnect();\n",
       "        }}\n",
       "}});\n",
       "\n",
       "// Listen for the removal of the full notebook cells\n",
       "var notebookContainer = gd.closest('#notebook-container');\n",
       "if (notebookContainer) {{\n",
       "    x.observe(notebookContainer, {childList: true});\n",
       "}}\n",
       "\n",
       "// Listen for the clearing of the current output cell\n",
       "var outputEl = gd.closest('.output');\n",
       "if (outputEl) {{\n",
       "    x.observe(outputEl, {childList: true});\n",
       "}}\n",
       "\n",
       "                        })                };                });            </script>        </div>"
      ]
     },
     "metadata": {},
     "output_type": "display_data"
    }
   ],
   "source": [
    "# Valor 50 mais caros tirando outlier\n",
    "x = df.nlargest(50, 'preco').query('preco < 400000000')\n",
    "fig = go.Figure(go.Densitymapbox(lat=x.latitude, lon=x.longitude, radius=10, z=x.preco))\n",
    "fig.update_layout(mapbox_style=\"stamen-terrain\", mapbox_center_lon=180)\n",
    "fig.update_layout(margin={\"r\":0,\"t\":0,\"l\":0,\"b\":0})\n",
    "fig.show()"
   ]
  },
  {
   "cell_type": "markdown",
   "metadata": {
    "id": "z9X0PEv_nkai"
   },
   "source": [
    "# Novo tratamento"
   ]
  },
  {
   "cell_type": "code",
   "execution_count": null,
   "metadata": {
    "executionInfo": {
     "elapsed": 340,
     "status": "ok",
     "timestamp": 1688416051654,
     "user": {
      "displayName": "Caio Cesar Ribeiro Brito",
      "userId": "09669924537412269636"
     },
     "user_tz": 180
    },
    "id": "1thB0DMJlxwr"
   },
   "outputs": [],
   "source": [
    "# df.latitude.fillna('0', inplace=True)"
   ]
  },
  {
   "cell_type": "code",
   "execution_count": 19,
   "metadata": {
    "id": "819KZn-jihCN"
   },
   "outputs": [
    {
     "data": {
      "text/html": [
       "<div>\n",
       "<style scoped>\n",
       "    .dataframe tbody tr th:only-of-type {\n",
       "        vertical-align: middle;\n",
       "    }\n",
       "\n",
       "    .dataframe tbody tr th {\n",
       "        vertical-align: top;\n",
       "    }\n",
       "\n",
       "    .dataframe thead th {\n",
       "        text-align: right;\n",
       "    }\n",
       "</style>\n",
       "<table border=\"1\" class=\"dataframe\">\n",
       "  <thead>\n",
       "    <tr style=\"text-align: right;\">\n",
       "      <th></th>\n",
       "      <th>titulo</th>\n",
       "      <th>desc</th>\n",
       "      <th>desc2</th>\n",
       "      <th>preco</th>\n",
       "      <th>valor_m2</th>\n",
       "      <th>espec</th>\n",
       "      <th>desc3</th>\n",
       "      <th>link_anuncio</th>\n",
       "      <th>conteudo</th>\n",
       "      <th>quartos</th>\n",
       "      <th>banheiros</th>\n",
       "      <th>suites</th>\n",
       "      <th>vagas</th>\n",
       "      <th>espaco</th>\n",
       "      <th>data</th>\n",
       "      <th>edificio</th>\n",
       "      <th>endereco</th>\n",
       "      <th>latitude</th>\n",
       "      <th>longitude</th>\n",
       "      <th>score</th>\n",
       "    </tr>\n",
       "  </thead>\n",
       "  <tbody>\n",
       "    <tr>\n",
       "      <th>563</th>\n",
       "      <td>rua 37, sul, aguas claras</td>\n",
       "      <td>venda apartamento 92 m²</td>\n",
       "      <td>, condominio residencial espanha apt com pé-di...</td>\n",
       "      <td>610000.0</td>\n",
       "      <td>6630.0</td>\n",
       "      <td>92 m²3 quartos2 suites1 vaga</td>\n",
       "      <td>excelente oportunidade:\\r3 quartos;\\rsala ampl...</td>\n",
       "      <td>/imovel/apartamento-3-quartos-venda-sul-aguas-...</td>\n",
       "      <td>1/242/243/244/245/246/247/248/249/2410/2411/24...</td>\n",
       "      <td>3</td>\n",
       "      <td>0</td>\n",
       "      <td>2</td>\n",
       "      <td>2</td>\n",
       "      <td>92.0</td>\n",
       "      <td>06/06/2023</td>\n",
       "      <td>condominio residencial espanha</td>\n",
       "      <td>condominio residencial espanha, aguas claras -...</td>\n",
       "      <td>-15.64461</td>\n",
       "      <td>-47.83064</td>\n",
       "      <td>80.64</td>\n",
       "    </tr>\n",
       "    <tr>\n",
       "      <th>3832</th>\n",
       "      <td>rua 37, sul, aguas claras</td>\n",
       "      <td>venda apartamento 91 m²</td>\n",
       "      <td>14 andar, condominio residencial espanha refor...</td>\n",
       "      <td>687000.0</td>\n",
       "      <td>7486.0</td>\n",
       "      <td>91 m²3 quartos2 suites1 vaga</td>\n",
       "      <td>***** lindíssimo apto super reformado no resid...</td>\n",
       "      <td>/imovel/apartamento-3-quartos-venda-sul-aguas-...</td>\n",
       "      <td>1/322/323/324/325/326/327/328/329/3210/3211/32...</td>\n",
       "      <td>3</td>\n",
       "      <td>0</td>\n",
       "      <td>2</td>\n",
       "      <td>2</td>\n",
       "      <td>91.0</td>\n",
       "      <td>06/06/2023</td>\n",
       "      <td>condominio residencial espanha</td>\n",
       "      <td>condominio residencial espanha, aguas claras -...</td>\n",
       "      <td>-15.64461</td>\n",
       "      <td>-47.83064</td>\n",
       "      <td>80.64</td>\n",
       "    </tr>\n",
       "    <tr>\n",
       "      <th>3917</th>\n",
       "      <td>alameda dos eucaliptos quadra 107, norte, agua...</td>\n",
       "      <td>venda apartamento 110 m²</td>\n",
       "      <td>, condominio residencial adv reformado, ótima ...</td>\n",
       "      <td>799000.0</td>\n",
       "      <td>7263.0</td>\n",
       "      <td>110 m²3 quartos2 suites1 vaga</td>\n",
       "      <td>aj mendes imobiliária vende excelente apartame...</td>\n",
       "      <td>/imovel/apartamento-3-quartos-venda-norte-agua...</td>\n",
       "      <td>1/502/503/504/505/506/507/508/509/5010/5011/50...</td>\n",
       "      <td>3</td>\n",
       "      <td>0</td>\n",
       "      <td>2</td>\n",
       "      <td>2</td>\n",
       "      <td>110.0</td>\n",
       "      <td>06/06/2023</td>\n",
       "      <td>condominio residencial adv</td>\n",
       "      <td>condominio residencial adv, aguas claras - DF,...</td>\n",
       "      <td>-15.64461</td>\n",
       "      <td>-47.83064</td>\n",
       "      <td>82.83</td>\n",
       "    </tr>\n",
       "    <tr>\n",
       "      <th>5130</th>\n",
       "      <td>rua 37, sul, aguas claras</td>\n",
       "      <td>venda apartamento 0 m²</td>\n",
       "      <td>, condominio residencial espanha</td>\n",
       "      <td>360000.0</td>\n",
       "      <td>857142.0</td>\n",
       "      <td>0 m²1 quarto1 vaga</td>\n",
       "      <td>residencial real celebration life clube. – em ...</td>\n",
       "      <td>/imovel/apartamento-1-quarto-venda-sul-aguas-c...</td>\n",
       "      <td>1/302/303/304/305/306/307/308/309/3010/3011/30...</td>\n",
       "      <td>1</td>\n",
       "      <td>1</td>\n",
       "      <td>0</td>\n",
       "      <td>0</td>\n",
       "      <td>0.0</td>\n",
       "      <td>06/06/2023</td>\n",
       "      <td>condominio residencial espanha</td>\n",
       "      <td>condominio residencial espanha, aguas claras -...</td>\n",
       "      <td>-15.64461</td>\n",
       "      <td>-47.83064</td>\n",
       "      <td>80.64</td>\n",
       "    </tr>\n",
       "    <tr>\n",
       "      <th>5819</th>\n",
       "      <td>alameda dos eucaliptos quadra 107, norte, agua...</td>\n",
       "      <td>venda apartamento 169 m²</td>\n",
       "      <td>, condominio residencial adv completão</td>\n",
       "      <td>920000.0</td>\n",
       "      <td>5443.0</td>\n",
       "      <td>169 m²4 quartos2 suites2 vagas</td>\n",
       "      <td>grandão semi vazado super claro e ventilado!!!...</td>\n",
       "      <td>/imovel/apartamento-4-quartos-venda-norte-agua...</td>\n",
       "      <td>1/512/513/514/515/516/517/518/519/5110/5111/51...</td>\n",
       "      <td>4</td>\n",
       "      <td>0</td>\n",
       "      <td>3</td>\n",
       "      <td>3</td>\n",
       "      <td>169.0</td>\n",
       "      <td>06/06/2023</td>\n",
       "      <td>condominio residencial adv</td>\n",
       "      <td>condominio residencial adv, aguas claras - DF,...</td>\n",
       "      <td>-15.64461</td>\n",
       "      <td>-47.83064</td>\n",
       "      <td>82.83</td>\n",
       "    </tr>\n",
       "    <tr>\n",
       "      <th>6549</th>\n",
       "      <td>rua 37, sul, aguas claras</td>\n",
       "      <td>venda apartamento 30 m²</td>\n",
       "      <td>, condominio residencial espanha</td>\n",
       "      <td>299000.0</td>\n",
       "      <td>9966.0</td>\n",
       "      <td>30 m²1 quarto1 vaga</td>\n",
       "      <td>mendonça vendeexcelente apartamento em ótima l...</td>\n",
       "      <td>/imovel/apartamento-1-quarto-venda-sul-aguas-c...</td>\n",
       "      <td>1/122/123/124/125/126/127/128/129/1210/1211/12...</td>\n",
       "      <td>1</td>\n",
       "      <td>0</td>\n",
       "      <td>0</td>\n",
       "      <td>0</td>\n",
       "      <td>30.0</td>\n",
       "      <td>06/06/2023</td>\n",
       "      <td>condominio residencial espanha</td>\n",
       "      <td>condominio residencial espanha, aguas claras -...</td>\n",
       "      <td>-15.64461</td>\n",
       "      <td>-47.83064</td>\n",
       "      <td>80.64</td>\n",
       "    </tr>\n",
       "    <tr>\n",
       "      <th>7555</th>\n",
       "      <td>rua 37, sul, aguas claras</td>\n",
       "      <td>venda apartamento 92 m²</td>\n",
       "      <td>, condominio residencial espanha</td>\n",
       "      <td>810000.0</td>\n",
       "      <td>8804.0</td>\n",
       "      <td>92 m²3 quartos2 suites1 vaga</td>\n",
       "      <td>- apartamento com 92m² privativo- com dependen...</td>\n",
       "      <td>/imovel/apartamento-3-quartos-venda-sul-aguas-...</td>\n",
       "      <td>1/282/283/284/285/286/287/288/289/2810/2811/28...</td>\n",
       "      <td>2</td>\n",
       "      <td>0</td>\n",
       "      <td>2</td>\n",
       "      <td>2</td>\n",
       "      <td>92.0</td>\n",
       "      <td>06/06/2023</td>\n",
       "      <td>condominio residencial espanha</td>\n",
       "      <td>condominio residencial espanha, aguas claras -...</td>\n",
       "      <td>-15.64461</td>\n",
       "      <td>-47.83064</td>\n",
       "      <td>80.64</td>\n",
       "    </tr>\n",
       "    <tr>\n",
       "      <th>8701</th>\n",
       "      <td>rua 37, sul, aguas claras</td>\n",
       "      <td>venda apartamento 72 m²</td>\n",
       "      <td>, condominio residencial espanha</td>\n",
       "      <td>650000.0</td>\n",
       "      <td>9027.0</td>\n",
       "      <td>72 m²3 quartos1 suite1 vaga</td>\n",
       "      <td>residencial rivoli, 15º andar ,varanda com vis...</td>\n",
       "      <td>/imovel/apartamento-3-quartos-venda-sul-aguas-...</td>\n",
       "      <td>1/62/63/64/65/66/6ligue agoraenviar emailindiq...</td>\n",
       "      <td>3</td>\n",
       "      <td>0</td>\n",
       "      <td>2</td>\n",
       "      <td>2</td>\n",
       "      <td>72.0</td>\n",
       "      <td>06/06/2023</td>\n",
       "      <td>condominio residencial espanha</td>\n",
       "      <td>condominio residencial espanha, aguas claras -...</td>\n",
       "      <td>-15.64461</td>\n",
       "      <td>-47.83064</td>\n",
       "      <td>80.64</td>\n",
       "    </tr>\n",
       "    <tr>\n",
       "      <th>9942</th>\n",
       "      <td>rua 37, sul, aguas claras</td>\n",
       "      <td>venda apartamento 92 m²</td>\n",
       "      <td>, condominio residencial espanha</td>\n",
       "      <td>695000.0</td>\n",
       "      <td>7554.0</td>\n",
       "      <td>92 m²3 quartos1 suite1 vaga</td>\n",
       "      <td>julisce alencar assessoria imobiliária vende.....</td>\n",
       "      <td>/imovel/apartamento-3-quartos-venda-sul-aguas-...</td>\n",
       "      <td>1/222/223/224/225/226/227/228/229/2210/2211/22...</td>\n",
       "      <td>3</td>\n",
       "      <td>1</td>\n",
       "      <td>2</td>\n",
       "      <td>2</td>\n",
       "      <td>92.0</td>\n",
       "      <td>06/06/2023</td>\n",
       "      <td>condominio residencial espanha</td>\n",
       "      <td>condominio residencial espanha, aguas claras -...</td>\n",
       "      <td>-15.64461</td>\n",
       "      <td>-47.83064</td>\n",
       "      <td>80.64</td>\n",
       "    </tr>\n",
       "    <tr>\n",
       "      <th>12956</th>\n",
       "      <td>avenida pau brasil, norte, aguas claras</td>\n",
       "      <td>venda apartamento 103 m²</td>\n",
       "      <td>- apto 3 quartos (1suíte) + home office 103m² ...</td>\n",
       "      <td>820000.0</td>\n",
       "      <td>7961.0</td>\n",
       "      <td>103 m²3 quartos1 suite1 vaga</td>\n",
       "      <td>facilita imóveis disponibiliza para venda exce...</td>\n",
       "      <td>/imovel/apartamento-3-quartos-venda-norte-agua...</td>\n",
       "      <td>1/272/273/274/275/276/277/278/279/2710/2711/27...</td>\n",
       "      <td>3</td>\n",
       "      <td>3</td>\n",
       "      <td>2</td>\n",
       "      <td>2</td>\n",
       "      <td>103.0</td>\n",
       "      <td>06/06/2023</td>\n",
       "      <td>condominio residencial monet</td>\n",
       "      <td>condominio residencial monet, aguas claras - D...</td>\n",
       "      <td>-15.64461</td>\n",
       "      <td>-47.83064</td>\n",
       "      <td>81.69</td>\n",
       "    </tr>\n",
       "    <tr>\n",
       "      <th>13983</th>\n",
       "      <td>avenida pau brasil, norte, aguas claras</td>\n",
       "      <td>venda apartamento 103 m²</td>\n",
       "      <td>residencial monet, condominio residencial mone...</td>\n",
       "      <td>890000.0</td>\n",
       "      <td>8640.0</td>\n",
       "      <td>103 m²3 quartos1 suite1 vaga</td>\n",
       "      <td>vendo excelente apartamento no residencial mon...</td>\n",
       "      <td>/imovel/apartamento-3-quartos-venda-norte-agua...</td>\n",
       "      <td>1/462/463/464/465/466/467/468/469/4610/4611/46...</td>\n",
       "      <td>2</td>\n",
       "      <td>0</td>\n",
       "      <td>2</td>\n",
       "      <td>2</td>\n",
       "      <td>103.0</td>\n",
       "      <td>06/06/2023</td>\n",
       "      <td>condominio residencial monet</td>\n",
       "      <td>condominio residencial monet, aguas claras - D...</td>\n",
       "      <td>-15.64461</td>\n",
       "      <td>-47.83064</td>\n",
       "      <td>81.69</td>\n",
       "    </tr>\n",
       "    <tr>\n",
       "      <th>14227</th>\n",
       "      <td>alameda dos eucaliptos quadra 107, norte, agua...</td>\n",
       "      <td>venda apartamento 33 m²</td>\n",
       "      <td>1qto suíte - nasc. / desoc. / 1vg/conquest, co...</td>\n",
       "      <td>315000.0</td>\n",
       "      <td>9545.0</td>\n",
       "      <td>33 m²1 quarto1 suite1 vaga</td>\n",
       "      <td>1 quarto suíte , sala, coz. americana e 1vgáre...</td>\n",
       "      <td>/imovel/apartamento-1-quarto-venda-norte-aguas...</td>\n",
       "      <td>1/472/473/474/475/476/477/478/479/4710/4711/47...</td>\n",
       "      <td>1</td>\n",
       "      <td>0</td>\n",
       "      <td>1</td>\n",
       "      <td>1</td>\n",
       "      <td>33.0</td>\n",
       "      <td>06/06/2023</td>\n",
       "      <td>condominio residencial adv</td>\n",
       "      <td>condominio residencial adv, aguas claras - DF,...</td>\n",
       "      <td>-15.64461</td>\n",
       "      <td>-47.83064</td>\n",
       "      <td>82.83</td>\n",
       "    </tr>\n",
       "    <tr>\n",
       "      <th>14393</th>\n",
       "      <td>rua 37, sul, aguas claras</td>\n",
       "      <td>venda apartamento 85 m²</td>\n",
       "      <td>, condominio residencial espanha</td>\n",
       "      <td>420000.0</td>\n",
       "      <td>4941.0</td>\n",
       "      <td>85 m²1 quarto1 suite1 vaga</td>\n",
       "      <td>apartamento duplex de 1 quarto sendo suite, co...</td>\n",
       "      <td>/imovel/apartamento-1-quarto-venda-sul-aguas-c...</td>\n",
       "      <td>1/142/143/144/145/146/147/148/149/1410/1411/14...</td>\n",
       "      <td>1</td>\n",
       "      <td>0</td>\n",
       "      <td>1</td>\n",
       "      <td>1</td>\n",
       "      <td>85.0</td>\n",
       "      <td>06/06/2023</td>\n",
       "      <td>condominio residencial espanha</td>\n",
       "      <td>condominio residencial espanha, aguas claras -...</td>\n",
       "      <td>-15.64461</td>\n",
       "      <td>-47.83064</td>\n",
       "      <td>80.64</td>\n",
       "    </tr>\n",
       "    <tr>\n",
       "      <th>14958</th>\n",
       "      <td>alameda dos eucaliptos quadra 107, norte, agua...</td>\n",
       "      <td>venda apartamento 119 m²</td>\n",
       "      <td>, condominio residencial adv</td>\n",
       "      <td>870000.0</td>\n",
       "      <td>7260.0</td>\n",
       "      <td>119 m²3 quartos1 suite</td>\n",
       "      <td>murta e almeida vende: lindo apartamento refor...</td>\n",
       "      <td>/imovel/apartamento-3-quartos-venda-norte-agua...</td>\n",
       "      <td>1/392/393/394/395/396/397/398/399/3910/3911/39...</td>\n",
       "      <td>3</td>\n",
       "      <td>0</td>\n",
       "      <td>2</td>\n",
       "      <td>2</td>\n",
       "      <td>119.0</td>\n",
       "      <td>06/06/2023</td>\n",
       "      <td>condominio residencial adv</td>\n",
       "      <td>condominio residencial adv, aguas claras - DF,...</td>\n",
       "      <td>-15.64461</td>\n",
       "      <td>-47.83064</td>\n",
       "      <td>82.83</td>\n",
       "    </tr>\n",
       "    <tr>\n",
       "      <th>15060</th>\n",
       "      <td>rua 37, sul, aguas claras</td>\n",
       "      <td>venda apartamento 56 m²</td>\n",
       "      <td>, condominio residencial espanha todo reformad...</td>\n",
       "      <td>699900.0</td>\n",
       "      <td>12498.0</td>\n",
       "      <td>56 m²2 quartos2 suites2 vagas</td>\n",
       "      <td>ed. df century plaza - águas claras - rua 37 s...</td>\n",
       "      <td>/imovel/apartamento-2-quartos-venda-sul-aguas-...</td>\n",
       "      <td>1/172/173/174/175/176/177/178/179/1710/1711/17...</td>\n",
       "      <td>2</td>\n",
       "      <td>2</td>\n",
       "      <td>2</td>\n",
       "      <td>2</td>\n",
       "      <td>56.0</td>\n",
       "      <td>06/06/2023</td>\n",
       "      <td>condominio residencial espanha</td>\n",
       "      <td>condominio residencial espanha, aguas claras -...</td>\n",
       "      <td>-15.64461</td>\n",
       "      <td>-47.83064</td>\n",
       "      <td>80.64</td>\n",
       "    </tr>\n",
       "    <tr>\n",
       "      <th>16029</th>\n",
       "      <td>rua 37, sul, aguas claras</td>\n",
       "      <td>venda apartamento 34 m²</td>\n",
       "      <td>rua 37 sul residencial real celebration life c...</td>\n",
       "      <td>315000.0</td>\n",
       "      <td>9264.0</td>\n",
       "      <td>34 m²1 quarto1 vaga</td>\n",
       "      <td>não perca a oportunidade de morar na melhor lo...</td>\n",
       "      <td>/imovel/apartamento-1-quarto-venda-sul-aguas-c...</td>\n",
       "      <td>1/212/213/214/215/216/217/218/219/2110/2111/21...</td>\n",
       "      <td>1</td>\n",
       "      <td>0</td>\n",
       "      <td>0</td>\n",
       "      <td>0</td>\n",
       "      <td>34.0</td>\n",
       "      <td>06/06/2023</td>\n",
       "      <td>condominio residencial espanha</td>\n",
       "      <td>condominio residencial espanha, aguas claras -...</td>\n",
       "      <td>-15.64461</td>\n",
       "      <td>-47.83064</td>\n",
       "      <td>80.64</td>\n",
       "    </tr>\n",
       "  </tbody>\n",
       "</table>\n",
       "</div>"
      ],
      "text/plain": [
       "                                                  titulo  \\\n",
       "563                            rua 37, sul, aguas claras   \n",
       "3832                           rua 37, sul, aguas claras   \n",
       "3917   alameda dos eucaliptos quadra 107, norte, agua...   \n",
       "5130                           rua 37, sul, aguas claras   \n",
       "5819   alameda dos eucaliptos quadra 107, norte, agua...   \n",
       "6549                           rua 37, sul, aguas claras   \n",
       "7555                           rua 37, sul, aguas claras   \n",
       "8701                           rua 37, sul, aguas claras   \n",
       "9942                           rua 37, sul, aguas claras   \n",
       "12956            avenida pau brasil, norte, aguas claras   \n",
       "13983            avenida pau brasil, norte, aguas claras   \n",
       "14227  alameda dos eucaliptos quadra 107, norte, agua...   \n",
       "14393                          rua 37, sul, aguas claras   \n",
       "14958  alameda dos eucaliptos quadra 107, norte, agua...   \n",
       "15060                          rua 37, sul, aguas claras   \n",
       "16029                          rua 37, sul, aguas claras   \n",
       "\n",
       "                           desc  \\\n",
       "563     venda apartamento 92 m²   \n",
       "3832    venda apartamento 91 m²   \n",
       "3917   venda apartamento 110 m²   \n",
       "5130     venda apartamento 0 m²   \n",
       "5819   venda apartamento 169 m²   \n",
       "6549    venda apartamento 30 m²   \n",
       "7555    venda apartamento 92 m²   \n",
       "8701    venda apartamento 72 m²   \n",
       "9942    venda apartamento 92 m²   \n",
       "12956  venda apartamento 103 m²   \n",
       "13983  venda apartamento 103 m²   \n",
       "14227   venda apartamento 33 m²   \n",
       "14393   venda apartamento 85 m²   \n",
       "14958  venda apartamento 119 m²   \n",
       "15060   venda apartamento 56 m²   \n",
       "16029   venda apartamento 34 m²   \n",
       "\n",
       "                                                   desc2     preco  valor_m2  \\\n",
       "563    , condominio residencial espanha apt com pé-di...  610000.0    6630.0   \n",
       "3832   14 andar, condominio residencial espanha refor...  687000.0    7486.0   \n",
       "3917   , condominio residencial adv reformado, ótima ...  799000.0    7263.0   \n",
       "5130                    , condominio residencial espanha  360000.0  857142.0   \n",
       "5819              , condominio residencial adv completão  920000.0    5443.0   \n",
       "6549                    , condominio residencial espanha  299000.0    9966.0   \n",
       "7555                    , condominio residencial espanha  810000.0    8804.0   \n",
       "8701                    , condominio residencial espanha  650000.0    9027.0   \n",
       "9942                    , condominio residencial espanha  695000.0    7554.0   \n",
       "12956  - apto 3 quartos (1suíte) + home office 103m² ...  820000.0    7961.0   \n",
       "13983  residencial monet, condominio residencial mone...  890000.0    8640.0   \n",
       "14227  1qto suíte - nasc. / desoc. / 1vg/conquest, co...  315000.0    9545.0   \n",
       "14393                   , condominio residencial espanha  420000.0    4941.0   \n",
       "14958                       , condominio residencial adv  870000.0    7260.0   \n",
       "15060  , condominio residencial espanha todo reformad...  699900.0   12498.0   \n",
       "16029  rua 37 sul residencial real celebration life c...  315000.0    9264.0   \n",
       "\n",
       "                                espec  \\\n",
       "563      92 m²3 quartos2 suites1 vaga   \n",
       "3832     91 m²3 quartos2 suites1 vaga   \n",
       "3917    110 m²3 quartos2 suites1 vaga   \n",
       "5130               0 m²1 quarto1 vaga   \n",
       "5819   169 m²4 quartos2 suites2 vagas   \n",
       "6549              30 m²1 quarto1 vaga   \n",
       "7555     92 m²3 quartos2 suites1 vaga   \n",
       "8701      72 m²3 quartos1 suite1 vaga   \n",
       "9942      92 m²3 quartos1 suite1 vaga   \n",
       "12956    103 m²3 quartos1 suite1 vaga   \n",
       "13983    103 m²3 quartos1 suite1 vaga   \n",
       "14227      33 m²1 quarto1 suite1 vaga   \n",
       "14393      85 m²1 quarto1 suite1 vaga   \n",
       "14958          119 m²3 quartos1 suite   \n",
       "15060   56 m²2 quartos2 suites2 vagas   \n",
       "16029             34 m²1 quarto1 vaga   \n",
       "\n",
       "                                                   desc3  \\\n",
       "563    excelente oportunidade:\\r3 quartos;\\rsala ampl...   \n",
       "3832   ***** lindíssimo apto super reformado no resid...   \n",
       "3917   aj mendes imobiliária vende excelente apartame...   \n",
       "5130   residencial real celebration life clube. – em ...   \n",
       "5819   grandão semi vazado super claro e ventilado!!!...   \n",
       "6549   mendonça vendeexcelente apartamento em ótima l...   \n",
       "7555   - apartamento com 92m² privativo- com dependen...   \n",
       "8701   residencial rivoli, 15º andar ,varanda com vis...   \n",
       "9942   julisce alencar assessoria imobiliária vende.....   \n",
       "12956  facilita imóveis disponibiliza para venda exce...   \n",
       "13983  vendo excelente apartamento no residencial mon...   \n",
       "14227  1 quarto suíte , sala, coz. americana e 1vgáre...   \n",
       "14393  apartamento duplex de 1 quarto sendo suite, co...   \n",
       "14958  murta e almeida vende: lindo apartamento refor...   \n",
       "15060  ed. df century plaza - águas claras - rua 37 s...   \n",
       "16029  não perca a oportunidade de morar na melhor lo...   \n",
       "\n",
       "                                            link_anuncio  \\\n",
       "563    /imovel/apartamento-3-quartos-venda-sul-aguas-...   \n",
       "3832   /imovel/apartamento-3-quartos-venda-sul-aguas-...   \n",
       "3917   /imovel/apartamento-3-quartos-venda-norte-agua...   \n",
       "5130   /imovel/apartamento-1-quarto-venda-sul-aguas-c...   \n",
       "5819   /imovel/apartamento-4-quartos-venda-norte-agua...   \n",
       "6549   /imovel/apartamento-1-quarto-venda-sul-aguas-c...   \n",
       "7555   /imovel/apartamento-3-quartos-venda-sul-aguas-...   \n",
       "8701   /imovel/apartamento-3-quartos-venda-sul-aguas-...   \n",
       "9942   /imovel/apartamento-3-quartos-venda-sul-aguas-...   \n",
       "12956  /imovel/apartamento-3-quartos-venda-norte-agua...   \n",
       "13983  /imovel/apartamento-3-quartos-venda-norte-agua...   \n",
       "14227  /imovel/apartamento-1-quarto-venda-norte-aguas...   \n",
       "14393  /imovel/apartamento-1-quarto-venda-sul-aguas-c...   \n",
       "14958  /imovel/apartamento-3-quartos-venda-norte-agua...   \n",
       "15060  /imovel/apartamento-2-quartos-venda-sul-aguas-...   \n",
       "16029  /imovel/apartamento-1-quarto-venda-sul-aguas-c...   \n",
       "\n",
       "                                                conteudo quartos banheiros  \\\n",
       "563    1/242/243/244/245/246/247/248/249/2410/2411/24...       3         0   \n",
       "3832   1/322/323/324/325/326/327/328/329/3210/3211/32...       3         0   \n",
       "3917   1/502/503/504/505/506/507/508/509/5010/5011/50...       3         0   \n",
       "5130   1/302/303/304/305/306/307/308/309/3010/3011/30...       1         1   \n",
       "5819   1/512/513/514/515/516/517/518/519/5110/5111/51...       4         0   \n",
       "6549   1/122/123/124/125/126/127/128/129/1210/1211/12...       1         0   \n",
       "7555   1/282/283/284/285/286/287/288/289/2810/2811/28...       2         0   \n",
       "8701   1/62/63/64/65/66/6ligue agoraenviar emailindiq...       3         0   \n",
       "9942   1/222/223/224/225/226/227/228/229/2210/2211/22...       3         1   \n",
       "12956  1/272/273/274/275/276/277/278/279/2710/2711/27...       3         3   \n",
       "13983  1/462/463/464/465/466/467/468/469/4610/4611/46...       2         0   \n",
       "14227  1/472/473/474/475/476/477/478/479/4710/4711/47...       1         0   \n",
       "14393  1/142/143/144/145/146/147/148/149/1410/1411/14...       1         0   \n",
       "14958  1/392/393/394/395/396/397/398/399/3910/3911/39...       3         0   \n",
       "15060  1/172/173/174/175/176/177/178/179/1710/1711/17...       2         2   \n",
       "16029  1/212/213/214/215/216/217/218/219/2110/2111/21...       1         0   \n",
       "\n",
       "      suites vagas espaco        data                        edificio  \\\n",
       "563        2     2   92.0  06/06/2023  condominio residencial espanha   \n",
       "3832       2     2   91.0  06/06/2023  condominio residencial espanha   \n",
       "3917       2     2  110.0  06/06/2023      condominio residencial adv   \n",
       "5130       0     0    0.0  06/06/2023  condominio residencial espanha   \n",
       "5819       3     3  169.0  06/06/2023      condominio residencial adv   \n",
       "6549       0     0   30.0  06/06/2023  condominio residencial espanha   \n",
       "7555       2     2   92.0  06/06/2023  condominio residencial espanha   \n",
       "8701       2     2   72.0  06/06/2023  condominio residencial espanha   \n",
       "9942       2     2   92.0  06/06/2023  condominio residencial espanha   \n",
       "12956      2     2  103.0  06/06/2023    condominio residencial monet   \n",
       "13983      2     2  103.0  06/06/2023    condominio residencial monet   \n",
       "14227      1     1   33.0  06/06/2023      condominio residencial adv   \n",
       "14393      1     1   85.0  06/06/2023  condominio residencial espanha   \n",
       "14958      2     2  119.0  06/06/2023      condominio residencial adv   \n",
       "15060      2     2   56.0  06/06/2023  condominio residencial espanha   \n",
       "16029      0     0   34.0  06/06/2023  condominio residencial espanha   \n",
       "\n",
       "                                                endereco   latitude  \\\n",
       "563    condominio residencial espanha, aguas claras -...  -15.64461   \n",
       "3832   condominio residencial espanha, aguas claras -...  -15.64461   \n",
       "3917   condominio residencial adv, aguas claras - DF,...  -15.64461   \n",
       "5130   condominio residencial espanha, aguas claras -...  -15.64461   \n",
       "5819   condominio residencial adv, aguas claras - DF,...  -15.64461   \n",
       "6549   condominio residencial espanha, aguas claras -...  -15.64461   \n",
       "7555   condominio residencial espanha, aguas claras -...  -15.64461   \n",
       "8701   condominio residencial espanha, aguas claras -...  -15.64461   \n",
       "9942   condominio residencial espanha, aguas claras -...  -15.64461   \n",
       "12956  condominio residencial monet, aguas claras - D...  -15.64461   \n",
       "13983  condominio residencial monet, aguas claras - D...  -15.64461   \n",
       "14227  condominio residencial adv, aguas claras - DF,...  -15.64461   \n",
       "14393  condominio residencial espanha, aguas claras -...  -15.64461   \n",
       "14958  condominio residencial adv, aguas claras - DF,...  -15.64461   \n",
       "15060  condominio residencial espanha, aguas claras -...  -15.64461   \n",
       "16029  condominio residencial espanha, aguas claras -...  -15.64461   \n",
       "\n",
       "       longitude  score  \n",
       "563    -47.83064  80.64  \n",
       "3832   -47.83064  80.64  \n",
       "3917   -47.83064  82.83  \n",
       "5130   -47.83064  80.64  \n",
       "5819   -47.83064  82.83  \n",
       "6549   -47.83064  80.64  \n",
       "7555   -47.83064  80.64  \n",
       "8701   -47.83064  80.64  \n",
       "9942   -47.83064  80.64  \n",
       "12956  -47.83064  81.69  \n",
       "13983  -47.83064  81.69  \n",
       "14227  -47.83064  82.83  \n",
       "14393  -47.83064  80.64  \n",
       "14958  -47.83064  82.83  \n",
       "15060  -47.83064  80.64  \n",
       "16029  -47.83064  80.64  "
      ]
     },
     "execution_count": 19,
     "metadata": {},
     "output_type": "execute_result"
    }
   ],
   "source": [
    "# Analisando alguns pontos fora de Aguas Claras\n",
    "filtro = df.latitude.str.contains('15.64')\n",
    "df[filtro]"
   ]
  },
  {
   "cell_type": "code",
   "execution_count": 22,
   "metadata": {
    "executionInfo": {
     "elapsed": 8,
     "status": "ok",
     "timestamp": 1688416145275,
     "user": {
      "displayName": "Caio Cesar Ribeiro Brito",
      "userId": "09669924537412269636"
     },
     "user_tz": 180
    },
    "id": "WItzC2VQxQ1_"
   },
   "outputs": [],
   "source": [
    "filtro = df.latitude.str.contains('15.64')\n",
    "index = df[filtro].index"
   ]
  },
  {
   "cell_type": "code",
   "execution_count": 23,
   "metadata": {
    "executionInfo": {
     "elapsed": 9107,
     "status": "ok",
     "timestamp": 1688416158952,
     "user": {
      "displayName": "Caio Cesar Ribeiro Brito",
      "userId": "09669924537412269636"
     },
     "user_tz": 180
    },
    "id": "N4ngZ37wxHwr"
   },
   "outputs": [
    {
     "name": "stdout",
     "output_type": "stream",
     "text": [
      "563 fail\n",
      "3832 fail\n",
      "3917 fail\n",
      "5130 fail\n",
      "5819 fail\n",
      "6549 fail\n",
      "7555 fail\n",
      "8701 fail\n",
      "9942 fail\n",
      "12956 fail\n",
      "13983 fail\n",
      "14227 fail\n",
      "14393 fail\n",
      "14958 fail\n",
      "15060 fail\n",
      "16029 fail\n"
     ]
    }
   ],
   "source": [
    "for i in index:\n",
    "\n",
    "    try:\n",
    "\n",
    "        location = coordenadas(f'{df.titulo[i]} - Distrito Federal')\n",
    "\n",
    "        df.loc[i, 'latitude'] = str(location.latitude)\n",
    "        df.loc[i, 'longitude'] = str(location.longitude)\n",
    "        df.loc[i, 'score'] = float(location.raw['score'])\n",
    "\n",
    "    except:\n",
    "        print(i, 'fail')"
   ]
  },
  {
   "cell_type": "code",
   "execution_count": 24,
   "metadata": {
    "executionInfo": {
     "elapsed": 290,
     "status": "ok",
     "timestamp": 1688416162050,
     "user": {
      "displayName": "Caio Cesar Ribeiro Brito",
      "userId": "09669924537412269636"
     },
     "user_tz": 180
    },
    "id": "jVzJV2wv0hnt"
   },
   "outputs": [],
   "source": [
    "df.reset_index(inplace=True)\n",
    "df.drop(columns='index', inplace = True)"
   ]
  },
  {
   "cell_type": "code",
   "execution_count": 25,
   "metadata": {
    "executionInfo": {
     "elapsed": 615,
     "status": "ok",
     "timestamp": 1688416345486,
     "user": {
      "displayName": "Caio Cesar Ribeiro Brito",
      "userId": "09669924537412269636"
     },
     "user_tz": 180
    },
    "id": "-GqanFGVyv0G"
   },
   "outputs": [],
   "source": [
    "# Delimitando o perimetro que considero como Aguas Claras\n",
    "index = [i for i in range(len(df))\\\n",
    "         if (float(df.latitude[i]) > -15.827) | \\\n",
    "         (float(df.latitude[i]) < -15.88) | \\\n",
    "         (float(df.longitude[i]) < -48.048) | \\\n",
    "         (float(df.longitude[i]) > -47.994)]"
   ]
  },
  {
   "cell_type": "code",
   "execution_count": 26,
   "metadata": {
    "colab": {
     "base_uri": "https://localhost:8080/",
     "height": 542
    },
    "executionInfo": {
     "elapsed": 20,
     "status": "ok",
     "timestamp": 1688416345491,
     "user": {
      "displayName": "Caio Cesar Ribeiro Brito",
      "userId": "09669924537412269636"
     },
     "user_tz": 180
    },
    "id": "KxNVQpKq6EA6",
    "outputId": "17282b8d-ea2f-49e7-9aca-6a8049babea8"
   },
   "outputs": [
    {
     "data": {
      "application/vnd.plotly.v1+json": {
       "config": {
        "plotlyServerURL": "https://plot.ly"
       },
       "data": [
        {
         "lat": [
          "-19.95215",
          "-15.974985617098",
          "-15.879043484687",
          "-15.820545586541",
          "-15.820545586541",
          "-15.64461",
          "-22.61436",
          "-15.99845",
          "-15.99845",
          "-15.820545586541",
          "-15.820545586541",
          "-15.820545586541",
          "-15.820545586541",
          "-15.820545586541",
          "-19.95215",
          "-15.820545586541",
          "-15.820545586541",
          "-15.820545586541",
          "-15.820545586541",
          "-15.99845",
          "-15.820545586541",
          "-15.99845",
          "-19.95215",
          "-19.95215",
          "-21.16981",
          "-3.407584993824",
          "-15.64461",
          "-15.64461",
          "-15.820545586541",
          "-3.40758",
          "-15.820545586541",
          "-15.820545586541",
          "-15.820545586541",
          "-15.820545586541",
          "-15.820545586541",
          "-15.64461",
          "-15.820545586541",
          "-15.820545586541",
          "-15.820545586541",
          "-22.17185",
          "-15.661225437967",
          "-15.820545586541",
          "-15.64461",
          "-15.820545586541",
          "-15.820545586541",
          "-15.820545586541",
          "-15.820545586541",
          "-21.16981",
          "-3.407584993824",
          "-15.964734983148",
          "-15.64461",
          "-15.820545586541",
          "-15.820545586541",
          "-23.23621",
          "-15.820545586541",
          "-15.820545586541",
          "-15.820545586541",
          "-15.820545586541",
          "-15.64461",
          "-3.407584993824",
          "-21.16981",
          "-21.16981",
          "-3.40758",
          "-15.820545586541",
          "-15.656210182867",
          "-3.40758",
          "-15.820545586541",
          "-15.64461",
          "-15.820545586541",
          "-15.820545586541",
          "-15.974985617098",
          "-15.820545586541",
          "-15.93479",
          "-15.820545586541",
          "-3.40758",
          "-15.820545586541",
          "-15.64461",
          "-22.17185",
          "-15.820545586541",
          "-15.87035",
          "-15.99845",
          "-15.656210182867",
          "-3.407584993824",
          "-15.820545586541",
          "-15.820545586541",
          "-15.820545586541",
          "-15.820545586541",
          "-3.40758",
          "-3.407584993824",
          "-15.974985617098",
          "-3.407584993824",
          "-15.820545586541",
          "-15.965450001399",
          "-3.407584993824",
          "-15.64461",
          "-22.17185",
          "-15.820545586541",
          "-3.407584993824",
          "-15.99845",
          "-15.820545586541",
          "-3.40758",
          "-15.820545586541",
          "-15.820545586541",
          "-21.16981",
          "-15.820545586541",
          "-15.820545586541",
          "-3.407584993824",
          "-15.64461",
          "-15.820545586541",
          "-15.64461",
          "-15.820545586541",
          "-15.820545586541",
          "-21.16981",
          "-15.64461",
          "-15.820545586541",
          "-15.974985617098",
          "-21.16981",
          "-15.64461",
          "-15.820545586541",
          "-15.64461",
          "-15.820545586541",
          "-15.820545586541",
          "-11.85281",
          "-3.407584993824",
          "-15.820545586541",
          "-15.820545586541",
          "-15.99845",
          "-15.820545586541",
          "-15.64461",
          "-22.17185",
          "-15.820545586541",
          "-15.99845",
          "-15.99845"
         ],
         "lon": [
          "-44.2475",
          "-48.041491577599",
          "-47.976087713619",
          "-48.040808859434",
          "-48.040808859434",
          "-47.83064",
          "-47.42651",
          "-48.06544",
          "-48.06544",
          "-48.040808859434",
          "-48.040808859434",
          "-48.040808859434",
          "-48.040808859434",
          "-48.040808859434",
          "-44.2475",
          "-48.040808859434",
          "-48.040808859434",
          "-48.040808859434",
          "-48.040808859434",
          "-48.06544",
          "-48.040808859434",
          "-48.06544",
          "-44.2475",
          "-44.2475",
          "-50.47042",
          "-48.938829996129",
          "-47.83064",
          "-47.83064",
          "-48.040808859434",
          "-48.93883",
          "-48.040808859434",
          "-48.040808859434",
          "-48.040808859434",
          "-48.040808859434",
          "-48.040808859434",
          "-47.83064",
          "-48.040808859434",
          "-48.040808859434",
          "-48.040808859434",
          "-42.95808",
          "-47.837222558332",
          "-48.040808859434",
          "-47.83064",
          "-48.040808859434",
          "-48.040808859434",
          "-48.040808859434",
          "-48.040808859434",
          "-50.47042",
          "-48.938829996129",
          "-48.033255002477",
          "-47.83064",
          "-48.040808859434",
          "-48.040808859434",
          "-45.88022",
          "-48.040808859434",
          "-48.040808859434",
          "-48.040808859434",
          "-48.040808859434",
          "-47.83064",
          "-48.938829996129",
          "-50.47042",
          "-50.47042",
          "-48.93883",
          "-48.040808859434",
          "-47.870050001829",
          "-48.93883",
          "-48.040808859434",
          "-47.83064",
          "-48.040808859434",
          "-48.040808859434",
          "-48.041491577599",
          "-48.040808859434",
          "-47.97297",
          "-48.040808859434",
          "-48.93883",
          "-48.040808859434",
          "-47.83064",
          "-42.95808",
          "-48.040808859434",
          "-47.86501",
          "-48.06544",
          "-47.870050001829",
          "-48.938829996129",
          "-48.040808859434",
          "-48.040808859434",
          "-48.040808859434",
          "-48.040808859434",
          "-48.93883",
          "-48.938829996129",
          "-48.041491577599",
          "-48.938829996129",
          "-48.040808859434",
          "-48.030955008246",
          "-48.938829996129",
          "-47.83064",
          "-42.95808",
          "-48.040808859434",
          "-48.938829996129",
          "-48.06544",
          "-48.040808859434",
          "-48.93883",
          "-48.040808859434",
          "-48.040808859434",
          "-50.47042",
          "-48.040808859434",
          "-48.040808859434",
          "-48.938829996129",
          "-47.83064",
          "-48.040808859434",
          "-47.83064",
          "-48.040808859434",
          "-48.040808859434",
          "-50.47042",
          "-47.83064",
          "-48.040808859434",
          "-48.041491577599",
          "-50.47042",
          "-47.83064",
          "-48.040808859434",
          "-47.83064",
          "-48.040808859434",
          "-48.040808859434",
          "-55.54717",
          "-48.938829996129",
          "-48.040808859434",
          "-48.040808859434",
          "-48.06544",
          "-48.040808859434",
          "-47.83064",
          "-42.95808",
          "-48.040808859434",
          "-48.06544",
          "-48.06544"
         ],
         "radius": 7,
         "type": "densitymapbox"
        }
       ],
       "layout": {
        "mapbox": {
         "center": {
          "lon": 180
         },
         "style": "stamen-terrain"
        },
        "margin": {
         "b": 0,
         "l": 0,
         "r": 0,
         "t": 0
        },
        "template": {
         "data": {
          "bar": [
           {
            "error_x": {
             "color": "#2a3f5f"
            },
            "error_y": {
             "color": "#2a3f5f"
            },
            "marker": {
             "line": {
              "color": "#E5ECF6",
              "width": 0.5
             }
            },
            "type": "bar"
           }
          ],
          "barpolar": [
           {
            "marker": {
             "line": {
              "color": "#E5ECF6",
              "width": 0.5
             }
            },
            "type": "barpolar"
           }
          ],
          "carpet": [
           {
            "aaxis": {
             "endlinecolor": "#2a3f5f",
             "gridcolor": "white",
             "linecolor": "white",
             "minorgridcolor": "white",
             "startlinecolor": "#2a3f5f"
            },
            "baxis": {
             "endlinecolor": "#2a3f5f",
             "gridcolor": "white",
             "linecolor": "white",
             "minorgridcolor": "white",
             "startlinecolor": "#2a3f5f"
            },
            "type": "carpet"
           }
          ],
          "choropleth": [
           {
            "colorbar": {
             "outlinewidth": 0,
             "ticks": ""
            },
            "type": "choropleth"
           }
          ],
          "contour": [
           {
            "colorbar": {
             "outlinewidth": 0,
             "ticks": ""
            },
            "colorscale": [
             [
              0,
              "#0d0887"
             ],
             [
              0.1111111111111111,
              "#46039f"
             ],
             [
              0.2222222222222222,
              "#7201a8"
             ],
             [
              0.3333333333333333,
              "#9c179e"
             ],
             [
              0.4444444444444444,
              "#bd3786"
             ],
             [
              0.5555555555555556,
              "#d8576b"
             ],
             [
              0.6666666666666666,
              "#ed7953"
             ],
             [
              0.7777777777777778,
              "#fb9f3a"
             ],
             [
              0.8888888888888888,
              "#fdca26"
             ],
             [
              1,
              "#f0f921"
             ]
            ],
            "type": "contour"
           }
          ],
          "contourcarpet": [
           {
            "colorbar": {
             "outlinewidth": 0,
             "ticks": ""
            },
            "type": "contourcarpet"
           }
          ],
          "heatmap": [
           {
            "colorbar": {
             "outlinewidth": 0,
             "ticks": ""
            },
            "colorscale": [
             [
              0,
              "#0d0887"
             ],
             [
              0.1111111111111111,
              "#46039f"
             ],
             [
              0.2222222222222222,
              "#7201a8"
             ],
             [
              0.3333333333333333,
              "#9c179e"
             ],
             [
              0.4444444444444444,
              "#bd3786"
             ],
             [
              0.5555555555555556,
              "#d8576b"
             ],
             [
              0.6666666666666666,
              "#ed7953"
             ],
             [
              0.7777777777777778,
              "#fb9f3a"
             ],
             [
              0.8888888888888888,
              "#fdca26"
             ],
             [
              1,
              "#f0f921"
             ]
            ],
            "type": "heatmap"
           }
          ],
          "heatmapgl": [
           {
            "colorbar": {
             "outlinewidth": 0,
             "ticks": ""
            },
            "colorscale": [
             [
              0,
              "#0d0887"
             ],
             [
              0.1111111111111111,
              "#46039f"
             ],
             [
              0.2222222222222222,
              "#7201a8"
             ],
             [
              0.3333333333333333,
              "#9c179e"
             ],
             [
              0.4444444444444444,
              "#bd3786"
             ],
             [
              0.5555555555555556,
              "#d8576b"
             ],
             [
              0.6666666666666666,
              "#ed7953"
             ],
             [
              0.7777777777777778,
              "#fb9f3a"
             ],
             [
              0.8888888888888888,
              "#fdca26"
             ],
             [
              1,
              "#f0f921"
             ]
            ],
            "type": "heatmapgl"
           }
          ],
          "histogram": [
           {
            "marker": {
             "colorbar": {
              "outlinewidth": 0,
              "ticks": ""
             }
            },
            "type": "histogram"
           }
          ],
          "histogram2d": [
           {
            "colorbar": {
             "outlinewidth": 0,
             "ticks": ""
            },
            "colorscale": [
             [
              0,
              "#0d0887"
             ],
             [
              0.1111111111111111,
              "#46039f"
             ],
             [
              0.2222222222222222,
              "#7201a8"
             ],
             [
              0.3333333333333333,
              "#9c179e"
             ],
             [
              0.4444444444444444,
              "#bd3786"
             ],
             [
              0.5555555555555556,
              "#d8576b"
             ],
             [
              0.6666666666666666,
              "#ed7953"
             ],
             [
              0.7777777777777778,
              "#fb9f3a"
             ],
             [
              0.8888888888888888,
              "#fdca26"
             ],
             [
              1,
              "#f0f921"
             ]
            ],
            "type": "histogram2d"
           }
          ],
          "histogram2dcontour": [
           {
            "colorbar": {
             "outlinewidth": 0,
             "ticks": ""
            },
            "colorscale": [
             [
              0,
              "#0d0887"
             ],
             [
              0.1111111111111111,
              "#46039f"
             ],
             [
              0.2222222222222222,
              "#7201a8"
             ],
             [
              0.3333333333333333,
              "#9c179e"
             ],
             [
              0.4444444444444444,
              "#bd3786"
             ],
             [
              0.5555555555555556,
              "#d8576b"
             ],
             [
              0.6666666666666666,
              "#ed7953"
             ],
             [
              0.7777777777777778,
              "#fb9f3a"
             ],
             [
              0.8888888888888888,
              "#fdca26"
             ],
             [
              1,
              "#f0f921"
             ]
            ],
            "type": "histogram2dcontour"
           }
          ],
          "mesh3d": [
           {
            "colorbar": {
             "outlinewidth": 0,
             "ticks": ""
            },
            "type": "mesh3d"
           }
          ],
          "parcoords": [
           {
            "line": {
             "colorbar": {
              "outlinewidth": 0,
              "ticks": ""
             }
            },
            "type": "parcoords"
           }
          ],
          "pie": [
           {
            "automargin": true,
            "type": "pie"
           }
          ],
          "scatter": [
           {
            "marker": {
             "colorbar": {
              "outlinewidth": 0,
              "ticks": ""
             }
            },
            "type": "scatter"
           }
          ],
          "scatter3d": [
           {
            "line": {
             "colorbar": {
              "outlinewidth": 0,
              "ticks": ""
             }
            },
            "marker": {
             "colorbar": {
              "outlinewidth": 0,
              "ticks": ""
             }
            },
            "type": "scatter3d"
           }
          ],
          "scattercarpet": [
           {
            "marker": {
             "colorbar": {
              "outlinewidth": 0,
              "ticks": ""
             }
            },
            "type": "scattercarpet"
           }
          ],
          "scattergeo": [
           {
            "marker": {
             "colorbar": {
              "outlinewidth": 0,
              "ticks": ""
             }
            },
            "type": "scattergeo"
           }
          ],
          "scattergl": [
           {
            "marker": {
             "colorbar": {
              "outlinewidth": 0,
              "ticks": ""
             }
            },
            "type": "scattergl"
           }
          ],
          "scattermapbox": [
           {
            "marker": {
             "colorbar": {
              "outlinewidth": 0,
              "ticks": ""
             }
            },
            "type": "scattermapbox"
           }
          ],
          "scatterpolar": [
           {
            "marker": {
             "colorbar": {
              "outlinewidth": 0,
              "ticks": ""
             }
            },
            "type": "scatterpolar"
           }
          ],
          "scatterpolargl": [
           {
            "marker": {
             "colorbar": {
              "outlinewidth": 0,
              "ticks": ""
             }
            },
            "type": "scatterpolargl"
           }
          ],
          "scatterternary": [
           {
            "marker": {
             "colorbar": {
              "outlinewidth": 0,
              "ticks": ""
             }
            },
            "type": "scatterternary"
           }
          ],
          "surface": [
           {
            "colorbar": {
             "outlinewidth": 0,
             "ticks": ""
            },
            "colorscale": [
             [
              0,
              "#0d0887"
             ],
             [
              0.1111111111111111,
              "#46039f"
             ],
             [
              0.2222222222222222,
              "#7201a8"
             ],
             [
              0.3333333333333333,
              "#9c179e"
             ],
             [
              0.4444444444444444,
              "#bd3786"
             ],
             [
              0.5555555555555556,
              "#d8576b"
             ],
             [
              0.6666666666666666,
              "#ed7953"
             ],
             [
              0.7777777777777778,
              "#fb9f3a"
             ],
             [
              0.8888888888888888,
              "#fdca26"
             ],
             [
              1,
              "#f0f921"
             ]
            ],
            "type": "surface"
           }
          ],
          "table": [
           {
            "cells": {
             "fill": {
              "color": "#EBF0F8"
             },
             "line": {
              "color": "white"
             }
            },
            "header": {
             "fill": {
              "color": "#C8D4E3"
             },
             "line": {
              "color": "white"
             }
            },
            "type": "table"
           }
          ]
         },
         "layout": {
          "annotationdefaults": {
           "arrowcolor": "#2a3f5f",
           "arrowhead": 0,
           "arrowwidth": 1
          },
          "autotypenumbers": "strict",
          "coloraxis": {
           "colorbar": {
            "outlinewidth": 0,
            "ticks": ""
           }
          },
          "colorscale": {
           "diverging": [
            [
             0,
             "#8e0152"
            ],
            [
             0.1,
             "#c51b7d"
            ],
            [
             0.2,
             "#de77ae"
            ],
            [
             0.3,
             "#f1b6da"
            ],
            [
             0.4,
             "#fde0ef"
            ],
            [
             0.5,
             "#f7f7f7"
            ],
            [
             0.6,
             "#e6f5d0"
            ],
            [
             0.7,
             "#b8e186"
            ],
            [
             0.8,
             "#7fbc41"
            ],
            [
             0.9,
             "#4d9221"
            ],
            [
             1,
             "#276419"
            ]
           ],
           "sequential": [
            [
             0,
             "#0d0887"
            ],
            [
             0.1111111111111111,
             "#46039f"
            ],
            [
             0.2222222222222222,
             "#7201a8"
            ],
            [
             0.3333333333333333,
             "#9c179e"
            ],
            [
             0.4444444444444444,
             "#bd3786"
            ],
            [
             0.5555555555555556,
             "#d8576b"
            ],
            [
             0.6666666666666666,
             "#ed7953"
            ],
            [
             0.7777777777777778,
             "#fb9f3a"
            ],
            [
             0.8888888888888888,
             "#fdca26"
            ],
            [
             1,
             "#f0f921"
            ]
           ],
           "sequentialminus": [
            [
             0,
             "#0d0887"
            ],
            [
             0.1111111111111111,
             "#46039f"
            ],
            [
             0.2222222222222222,
             "#7201a8"
            ],
            [
             0.3333333333333333,
             "#9c179e"
            ],
            [
             0.4444444444444444,
             "#bd3786"
            ],
            [
             0.5555555555555556,
             "#d8576b"
            ],
            [
             0.6666666666666666,
             "#ed7953"
            ],
            [
             0.7777777777777778,
             "#fb9f3a"
            ],
            [
             0.8888888888888888,
             "#fdca26"
            ],
            [
             1,
             "#f0f921"
            ]
           ]
          },
          "colorway": [
           "#636efa",
           "#EF553B",
           "#00cc96",
           "#ab63fa",
           "#FFA15A",
           "#19d3f3",
           "#FF6692",
           "#B6E880",
           "#FF97FF",
           "#FECB52"
          ],
          "font": {
           "color": "#2a3f5f"
          },
          "geo": {
           "bgcolor": "white",
           "lakecolor": "white",
           "landcolor": "#E5ECF6",
           "showlakes": true,
           "showland": true,
           "subunitcolor": "white"
          },
          "hoverlabel": {
           "align": "left"
          },
          "hovermode": "closest",
          "mapbox": {
           "style": "light"
          },
          "paper_bgcolor": "white",
          "plot_bgcolor": "#E5ECF6",
          "polar": {
           "angularaxis": {
            "gridcolor": "white",
            "linecolor": "white",
            "ticks": ""
           },
           "bgcolor": "#E5ECF6",
           "radialaxis": {
            "gridcolor": "white",
            "linecolor": "white",
            "ticks": ""
           }
          },
          "scene": {
           "xaxis": {
            "backgroundcolor": "#E5ECF6",
            "gridcolor": "white",
            "gridwidth": 2,
            "linecolor": "white",
            "showbackground": true,
            "ticks": "",
            "zerolinecolor": "white"
           },
           "yaxis": {
            "backgroundcolor": "#E5ECF6",
            "gridcolor": "white",
            "gridwidth": 2,
            "linecolor": "white",
            "showbackground": true,
            "ticks": "",
            "zerolinecolor": "white"
           },
           "zaxis": {
            "backgroundcolor": "#E5ECF6",
            "gridcolor": "white",
            "gridwidth": 2,
            "linecolor": "white",
            "showbackground": true,
            "ticks": "",
            "zerolinecolor": "white"
           }
          },
          "shapedefaults": {
           "line": {
            "color": "#2a3f5f"
           }
          },
          "ternary": {
           "aaxis": {
            "gridcolor": "white",
            "linecolor": "white",
            "ticks": ""
           },
           "baxis": {
            "gridcolor": "white",
            "linecolor": "white",
            "ticks": ""
           },
           "bgcolor": "#E5ECF6",
           "caxis": {
            "gridcolor": "white",
            "linecolor": "white",
            "ticks": ""
           }
          },
          "title": {
           "x": 0.05
          },
          "xaxis": {
           "automargin": true,
           "gridcolor": "white",
           "linecolor": "white",
           "ticks": "",
           "title": {
            "standoff": 15
           },
           "zerolinecolor": "white",
           "zerolinewidth": 2
          },
          "yaxis": {
           "automargin": true,
           "gridcolor": "white",
           "linecolor": "white",
           "ticks": "",
           "title": {
            "standoff": 15
           },
           "zerolinecolor": "white",
           "zerolinewidth": 2
          }
         }
        }
       }
      },
      "text/html": [
       "<div>                            <div id=\"f53ea753-e3b8-424e-9cff-df6fa6085261\" class=\"plotly-graph-div\" style=\"height:525px; width:100%;\"></div>            <script type=\"text/javascript\">                require([\"plotly\"], function(Plotly) {                    window.PLOTLYENV=window.PLOTLYENV || {};                                    if (document.getElementById(\"f53ea753-e3b8-424e-9cff-df6fa6085261\")) {                    Plotly.newPlot(                        \"f53ea753-e3b8-424e-9cff-df6fa6085261\",                        [{\"lat\": [\"-19.95215\", \"-15.974985617098\", \"-15.879043484687\", \"-15.820545586541\", \"-15.820545586541\", \"-15.64461\", \"-22.61436\", \"-15.99845\", \"-15.99845\", \"-15.820545586541\", \"-15.820545586541\", \"-15.820545586541\", \"-15.820545586541\", \"-15.820545586541\", \"-19.95215\", \"-15.820545586541\", \"-15.820545586541\", \"-15.820545586541\", \"-15.820545586541\", \"-15.99845\", \"-15.820545586541\", \"-15.99845\", \"-19.95215\", \"-19.95215\", \"-21.16981\", \"-3.407584993824\", \"-15.64461\", \"-15.64461\", \"-15.820545586541\", \"-3.40758\", \"-15.820545586541\", \"-15.820545586541\", \"-15.820545586541\", \"-15.820545586541\", \"-15.820545586541\", \"-15.64461\", \"-15.820545586541\", \"-15.820545586541\", \"-15.820545586541\", \"-22.17185\", \"-15.661225437967\", \"-15.820545586541\", \"-15.64461\", \"-15.820545586541\", \"-15.820545586541\", \"-15.820545586541\", \"-15.820545586541\", \"-21.16981\", \"-3.407584993824\", \"-15.964734983148\", \"-15.64461\", \"-15.820545586541\", \"-15.820545586541\", \"-23.23621\", \"-15.820545586541\", \"-15.820545586541\", \"-15.820545586541\", \"-15.820545586541\", \"-15.64461\", \"-3.407584993824\", \"-21.16981\", \"-21.16981\", \"-3.40758\", \"-15.820545586541\", \"-15.656210182867\", \"-3.40758\", \"-15.820545586541\", \"-15.64461\", \"-15.820545586541\", \"-15.820545586541\", \"-15.974985617098\", \"-15.820545586541\", \"-15.93479\", \"-15.820545586541\", \"-3.40758\", \"-15.820545586541\", \"-15.64461\", \"-22.17185\", \"-15.820545586541\", \"-15.87035\", \"-15.99845\", \"-15.656210182867\", \"-3.407584993824\", \"-15.820545586541\", \"-15.820545586541\", \"-15.820545586541\", \"-15.820545586541\", \"-3.40758\", \"-3.407584993824\", \"-15.974985617098\", \"-3.407584993824\", \"-15.820545586541\", \"-15.965450001399\", \"-3.407584993824\", \"-15.64461\", \"-22.17185\", \"-15.820545586541\", \"-3.407584993824\", \"-15.99845\", \"-15.820545586541\", \"-3.40758\", \"-15.820545586541\", \"-15.820545586541\", \"-21.16981\", \"-15.820545586541\", \"-15.820545586541\", \"-3.407584993824\", \"-15.64461\", \"-15.820545586541\", \"-15.64461\", \"-15.820545586541\", \"-15.820545586541\", \"-21.16981\", \"-15.64461\", \"-15.820545586541\", \"-15.974985617098\", \"-21.16981\", \"-15.64461\", \"-15.820545586541\", \"-15.64461\", \"-15.820545586541\", \"-15.820545586541\", \"-11.85281\", \"-3.407584993824\", \"-15.820545586541\", \"-15.820545586541\", \"-15.99845\", \"-15.820545586541\", \"-15.64461\", \"-22.17185\", \"-15.820545586541\", \"-15.99845\", \"-15.99845\"], \"lon\": [\"-44.2475\", \"-48.041491577599\", \"-47.976087713619\", \"-48.040808859434\", \"-48.040808859434\", \"-47.83064\", \"-47.42651\", \"-48.06544\", \"-48.06544\", \"-48.040808859434\", \"-48.040808859434\", \"-48.040808859434\", \"-48.040808859434\", \"-48.040808859434\", \"-44.2475\", \"-48.040808859434\", \"-48.040808859434\", \"-48.040808859434\", \"-48.040808859434\", \"-48.06544\", \"-48.040808859434\", \"-48.06544\", \"-44.2475\", \"-44.2475\", \"-50.47042\", \"-48.938829996129\", \"-47.83064\", \"-47.83064\", \"-48.040808859434\", \"-48.93883\", \"-48.040808859434\", \"-48.040808859434\", \"-48.040808859434\", \"-48.040808859434\", \"-48.040808859434\", \"-47.83064\", \"-48.040808859434\", \"-48.040808859434\", \"-48.040808859434\", \"-42.95808\", \"-47.837222558332\", \"-48.040808859434\", \"-47.83064\", \"-48.040808859434\", \"-48.040808859434\", \"-48.040808859434\", \"-48.040808859434\", \"-50.47042\", \"-48.938829996129\", \"-48.033255002477\", \"-47.83064\", \"-48.040808859434\", \"-48.040808859434\", \"-45.88022\", \"-48.040808859434\", \"-48.040808859434\", \"-48.040808859434\", \"-48.040808859434\", \"-47.83064\", \"-48.938829996129\", \"-50.47042\", \"-50.47042\", \"-48.93883\", \"-48.040808859434\", \"-47.870050001829\", \"-48.93883\", \"-48.040808859434\", \"-47.83064\", \"-48.040808859434\", \"-48.040808859434\", \"-48.041491577599\", \"-48.040808859434\", \"-47.97297\", \"-48.040808859434\", \"-48.93883\", \"-48.040808859434\", \"-47.83064\", \"-42.95808\", \"-48.040808859434\", \"-47.86501\", \"-48.06544\", \"-47.870050001829\", \"-48.938829996129\", \"-48.040808859434\", \"-48.040808859434\", \"-48.040808859434\", \"-48.040808859434\", \"-48.93883\", \"-48.938829996129\", \"-48.041491577599\", \"-48.938829996129\", \"-48.040808859434\", \"-48.030955008246\", \"-48.938829996129\", \"-47.83064\", \"-42.95808\", \"-48.040808859434\", \"-48.938829996129\", \"-48.06544\", \"-48.040808859434\", \"-48.93883\", \"-48.040808859434\", \"-48.040808859434\", \"-50.47042\", \"-48.040808859434\", \"-48.040808859434\", \"-48.938829996129\", \"-47.83064\", \"-48.040808859434\", \"-47.83064\", \"-48.040808859434\", \"-48.040808859434\", \"-50.47042\", \"-47.83064\", \"-48.040808859434\", \"-48.041491577599\", \"-50.47042\", \"-47.83064\", \"-48.040808859434\", \"-47.83064\", \"-48.040808859434\", \"-48.040808859434\", \"-55.54717\", \"-48.938829996129\", \"-48.040808859434\", \"-48.040808859434\", \"-48.06544\", \"-48.040808859434\", \"-47.83064\", \"-42.95808\", \"-48.040808859434\", \"-48.06544\", \"-48.06544\"], \"radius\": 7, \"type\": \"densitymapbox\"}],                        {\"mapbox\": {\"center\": {\"lon\": 180}, \"style\": \"stamen-terrain\"}, \"margin\": {\"b\": 0, \"l\": 0, \"r\": 0, \"t\": 0}, \"template\": {\"data\": {\"bar\": [{\"error_x\": {\"color\": \"#2a3f5f\"}, \"error_y\": {\"color\": \"#2a3f5f\"}, \"marker\": {\"line\": {\"color\": \"#E5ECF6\", \"width\": 0.5}}, \"type\": \"bar\"}], \"barpolar\": [{\"marker\": {\"line\": {\"color\": \"#E5ECF6\", \"width\": 0.5}}, \"type\": \"barpolar\"}], \"carpet\": [{\"aaxis\": {\"endlinecolor\": \"#2a3f5f\", \"gridcolor\": \"white\", \"linecolor\": \"white\", \"minorgridcolor\": \"white\", \"startlinecolor\": \"#2a3f5f\"}, \"baxis\": {\"endlinecolor\": \"#2a3f5f\", \"gridcolor\": \"white\", \"linecolor\": \"white\", \"minorgridcolor\": \"white\", \"startlinecolor\": \"#2a3f5f\"}, \"type\": \"carpet\"}], \"choropleth\": [{\"colorbar\": {\"outlinewidth\": 0, \"ticks\": \"\"}, \"type\": \"choropleth\"}], \"contour\": [{\"colorbar\": {\"outlinewidth\": 0, \"ticks\": \"\"}, \"colorscale\": [[0.0, \"#0d0887\"], [0.1111111111111111, \"#46039f\"], [0.2222222222222222, \"#7201a8\"], [0.3333333333333333, \"#9c179e\"], [0.4444444444444444, \"#bd3786\"], [0.5555555555555556, \"#d8576b\"], [0.6666666666666666, \"#ed7953\"], [0.7777777777777778, \"#fb9f3a\"], [0.8888888888888888, \"#fdca26\"], [1.0, \"#f0f921\"]], \"type\": \"contour\"}], \"contourcarpet\": [{\"colorbar\": {\"outlinewidth\": 0, \"ticks\": \"\"}, \"type\": \"contourcarpet\"}], \"heatmap\": [{\"colorbar\": {\"outlinewidth\": 0, \"ticks\": \"\"}, \"colorscale\": [[0.0, \"#0d0887\"], [0.1111111111111111, \"#46039f\"], [0.2222222222222222, \"#7201a8\"], [0.3333333333333333, \"#9c179e\"], [0.4444444444444444, \"#bd3786\"], [0.5555555555555556, \"#d8576b\"], [0.6666666666666666, \"#ed7953\"], [0.7777777777777778, \"#fb9f3a\"], [0.8888888888888888, \"#fdca26\"], [1.0, \"#f0f921\"]], \"type\": \"heatmap\"}], \"heatmapgl\": [{\"colorbar\": {\"outlinewidth\": 0, \"ticks\": \"\"}, \"colorscale\": [[0.0, \"#0d0887\"], [0.1111111111111111, \"#46039f\"], [0.2222222222222222, \"#7201a8\"], [0.3333333333333333, \"#9c179e\"], [0.4444444444444444, \"#bd3786\"], [0.5555555555555556, \"#d8576b\"], [0.6666666666666666, \"#ed7953\"], [0.7777777777777778, \"#fb9f3a\"], [0.8888888888888888, \"#fdca26\"], [1.0, \"#f0f921\"]], \"type\": \"heatmapgl\"}], \"histogram\": [{\"marker\": {\"colorbar\": {\"outlinewidth\": 0, \"ticks\": \"\"}}, \"type\": \"histogram\"}], \"histogram2d\": [{\"colorbar\": {\"outlinewidth\": 0, \"ticks\": \"\"}, \"colorscale\": [[0.0, \"#0d0887\"], [0.1111111111111111, \"#46039f\"], [0.2222222222222222, \"#7201a8\"], [0.3333333333333333, \"#9c179e\"], [0.4444444444444444, \"#bd3786\"], [0.5555555555555556, \"#d8576b\"], [0.6666666666666666, \"#ed7953\"], [0.7777777777777778, \"#fb9f3a\"], [0.8888888888888888, \"#fdca26\"], [1.0, \"#f0f921\"]], \"type\": \"histogram2d\"}], \"histogram2dcontour\": [{\"colorbar\": {\"outlinewidth\": 0, \"ticks\": \"\"}, \"colorscale\": [[0.0, \"#0d0887\"], [0.1111111111111111, \"#46039f\"], [0.2222222222222222, \"#7201a8\"], [0.3333333333333333, \"#9c179e\"], [0.4444444444444444, \"#bd3786\"], [0.5555555555555556, \"#d8576b\"], [0.6666666666666666, \"#ed7953\"], [0.7777777777777778, \"#fb9f3a\"], [0.8888888888888888, \"#fdca26\"], [1.0, \"#f0f921\"]], \"type\": \"histogram2dcontour\"}], \"mesh3d\": [{\"colorbar\": {\"outlinewidth\": 0, \"ticks\": \"\"}, \"type\": \"mesh3d\"}], \"parcoords\": [{\"line\": {\"colorbar\": {\"outlinewidth\": 0, \"ticks\": \"\"}}, \"type\": \"parcoords\"}], \"pie\": [{\"automargin\": true, \"type\": \"pie\"}], \"scatter\": [{\"marker\": {\"colorbar\": {\"outlinewidth\": 0, \"ticks\": \"\"}}, \"type\": \"scatter\"}], \"scatter3d\": [{\"line\": {\"colorbar\": {\"outlinewidth\": 0, \"ticks\": \"\"}}, \"marker\": {\"colorbar\": {\"outlinewidth\": 0, \"ticks\": \"\"}}, \"type\": \"scatter3d\"}], \"scattercarpet\": [{\"marker\": {\"colorbar\": {\"outlinewidth\": 0, \"ticks\": \"\"}}, \"type\": \"scattercarpet\"}], \"scattergeo\": [{\"marker\": {\"colorbar\": {\"outlinewidth\": 0, \"ticks\": \"\"}}, \"type\": \"scattergeo\"}], \"scattergl\": [{\"marker\": {\"colorbar\": {\"outlinewidth\": 0, \"ticks\": \"\"}}, \"type\": \"scattergl\"}], \"scattermapbox\": [{\"marker\": {\"colorbar\": {\"outlinewidth\": 0, \"ticks\": \"\"}}, \"type\": \"scattermapbox\"}], \"scatterpolar\": [{\"marker\": {\"colorbar\": {\"outlinewidth\": 0, \"ticks\": \"\"}}, \"type\": \"scatterpolar\"}], \"scatterpolargl\": [{\"marker\": {\"colorbar\": {\"outlinewidth\": 0, \"ticks\": \"\"}}, \"type\": \"scatterpolargl\"}], \"scatterternary\": [{\"marker\": {\"colorbar\": {\"outlinewidth\": 0, \"ticks\": \"\"}}, \"type\": \"scatterternary\"}], \"surface\": [{\"colorbar\": {\"outlinewidth\": 0, \"ticks\": \"\"}, \"colorscale\": [[0.0, \"#0d0887\"], [0.1111111111111111, \"#46039f\"], [0.2222222222222222, \"#7201a8\"], [0.3333333333333333, \"#9c179e\"], [0.4444444444444444, \"#bd3786\"], [0.5555555555555556, \"#d8576b\"], [0.6666666666666666, \"#ed7953\"], [0.7777777777777778, \"#fb9f3a\"], [0.8888888888888888, \"#fdca26\"], [1.0, \"#f0f921\"]], \"type\": \"surface\"}], \"table\": [{\"cells\": {\"fill\": {\"color\": \"#EBF0F8\"}, \"line\": {\"color\": \"white\"}}, \"header\": {\"fill\": {\"color\": \"#C8D4E3\"}, \"line\": {\"color\": \"white\"}}, \"type\": \"table\"}]}, \"layout\": {\"annotationdefaults\": {\"arrowcolor\": \"#2a3f5f\", \"arrowhead\": 0, \"arrowwidth\": 1}, \"autotypenumbers\": \"strict\", \"coloraxis\": {\"colorbar\": {\"outlinewidth\": 0, \"ticks\": \"\"}}, \"colorscale\": {\"diverging\": [[0, \"#8e0152\"], [0.1, \"#c51b7d\"], [0.2, \"#de77ae\"], [0.3, \"#f1b6da\"], [0.4, \"#fde0ef\"], [0.5, \"#f7f7f7\"], [0.6, \"#e6f5d0\"], [0.7, \"#b8e186\"], [0.8, \"#7fbc41\"], [0.9, \"#4d9221\"], [1, \"#276419\"]], \"sequential\": [[0.0, \"#0d0887\"], [0.1111111111111111, \"#46039f\"], [0.2222222222222222, \"#7201a8\"], [0.3333333333333333, \"#9c179e\"], [0.4444444444444444, \"#bd3786\"], [0.5555555555555556, \"#d8576b\"], [0.6666666666666666, \"#ed7953\"], [0.7777777777777778, \"#fb9f3a\"], [0.8888888888888888, \"#fdca26\"], [1.0, \"#f0f921\"]], \"sequentialminus\": [[0.0, \"#0d0887\"], [0.1111111111111111, \"#46039f\"], [0.2222222222222222, \"#7201a8\"], [0.3333333333333333, \"#9c179e\"], [0.4444444444444444, \"#bd3786\"], [0.5555555555555556, \"#d8576b\"], [0.6666666666666666, \"#ed7953\"], [0.7777777777777778, \"#fb9f3a\"], [0.8888888888888888, \"#fdca26\"], [1.0, \"#f0f921\"]]}, \"colorway\": [\"#636efa\", \"#EF553B\", \"#00cc96\", \"#ab63fa\", \"#FFA15A\", \"#19d3f3\", \"#FF6692\", \"#B6E880\", \"#FF97FF\", \"#FECB52\"], \"font\": {\"color\": \"#2a3f5f\"}, \"geo\": {\"bgcolor\": \"white\", \"lakecolor\": \"white\", \"landcolor\": \"#E5ECF6\", \"showlakes\": true, \"showland\": true, \"subunitcolor\": \"white\"}, \"hoverlabel\": {\"align\": \"left\"}, \"hovermode\": \"closest\", \"mapbox\": {\"style\": \"light\"}, \"paper_bgcolor\": \"white\", \"plot_bgcolor\": \"#E5ECF6\", \"polar\": {\"angularaxis\": {\"gridcolor\": \"white\", \"linecolor\": \"white\", \"ticks\": \"\"}, \"bgcolor\": \"#E5ECF6\", \"radialaxis\": {\"gridcolor\": \"white\", \"linecolor\": \"white\", \"ticks\": \"\"}}, \"scene\": {\"xaxis\": {\"backgroundcolor\": \"#E5ECF6\", \"gridcolor\": \"white\", \"gridwidth\": 2, \"linecolor\": \"white\", \"showbackground\": true, \"ticks\": \"\", \"zerolinecolor\": \"white\"}, \"yaxis\": {\"backgroundcolor\": \"#E5ECF6\", \"gridcolor\": \"white\", \"gridwidth\": 2, \"linecolor\": \"white\", \"showbackground\": true, \"ticks\": \"\", \"zerolinecolor\": \"white\"}, \"zaxis\": {\"backgroundcolor\": \"#E5ECF6\", \"gridcolor\": \"white\", \"gridwidth\": 2, \"linecolor\": \"white\", \"showbackground\": true, \"ticks\": \"\", \"zerolinecolor\": \"white\"}}, \"shapedefaults\": {\"line\": {\"color\": \"#2a3f5f\"}}, \"ternary\": {\"aaxis\": {\"gridcolor\": \"white\", \"linecolor\": \"white\", \"ticks\": \"\"}, \"baxis\": {\"gridcolor\": \"white\", \"linecolor\": \"white\", \"ticks\": \"\"}, \"bgcolor\": \"#E5ECF6\", \"caxis\": {\"gridcolor\": \"white\", \"linecolor\": \"white\", \"ticks\": \"\"}}, \"title\": {\"x\": 0.05}, \"xaxis\": {\"automargin\": true, \"gridcolor\": \"white\", \"linecolor\": \"white\", \"ticks\": \"\", \"title\": {\"standoff\": 15}, \"zerolinecolor\": \"white\", \"zerolinewidth\": 2}, \"yaxis\": {\"automargin\": true, \"gridcolor\": \"white\", \"linecolor\": \"white\", \"ticks\": \"\", \"title\": {\"standoff\": 15}, \"zerolinecolor\": \"white\", \"zerolinewidth\": 2}}}},                        {\"responsive\": true}                    ).then(function(){\n",
       "                            \n",
       "var gd = document.getElementById('f53ea753-e3b8-424e-9cff-df6fa6085261');\n",
       "var x = new MutationObserver(function (mutations, observer) {{\n",
       "        var display = window.getComputedStyle(gd).display;\n",
       "        if (!display || display === 'none') {{\n",
       "            console.log([gd, 'removed!']);\n",
       "            Plotly.purge(gd);\n",
       "            observer.disconnect();\n",
       "        }}\n",
       "}});\n",
       "\n",
       "// Listen for the removal of the full notebook cells\n",
       "var notebookContainer = gd.closest('#notebook-container');\n",
       "if (notebookContainer) {{\n",
       "    x.observe(notebookContainer, {childList: true});\n",
       "}}\n",
       "\n",
       "// Listen for the clearing of the current output cell\n",
       "var outputEl = gd.closest('.output');\n",
       "if (outputEl) {{\n",
       "    x.observe(outputEl, {childList: true});\n",
       "}}\n",
       "\n",
       "                        })                };                });            </script>        </div>"
      ]
     },
     "metadata": {},
     "output_type": "display_data"
    }
   ],
   "source": [
    "import plotly.graph_objects as go\n",
    "# Imoveis a venda\n",
    "fig = go.Figure(go.Densitymapbox(lat=df.loc[index].latitude, lon=df.loc[index].longitude, radius=7))\n",
    "fig.update_layout(mapbox_style=\"stamen-terrain\", mapbox_center_lon=180)\n",
    "fig.update_layout(margin={\"r\":0,\"t\":0,\"l\":0,\"b\":0})\n",
    "fig.show()"
   ]
  },
  {
   "cell_type": "code",
   "execution_count": 27,
   "metadata": {
    "colab": {
     "base_uri": "https://localhost:8080/"
    },
    "executionInfo": {
     "elapsed": 288,
     "status": "ok",
     "timestamp": 1688416363314,
     "user": {
      "displayName": "Caio Cesar Ribeiro Brito",
      "userId": "09669924537412269636"
     },
     "user_tz": 180
    },
    "id": "J1jgwpnw64R9",
    "outputId": "65a79a9e-d62a-45c1-bb91-89b7b54a18ae"
   },
   "outputs": [
    {
     "data": {
      "text/plain": [
       "133"
      ]
     },
     "execution_count": 27,
     "metadata": {},
     "output_type": "execute_result"
    }
   ],
   "source": [
    "# Apenas 133 registros estao fora de aguas claras\n",
    "len(df.loc[index])"
   ]
  },
  {
   "cell_type": "code",
   "execution_count": 28,
   "metadata": {
    "executionInfo": {
     "elapsed": 309,
     "status": "ok",
     "timestamp": 1688416368604,
     "user": {
      "displayName": "Caio Cesar Ribeiro Brito",
      "userId": "09669924537412269636"
     },
     "user_tz": 180
    },
    "id": "8JWBMcr_x3Cs"
   },
   "outputs": [],
   "source": [
    "# Resetando o index novamente\n",
    "df.drop(index=index, inplace=True)\n",
    "df.reset_index(inplace=True)\n",
    "df.drop(columns='index', inplace = True)"
   ]
  },
  {
   "cell_type": "markdown",
   "metadata": {},
   "source": [
    "## Avaliando os valores coletados"
   ]
  },
  {
   "cell_type": "code",
   "execution_count": 29,
   "metadata": {
    "colab": {
     "base_uri": "https://localhost:8080/"
    },
    "executionInfo": {
     "elapsed": 5,
     "status": "ok",
     "timestamp": 1688416547806,
     "user": {
      "displayName": "Caio Cesar Ribeiro Brito",
      "userId": "09669924537412269636"
     },
     "user_tz": 180
    },
    "id": "AF83w7172bM9",
    "outputId": "37009dc5-5247-4467-c59c-8ef566de31a2"
   },
   "outputs": [
    {
     "data": {
      "text/plain": [
       "0    2922\n",
       "1     242\n",
       "2     142\n",
       "3      92\n",
       "4      32\n",
       "5      20\n",
       "6       5\n",
       "Name: banheiros, dtype: int64"
      ]
     },
     "execution_count": 29,
     "metadata": {},
     "output_type": "execute_result"
    }
   ],
   "source": [
    "df['banheiros'].value_counts()"
   ]
  },
  {
   "cell_type": "code",
   "execution_count": 34,
   "metadata": {
    "colab": {
     "base_uri": "https://localhost:8080/"
    },
    "executionInfo": {
     "elapsed": 9,
     "status": "ok",
     "timestamp": 1688416563787,
     "user": {
      "displayName": "Caio Cesar Ribeiro Brito",
      "userId": "09669924537412269636"
     },
     "user_tz": 180
    },
    "id": "hc9-Typ6d_2w",
    "outputId": "098ef08b-3282-4b0f-c03d-93881be6de79"
   },
   "outputs": [
    {
     "data": {
      "text/plain": [
       "2    1046\n",
       "3    1036\n",
       "1     809\n",
       "4     557\n",
       "5       6\n",
       "6       1\n",
       "Name: quartos, dtype: int64"
      ]
     },
     "execution_count": 34,
     "metadata": {},
     "output_type": "execute_result"
    }
   ],
   "source": [
    "df['quartos'].value_counts()"
   ]
  },
  {
   "cell_type": "code",
   "execution_count": 35,
   "metadata": {
    "colab": {
     "base_uri": "https://localhost:8080/"
    },
    "executionInfo": {
     "elapsed": 8,
     "status": "ok",
     "timestamp": 1688416604265,
     "user": {
      "displayName": "Caio Cesar Ribeiro Brito",
      "userId": "09669924537412269636"
     },
     "user_tz": 180
    },
    "id": "6npPJNTaeKgG",
    "outputId": "34db8629-a1c3-4cdd-d97f-a3f292aeae1a"
   },
   "outputs": [
    {
     "data": {
      "text/plain": [
       "2    1258\n",
       "1    1088\n",
       "0     621\n",
       "3     362\n",
       "4     125\n",
       "5       1\n",
       "Name: vagas, dtype: int64"
      ]
     },
     "execution_count": 35,
     "metadata": {},
     "output_type": "execute_result"
    }
   ],
   "source": [
    "df['vagas'].value_counts()"
   ]
  },
  {
   "cell_type": "code",
   "execution_count": 36,
   "metadata": {
    "colab": {
     "base_uri": "https://localhost:8080/"
    },
    "executionInfo": {
     "elapsed": 266,
     "status": "ok",
     "timestamp": 1688416625124,
     "user": {
      "displayName": "Caio Cesar Ribeiro Brito",
      "userId": "09669924537412269636"
     },
     "user_tz": 180
    },
    "id": "1iFT2QrfeM0O",
    "outputId": "9ee85d91-a7c9-4ad6-b561-3ee6a81a8283"
   },
   "outputs": [
    {
     "data": {
      "text/plain": [
       "2    1258\n",
       "1    1088\n",
       "0     621\n",
       "3     362\n",
       "4     125\n",
       "5       1\n",
       "Name: suites, dtype: int64"
      ]
     },
     "execution_count": 36,
     "metadata": {},
     "output_type": "execute_result"
    }
   ],
   "source": [
    "df['suites'].value_counts()"
   ]
  },
  {
   "cell_type": "markdown",
   "metadata": {},
   "source": [
    "## Salvando os dados"
   ]
  },
  {
   "cell_type": "code",
   "execution_count": 37,
   "metadata": {
    "colab": {
     "base_uri": "https://localhost:8080/"
    },
    "executionInfo": {
     "elapsed": 317,
     "status": "ok",
     "timestamp": 1688416866150,
     "user": {
      "displayName": "Caio Cesar Ribeiro Brito",
      "userId": "09669924537412269636"
     },
     "user_tz": 180
    },
    "id": "JJ-nVkkUfLwf",
    "outputId": "cd76e019-57cf-473b-8ac5-0d0899884ff9"
   },
   "outputs": [
    {
     "data": {
      "text/plain": [
       "Index(['titulo', 'desc', 'desc2', 'preco', 'valor_m2', 'espec', 'desc3',\n",
       "       'link_anuncio', 'conteudo', 'quartos', 'banheiros', 'suites', 'vagas',\n",
       "       'espaco', 'data', 'edificio', 'endereco', 'latitude', 'longitude',\n",
       "       'score'],\n",
       "      dtype='object')"
      ]
     },
     "execution_count": 37,
     "metadata": {},
     "output_type": "execute_result"
    }
   ],
   "source": [
    "df.columns"
   ]
  },
  {
   "cell_type": "code",
   "execution_count": 38,
   "metadata": {
    "colab": {
     "base_uri": "https://localhost:8080/",
     "height": 424
    },
    "executionInfo": {
     "elapsed": 12,
     "status": "ok",
     "timestamp": 1688417022463,
     "user": {
      "displayName": "Caio Cesar Ribeiro Brito",
      "userId": "09669924537412269636"
     },
     "user_tz": 180
    },
    "id": "Jll6EsOzfMl3",
    "outputId": "0a2049d9-8261-4f28-ab59-e19413a418de"
   },
   "outputs": [
    {
     "data": {
      "text/html": [
       "<div>\n",
       "<style scoped>\n",
       "    .dataframe tbody tr th:only-of-type {\n",
       "        vertical-align: middle;\n",
       "    }\n",
       "\n",
       "    .dataframe tbody tr th {\n",
       "        vertical-align: top;\n",
       "    }\n",
       "\n",
       "    .dataframe thead th {\n",
       "        text-align: right;\n",
       "    }\n",
       "</style>\n",
       "<table border=\"1\" class=\"dataframe\">\n",
       "  <thead>\n",
       "    <tr style=\"text-align: right;\">\n",
       "      <th></th>\n",
       "      <th>preco</th>\n",
       "      <th>valor_m2</th>\n",
       "      <th>quartos</th>\n",
       "      <th>suites</th>\n",
       "      <th>vagas</th>\n",
       "      <th>espaco</th>\n",
       "      <th>latitude</th>\n",
       "      <th>longitude</th>\n",
       "    </tr>\n",
       "  </thead>\n",
       "  <tbody>\n",
       "    <tr>\n",
       "      <th>0</th>\n",
       "      <td>875000.0</td>\n",
       "      <td>9408.0</td>\n",
       "      <td>3</td>\n",
       "      <td>2</td>\n",
       "      <td>2</td>\n",
       "      <td>93.0</td>\n",
       "      <td>-15.84067</td>\n",
       "      <td>-48.02206</td>\n",
       "    </tr>\n",
       "    <tr>\n",
       "      <th>1</th>\n",
       "      <td>650000.0</td>\n",
       "      <td>6842.0</td>\n",
       "      <td>3</td>\n",
       "      <td>2</td>\n",
       "      <td>2</td>\n",
       "      <td>95.0</td>\n",
       "      <td>-15.84067</td>\n",
       "      <td>-48.02206</td>\n",
       "    </tr>\n",
       "    <tr>\n",
       "      <th>2</th>\n",
       "      <td>740000.0</td>\n",
       "      <td>7312.0</td>\n",
       "      <td>1</td>\n",
       "      <td>2</td>\n",
       "      <td>2</td>\n",
       "      <td>101.0</td>\n",
       "      <td>-15.84067</td>\n",
       "      <td>-48.02206</td>\n",
       "    </tr>\n",
       "    <tr>\n",
       "      <th>3</th>\n",
       "      <td>1480000.0</td>\n",
       "      <td>8222.0</td>\n",
       "      <td>4</td>\n",
       "      <td>2</td>\n",
       "      <td>2</td>\n",
       "      <td>180.0</td>\n",
       "      <td>-15.835735462934</td>\n",
       "      <td>-48.02866838915</td>\n",
       "    </tr>\n",
       "    <tr>\n",
       "      <th>4</th>\n",
       "      <td>1180000.0</td>\n",
       "      <td>9007.0</td>\n",
       "      <td>3</td>\n",
       "      <td>3</td>\n",
       "      <td>3</td>\n",
       "      <td>131.0</td>\n",
       "      <td>-15.84060973365</td>\n",
       "      <td>-48.027706587243</td>\n",
       "    </tr>\n",
       "    <tr>\n",
       "      <th>...</th>\n",
       "      <td>...</td>\n",
       "      <td>...</td>\n",
       "      <td>...</td>\n",
       "      <td>...</td>\n",
       "      <td>...</td>\n",
       "      <td>...</td>\n",
       "      <td>...</td>\n",
       "      <td>...</td>\n",
       "    </tr>\n",
       "    <tr>\n",
       "      <th>3450</th>\n",
       "      <td>255000.0</td>\n",
       "      <td>4903.0</td>\n",
       "      <td>2</td>\n",
       "      <td>0</td>\n",
       "      <td>0</td>\n",
       "      <td>52.0</td>\n",
       "      <td>-15.854516826001</td>\n",
       "      <td>-48.031983464489</td>\n",
       "    </tr>\n",
       "    <tr>\n",
       "      <th>3451</th>\n",
       "      <td>1150000.0</td>\n",
       "      <td>8333.0</td>\n",
       "      <td>4</td>\n",
       "      <td>2</td>\n",
       "      <td>2</td>\n",
       "      <td>138.0</td>\n",
       "      <td>-15.83455</td>\n",
       "      <td>-48.03885</td>\n",
       "    </tr>\n",
       "    <tr>\n",
       "      <th>3452</th>\n",
       "      <td>570000.0</td>\n",
       "      <td>10363.0</td>\n",
       "      <td>2</td>\n",
       "      <td>1</td>\n",
       "      <td>1</td>\n",
       "      <td>55.0</td>\n",
       "      <td>-15.84067</td>\n",
       "      <td>-48.02206</td>\n",
       "    </tr>\n",
       "    <tr>\n",
       "      <th>3453</th>\n",
       "      <td>2190000.0</td>\n",
       "      <td>9279.0</td>\n",
       "      <td>4</td>\n",
       "      <td>3</td>\n",
       "      <td>3</td>\n",
       "      <td>236.0</td>\n",
       "      <td>-15.84067</td>\n",
       "      <td>-48.02206</td>\n",
       "    </tr>\n",
       "    <tr>\n",
       "      <th>3454</th>\n",
       "      <td>270000.0</td>\n",
       "      <td>3698.0</td>\n",
       "      <td>3</td>\n",
       "      <td>2</td>\n",
       "      <td>2</td>\n",
       "      <td>73.0</td>\n",
       "      <td>-15.869146300872</td>\n",
       "      <td>-48.027001381243</td>\n",
       "    </tr>\n",
       "  </tbody>\n",
       "</table>\n",
       "<p>3455 rows × 8 columns</p>\n",
       "</div>"
      ],
      "text/plain": [
       "          preco valor_m2 quartos suites vagas espaco          latitude  \\\n",
       "0      875000.0   9408.0       3      2     2   93.0         -15.84067   \n",
       "1      650000.0   6842.0       3      2     2   95.0         -15.84067   \n",
       "2      740000.0   7312.0       1      2     2  101.0         -15.84067   \n",
       "3     1480000.0   8222.0       4      2     2  180.0  -15.835735462934   \n",
       "4     1180000.0   9007.0       3      3     3  131.0   -15.84060973365   \n",
       "...         ...      ...     ...    ...   ...    ...               ...   \n",
       "3450   255000.0   4903.0       2      0     0   52.0  -15.854516826001   \n",
       "3451  1150000.0   8333.0       4      2     2  138.0         -15.83455   \n",
       "3452   570000.0  10363.0       2      1     1   55.0         -15.84067   \n",
       "3453  2190000.0   9279.0       4      3     3  236.0         -15.84067   \n",
       "3454   270000.0   3698.0       3      2     2   73.0  -15.869146300872   \n",
       "\n",
       "             longitude  \n",
       "0            -48.02206  \n",
       "1            -48.02206  \n",
       "2            -48.02206  \n",
       "3      -48.02866838915  \n",
       "4     -48.027706587243  \n",
       "...                ...  \n",
       "3450  -48.031983464489  \n",
       "3451         -48.03885  \n",
       "3452         -48.02206  \n",
       "3453         -48.02206  \n",
       "3454  -48.027001381243  \n",
       "\n",
       "[3455 rows x 8 columns]"
      ]
     },
     "execution_count": 38,
     "metadata": {},
     "output_type": "execute_result"
    }
   ],
   "source": [
    "df_modelo = df[['preco', 'valor_m2', 'quartos', 'suites', 'vagas', 'espaco', 'latitude','longitude']]\n",
    "df_modelo"
   ]
  },
  {
   "cell_type": "code",
   "execution_count": 39,
   "metadata": {
    "executionInfo": {
     "elapsed": 289,
     "status": "ok",
     "timestamp": 1688417129419,
     "user": {
      "displayName": "Caio Cesar Ribeiro Brito",
      "userId": "09669924537412269636"
     },
     "user_tz": 180
    },
    "id": "yoy6w5x1folR"
   },
   "outputs": [],
   "source": [
    "df_modelo.to_csv('../dados/imoveis_modelo.csv',\n",
    "                 sep=';',\n",
    "                 encoding='utf-8',\n",
    "                 index=False)"
   ]
  }
 ],
 "metadata": {
  "colab": {
   "authorship_tag": "ABX9TyMF/awHt/PlXHF/xlxJiNdq",
   "collapsed_sections": [
    "NUX8JEq_BsxJ",
    "KGImg8eiP3Do",
    "uMpfR4ew97bx"
   ],
   "mount_file_id": "1pVvu1k0j0yw1OZsh3COA4_R9JG74hFAA",
   "provenance": []
  },
  "kernelspec": {
   "display_name": "Python 3",
   "language": "python",
   "name": "python3"
  },
  "language_info": {
   "codemirror_mode": {
    "name": "ipython",
    "version": 3
   },
   "file_extension": ".py",
   "mimetype": "text/x-python",
   "name": "python",
   "nbconvert_exporter": "python",
   "pygments_lexer": "ipython3",
   "version": "3.8.5"
  }
 },
 "nbformat": 4,
 "nbformat_minor": 1
}
